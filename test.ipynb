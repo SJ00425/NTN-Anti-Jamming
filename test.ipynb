{
 "cells": [
  {
   "cell_type": "code",
   "execution_count": 1,
   "id": "69a4648c",
   "metadata": {},
   "outputs": [
    {
     "name": "stdout",
     "output_type": "stream",
     "text": [
      "TX0(m): [0. 0. 0.]\n",
      "TX1(m): [ 6.12323400e-17  1.00000000e+00 -7.85128629e-08]\n",
      "\n",
      "Satellite Pos [m]:\n",
      " [[ 2.38137915e-11  2.38137915e-11  5.50000000e+05]\n",
      " [ 8.38834990e+04 -4.84301607e+04  5.49322180e+05]\n",
      " [ 1.41946635e+05  3.80344862e+04  5.48439683e+05]\n",
      " [ 1.89137181e+04  3.33499880e+03  5.49973353e+05]\n",
      " [ 4.35971558e+04  2.03296876e+04  5.49832825e+05]\n",
      " [ 1.12573272e+05 -9.44601913e+04  5.48439683e+05]]\n",
      "\n",
      "From TX0:\n",
      "  SAT0: az=45.00°, el=90.00°, dist=550000.00 m, λ count ≈ 18333333.33\n",
      "  SAT1: az=120.00°, el=80.00°, dist=557796.36 m, λ count ≈ 18593212.01\n",
      "  SAT2: az=75.00°, el=75.00°, dist=567786.54 m, λ count ≈ 18926218.02\n",
      "  SAT3: az=80.00°, el=88.00°, dist=550308.59 m, λ count ≈ 18343619.53\n",
      "  SAT4: az=65.00°, el=85.00°, dist=551933.10 m, λ count ≈ 18397769.90\n",
      "  SAT5: az=130.00°, el=75.00°, dist=567786.54 m, λ count ≈ 18926218.02\n",
      "\n",
      "From TX1:\n",
      "  SAT0: az=180.00°, el=90.00°, dist=550000.00 m, λ count ≈ 18333333.33\n",
      "  SAT1: az=120.00°, el=80.00°, dist=557796.45 m, λ count ≈ 18593214.90\n",
      "  SAT2: az=75.00°, el=75.00°, dist=567786.47 m, λ count ≈ 18926215.78\n",
      "  SAT3: az=80.00°, el=88.00°, dist=550308.58 m, λ count ≈ 18343619.33\n",
      "  SAT4: az=65.00°, el=85.00°, dist=551933.06 m, λ count ≈ 18397768.68\n",
      "  SAT5: az=130.00°, el=75.00°, dist=567786.71 m, λ count ≈ 18926223.56\n"
     ]
    }
   ],
   "source": [
    "from leo_utils import arc_point_on_earth, compute_satellite_intersection_point_enu, compute_az_el_dist\n",
    "import numpy as np\n",
    "\n",
    "\n",
    "# Generate RX positions\n",
    "\n",
    "distances_km = [0.001]\n",
    "azimuths_deg = np.linspace(0, 360, len(distances_km), endpoint=False)\n",
    "gnd_positions = [np.array([0.0, 0.0, 0.0])]\n",
    "\n",
    "for d_km, az in zip(distances_km, azimuths_deg):\n",
    "    pos = arc_point_on_earth(d_km, az)\n",
    "    gnd_positions.append(pos)\n",
    "gnd_positions = np.array(gnd_positions) \n",
    "\n",
    "for i, pos in enumerate(gnd_positions):\n",
    "    print(f\"TX{i}(m): {pos}\")\n",
    "\n",
    "\n",
    "# Compute SAT intersection points\n",
    "\n",
    "sat_orbit_m = 550e3\n",
    "angles = [(45, 90), (120, 80), (75,75),(80,88), (65, 85),(130,75)]\n",
    "# angles = [(45, 90)]\n",
    "sat_positions = []\n",
    "delays_ms = []\n",
    "fspl_db = []\n",
    "frequency_hz = 10e9 \n",
    "wavelength = 3e8 / frequency_hz\n",
    "\n",
    "for az, el in angles:\n",
    "    pos, delay, dist = compute_satellite_intersection_point_enu(az, el, sat_orbit_m)\n",
    "    sat_positions.append(pos)\n",
    "    delays_ms.append(delay)\n",
    "    fspl = 20 * np.log10(4 * np.pi * dist / wavelength)\n",
    "    fspl_db.append(fspl)\n",
    "\n",
    "sat_positions = np.array(sat_positions)\n",
    "delays_ms = np.array(delays_ms)\n",
    "fspl_db = np.array(fspl_db)\n",
    "\n",
    "print(\"\\nSatellite Pos [m]:\\n\", sat_positions)\n",
    "# print(\"\\nPropagation delays [ms]:\\n\", delays_ms)\n",
    "# print(\"\\nFree-space path loss [dB]:\\n\", fspl_db)\n",
    "\n",
    "\n",
    "# Compute az/el/dist per TX-SAT\n",
    "  \n",
    "for i, tx in enumerate(gnd_positions): \n",
    "    print(f\"\\nFrom TX{i}:\")\n",
    "    for j, sat in enumerate(sat_positions):\n",
    "        az, el, dist, n_waves = compute_az_el_dist(sat, tx, frequency_hz)\n",
    "        print(f\"  SAT{j}: az={az:.2f}°, el={el:.2f}°, dist={dist:.2f} m, λ count ≈ {n_waves:.2f}\")\n"
   ]
  },
  {
   "cell_type": "code",
   "execution_count": 2,
   "id": "f7c9de4e",
   "metadata": {},
   "outputs": [],
   "source": [
    "from sionna.rt import Scene, Receiver, Transmitter, PlanarArray, PathSolver\n",
    "import vsat_dish_3gpp\n",
    "import numpy as np\n",
    "import math\n",
    "\n",
    "jam_rows = 32\n",
    "jam_cols = 32\n",
    "jam_antennas = jam_cols*jam_rows\n",
    "\n",
    "sat_rows = 2\n",
    "sat_cols = 2\n",
    "sat_antennas = sat_cols*sat_rows\n",
    "\n",
    "tx_rows = 32\n",
    "tx_cols = 32\n",
    "tx_antennas = tx_cols*tx_rows\n",
    "# Create scene\n",
    "scene = Scene()     \n",
    "\n",
    "for tx_name in scene.transmitters:\n",
    "    scene.remove(tx_name)\n",
    "for rx_name in scene.receivers:\n",
    "    scene.remove(rx_name)   \n",
    "# Antenna pattern\n",
    "scene.synthetic_array = True\n",
    "scene.frequency = 10e9\n",
    "\n",
    "tx_array = PlanarArray(num_rows=tx_rows ,\n",
    "                        num_cols=tx_cols,\n",
    "                        vertical_spacing=0.5,\n",
    "                        horizontal_spacing=0.5,\n",
    "                        pattern=\"tr38901\",\n",
    "                        polarization=\"V\")\n",
    "\n",
    "jam_array = PlanarArray(num_rows=jam_rows ,\n",
    "                            num_cols=jam_cols,\n",
    "                            vertical_spacing=0.5,\n",
    "                            horizontal_spacing=0.5,\n",
    "                        #  pattern=\"vsat_dish\",\n",
    "                            pattern=\"tr38901\",\n",
    "                            polarization=\"V\")\n",
    "\n",
    "sat_array = PlanarArray(num_rows=sat_rows ,\n",
    "                             num_cols=sat_cols,\n",
    "                             vertical_spacing=0.5,\n",
    "                             horizontal_spacing=0.5,\n",
    "                             pattern=\"iso\",\n",
    "                             polarization=\"V\")\n",
    "\n",
    "\n",
    "\n",
    "# satellite as rx\n",
    "scene.rx_array = sat_array\n",
    "for i, pos in enumerate(sat_positions):\n",
    "    # rx = Receiver(name=f\"rx{i}\", position=pos, orientation = [0, 180, 0])\n",
    "    rx = Receiver(name=f\"rx{i}\", position=pos)\n",
    "    scene.add(rx)\n",
    "\n",
    "    rx.look_at(gnd_positions[0])\n",
    "    \n",
    "    \n",
    "    \n",
    "\n",
    "\n",
    "\n",
    "    \n",
    "    \n",
    "\n",
    "scene.tx_array = tx_array\n",
    "tx = Transmitter(name=f\"tx{0}\", position=gnd_positions[0], display_radius=200)\n",
    "scene.add(tx)\n",
    "tx.look_at(sat_positions[0])\n",
    "p_solver  = PathSolver()\n",
    "paths = p_solver(scene=scene,\n",
    "                 max_depth=0,\n",
    "                 los=True,\n",
    "                 synthetic_array=True,\n",
    "                 seed=41)\n",
    "\n",
    "# CIR analysis\n",
    "a_tx, tau_tx = paths.cir(normalize_delays=False, out_type=\"numpy\")\n",
    "\n",
    "for tx_name in scene.transmitters:\n",
    "    scene.remove(tx_name)\n",
    "\n",
    "scene.tx_array = jam_array\n",
    "tx = Transmitter(name=f\"tx{1}\", position=gnd_positions[1], display_radius=200)\n",
    "scene.add(tx)\n",
    "# tx.look_at(sat_positions[0])\n",
    "tx.look_at(sat_positions[0])\n",
    "\n",
    "\n",
    "p_solver  = PathSolver()\n",
    "paths = p_solver(scene=scene,\n",
    "                 max_depth=0,\n",
    "                 los=True,\n",
    "                 synthetic_array=True,\n",
    "                 seed=41)\n",
    "\n",
    "\n",
    "a_jam, tau_jam = paths.cir(normalize_delays=False, out_type=\"numpy\")\n",
    "\n",
    "H0 = a_tx[:, 0, 0, :, 0, 0]  # [N_sat, N_antennas_TX]\n",
    "H1 = a_jam[:, 0, 0, :, 0, 0]  # [N_sat, N_antennas_Jam]\n",
    "\n",
    "\n",
    "\n"
   ]
  },
  {
   "cell_type": "code",
   "execution_count": 3,
   "id": "3104a85a",
   "metadata": {},
   "outputs": [
    {
     "data": {
      "text/plain": [
       "(6, 4, 1, 1024, 1, 1)"
      ]
     },
     "execution_count": 3,
     "metadata": {},
     "output_type": "execute_result"
    }
   ],
   "source": [
    "a_jam.shape"
   ]
  },
  {
   "cell_type": "code",
   "execution_count": 4,
   "id": "73b2e209",
   "metadata": {},
   "outputs": [
    {
     "data": {
      "text/plain": [
       "(6, 4, 1, 1024)"
      ]
     },
     "execution_count": 4,
     "metadata": {},
     "output_type": "execute_result"
    }
   ],
   "source": [
    "a_jam[..., 0, 0].shape"
   ]
  },
  {
   "cell_type": "code",
   "execution_count": 5,
   "id": "eb4eda34",
   "metadata": {},
   "outputs": [],
   "source": [
    "import numpy as np\n",
    "from scipy.linalg import eigh\n",
    "\n",
    "def run_jamming_game(a_tx, a_jam, N0, E0, E1, tol=1e-20, its=30):\n",
    "    \n",
    "    \n",
    "    H0 = a_tx[:, 0, 0, :, 0, 0]  # [N_sat, N_antennas_TX]\n",
    "    H1 = a_jam[:, 0, 0, :, 0, 0]  # [N_sat, N_antennas_Jam]\n",
    "    def best_w0(H0, P):\n",
    "        A = H0.conj().T @ np.linalg.inv(P) @ H0\n",
    "        _, eigvecs = eigh(A)\n",
    "        return eigvecs[:, -1].reshape(-1, 1)\n",
    "\n",
    "    def best_w1(H0, H1, w0, N0, E1):\n",
    "        a = H0 @ w0\n",
    "        S = H1.conj().T @ np.outer(a, a.conj()) @ H1\n",
    "        beta = E1 / N0\n",
    "        C = np.eye(H1.shape[1]) + beta * (H1.conj().T @ H1)\n",
    "        eigvals, eigvecs = eigh(S, C)\n",
    "        w1 = eigvecs[:, -1].reshape(-1, 1)\n",
    "        return w1, E1 * np.outer(w1, w1.conj())\n",
    "\n",
    "    N0tx = H0.shape[1]\n",
    "    N1tx = H1.shape[1]\n",
    "    w0 = np.ones((N0tx, 1), dtype=complex) / np.sqrt(N0tx)\n",
    "    w1 = np.ones((N1tx, 1), dtype=complex) / np.sqrt(N1tx)\n",
    "    Q1 = E1 * np.outer(w1, w1.conj())\n",
    "    P = H1 @ Q1 @ H1.conj().T + N0 * np.eye(H0.shape[0])\n",
    "    snr_hist = []\n",
    "\n",
    "    for i in range(its):\n",
    "        if i == 0:\n",
    "            print(\"Q1 shape:\", Q1.shape)\n",
    "            print(\"P shape:\", P.shape)\n",
    "        w0 = best_w0(H0, P)\n",
    "        w1, Q1 = best_w1(H0, H1, w0, N0, E1)\n",
    "        P = H1 @ Q1 @ H1.conj().T + N0 * np.eye(H0.shape[0])\n",
    "        snr = E0 * (w0.conj().T @ H0.conj().T @ np.linalg.inv(P) @ H0 @ w0).real.item()\n",
    "        snr = 10*np.log10(snr)\n",
    "        snr_hist.append(snr)\n",
    "\n",
    "    return w0, w1, snr, snr_hist\n"
   ]
  },
  {
   "cell_type": "code",
   "execution_count": 6,
   "id": "346b9e62",
   "metadata": {},
   "outputs": [
    {
     "data": {
      "text/plain": [
       "(6, 1024)"
      ]
     },
     "execution_count": 6,
     "metadata": {},
     "output_type": "execute_result"
    }
   ],
   "source": [
    "H1.shape"
   ]
  },
  {
   "cell_type": "code",
   "execution_count": 7,
   "id": "36c9776d",
   "metadata": {},
   "outputs": [],
   "source": [
    "c = 3e8  # speed of light (m/s)\n",
    "fc = 10e9  # Carrier frequency: 10 GHz\n",
    "wavelength = c / fc\n",
    "bandwidth = 100e6  # 100 MHz\n",
    "tx_power_dbm = 30  #  dBm\n",
    "jam_power_dbm = 50\n",
    "k = 1.38e-23  # Boltzmann \n",
    "GT = 13 # db gain-to-noise-temperature for for 0.33m Equivalent satellite antenna aperturesatellites, or can be 5 dB K^(-1) for 0.13m Equivalent satellite antenna aperture\n",
    "La = 5 # dB\n",
    "GT_linear_inv = 10 ** (-GT / 10)\n",
    "La_linear = 10 ** (La / 10)\n",
    "noise_power_watt = k * bandwidth * GT_linear_inv * La_linear\n",
    "Tx_power_watt = 10 ** ((tx_power_dbm  - 30)/ 10)  \n",
    "jam_power_watt = 10 ** ((jam_power_dbm  - 30)/ 10)\n",
    "   "
   ]
  },
  {
   "cell_type": "code",
   "execution_count": 8,
   "id": "a299d626",
   "metadata": {},
   "outputs": [
    {
     "name": "stdout",
     "output_type": "stream",
     "text": [
      "Q1 shape: (1024, 1024)\n",
      "P shape: (6, 6)\n"
     ]
    }
   ],
   "source": [
    "w0_opt, w1_opt, snr, snr_curve = run_jamming_game(a_tx, a_jam, noise_power_watt, Tx_power_watt, jam_power_watt,its=50)"
   ]
  },
  {
   "cell_type": "code",
   "execution_count": 10,
   "id": "38e8165f",
   "metadata": {},
   "outputs": [
    {
     "data": {
      "image/png": "[encoded data removed]",
      "text/plain": [
       "<Figure size 600x400 with 1 Axes>"
      ]
     },
     "metadata": {},
     "output_type": "display_data"
    }
   ],
   "source": [
    "import matplotlib.pyplot as plt\n",
    "snr_db = (np.array(snr_curve).squeeze())\n",
    "\n",
    "plt.figure(figsize=(6, 4))\n",
    "plt.plot(snr_db, marker='o')\n",
    "plt.xlabel(\"Iteration\")\n",
    "plt.ylabel(\"SINR (dB)\")\n",
    "plt.title(\"SINR Convergence Curve (in dB)\")\n",
    "plt.grid(True)\n",
    "plt.tight_layout()\n",
    "plt.show()"
   ]
  },
  {
   "cell_type": "code",
   "execution_count": null,
   "id": "bc3b25e4",
   "metadata": {},
   "outputs": [],
   "source": [
    "import numpy as np\n",
    "import cvxpy as cp\n",
    "\n",
    "def compute_beamforming_vector(H, mode=\"eig1\"):\n",
    "    \"\"\"\n",
    "    Compute the transmit beamforming vector using one of:\n",
    "    - 'eig1': Eigen-decomposition on unweighted Q\n",
    "    - 'eig2': Eigen-decomposition on weighted Q (equalizes TX energy per direction)\n",
    "    - 'avg' : Normalized average of effective channels\n",
    "    - 'fair': Max-min fairness (equalize RX received energy)\n",
    "\n",
    "    Parameters:\n",
    "        H: numpy array of shape (N_rx, rx_antennas, N_tx, tx_antennas)\n",
    "        mode: 'eig1', 'eig2', 'avg', or 'fair'\n",
    "\n",
    "    Returns:\n",
    "        w: Normalized beamforming vector of shape (tx_antennas, 1)\n",
    "        norm_last_h_eff: Norm of last h_eff computed (debug/info)\n",
    "    \"\"\"\n",
    "    N_rx, rx_antennas, N_tx, tx_antennas = H.shape\n",
    "    assert N_tx == 1, \"Only supports single TX (N_tx == 1)\"\n",
    "\n",
    "    w_r = np.ones((rx_antennas, 1), dtype=complex) / np.sqrt(rx_antennas)\n",
    "\n",
    "    if mode in (\"eig1\", \"eig2\"):\n",
    "        Q = np.zeros((tx_antennas, tx_antennas), dtype=complex)\n",
    "        for rx in range(N_rx):\n",
    "            H_rx = H[rx, :, 0, :]           # (rx_antennas, tx_antennas)\n",
    "            h_eff = H_rx.conj().T @ w_r     # (tx_antennas, 1)\n",
    "            alpha = 1.0 / np.linalg.norm(h_eff)**2 if mode == \"eig2\" else 1.0\n",
    "            Q += alpha * (h_eff @ h_eff.conj().T)\n",
    "        eigvals, eigvecs = np.linalg.eigh(Q)\n",
    "        w = eigvecs[:, -1]\n",
    "\n",
    "    elif mode == \"avg\":\n",
    "        w_sum = np.zeros((tx_antennas, 1), dtype=complex)\n",
    "        for rx in range(N_rx):\n",
    "            H_rx = H[rx, :, 0, :]\n",
    "            h_eff = H_rx.conj().T @ w_r\n",
    "            h_eff_unit = h_eff / np.linalg.norm(h_eff)\n",
    "            w_sum += h_eff_unit\n",
    "        w = w_sum[:, 0]\n",
    "        w /= np.linalg.norm(w)\n",
    "    elif mode == \"fair\":\n",
    "        w_var = cp.Variable((tx_antennas, 1), complex=True)\n",
    "        t = cp.Variable()\n",
    "        constraints = [cp.norm(w_var) <= 1]\n",
    "\n",
    "        for rx in range(N_rx):\n",
    "            H_rx = H[rx, :, 0, :]              # (M, N)\n",
    "            h_eff = H_rx.conj().T @ w_r        # (N, 1)\n",
    "            A = h_eff @ h_eff.conj().T\n",
    "            A = (A + A.conj().T) / 2           # Force Hermitian\n",
    "            expr = cp.real(cp.matmul(cp.matmul(w_var.H, A), w_var))[0, 0]\n",
    "            constraints.append(expr >= t)\n",
    "\n",
    "        problem = cp.Problem(cp.Maximize(t), constraints)\n",
    "        problem.solve()\n",
    "        w = w_var.value[:, 0]\n",
    "\n",
    "\n",
    "    else:\n",
    "        raise ValueError(\"mode must be 'eig1', 'eig2', 'avg', or 'fair'\")\n",
    "\n",
    "    w = w.reshape(-1, 1)\n",
    "    return w, np.linalg.norm(h_eff)\n"
   ]
  },
  {
   "cell_type": "code",
   "execution_count": null,
   "id": "9c58b78e",
   "metadata": {},
   "outputs": [],
   "source": [
    "H = a_jam[..., 0, 0]   \n",
    "w1,h1 = compute_beamforming_vector(H, mode=\"eig1\")  # unweighted eig\n",
    "w2,h2= compute_beamforming_vector(H, mode=\"eig2\")  # weighted eig\n",
    "w3 ,h3= compute_beamforming_vector(H, mode=\"avg\")   # avg sum\n",
    "# w4 ,_= compute_beamforming_vector(H, mode=\"fair\")   # "
   ]
  },
  {
   "cell_type": "code",
   "execution_count": null,
   "id": "4ccc67dd",
   "metadata": {},
   "outputs": [],
   "source": [
    "def compute_rx_gains(H, w):\n",
    "    \"\"\"\n",
    "    Compute beamforming gains at each RX.\n",
    "\n",
    "    Parameters:\n",
    "        H: shape (N_rx, rx_antennas, 1, tx_antennas)\n",
    "        w: beamforming vector of shape (tx_antennas, 1)\n",
    "\n",
    "    Returns:\n",
    "        gains: numpy array of shape (N_rx,), each entry is a gain (scalar)\n",
    "    \"\"\"\n",
    "    N_rx, rx_antennas, _, tx_antennas = H.shape\n",
    "    w_r = np.ones((rx_antennas, 1), dtype=complex) / np.sqrt(rx_antennas)\n",
    "    gains = np.zeros(N_rx)\n",
    "\n",
    "    for rx in range(N_rx):\n",
    "        H_rx = H[rx, :, 0, :]                       # (rx_antennas, tx_antennas)\n",
    "        h_combined = w_r.conj().T @ H_rx @ w        # scalar (1×M) · (M×N) · (N×1)\n",
    "        gains[rx] = np.abs(h_combined[0, 0])**2     # real-valued scalar\n",
    "\n",
    "    return 10 * np.log10(gains )"
   ]
  },
  {
   "cell_type": "code",
   "execution_count": null,
   "id": "0fb30c3c",
   "metadata": {},
   "outputs": [],
   "source": [
    "# w0 = np.ones((sat_antennas, 1), dtype=complex) / np.sqrt(sat_antennas)\n",
    "# gains0 = compute_rx_gains(H, w0)\n",
    "# gains1 = compute_rx_gains(H, w1)\n",
    "# gains2 = compute_rx_gains(H, w2)\n",
    "# gains3 = compute_rx_gains(H, w3)\n",
    "# print(gains0)\n",
    "# print(gains1)  # array of shape (N_rx,), each is beamforming gain\n",
    "# print(gains2)  # array of shape (N_rx,), each is beamforming gain\n",
    "# print(gains3)  # array of shape (N_rx,), each is beamforming gain"
   ]
  },
  {
   "cell_type": "markdown",
   "id": "79c1d064",
   "metadata": {},
   "source": [
    "I want to add that if the jammer and the desired source are within the diffraction limits of the receiver aperture, then we are in bigger trouble as you cannot use beamforming to null out the jammer. Then nonlinear subtraction methods may have to be used and that will hit the receiver sensitivity a lot I a sure. But without it there is no hope as both signal and jammer are smack on the beam."
   ]
  },
  {
   "cell_type": "code",
   "execution_count": null,
   "id": "97e817e2",
   "metadata": {},
   "outputs": [],
   "source": [
    "rng = np.random.default_rng(42)\n",
    "M, n = 4, 3               # 4 satellites, each 3×3 = 9 antennas\n",
    "N_r = n*n\n",
    "\n",
    "h0 = (rng.standard_normal((M, N_r)) +\n",
    "        1j*rng.standard_normal((M, N_r))) * 0.8\n",
    "h1 = (rng.standard_normal((M, N_r)) +\n",
    "        1j*rng.standard_normal((M, N_r))) * 0.5"
   ]
  },
  {
   "cell_type": "code",
   "execution_count": null,
   "id": "bffca46a",
   "metadata": {},
   "outputs": [
    {
     "data": {
      "text/plain": [
       "(4, 9)"
      ]
     },
     "execution_count": 15,
     "metadata": {},
     "output_type": "execute_result"
    }
   ],
   "source": [
    "h0.shape"
   ]
  }
 ],
 "metadata": {
  "kernelspec": {
   "display_name": "sionna_gpu",
   "language": "python",
   "name": "python3"
  },
  "language_info": {
   "codemirror_mode": {
    "name": "ipython",
    "version": 3
   },
   "file_extension": ".py",
   "mimetype": "text/x-python",
   "name": "python",
   "nbconvert_exporter": "python",
   "pygments_lexer": "ipython3",
   "version": "3.11.11"
  }
 },
 "nbformat": 4,
 "nbformat_minor": 5
}
