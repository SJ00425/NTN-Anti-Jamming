{
 "cells": [
  {
   "cell_type": "code",
   "execution_count": 1,
   "id": "69c8ab27",
   "metadata": {},
   "outputs": [
    {
     "name": "stderr",
     "output_type": "stream",
     "text": [
      "jitc_llvm_init(): LLVM API initialization failed ..\n"
     ]
    }
   ],
   "source": [
    "from leo_utils import arc_point_on_earth, compute_satellite_intersection_point_enu, compute_az_el_dist\n",
    "import numpy as np\n",
    "import json, gc, pandas as pd\n",
    "from datetime import datetime\n",
    "import matplotlib.pyplot as plt\n",
    "from tqdm.notebook import tqdm\n",
    "import importlib, minmax_solvers\n",
    "importlib.reload(minmax_solvers)\n",
    "from minmax_solvers import solve_game_bestresp_Q0_then_Q1\n",
    "# Your utils\n",
    "from leo_utils import arc_point_on_earth, compute_satellite_intersection_point_enu\n",
    "from sionna.rt import PlanarArray\n",
    "\n",
    "\n",
    "import numpy as np\n",
    "from numpy.linalg import cholesky, solve, eigh\n",
    "\n",
    "\n",
    "c = 3e8  # speed of light (m/s)\n",
    "fc = 10e9  # Carrier frequency: 10 GHz\n",
    "wavelength = c / fc\n",
    "bandwidth = 100e6  # 100 MHz\n",
    "tx_power_dbm = 50  #  dBm\n",
    "jam_power_dbm = 70\n",
    "k = 1.38e-23  # Boltzmann \n",
    "GT = 13 # db gain-to-noise-temperature for for 0.33m Equivalent satellite antenna aperturesatellites, or can be 5 dB K^(-1) for 0.13m Equivalent satellite antenna aperture\n",
    "La = 5 # dB\n",
    "GT_linear_inv = 10 ** (-GT / 10)\n",
    "La_linear = 10 ** (La / 10)\n",
    "noise_power_watt = k * bandwidth * GT_linear_inv * La_linear\n",
    "Tx_power_watt = 10 ** ((tx_power_dbm  - 30)/ 10)  \n",
    "Jam_power_watt = 10 ** ((jam_power_dbm  - 30)/ 10)\n",
    "T_sys = 150.0 \n",
    "N0 = k * bandwidth * T_sys* La_linear\n",
    "\n",
    "# N0 = noise_power_watt\n",
    "P0 = Tx_power_watt\n",
    "P1 = Jam_power_watt"
   ]
  },
  {
   "cell_type": "code",
   "execution_count": 2,
   "id": "96497adc",
   "metadata": {},
   "outputs": [],
   "source": [
    "from sionna.rt import Receiver, Transmitter, PlanarArray, PathSolver, load_scene\n",
    "import numpy as np\n",
    "import vsat_dish_3gpp\n",
    "\n",
    "\n",
    "def compute_cir(tx_pos, rx_pos, tx_array, rx_array,tx_look_at, rx_look_at, frequency=10e9):\n",
    "    \"\"\"\n",
    "    Compute CIR from a single transmitter to multiple receivers using synthetic arrays.\n",
    "    \n",
    "    Args:\n",
    "        tx_pos:        (3,) list or np.array for transmitter position\n",
    "        rx_pos_array:  (m,3) array of receiver positions\n",
    "        tx_array:      PlanarArray for the transmitter\n",
    "        rx_array:      PlanarArray for all receivers (shared)\n",
    "        frequency:     Frequency in Hz\n",
    "\n",
    "    Returns:\n",
    "        a_list:    list of CIR amplitude arrays, one per RX\n",
    "        tau_list:  list of delay arrays, one per RX\n",
    "    \"\"\"\n",
    "    scene = load_scene()\n",
    "    scene.frequency = frequency\n",
    "    scene.synthetic_array = True\n",
    "    \n",
    "    for tx_name in scene.transmitters:\n",
    "        scene.remove(tx_name)\n",
    "    for rx_name in scene.receivers:\n",
    "        scene.remove(rx_name) \n",
    "\n",
    "    # Add transmitter\n",
    "    scene.tx_array = tx_array\n",
    "    tx = Transmitter(name=\"tx\", position=tx_pos, display_radius=200)\n",
    "    scene.add(tx)\n",
    "    \n",
    "    earth_radius_m = 6371e3\n",
    "    rx_look_at2 = np.array([0.0, 0.0, -1*earth_radius_m/2])\n",
    "    \n",
    "    if isinstance(tx_look_at, str) and tx_look_at.lower() in [\"up-z\", \"up\", \"z\"]:\n",
    "        tx_look_at = np.array(tx_pos) + np.array([0.0, 0.0, 1.0])\n",
    "    tx.look_at(tx_look_at)\n",
    "    # Add receivers\n",
    "    scene.rx_array = rx_array\n",
    "    rx_list = []\n",
    "    for i, rx_pos in enumerate(rx_pos):\n",
    "        rx = Receiver(name=f\"rx{i}\", position=rx_pos)\n",
    "        scene.add(rx)\n",
    "        rx.look_at(rx_look_at2)\n",
    "        rx_list.append(rx)\n",
    "    tx.look_at( tx_look_at)\n",
    "\n",
    "    # Solve paths\n",
    "    solver = PathSolver()\n",
    "    paths = solver(scene=scene,\n",
    "                   max_depth=0,\n",
    "                   los=True,\n",
    "                   synthetic_array=True,\n",
    "                #    seed=41\n",
    "                   )\n",
    "\n",
    "    # Get CIRs\n",
    "    a_all, tau_all = paths.cir(normalize_delays=False, out_type=\"numpy\")\n",
    "\n",
    "    for tx_name in scene.transmitters:\n",
    "        scene.remove(tx_name)\n",
    "    for rx_name in scene.receivers:\n",
    "        scene.remove(rx_name) \n",
    "    \n",
    "    return a_all, tau_all\n",
    "\n",
    "jam_rows =6\n",
    "jam_cols = 6\n",
    "jam_antennas = jam_cols*jam_rows\n",
    "\n",
    "sat_rows = 6\n",
    "sat_cols = 6\n",
    "sat_antennas = sat_cols*sat_rows\n",
    "\n",
    "tx_rows = 6\n",
    "tx_cols = 6\n",
    "tx_antennas = tx_cols*tx_rows\n",
    "\n",
    "tx_array = PlanarArray(num_rows=tx_rows, num_cols=tx_cols,\n",
    "                        vertical_spacing=0.5, horizontal_spacing=0.5,\n",
    "                        pattern=\"tr38901\", polarization=\"V\")\n",
    "                        # pattern=\"iso\", polarization=\"V\")\n",
    "\n",
    "jam_array = PlanarArray(num_rows=jam_rows, num_cols=jam_cols,  \n",
    "                            vertical_spacing=0.5, horizontal_spacing=0.5,\n",
    "                        #  pattern=\"vsat_dish\",\n",
    "                            pattern=\"tr38901\",\n",
    "                            polarization=\"V\")\n",
    "\n",
    "sat_array = PlanarArray(num_rows=sat_rows, num_cols=sat_cols,\n",
    "                             vertical_spacing=0.5, horizontal_spacing=0.5,\n",
    "                             pattern=\"tr38901\",\n",
    "                             polarization=\"V\")\n",
    "\n",
    "def collapse_channel(a_cir, t_idx=0):\n",
    "    \"\"\"\n",
    "    Collapse channel tensor at a given time index.\n",
    "    Input:\n",
    "      a_cir: [num_rx, num_rx_ant, num_tx, num_tx_ant, num_paths, num_time_steps]\n",
    "    Output:\n",
    "      H_t: (M, N), M = num_rx*num_rx_ant, N = num_tx*num_tx_ant\n",
    "    \"\"\"\n",
    "    nr, nra, nt, nta, npaths, ntimes = a_cir.shape\n",
    "    assert 0 <= t_idx < ntimes\n",
    "    H_t = a_cir[..., t_idx]             # select time slice\n",
    "    H_t = H_t.sum(axis=-1)              # sum over paths\n",
    "    H_t = H_t.reshape(nr*nra, nt*nta)   # merge Rx/Tx antennas\n",
    "    return H_t\n"
   ]
  },
  {
   "cell_type": "code",
   "execution_count": 3,
   "id": "38ab8f9d",
   "metadata": {},
   "outputs": [],
   "source": [
    "  \n",
    "    \n",
    "\n",
    "def make_tqdm_progress(total, desc, position=1, leave=False):\n",
    "    bar = tqdm(total=total, desc=desc, position=position,\n",
    "                  leave=leave, dynamic_ncols=True, miniters=1, mininterval=0.0)\n",
    "    bar.refresh()  \n",
    "    last_i = 0\n",
    "\n",
    "    def _cb(i=None, total=None, metrics=None, ctx=None):\n",
    "        nonlocal last_i\n",
    "        if i is not None:\n",
    "            di = int(i) - int(last_i)     \n",
    "            if di > 0:\n",
    "                bar.update(di)\n",
    "                last_i = i\n",
    "        if metrics:\n",
    "            show = {k: (f\"{v:.3e}\" if (\"res\" in k or \"err\" in k) else f\"{v:.4f}\")\n",
    "                    for k, v in metrics.items()}\n",
    "            bar.set_postfix(show, refresh=True)  \n",
    "        return False\n",
    "\n",
    "    _cb.close = bar.close\n",
    "    return _cb"
   ]
  },
  {
   "cell_type": "code",
   "execution_count": 4,
   "id": "191a8f5f",
   "metadata": {},
   "outputs": [
    {
     "name": "stdout",
     "output_type": "stream",
     "text": [
      "Total steps: 400\n"
     ]
    }
   ],
   "source": [
    "\n",
    "# Load and make sure each time block is ordered by Rank (nearest first)\n",
    "df = pd.read_csv(\"tracked_satellites_400.csv\")\n",
    "df = df.sort_values([\"Time\", \"Rank\"], ascending=[True, True]).reset_index(drop=True)\n",
    "n_steps = df[\"Time\"].nunique()\n",
    "print(\"Total steps:\", n_steps)\n",
    "# max_steps = 3\n",
    "# print(df.head(max_steps*5))"
   ]
  },
  {
   "cell_type": "code",
   "execution_count": 5,
   "id": "d9bde44a",
   "metadata": {},
   "outputs": [
    {
     "name": "stdout",
     "output_type": "stream",
     "text": [
      "TX0(m): [0. 0. 0.]\n",
      "TX1(m): [ 4.28626293e-13  6.99999859e+03 -3.84554976e+00]\n"
     ]
    }
   ],
   "source": [
    "# Generate RX positions\n",
    "\n",
    "distances_km = [7]\n",
    "azimuths_deg = np.linspace(0, 360, len(distances_km), endpoint=False)\n",
    "gnd_positions = [np.array([0.0, 0.0, 0.0])]\n",
    "\n",
    "for d_km, az in zip(distances_km, azimuths_deg):\n",
    "    pos = arc_point_on_earth(d_km, az)\n",
    "    gnd_positions.append(pos)\n",
    "gnd_positions = np.array(gnd_positions)\n",
    "\n",
    "for i, pos in enumerate(gnd_positions):\n",
    "    print(f\"TX{i}(m): {pos}\")"
   ]
  },
  {
   "cell_type": "code",
   "execution_count": 6,
   "id": "4fd8e177",
   "metadata": {},
   "outputs": [
    {
     "data": {
      "application/vnd.jupyter.widget-view+json": {
       "model_id": "70578b8eee084ae383cfb16b8de218d2",
       "version_major": 2,
       "version_minor": 0
      },
      "text/plain": [
       "Processing steps:   0%|          | 0/400 [00:00<?, ?it/s]"
      ]
     },
     "metadata": {},
     "output_type": "display_data"
    },
    {
     "data": {
      "application/vnd.jupyter.widget-view+json": {
       "model_id": "9d3bbcb56b154692998b1892d63a74a7",
       "version_major": 2,
       "version_minor": 0
      },
      "text/plain": [
       "BestResp | t#1/400 | k=1 | sats=STARLINK-32842:   0%|          | 0/200 [00:00<?, ?it/s]"
      ]
     },
     "metadata": {},
     "output_type": "display_data"
    },
    {
     "data": {
      "application/vnd.jupyter.widget-view+json": {
       "model_id": "c80062b00eb54dcba97066c2749b34a5",
       "version_major": 2,
       "version_minor": 0
      },
      "text/plain": [
       "BestResp | t#1/400 | k=3 | sats=STARLINK-32842,STARLINK-31923,STARLINK-32416:   0%|          | 0/200 [00:00<?,…"
      ]
     },
     "metadata": {},
     "output_type": "display_data"
    },
    {
     "data": {
      "application/vnd.jupyter.widget-view+json": {
       "model_id": "72707a4559614866b395602f549f2822",
       "version_major": 2,
       "version_minor": 0
      },
      "text/plain": [
       "BestResp | t#1/400 | k=5 | sats=STARLINK-32842,STARLINK-31923,STARLINK-32416,STARLINK-33754,STARLINK-32143:   …"
      ]
     },
     "metadata": {},
     "output_type": "display_data"
    },
    {
     "data": {
      "application/vnd.jupyter.widget-view+json": {
       "model_id": "0931b13363e542f7b56698069a935b43",
       "version_major": 2,
       "version_minor": 0
      },
      "text/plain": [
       "BestResp | t#2/400 | k=1 | sats=STARLINK-11076 [DTC]:   0%|          | 0/200 [00:00<?, ?it/s]"
      ]
     },
     "metadata": {},
     "output_type": "display_data"
    },
    {
     "data": {
      "application/vnd.jupyter.widget-view+json": {
       "model_id": "4f874e7bc2ff4efbaad4dcd7f13f0021",
       "version_major": 2,
       "version_minor": 0
      },
      "text/plain": [
       "BestResp | t#2/400 | k=3 | sats=STARLINK-11076 [DTC],STARLINK-32155,STARLINK-1738:   0%|          | 0/200 [00:…"
      ]
     },
     "metadata": {},
     "output_type": "display_data"
    },
    {
     "data": {
      "application/vnd.jupyter.widget-view+json": {
       "model_id": "25046ce17760465d846e3a718f9a97fa",
       "version_major": 2,
       "version_minor": 0
      },
      "text/plain": [
       "BestResp | t#2/400 | k=5 | sats=STARLINK-11076 [DTC],STARLINK-32155,STARLINK-1738,STARLINK-32704,STARLINK-3500…"
      ]
     },
     "metadata": {},
     "output_type": "display_data"
    },
    {
     "data": {
      "application/vnd.jupyter.widget-view+json": {
       "model_id": "7d9233b63e0d40f3a72cc756492c6307",
       "version_major": 2,
       "version_minor": 0
      },
      "text/plain": [
       "BestResp | t#3/400 | k=1 | sats=STARLINK-35247:   0%|          | 0/200 [00:00<?, ?it/s]"
      ]
     },
     "metadata": {},
     "output_type": "display_data"
    },
    {
     "data": {
      "application/vnd.jupyter.widget-view+json": {
       "model_id": "0271817d7b104267a43970849efe3660",
       "version_major": 2,
       "version_minor": 0
      },
      "text/plain": [
       "BestResp | t#3/400 | k=3 | sats=STARLINK-35247,STARLINK-32844,STARLINK-30936:   0%|          | 0/200 [00:00<?,…"
      ]
     },
     "metadata": {},
     "output_type": "display_data"
    },
    {
     "data": {
      "application/vnd.jupyter.widget-view+json": {
       "model_id": "7fad1897ca9d4efa9bdb7de71b57bf66",
       "version_major": 2,
       "version_minor": 0
      },
      "text/plain": [
       "BestResp | t#3/400 | k=5 | sats=STARLINK-35247,STARLINK-32844,STARLINK-30936,STARLINK-31559,STARLINK-34868:   …"
      ]
     },
     "metadata": {},
     "output_type": "display_data"
    },
    {
     "data": {
      "application/vnd.jupyter.widget-view+json": {
       "model_id": "07f461ebf972491eabbfceef13b1bf49",
       "version_major": 2,
       "version_minor": 0
      },
      "text/plain": [
       "BestResp | t#4/400 | k=1 | sats=STARLINK-32207:   0%|          | 0/200 [00:00<?, ?it/s]"
      ]
     },
     "metadata": {},
     "output_type": "display_data"
    },
    {
     "data": {
      "application/vnd.jupyter.widget-view+json": {
       "model_id": "a9df4e49d79d4263ad13d92f63aaa4eb",
       "version_major": 2,
       "version_minor": 0
      },
      "text/plain": [
       "BestResp | t#4/400 | k=3 | sats=STARLINK-32207,STARLINK-33744,STARLINK-31907:   0%|          | 0/200 [00:00<?,…"
      ]
     },
     "metadata": {},
     "output_type": "display_data"
    },
    {
     "data": {
      "application/vnd.jupyter.widget-view+json": {
       "model_id": "2ab53c7a6a694343a87f8101601746b7",
       "version_major": 2,
       "version_minor": 0
      },
      "text/plain": [
       "BestResp | t#4/400 | k=5 | sats=STARLINK-32207,STARLINK-33744,STARLINK-31907,STARLINK-32269,STARLINK-6356:   0…"
      ]
     },
     "metadata": {},
     "output_type": "display_data"
    },
    {
     "data": {
      "application/vnd.jupyter.widget-view+json": {
       "model_id": "e77e9aee246e47609eaa0883f8f2eea3",
       "version_major": 2,
       "version_minor": 0
      },
      "text/plain": [
       "BestResp | t#5/400 | k=1 | sats=STARLINK-11668 [DTC]:   0%|          | 0/200 [00:00<?, ?it/s]"
      ]
     },
     "metadata": {},
     "output_type": "display_data"
    },
    {
     "data": {
      "application/vnd.jupyter.widget-view+json": {
       "model_id": "d5dd4f84346840c18e90549c15153b51",
       "version_major": 2,
       "version_minor": 0
      },
      "text/plain": [
       "BestResp | t#5/400 | k=3 | sats=STARLINK-11668 [DTC],STARLINK-31997,STARLINK-31812:   0%|          | 0/200 [00…"
      ]
     },
     "metadata": {},
     "output_type": "display_data"
    },
    {
     "data": {
      "application/vnd.jupyter.widget-view+json": {
       "model_id": "e45c3f22678947d79577f221710b2359",
       "version_major": 2,
       "version_minor": 0
      },
      "text/plain": [
       "BestResp | t#5/400 | k=5 | sats=STARLINK-11668 [DTC],STARLINK-31997,STARLINK-31812,STARLINK-31199,STARLINK-629…"
      ]
     },
     "metadata": {},
     "output_type": "display_data"
    },
    {
     "data": {
      "application/vnd.jupyter.widget-view+json": {
       "model_id": "aa3b47d817664d78abc624038ab4544a",
       "version_major": 2,
       "version_minor": 0
      },
      "text/plain": [
       "BestResp | t#6/400 | k=1 | sats=STARLINK-11072 [DTC]:   0%|          | 0/200 [00:00<?, ?it/s]"
      ]
     },
     "metadata": {},
     "output_type": "display_data"
    },
    {
     "data": {
      "application/vnd.jupyter.widget-view+json": {
       "model_id": "69407e844b7f455eade4788f07264871",
       "version_major": 2,
       "version_minor": 0
      },
      "text/plain": [
       "BestResp | t#6/400 | k=3 | sats=STARLINK-11072 [DTC],STARLINK-31812,STARLINK-32480:   0%|          | 0/200 [00…"
      ]
     },
     "metadata": {},
     "output_type": "display_data"
    },
    {
     "data": {
      "application/vnd.jupyter.widget-view+json": {
       "model_id": "cfee510c486a4d4f99a965ab6545347d",
       "version_major": 2,
       "version_minor": 0
      },
      "text/plain": [
       "BestResp | t#6/400 | k=5 | sats=STARLINK-11072 [DTC],STARLINK-31812,STARLINK-32480,STARLINK-32188,STARLINK-319…"
      ]
     },
     "metadata": {},
     "output_type": "display_data"
    },
    {
     "data": {
      "application/vnd.jupyter.widget-view+json": {
       "model_id": "65c7762dc5534a72b407b964f81b32db",
       "version_major": 2,
       "version_minor": 0
      },
      "text/plain": [
       "BestResp | t#7/400 | k=1 | sats=STARLINK-30896:   0%|          | 0/200 [00:00<?, ?it/s]"
      ]
     },
     "metadata": {},
     "output_type": "display_data"
    },
    {
     "data": {
      "application/vnd.jupyter.widget-view+json": {
       "model_id": "d58a2c152415407889cfed765cdc418a",
       "version_major": 2,
       "version_minor": 0
      },
      "text/plain": [
       "BestResp | t#7/400 | k=3 | sats=STARLINK-30896,STARLINK-31316,STARLINK-32843:   0%|          | 0/200 [00:00<?,…"
      ]
     },
     "metadata": {},
     "output_type": "display_data"
    },
    {
     "data": {
      "application/vnd.jupyter.widget-view+json": {
       "model_id": "461d1f7ef65f452dbcd77aa395843140",
       "version_major": 2,
       "version_minor": 0
      },
      "text/plain": [
       "BestResp | t#7/400 | k=5 | sats=STARLINK-30896,STARLINK-31316,STARLINK-32843,STARLINK-32212,STARLINK-31200:   …"
      ]
     },
     "metadata": {},
     "output_type": "display_data"
    },
    {
     "data": {
      "application/vnd.jupyter.widget-view+json": {
       "model_id": "1c5b84d988024deebbdc6fe9ee0880f7",
       "version_major": 2,
       "version_minor": 0
      },
      "text/plain": [
       "BestResp | t#8/400 | k=1 | sats=STARLINK-30896:   0%|          | 0/200 [00:00<?, ?it/s]"
      ]
     },
     "metadata": {},
     "output_type": "display_data"
    },
    {
     "data": {
      "application/vnd.jupyter.widget-view+json": {
       "model_id": "34dc387b9e2644c6a19ff02a8b0070a8",
       "version_major": 2,
       "version_minor": 0
      },
      "text/plain": [
       "BestResp | t#8/400 | k=3 | sats=STARLINK-30896,STARLINK-31316,STARLINK-32843:   0%|          | 0/200 [00:00<?,…"
      ]
     },
     "metadata": {},
     "output_type": "display_data"
    },
    {
     "data": {
      "application/vnd.jupyter.widget-view+json": {
       "model_id": "15399ef134e74bd9808674c85329e50c",
       "version_major": 2,
       "version_minor": 0
      },
      "text/plain": [
       "BestResp | t#8/400 | k=5 | sats=STARLINK-30896,STARLINK-31316,STARLINK-32843,STARLINK-31200,STARLINK-35007:   …"
      ]
     },
     "metadata": {},
     "output_type": "display_data"
    },
    {
     "data": {
      "application/vnd.jupyter.widget-view+json": {
       "model_id": "09169136ead449c690775d61b04f6d2f",
       "version_major": 2,
       "version_minor": 0
      },
      "text/plain": [
       "BestResp | t#9/400 | k=1 | sats=STARLINK-31532:   0%|          | 0/200 [00:00<?, ?it/s]"
      ]
     },
     "metadata": {},
     "output_type": "display_data"
    },
    {
     "data": {
      "application/vnd.jupyter.widget-view+json": {
       "model_id": "8b84dda8788948c7ade4b33352396feb",
       "version_major": 2,
       "version_minor": 0
      },
      "text/plain": [
       "BestResp | t#9/400 | k=3 | sats=STARLINK-31532,STARLINK-32223,STARLINK-32159:   0%|          | 0/200 [00:00<?,…"
      ]
     },
     "metadata": {},
     "output_type": "display_data"
    },
    {
     "data": {
      "application/vnd.jupyter.widget-view+json": {
       "model_id": "561f20a4f9da4ec79f560b913d119475",
       "version_major": 2,
       "version_minor": 0
      },
      "text/plain": [
       "BestResp | t#9/400 | k=5 | sats=STARLINK-31532,STARLINK-32223,STARLINK-32159,STARLINK-31213,STARLINK-31926:   …"
      ]
     },
     "metadata": {},
     "output_type": "display_data"
    },
    {
     "data": {
      "application/vnd.jupyter.widget-view+json": {
       "model_id": "cdec01538d3f442586e4b4db8c12e67d",
       "version_major": 2,
       "version_minor": 0
      },
      "text/plain": [
       "BestResp | t#10/400 | k=1 | sats=STARLINK-11274 [DTC]:   0%|          | 0/200 [00:00<?, ?it/s]"
      ]
     },
     "metadata": {},
     "output_type": "display_data"
    },
    {
     "data": {
      "application/vnd.jupyter.widget-view+json": {
       "model_id": "2d2b494407b54127b0a1af496cc7ac89",
       "version_major": 2,
       "version_minor": 0
      },
      "text/plain": [
       "BestResp | t#10/400 | k=3 | sats=STARLINK-11274 [DTC],STARLINK-32630,STARLINK-30950:   0%|          | 0/200 [0…"
      ]
     },
     "metadata": {},
     "output_type": "display_data"
    },
    {
     "data": {
      "application/vnd.jupyter.widget-view+json": {
       "model_id": "c9b5942a8a3d4cbcbea3317a74a28046",
       "version_major": 2,
       "version_minor": 0
      },
      "text/plain": [
       "BestResp | t#10/400 | k=5 | sats=STARLINK-11274 [DTC],STARLINK-32630,STARLINK-30950,STARLINK-31030,STARLINK-31…"
      ]
     },
     "metadata": {},
     "output_type": "display_data"
    },
    {
     "data": {
      "application/vnd.jupyter.widget-view+json": {
       "model_id": "3e15540e6c284895bf5a20d4b2b01ac6",
       "version_major": 2,
       "version_minor": 0
      },
      "text/plain": [
       "BestResp | t#11/400 | k=1 | sats=STARLINK-11670 [DTC]:   0%|          | 0/200 [00:00<?, ?it/s]"
      ]
     },
     "metadata": {},
     "output_type": "display_data"
    },
    {
     "data": {
      "application/vnd.jupyter.widget-view+json": {
       "model_id": "1528619d7d9a4277afddb177606b1e12",
       "version_major": 2,
       "version_minor": 0
      },
      "text/plain": [
       "BestResp | t#11/400 | k=3 | sats=STARLINK-11670 [DTC],STARLINK-11606 [DTC],STARLINK-31057:   0%|          | 0/…"
      ]
     },
     "metadata": {},
     "output_type": "display_data"
    },
    {
     "data": {
      "application/vnd.jupyter.widget-view+json": {
       "model_id": "63d94062a8dc47b2b0ed4577f035d4f2",
       "version_major": 2,
       "version_minor": 0
      },
      "text/plain": [
       "BestResp | t#11/400 | k=5 | sats=STARLINK-11670 [DTC],STARLINK-11606 [DTC],STARLINK-31057,STARLINK-31306,STARL…"
      ]
     },
     "metadata": {},
     "output_type": "display_data"
    },
    {
     "data": {
      "application/vnd.jupyter.widget-view+json": {
       "model_id": "99bd349660004aacabbad99669c75929",
       "version_major": 2,
       "version_minor": 0
      },
      "text/plain": [
       "BestResp | t#12/400 | k=1 | sats=STARLINK-30110:   0%|          | 0/200 [00:00<?, ?it/s]"
      ]
     },
     "metadata": {},
     "output_type": "display_data"
    },
    {
     "data": {
      "application/vnd.jupyter.widget-view+json": {
       "model_id": "c326641b29be4d1dafc0b640269d32ca",
       "version_major": 2,
       "version_minor": 0
      },
      "text/plain": [
       "BestResp | t#12/400 | k=3 | sats=STARLINK-30110,STARLINK-33570,STARLINK-32653:   0%|          | 0/200 [00:00<?…"
      ]
     },
     "metadata": {},
     "output_type": "display_data"
    },
    {
     "data": {
      "application/vnd.jupyter.widget-view+json": {
       "model_id": "e7234c6b17f44961ae068ffbdae85454",
       "version_major": 2,
       "version_minor": 0
      },
      "text/plain": [
       "BestResp | t#12/400 | k=5 | sats=STARLINK-30110,STARLINK-33570,STARLINK-32653,STARLINK-30953,STARLINK-31477:  …"
      ]
     },
     "metadata": {},
     "output_type": "display_data"
    },
    {
     "data": {
      "application/vnd.jupyter.widget-view+json": {
       "model_id": "0520ee863c1048948d337f1973d1aa21",
       "version_major": 2,
       "version_minor": 0
      },
      "text/plain": [
       "BestResp | t#13/400 | k=1 | sats=STARLINK-11315 [DTC]:   0%|          | 0/200 [00:00<?, ?it/s]"
      ]
     },
     "metadata": {},
     "output_type": "display_data"
    },
    {
     "data": {
      "application/vnd.jupyter.widget-view+json": {
       "model_id": "b660c0a85fce4600986b2fa4b58cf54a",
       "version_major": 2,
       "version_minor": 0
      },
      "text/plain": [
       "BestResp | t#13/400 | k=3 | sats=STARLINK-11315 [DTC],STARLINK-11497 [DTC],STARLINK-33563:   0%|          | 0/…"
      ]
     },
     "metadata": {},
     "output_type": "display_data"
    },
    {
     "data": {
      "application/vnd.jupyter.widget-view+json": {
       "model_id": "6570eeaa5a8646c5952bf10d29a3ffc3",
       "version_major": 2,
       "version_minor": 0
      },
      "text/plain": [
       "BestResp | t#13/400 | k=5 | sats=STARLINK-11315 [DTC],STARLINK-11497 [DTC],STARLINK-33563,STARLINK-33595,STARL…"
      ]
     },
     "metadata": {},
     "output_type": "display_data"
    },
    {
     "data": {
      "application/vnd.jupyter.widget-view+json": {
       "model_id": "51d9b087fa9f49e49fc96acfb958c70f",
       "version_major": 2,
       "version_minor": 0
      },
      "text/plain": [
       "BestResp | t#14/400 | k=1 | sats=STARLINK-11315 [DTC]:   0%|          | 0/200 [00:00<?, ?it/s]"
      ]
     },
     "metadata": {},
     "output_type": "display_data"
    },
    {
     "data": {
      "application/vnd.jupyter.widget-view+json": {
       "model_id": "d01b25865202480f8a612980d9cb62f3",
       "version_major": 2,
       "version_minor": 0
      },
      "text/plain": [
       "BestResp | t#14/400 | k=3 | sats=STARLINK-11315 [DTC],STARLINK-11497 [DTC],STARLINK-33595:   0%|          | 0/…"
      ]
     },
     "metadata": {},
     "output_type": "display_data"
    },
    {
     "data": {
      "application/vnd.jupyter.widget-view+json": {
       "model_id": "a87d2a0ee5fc4673a93151ba63feec20",
       "version_major": 2,
       "version_minor": 0
      },
      "text/plain": [
       "BestResp | t#14/400 | k=5 | sats=STARLINK-11315 [DTC],STARLINK-11497 [DTC],STARLINK-33595,STARLINK-33563,STARL…"
      ]
     },
     "metadata": {},
     "output_type": "display_data"
    },
    {
     "data": {
      "application/vnd.jupyter.widget-view+json": {
       "model_id": "0f7d87758bc348d4bb31e046fad3e475",
       "version_major": 2,
       "version_minor": 0
      },
      "text/plain": [
       "BestResp | t#15/400 | k=1 | sats=STARLINK-32386:   0%|          | 0/200 [00:00<?, ?it/s]"
      ]
     },
     "metadata": {},
     "output_type": "display_data"
    },
    {
     "data": {
      "application/vnd.jupyter.widget-view+json": {
       "model_id": "88d80c6e02c34bfb978d1725569c12dd",
       "version_major": 2,
       "version_minor": 0
      },
      "text/plain": [
       "BestResp | t#15/400 | k=3 | sats=STARLINK-32386,STARLINK-32664,STARLINK-30933:   0%|          | 0/200 [00:00<?…"
      ]
     },
     "metadata": {},
     "output_type": "display_data"
    },
    {
     "data": {
      "application/vnd.jupyter.widget-view+json": {
       "model_id": "2caf313f24e440c2ba9e5eddbb4ddee8",
       "version_major": 2,
       "version_minor": 0
      },
      "text/plain": [
       "BestResp | t#15/400 | k=5 | sats=STARLINK-32386,STARLINK-32664,STARLINK-30933,STARLINK-33718,STARLINK-4356:   …"
      ]
     },
     "metadata": {},
     "output_type": "display_data"
    },
    {
     "data": {
      "application/vnd.jupyter.widget-view+json": {
       "model_id": "202e3f747612477fa8dd81d49244dcf5",
       "version_major": 2,
       "version_minor": 0
      },
      "text/plain": [
       "BestResp | t#16/400 | k=1 | sats=STARLINK-11464 [DTC]:   0%|          | 0/200 [00:00<?, ?it/s]"
      ]
     },
     "metadata": {},
     "output_type": "display_data"
    },
    {
     "data": {
      "application/vnd.jupyter.widget-view+json": {
       "model_id": "be6b12c35a714120aca141e566c7ff7b",
       "version_major": 2,
       "version_minor": 0
      },
      "text/plain": [
       "BestResp | t#16/400 | k=3 | sats=STARLINK-11464 [DTC],STARLINK-11340 [DTC],STARLINK-33582:   0%|          | 0/…"
      ]
     },
     "metadata": {},
     "output_type": "display_data"
    },
    {
     "data": {
      "application/vnd.jupyter.widget-view+json": {
       "model_id": "7d0d8b8b4af14bc08c96422890948f51",
       "version_major": 2,
       "version_minor": 0
      },
      "text/plain": [
       "BestResp | t#16/400 | k=5 | sats=STARLINK-11464 [DTC],STARLINK-11340 [DTC],STARLINK-33582,STARLINK-32662,STARL…"
      ]
     },
     "metadata": {},
     "output_type": "display_data"
    },
    {
     "data": {
      "application/vnd.jupyter.widget-view+json": {
       "model_id": "e229da2ebc084066aa26c180a7f65e0e",
       "version_major": 2,
       "version_minor": 0
      },
      "text/plain": [
       "BestResp | t#17/400 | k=1 | sats=STARLINK-11438 [DTC]:   0%|          | 0/200 [00:00<?, ?it/s]"
      ]
     },
     "metadata": {},
     "output_type": "display_data"
    },
    {
     "data": {
      "application/vnd.jupyter.widget-view+json": {
       "model_id": "9f083d06ce5442dea6b8a4d72d363a8b",
       "version_major": 2,
       "version_minor": 0
      },
      "text/plain": [
       "BestResp | t#17/400 | k=3 | sats=STARLINK-11438 [DTC],STARLINK-33549,STARLINK-31046:   0%|          | 0/200 [0…"
      ]
     },
     "metadata": {},
     "output_type": "display_data"
    },
    {
     "data": {
      "application/vnd.jupyter.widget-view+json": {
       "model_id": "bc7465e27aab4c1f91fbeaef1bd8e972",
       "version_major": 2,
       "version_minor": 0
      },
      "text/plain": [
       "BestResp | t#17/400 | k=5 | sats=STARLINK-11438 [DTC],STARLINK-33549,STARLINK-31046,STARLINK-31552,STARLINK-51…"
      ]
     },
     "metadata": {},
     "output_type": "display_data"
    },
    {
     "data": {
      "application/vnd.jupyter.widget-view+json": {
       "model_id": "d6f6ab966fd944f5ac9139fb9b03404f",
       "version_major": 2,
       "version_minor": 0
      },
      "text/plain": [
       "BestResp | t#18/400 | k=1 | sats=STARLINK-11682 [DTC]:   0%|          | 0/200 [00:00<?, ?it/s]"
      ]
     },
     "metadata": {},
     "output_type": "display_data"
    },
    {
     "data": {
      "application/vnd.jupyter.widget-view+json": {
       "model_id": "6cdc8023d8824c498ac5c893b73d0f94",
       "version_major": 2,
       "version_minor": 0
      },
      "text/plain": [
       "BestResp | t#18/400 | k=3 | sats=STARLINK-11682 [DTC],STARLINK-32284,STARLINK-32791:   0%|          | 0/200 [0…"
      ]
     },
     "metadata": {},
     "output_type": "display_data"
    },
    {
     "data": {
      "application/vnd.jupyter.widget-view+json": {
       "model_id": "8090a4774a1e43479ad7bfe24939bd9c",
       "version_major": 2,
       "version_minor": 0
      },
      "text/plain": [
       "BestResp | t#18/400 | k=5 | sats=STARLINK-11682 [DTC],STARLINK-32284,STARLINK-32791,STARLINK-32510,STARLINK-33…"
      ]
     },
     "metadata": {},
     "output_type": "display_data"
    },
    {
     "data": {
      "application/vnd.jupyter.widget-view+json": {
       "model_id": "c5806d2bd3a444c6934c50c34550dd14",
       "version_major": 2,
       "version_minor": 0
      },
      "text/plain": [
       "BestResp | t#19/400 | k=1 | sats=STARLINK-11461 [DTC]:   0%|          | 0/200 [00:00<?, ?it/s]"
      ]
     },
     "metadata": {},
     "output_type": "display_data"
    },
    {
     "data": {
      "application/vnd.jupyter.widget-view+json": {
       "model_id": "94dd7b115b3648a1b22c2164db61ef2e",
       "version_major": 2,
       "version_minor": 0
      },
      "text/plain": [
       "BestResp | t#19/400 | k=3 | sats=STARLINK-11461 [DTC],STARLINK-11178 [DTC],STARLINK-32940:   0%|          | 0/…"
      ]
     },
     "metadata": {},
     "output_type": "display_data"
    },
    {
     "data": {
      "application/vnd.jupyter.widget-view+json": {
       "model_id": "aa4188c261524981b70074cee7a21064",
       "version_major": 2,
       "version_minor": 0
      },
      "text/plain": [
       "BestResp | t#19/400 | k=5 | sats=STARLINK-11461 [DTC],STARLINK-11178 [DTC],STARLINK-32940,STARLINK-35162,STARL…"
      ]
     },
     "metadata": {},
     "output_type": "display_data"
    },
    {
     "data": {
      "application/vnd.jupyter.widget-view+json": {
       "model_id": "6961074f3e7f4f35b7429ef39cf7ba3f",
       "version_major": 2,
       "version_minor": 0
      },
      "text/plain": [
       "BestResp | t#20/400 | k=1 | sats=STARLINK-30912:   0%|          | 0/200 [00:00<?, ?it/s]"
      ]
     },
     "metadata": {},
     "output_type": "display_data"
    },
    {
     "data": {
      "application/vnd.jupyter.widget-view+json": {
       "model_id": "a8ff12c2227442d98741af812393e79c",
       "version_major": 2,
       "version_minor": 0
      },
      "text/plain": [
       "BestResp | t#20/400 | k=3 | sats=STARLINK-30912,STARLINK-31320,STARLINK-31899:   0%|          | 0/200 [00:00<?…"
      ]
     },
     "metadata": {},
     "output_type": "display_data"
    },
    {
     "data": {
      "application/vnd.jupyter.widget-view+json": {
       "model_id": "fd7742a3fc2346f3aed8ed5e2b135bd5",
       "version_major": 2,
       "version_minor": 0
      },
      "text/plain": [
       "BestResp | t#20/400 | k=5 | sats=STARLINK-30912,STARLINK-31320,STARLINK-31899,STARLINK-33735,STARLINK-30193:  …"
      ]
     },
     "metadata": {},
     "output_type": "display_data"
    },
    {
     "name": "stdout",
     "output_type": "stream",
     "text": [
      "[flush] wrote up to step 20\n"
     ]
    },
    {
     "data": {
      "application/vnd.jupyter.widget-view+json": {
       "model_id": "0050b55c50e6441c984e3846e34a683b",
       "version_major": 2,
       "version_minor": 0
      },
      "text/plain": [
       "BestResp | t#21/400 | k=1 | sats=STARLINK-11376 [DTC]:   0%|          | 0/200 [00:00<?, ?it/s]"
      ]
     },
     "metadata": {},
     "output_type": "display_data"
    },
    {
     "data": {
      "application/vnd.jupyter.widget-view+json": {
       "model_id": "d0a4c391b5a043498ebce861d3ddc18b",
       "version_major": 2,
       "version_minor": 0
      },
      "text/plain": [
       "BestResp | t#21/400 | k=3 | sats=STARLINK-11376 [DTC],STARLINK-32666,STARLINK-31502:   0%|          | 0/200 [0…"
      ]
     },
     "metadata": {},
     "output_type": "display_data"
    },
    {
     "data": {
      "application/vnd.jupyter.widget-view+json": {
       "model_id": "01f18cc4b86c457196319d2eebc8c6f4",
       "version_major": 2,
       "version_minor": 0
      },
      "text/plain": [
       "BestResp | t#21/400 | k=5 | sats=STARLINK-11376 [DTC],STARLINK-32666,STARLINK-31502,STARLINK-32547,STARLINK-26…"
      ]
     },
     "metadata": {},
     "output_type": "display_data"
    },
    {
     "data": {
      "application/vnd.jupyter.widget-view+json": {
       "model_id": "a0b08358a78f497f82f432ca025b2823",
       "version_major": 2,
       "version_minor": 0
      },
      "text/plain": [
       "BestResp | t#22/400 | k=1 | sats=STARLINK-11434 [DTC]:   0%|          | 0/200 [00:00<?, ?it/s]"
      ]
     },
     "metadata": {},
     "output_type": "display_data"
    },
    {
     "data": {
      "application/vnd.jupyter.widget-view+json": {
       "model_id": "d92abd51f3af491cb1ed1f0b73674643",
       "version_major": 2,
       "version_minor": 0
      },
      "text/plain": [
       "BestResp | t#22/400 | k=3 | sats=STARLINK-11434 [DTC],STARLINK-11518 [DTC],STARLINK-31937:   0%|          | 0/…"
      ]
     },
     "metadata": {},
     "output_type": "display_data"
    },
    {
     "data": {
      "application/vnd.jupyter.widget-view+json": {
       "model_id": "a2792ac264864c85a80b61b4cd696798",
       "version_major": 2,
       "version_minor": 0
      },
      "text/plain": [
       "BestResp | t#22/400 | k=5 | sats=STARLINK-11434 [DTC],STARLINK-11518 [DTC],STARLINK-31937,STARLINK-32362,STARL…"
      ]
     },
     "metadata": {},
     "output_type": "display_data"
    },
    {
     "data": {
      "application/vnd.jupyter.widget-view+json": {
       "model_id": "ad771bbd293e4f17ba33ff4d5ba41621",
       "version_major": 2,
       "version_minor": 0
      },
      "text/plain": [
       "BestResp | t#23/400 | k=1 | sats=STARLINK-30494:   0%|          | 0/200 [00:00<?, ?it/s]"
      ]
     },
     "metadata": {},
     "output_type": "display_data"
    },
    {
     "data": {
      "application/vnd.jupyter.widget-view+json": {
       "model_id": "93c192b73e4845b2a66b2c237c085364",
       "version_major": 2,
       "version_minor": 0
      },
      "text/plain": [
       "BestResp | t#23/400 | k=3 | sats=STARLINK-30494,STARLINK-11500 [DTC],STARLINK-32012:   0%|          | 0/200 [0…"
      ]
     },
     "metadata": {},
     "output_type": "display_data"
    },
    {
     "data": {
      "application/vnd.jupyter.widget-view+json": {
       "model_id": "83b20d1724f84128adb5078f39fa99cf",
       "version_major": 2,
       "version_minor": 0
      },
      "text/plain": [
       "BestResp | t#23/400 | k=5 | sats=STARLINK-30494,STARLINK-11500 [DTC],STARLINK-32012,STARLINK-1767,STARLINK-319…"
      ]
     },
     "metadata": {},
     "output_type": "display_data"
    },
    {
     "data": {
      "application/vnd.jupyter.widget-view+json": {
       "model_id": "c2ebc7e1abc341a799c59561cabac1cc",
       "version_major": 2,
       "version_minor": 0
      },
      "text/plain": [
       "BestResp | t#24/400 | k=1 | sats=STARLINK-11437 [DTC]:   0%|          | 0/200 [00:00<?, ?it/s]"
      ]
     },
     "metadata": {},
     "output_type": "display_data"
    },
    {
     "data": {
      "application/vnd.jupyter.widget-view+json": {
       "model_id": "c22aec78c3a24fd790a5e46669f56892",
       "version_major": 2,
       "version_minor": 0
      },
      "text/plain": [
       "BestResp | t#24/400 | k=3 | sats=STARLINK-11437 [DTC],STARLINK-11632 [DTC],STARLINK-32749:   0%|          | 0/…"
      ]
     },
     "metadata": {},
     "output_type": "display_data"
    },
    {
     "data": {
      "application/vnd.jupyter.widget-view+json": {
       "model_id": "0b725770d8684b2bba349f8832509ffc",
       "version_major": 2,
       "version_minor": 0
      },
      "text/plain": [
       "BestResp | t#24/400 | k=5 | sats=STARLINK-11437 [DTC],STARLINK-11632 [DTC],STARLINK-32749,STARLINK-5281,STARLI…"
      ]
     },
     "metadata": {},
     "output_type": "display_data"
    },
    {
     "data": {
      "application/vnd.jupyter.widget-view+json": {
       "model_id": "89e824dead804232aa87b2c772a450c6",
       "version_major": 2,
       "version_minor": 0
      },
      "text/plain": [
       "BestResp | t#25/400 | k=1 | sats=STARLINK-11437 [DTC]:   0%|          | 0/200 [00:00<?, ?it/s]"
      ]
     },
     "metadata": {},
     "output_type": "display_data"
    },
    {
     "data": {
      "application/vnd.jupyter.widget-view+json": {
       "model_id": "36668c0282dc4eb495cf6a5591d4e8b5",
       "version_major": 2,
       "version_minor": 0
      },
      "text/plain": [
       "BestResp | t#25/400 | k=3 | sats=STARLINK-11437 [DTC],STARLINK-11632 [DTC],STARLINK-32749:   0%|          | 0/…"
      ]
     },
     "metadata": {},
     "output_type": "display_data"
    },
    {
     "data": {
      "application/vnd.jupyter.widget-view+json": {
       "model_id": "2d109377bf6c44588d7511eedc7e60de",
       "version_major": 2,
       "version_minor": 0
      },
      "text/plain": [
       "BestResp | t#25/400 | k=5 | sats=STARLINK-11437 [DTC],STARLINK-11632 [DTC],STARLINK-32749,STARLINK-5281,STARLI…"
      ]
     },
     "metadata": {},
     "output_type": "display_data"
    },
    {
     "data": {
      "application/vnd.jupyter.widget-view+json": {
       "model_id": "70e904ba8fea4e95acf51a1f815e5ccc",
       "version_major": 2,
       "version_minor": 0
      },
      "text/plain": [
       "BestResp | t#26/400 | k=1 | sats=STARLINK-11459 [DTC]:   0%|          | 0/200 [00:00<?, ?it/s]"
      ]
     },
     "metadata": {},
     "output_type": "display_data"
    },
    {
     "data": {
      "application/vnd.jupyter.widget-view+json": {
       "model_id": "7dd729aa8c704af0aa5a47d05f38c112",
       "version_major": 2,
       "version_minor": 0
      },
      "text/plain": [
       "BestResp | t#26/400 | k=3 | sats=STARLINK-11459 [DTC],STARLINK-32609,STARLINK-32318:   0%|          | 0/200 [0…"
      ]
     },
     "metadata": {},
     "output_type": "display_data"
    },
    {
     "data": {
      "application/vnd.jupyter.widget-view+json": {
       "model_id": "7faf75463071425084e28d259d5e86c7",
       "version_major": 2,
       "version_minor": 0
      },
      "text/plain": [
       "BestResp | t#26/400 | k=5 | sats=STARLINK-11459 [DTC],STARLINK-32609,STARLINK-32318,STARLINK-5576,STARLINK-320…"
      ]
     },
     "metadata": {},
     "output_type": "display_data"
    },
    {
     "data": {
      "application/vnd.jupyter.widget-view+json": {
       "model_id": "da16b42ef105473980a61941f1f8679d",
       "version_major": 2,
       "version_minor": 0
      },
      "text/plain": [
       "BestResp | t#27/400 | k=1 | sats=STARLINK-11459 [DTC]:   0%|          | 0/200 [00:00<?, ?it/s]"
      ]
     },
     "metadata": {},
     "output_type": "display_data"
    },
    {
     "data": {
      "application/vnd.jupyter.widget-view+json": {
       "model_id": "db07110667b143ba91c1ae017555e6b2",
       "version_major": 2,
       "version_minor": 0
      },
      "text/plain": [
       "BestResp | t#27/400 | k=3 | sats=STARLINK-11459 [DTC],STARLINK-32609,STARLINK-32318:   0%|          | 0/200 [0…"
      ]
     },
     "metadata": {},
     "output_type": "display_data"
    },
    {
     "data": {
      "application/vnd.jupyter.widget-view+json": {
       "model_id": "79230ac5d7694758ad642e1a14803f11",
       "version_major": 2,
       "version_minor": 0
      },
      "text/plain": [
       "BestResp | t#27/400 | k=5 | sats=STARLINK-11459 [DTC],STARLINK-32609,STARLINK-32318,STARLINK-31925,STARLINK-55…"
      ]
     },
     "metadata": {},
     "output_type": "display_data"
    },
    {
     "data": {
      "application/vnd.jupyter.widget-view+json": {
       "model_id": "e037905f3419445d8038c647f1ee18e9",
       "version_major": 2,
       "version_minor": 0
      },
      "text/plain": [
       "BestResp | t#28/400 | k=1 | sats=STARLINK-11432 [DTC]:   0%|          | 0/200 [00:00<?, ?it/s]"
      ]
     },
     "metadata": {},
     "output_type": "display_data"
    },
    {
     "data": {
      "application/vnd.jupyter.widget-view+json": {
       "model_id": "e3ad6501005a476bbbb9363f04a8899c",
       "version_major": 2,
       "version_minor": 0
      },
      "text/plain": [
       "BestResp | t#28/400 | k=3 | sats=STARLINK-11432 [DTC],STARLINK-11625 [DTC],STARLINK-31760:   0%|          | 0/…"
      ]
     },
     "metadata": {},
     "output_type": "display_data"
    },
    {
     "data": {
      "application/vnd.jupyter.widget-view+json": {
       "model_id": "bce00fc75b47404a922594dc07e1f309",
       "version_major": 2,
       "version_minor": 0
      },
      "text/plain": [
       "BestResp | t#28/400 | k=5 | sats=STARLINK-11432 [DTC],STARLINK-11625 [DTC],STARLINK-31760,STARLINK-35275,STARL…"
      ]
     },
     "metadata": {},
     "output_type": "display_data"
    },
    {
     "data": {
      "application/vnd.jupyter.widget-view+json": {
       "model_id": "2d98f091d74042b2a6ca23a349a8fccd",
       "version_major": 2,
       "version_minor": 0
      },
      "text/plain": [
       "BestResp | t#29/400 | k=1 | sats=STARLINK-33673:   0%|          | 0/200 [00:00<?, ?it/s]"
      ]
     },
     "metadata": {},
     "output_type": "display_data"
    },
    {
     "data": {
      "application/vnd.jupyter.widget-view+json": {
       "model_id": "63eaa969054a4d44874a3ea45d210a92",
       "version_major": 2,
       "version_minor": 0
      },
      "text/plain": [
       "BestResp | t#29/400 | k=3 | sats=STARLINK-33673,STARLINK-11505 [DTC],STARLINK-11373 [DTC]:   0%|          | 0/…"
      ]
     },
     "metadata": {},
     "output_type": "display_data"
    },
    {
     "data": {
      "application/vnd.jupyter.widget-view+json": {
       "model_id": "63853e2242c64ebe981aade3b2d26ae2",
       "version_major": 2,
       "version_minor": 0
      },
      "text/plain": [
       "BestResp | t#29/400 | k=5 | sats=STARLINK-33673,STARLINK-11505 [DTC],STARLINK-11373 [DTC],STARLINK-31931,STARL…"
      ]
     },
     "metadata": {},
     "output_type": "display_data"
    },
    {
     "data": {
      "application/vnd.jupyter.widget-view+json": {
       "model_id": "b39b113d95ec43aaa5c7c2e7ab121f72",
       "version_major": 2,
       "version_minor": 0
      },
      "text/plain": [
       "BestResp | t#30/400 | k=1 | sats=STARLINK-31931:   0%|          | 0/200 [00:00<?, ?it/s]"
      ]
     },
     "metadata": {},
     "output_type": "display_data"
    },
    {
     "data": {
      "application/vnd.jupyter.widget-view+json": {
       "model_id": "aa26c926b2ac4a3baa19678b3c3e9161",
       "version_major": 2,
       "version_minor": 0
      },
      "text/plain": [
       "BestResp | t#30/400 | k=3 | sats=STARLINK-31931,STARLINK-33673,STARLINK-32720:   0%|          | 0/200 [00:00<?…"
      ]
     },
     "metadata": {},
     "output_type": "display_data"
    },
    {
     "data": {
      "application/vnd.jupyter.widget-view+json": {
       "model_id": "a97d2b3c51d2482e98945ef343cf6e6f",
       "version_major": 2,
       "version_minor": 0
      },
      "text/plain": [
       "BestResp | t#30/400 | k=5 | sats=STARLINK-31931,STARLINK-33673,STARLINK-32720,STARLINK-5572,STARLINK-34704:   …"
      ]
     },
     "metadata": {},
     "output_type": "display_data"
    },
    {
     "data": {
      "application/vnd.jupyter.widget-view+json": {
       "model_id": "ae96d816c9b4420a8124327b774b14c2",
       "version_major": 2,
       "version_minor": 0
      },
      "text/plain": [
       "BestResp | t#31/400 | k=1 | sats=STARLINK-11630 [DTC]:   0%|          | 0/200 [00:00<?, ?it/s]"
      ]
     },
     "metadata": {},
     "output_type": "display_data"
    },
    {
     "data": {
      "application/vnd.jupyter.widget-view+json": {
       "model_id": "f760ec7171ec483497b502db2294ba9f",
       "version_major": 2,
       "version_minor": 0
      },
      "text/plain": [
       "BestResp | t#31/400 | k=3 | sats=STARLINK-11630 [DTC],STARLINK-32691,STARLINK-34488:   0%|          | 0/200 [0…"
      ]
     },
     "metadata": {},
     "output_type": "display_data"
    },
    {
     "data": {
      "application/vnd.jupyter.widget-view+json": {
       "model_id": "a1c1595a4dbf4c4296286eeec63df187",
       "version_major": 2,
       "version_minor": 0
      },
      "text/plain": [
       "BestResp | t#31/400 | k=5 | sats=STARLINK-11630 [DTC],STARLINK-32691,STARLINK-34488,STARLINK-31825,STARLINK-30…"
      ]
     },
     "metadata": {},
     "output_type": "display_data"
    },
    {
     "data": {
      "application/vnd.jupyter.widget-view+json": {
       "model_id": "c78f4d1df442495589d1f065589a0175",
       "version_major": 2,
       "version_minor": 0
      },
      "text/plain": [
       "BestResp | t#32/400 | k=1 | sats=STARLINK-11630 [DTC]:   0%|          | 0/200 [00:00<?, ?it/s]"
      ]
     },
     "metadata": {},
     "output_type": "display_data"
    },
    {
     "data": {
      "application/vnd.jupyter.widget-view+json": {
       "model_id": "7f3195019016480dad6be0ace348f4b0",
       "version_major": 2,
       "version_minor": 0
      },
      "text/plain": [
       "BestResp | t#32/400 | k=3 | sats=STARLINK-11630 [DTC],STARLINK-32691,STARLINK-34488:   0%|          | 0/200 [0…"
      ]
     },
     "metadata": {},
     "output_type": "display_data"
    },
    {
     "data": {
      "application/vnd.jupyter.widget-view+json": {
       "model_id": "d85e14b2c18842d1a91aa60085cd4585",
       "version_major": 2,
       "version_minor": 0
      },
      "text/plain": [
       "BestResp | t#32/400 | k=5 | sats=STARLINK-11630 [DTC],STARLINK-32691,STARLINK-34488,STARLINK-31825,STARLINK-30…"
      ]
     },
     "metadata": {},
     "output_type": "display_data"
    },
    {
     "data": {
      "application/vnd.jupyter.widget-view+json": {
       "model_id": "4b0689322ab84afda733b4aeb9605e42",
       "version_major": 2,
       "version_minor": 0
      },
      "text/plain": [
       "BestResp | t#33/400 | k=1 | sats=STARLINK-11371 [DTC]:   0%|          | 0/200 [00:00<?, ?it/s]"
      ]
     },
     "metadata": {},
     "output_type": "display_data"
    },
    {
     "data": {
      "application/vnd.jupyter.widget-view+json": {
       "model_id": "e2565ef8ee3e4ef9b206c5d730c07703",
       "version_major": 2,
       "version_minor": 0
      },
      "text/plain": [
       "BestResp | t#33/400 | k=3 | sats=STARLINK-11371 [DTC],STARLINK-31504,STARLINK-11343 [DTC]:   0%|          | 0/…"
      ]
     },
     "metadata": {},
     "output_type": "display_data"
    },
    {
     "data": {
      "application/vnd.jupyter.widget-view+json": {
       "model_id": "374e41a20259495fbf38710edd3abc69",
       "version_major": 2,
       "version_minor": 0
      },
      "text/plain": [
       "BestResp | t#33/400 | k=5 | sats=STARLINK-11371 [DTC],STARLINK-31504,STARLINK-11343 [DTC],STARLINK-32739,STARL…"
      ]
     },
     "metadata": {},
     "output_type": "display_data"
    },
    {
     "data": {
      "application/vnd.jupyter.widget-view+json": {
       "model_id": "1bfeb1c7b9374dd3bd1b920d6b4637d9",
       "version_major": 2,
       "version_minor": 0
      },
      "text/plain": [
       "BestResp | t#34/400 | k=1 | sats=STARLINK-32701:   0%|          | 0/200 [00:00<?, ?it/s]"
      ]
     },
     "metadata": {},
     "output_type": "display_data"
    },
    {
     "data": {
      "application/vnd.jupyter.widget-view+json": {
       "model_id": "f105cefe4479402d8e86953ed3a8e285",
       "version_major": 2,
       "version_minor": 0
      },
      "text/plain": [
       "BestResp | t#34/400 | k=3 | sats=STARLINK-32701,STARLINK-5320,STARLINK-32675:   0%|          | 0/200 [00:00<?,…"
      ]
     },
     "metadata": {},
     "output_type": "display_data"
    },
    {
     "data": {
      "application/vnd.jupyter.widget-view+json": {
       "model_id": "571378689cc04fc4b26620d1c0b9590c",
       "version_major": 2,
       "version_minor": 0
      },
      "text/plain": [
       "BestResp | t#34/400 | k=5 | sats=STARLINK-32701,STARLINK-5320,STARLINK-32675,STARLINK-33701,STARLINK-31223:   …"
      ]
     },
     "metadata": {},
     "output_type": "display_data"
    },
    {
     "data": {
      "application/vnd.jupyter.widget-view+json": {
       "model_id": "d22e3167990b46ed82fe805a6fccf76e",
       "version_major": 2,
       "version_minor": 0
      },
      "text/plain": [
       "BestResp | t#35/400 | k=1 | sats=STARLINK-11624 [DTC]:   0%|          | 0/200 [00:00<?, ?it/s]"
      ]
     },
     "metadata": {},
     "output_type": "display_data"
    },
    {
     "data": {
      "application/vnd.jupyter.widget-view+json": {
       "model_id": "83bf3918d06d47f281885e62f3ab052e",
       "version_major": 2,
       "version_minor": 0
      },
      "text/plain": [
       "BestResp | t#35/400 | k=3 | sats=STARLINK-11624 [DTC],STARLINK-11435 [DTC],STARLINK-1759:   0%|          | 0/2…"
      ]
     },
     "metadata": {},
     "output_type": "display_data"
    },
    {
     "data": {
      "application/vnd.jupyter.widget-view+json": {
       "model_id": "b50e66f213a14ba89f3742fc1fe8f93d",
       "version_major": 2,
       "version_minor": 0
      },
      "text/plain": [
       "BestResp | t#35/400 | k=5 | sats=STARLINK-11624 [DTC],STARLINK-11435 [DTC],STARLINK-1759,STARLINK-34361,STARLI…"
      ]
     },
     "metadata": {},
     "output_type": "display_data"
    },
    {
     "data": {
      "application/vnd.jupyter.widget-view+json": {
       "model_id": "ee8cd8ad3e924089a02a61febfd08102",
       "version_major": 2,
       "version_minor": 0
      },
      "text/plain": [
       "BestResp | t#36/400 | k=1 | sats=STARLINK-32713:   0%|          | 0/200 [00:00<?, ?it/s]"
      ]
     },
     "metadata": {},
     "output_type": "display_data"
    },
    {
     "data": {
      "application/vnd.jupyter.widget-view+json": {
       "model_id": "e046c35daf8842cbb6688ee8b8f12761",
       "version_major": 2,
       "version_minor": 0
      },
      "text/plain": [
       "BestResp | t#36/400 | k=3 | sats=STARLINK-32713,STARLINK-35222,STARLINK-32567:   0%|          | 0/200 [00:00<?…"
      ]
     },
     "metadata": {},
     "output_type": "display_data"
    },
    {
     "data": {
      "application/vnd.jupyter.widget-view+json": {
       "model_id": "aea504add3b84a3ca1f821ea5d1140b3",
       "version_major": 2,
       "version_minor": 0
      },
      "text/plain": [
       "BestResp | t#36/400 | k=5 | sats=STARLINK-32713,STARLINK-35222,STARLINK-32567,STARLINK-31158,STARLINK-32330:  …"
      ]
     },
     "metadata": {},
     "output_type": "display_data"
    },
    {
     "data": {
      "application/vnd.jupyter.widget-view+json": {
       "model_id": "9e94242c66694b9eb12a123b7d4fcaa4",
       "version_major": 2,
       "version_minor": 0
      },
      "text/plain": [
       "BestResp | t#37/400 | k=1 | sats=STARLINK-34280:   0%|          | 0/200 [00:00<?, ?it/s]"
      ]
     },
     "metadata": {},
     "output_type": "display_data"
    },
    {
     "data": {
      "application/vnd.jupyter.widget-view+json": {
       "model_id": "25638584aa0c4813ae89e61371a223b4",
       "version_major": 2,
       "version_minor": 0
      },
      "text/plain": [
       "BestResp | t#37/400 | k=3 | sats=STARLINK-34280,STARLINK-34221,STARLINK-33613:   0%|          | 0/200 [00:00<?…"
      ]
     },
     "metadata": {},
     "output_type": "display_data"
    },
    {
     "data": {
      "application/vnd.jupyter.widget-view+json": {
       "model_id": "ac5549f2cc2f44269cf0c00e8ba9ddfc",
       "version_major": 2,
       "version_minor": 0
      },
      "text/plain": [
       "BestResp | t#37/400 | k=5 | sats=STARLINK-34280,STARLINK-34221,STARLINK-33613,STARLINK-34414,STARLINK-5239:   …"
      ]
     },
     "metadata": {},
     "output_type": "display_data"
    },
    {
     "data": {
      "application/vnd.jupyter.widget-view+json": {
       "model_id": "e95cd2c021a14a93aaa7c4da193c0011",
       "version_major": 2,
       "version_minor": 0
      },
      "text/plain": [
       "BestResp | t#38/400 | k=1 | sats=STARLINK-11590 [DTC]:   0%|          | 0/200 [00:00<?, ?it/s]"
      ]
     },
     "metadata": {},
     "output_type": "display_data"
    },
    {
     "data": {
      "application/vnd.jupyter.widget-view+json": {
       "model_id": "08858d4f344b48cfb06de593102dad86",
       "version_major": 2,
       "version_minor": 0
      },
      "text/plain": [
       "BestResp | t#38/400 | k=3 | sats=STARLINK-11590 [DTC],STARLINK-35137,STARLINK-11477 [DTC]:   0%|          | 0/…"
      ]
     },
     "metadata": {},
     "output_type": "display_data"
    },
    {
     "data": {
      "application/vnd.jupyter.widget-view+json": {
       "model_id": "d97c9a0d203242b6879249c08ee925ba",
       "version_major": 2,
       "version_minor": 0
      },
      "text/plain": [
       "BestResp | t#38/400 | k=5 | sats=STARLINK-11590 [DTC],STARLINK-35137,STARLINK-11477 [DTC],STARLINK-31217,STARL…"
      ]
     },
     "metadata": {},
     "output_type": "display_data"
    },
    {
     "data": {
      "application/vnd.jupyter.widget-view+json": {
       "model_id": "ec37e2c0fb8a486a9e0974510319201f",
       "version_major": 2,
       "version_minor": 0
      },
      "text/plain": [
       "BestResp | t#39/400 | k=1 | sats=STARLINK-11400 [DTC]:   0%|          | 0/200 [00:00<?, ?it/s]"
      ]
     },
     "metadata": {},
     "output_type": "display_data"
    },
    {
     "data": {
      "application/vnd.jupyter.widget-view+json": {
       "model_id": "7b800438eb534773bda8254f203e7dba",
       "version_major": 2,
       "version_minor": 0
      },
      "text/plain": [
       "BestResp | t#39/400 | k=3 | sats=STARLINK-11400 [DTC],STARLINK-32433,STARLINK-34222:   0%|          | 0/200 [0…"
      ]
     },
     "metadata": {},
     "output_type": "display_data"
    },
    {
     "data": {
      "application/vnd.jupyter.widget-view+json": {
       "model_id": "f1a33caa0b644426a3750d60862698c7",
       "version_major": 2,
       "version_minor": 0
      },
      "text/plain": [
       "BestResp | t#39/400 | k=5 | sats=STARLINK-11400 [DTC],STARLINK-32433,STARLINK-34222,STARLINK-32332,STARLINK-34…"
      ]
     },
     "metadata": {},
     "output_type": "display_data"
    },
    {
     "data": {
      "application/vnd.jupyter.widget-view+json": {
       "model_id": "5d369bd0e8a249d3bef376efa8584645",
       "version_major": 2,
       "version_minor": 0
      },
      "text/plain": [
       "BestResp | t#40/400 | k=1 | sats=STARLINK-11405 [DTC]:   0%|          | 0/200 [00:00<?, ?it/s]"
      ]
     },
     "metadata": {},
     "output_type": "display_data"
    },
    {
     "data": {
      "application/vnd.jupyter.widget-view+json": {
       "model_id": "f8f1e62d223547ee9717ae20cb564ebb",
       "version_major": 2,
       "version_minor": 0
      },
      "text/plain": [
       "BestResp | t#40/400 | k=3 | sats=STARLINK-11405 [DTC],STARLINK-34421,STARLINK-34191:   0%|          | 0/200 [0…"
      ]
     },
     "metadata": {},
     "output_type": "display_data"
    },
    {
     "data": {
      "application/vnd.jupyter.widget-view+json": {
       "model_id": "ceed0ecde45346b39f46aecff235af33",
       "version_major": 2,
       "version_minor": 0
      },
      "text/plain": [
       "BestResp | t#40/400 | k=5 | sats=STARLINK-11405 [DTC],STARLINK-34421,STARLINK-34191,STARLINK-32500,STARLINK-31…"
      ]
     },
     "metadata": {},
     "output_type": "display_data"
    },
    {
     "name": "stdout",
     "output_type": "stream",
     "text": [
      "[flush] wrote up to step 40\n"
     ]
    },
    {
     "data": {
      "application/vnd.jupyter.widget-view+json": {
       "model_id": "6fe7b0c9e0964d5e9e102d9298654f41",
       "version_major": 2,
       "version_minor": 0
      },
      "text/plain": [
       "BestResp | t#41/400 | k=1 | sats=STARLINK-11405 [DTC]:   0%|          | 0/200 [00:00<?, ?it/s]"
      ]
     },
     "metadata": {},
     "output_type": "display_data"
    },
    {
     "data": {
      "application/vnd.jupyter.widget-view+json": {
       "model_id": "0ca5e63bca0440068653ad6f035b0572",
       "version_major": 2,
       "version_minor": 0
      },
      "text/plain": [
       "BestResp | t#41/400 | k=3 | sats=STARLINK-11405 [DTC],STARLINK-31226,STARLINK-5228:   0%|          | 0/200 [00…"
      ]
     },
     "metadata": {},
     "output_type": "display_data"
    },
    {
     "data": {
      "application/vnd.jupyter.widget-view+json": {
       "model_id": "a9a8b08c907b4cbcab57f1dae9b324a2",
       "version_major": 2,
       "version_minor": 0
      },
      "text/plain": [
       "BestResp | t#41/400 | k=5 | sats=STARLINK-11405 [DTC],STARLINK-31226,STARLINK-5228,STARLINK-31658,STARLINK-300…"
      ]
     },
     "metadata": {},
     "output_type": "display_data"
    },
    {
     "data": {
      "application/vnd.jupyter.widget-view+json": {
       "model_id": "4d814e47b40042868ff2e791fb027c43",
       "version_major": 2,
       "version_minor": 0
      },
      "text/plain": [
       "BestResp | t#42/400 | k=1 | sats=STARLINK-11293 [DTC]:   0%|          | 0/200 [00:00<?, ?it/s]"
      ]
     },
     "metadata": {},
     "output_type": "display_data"
    },
    {
     "data": {
      "application/vnd.jupyter.widget-view+json": {
       "model_id": "fd49c4582b0c49e2a24b33e3660f4913",
       "version_major": 2,
       "version_minor": 0
      },
      "text/plain": [
       "BestResp | t#42/400 | k=3 | sats=STARLINK-11293 [DTC],STARLINK-32486,STARLINK-34795:   0%|          | 0/200 [0…"
      ]
     },
     "metadata": {},
     "output_type": "display_data"
    },
    {
     "data": {
      "application/vnd.jupyter.widget-view+json": {
       "model_id": "19fb9cf5670b466aabba388740faf8a1",
       "version_major": 2,
       "version_minor": 0
      },
      "text/plain": [
       "BestResp | t#42/400 | k=5 | sats=STARLINK-11293 [DTC],STARLINK-32486,STARLINK-34795,STARLINK-30556,STARLINK-34…"
      ]
     },
     "metadata": {},
     "output_type": "display_data"
    },
    {
     "data": {
      "application/vnd.jupyter.widget-view+json": {
       "model_id": "e12e667c455a4bd4bdedbd2cfe44c051",
       "version_major": 2,
       "version_minor": 0
      },
      "text/plain": [
       "BestResp | t#43/400 | k=1 | sats=STARLINK-33872:   0%|          | 0/200 [00:00<?, ?it/s]"
      ]
     },
     "metadata": {},
     "output_type": "display_data"
    },
    {
     "data": {
      "application/vnd.jupyter.widget-view+json": {
       "model_id": "72dad9539c404f4eaa7fd656fee03739",
       "version_major": 2,
       "version_minor": 0
      },
      "text/plain": [
       "BestResp | t#43/400 | k=3 | sats=STARLINK-33872,STARLINK-30995,STARLINK-31583:   0%|          | 0/200 [00:00<?…"
      ]
     },
     "metadata": {},
     "output_type": "display_data"
    },
    {
     "data": {
      "application/vnd.jupyter.widget-view+json": {
       "model_id": "b17d28aa72024495a7b0e6904e447edd",
       "version_major": 2,
       "version_minor": 0
      },
      "text/plain": [
       "BestResp | t#43/400 | k=5 | sats=STARLINK-33872,STARLINK-30995,STARLINK-31583,STARLINK-31947,STARLINK-30457:  …"
      ]
     },
     "metadata": {},
     "output_type": "display_data"
    },
    {
     "data": {
      "application/vnd.jupyter.widget-view+json": {
       "model_id": "387baf21477746d6a09e8ce434ba7b60",
       "version_major": 2,
       "version_minor": 0
      },
      "text/plain": [
       "BestResp | t#44/400 | k=1 | sats=STARLINK-11268 [DTC]:   0%|          | 0/200 [00:00<?, ?it/s]"
      ]
     },
     "metadata": {},
     "output_type": "display_data"
    },
    {
     "data": {
      "application/vnd.jupyter.widget-view+json": {
       "model_id": "82f2867500bf4724a69b8f8886394f1f",
       "version_major": 2,
       "version_minor": 0
      },
      "text/plain": [
       "BestResp | t#44/400 | k=3 | sats=STARLINK-11268 [DTC],STARLINK-34295,STARLINK-34599:   0%|          | 0/200 [0…"
      ]
     },
     "metadata": {},
     "output_type": "display_data"
    },
    {
     "data": {
      "application/vnd.jupyter.widget-view+json": {
       "model_id": "b1e87ef647274a48912735b8c630fa73",
       "version_major": 2,
       "version_minor": 0
      },
      "text/plain": [
       "BestResp | t#44/400 | k=5 | sats=STARLINK-11268 [DTC],STARLINK-34295,STARLINK-34599,STARLINK-32316,STARLINK-35…"
      ]
     },
     "metadata": {},
     "output_type": "display_data"
    },
    {
     "data": {
      "application/vnd.jupyter.widget-view+json": {
       "model_id": "eefd910c63884f559a480b9612aefa14",
       "version_major": 2,
       "version_minor": 0
      },
      "text/plain": [
       "BestResp | t#45/400 | k=1 | sats=STARLINK-11597 [DTC]:   0%|          | 0/200 [00:00<?, ?it/s]"
      ]
     },
     "metadata": {},
     "output_type": "display_data"
    },
    {
     "data": {
      "application/vnd.jupyter.widget-view+json": {
       "model_id": "d6ba5a886e314528bf0a58d067b918be",
       "version_major": 2,
       "version_minor": 0
      },
      "text/plain": [
       "BestResp | t#45/400 | k=3 | sats=STARLINK-11597 [DTC],STARLINK-34418,STARLINK-32685:   0%|          | 0/200 [0…"
      ]
     },
     "metadata": {},
     "output_type": "display_data"
    },
    {
     "data": {
      "application/vnd.jupyter.widget-view+json": {
       "model_id": "ce4c507e8cf64ec4869488a66d35c055",
       "version_major": 2,
       "version_minor": 0
      },
      "text/plain": [
       "BestResp | t#45/400 | k=5 | sats=STARLINK-11597 [DTC],STARLINK-34418,STARLINK-32685,STARLINK-4544,STARLINK-568…"
      ]
     },
     "metadata": {},
     "output_type": "display_data"
    },
    {
     "data": {
      "application/vnd.jupyter.widget-view+json": {
       "model_id": "a30080c5d4fc41d5a41314a99ea1d165",
       "version_major": 2,
       "version_minor": 0
      },
      "text/plain": [
       "BestResp | t#46/400 | k=1 | sats=STARLINK-32429:   0%|          | 0/200 [00:00<?, ?it/s]"
      ]
     },
     "metadata": {},
     "output_type": "display_data"
    },
    {
     "data": {
      "application/vnd.jupyter.widget-view+json": {
       "model_id": "5e990add0787429ba72b1645b9df8fc8",
       "version_major": 2,
       "version_minor": 0
      },
      "text/plain": [
       "BestResp | t#46/400 | k=3 | sats=STARLINK-32429,STARLINK-32391,STARLINK-34418:   0%|          | 0/200 [00:00<?…"
      ]
     },
     "metadata": {},
     "output_type": "display_data"
    },
    {
     "data": {
      "application/vnd.jupyter.widget-view+json": {
       "model_id": "d73a0e5d5c7d4f6abea223b96130082b",
       "version_major": 2,
       "version_minor": 0
      },
      "text/plain": [
       "BestResp | t#46/400 | k=5 | sats=STARLINK-32429,STARLINK-32391,STARLINK-34418,STARLINK-32685,STARLINK-32778:  …"
      ]
     },
     "metadata": {},
     "output_type": "display_data"
    },
    {
     "data": {
      "application/vnd.jupyter.widget-view+json": {
       "model_id": "715ba7d6856147cbb5c031a913e573ae",
       "version_major": 2,
       "version_minor": 0
      },
      "text/plain": [
       "BestResp | t#47/400 | k=1 | sats=STARLINK-11317 [DTC]:   0%|          | 0/200 [00:00<?, ?it/s]"
      ]
     },
     "metadata": {},
     "output_type": "display_data"
    },
    {
     "data": {
      "application/vnd.jupyter.widget-view+json": {
       "model_id": "071d1770e5f14e3f90de75844e320eb3",
       "version_major": 2,
       "version_minor": 0
      },
      "text/plain": [
       "BestResp | t#47/400 | k=3 | sats=STARLINK-11317 [DTC],STARLINK-32764,STARLINK-32328:   0%|          | 0/200 [0…"
      ]
     },
     "metadata": {},
     "output_type": "display_data"
    },
    {
     "data": {
      "application/vnd.jupyter.widget-view+json": {
       "model_id": "37cca5bc76f540b99d90335d13283a71",
       "version_major": 2,
       "version_minor": 0
      },
      "text/plain": [
       "BestResp | t#47/400 | k=5 | sats=STARLINK-11317 [DTC],STARLINK-32764,STARLINK-32328,STARLINK-32434,STARLINK-31…"
      ]
     },
     "metadata": {},
     "output_type": "display_data"
    },
    {
     "data": {
      "application/vnd.jupyter.widget-view+json": {
       "model_id": "5155ad35c2e4403b9357f9ace0abfa78",
       "version_major": 2,
       "version_minor": 0
      },
      "text/plain": [
       "BestResp | t#48/400 | k=1 | sats=STARLINK-11294 [DTC]:   0%|          | 0/200 [00:00<?, ?it/s]"
      ]
     },
     "metadata": {},
     "output_type": "display_data"
    },
    {
     "data": {
      "application/vnd.jupyter.widget-view+json": {
       "model_id": "59eef368ca7f41d6ad54dd0df1ba6672",
       "version_major": 2,
       "version_minor": 0
      },
      "text/plain": [
       "BestResp | t#48/400 | k=3 | sats=STARLINK-11294 [DTC],STARLINK-34715,STARLINK-34228:   0%|          | 0/200 [0…"
      ]
     },
     "metadata": {},
     "output_type": "display_data"
    },
    {
     "data": {
      "application/vnd.jupyter.widget-view+json": {
       "model_id": "2002455e97ea4712a578ef4320510fd9",
       "version_major": 2,
       "version_minor": 0
      },
      "text/plain": [
       "BestResp | t#48/400 | k=5 | sats=STARLINK-11294 [DTC],STARLINK-34715,STARLINK-34228,STARLINK-32744,STARLINK-45…"
      ]
     },
     "metadata": {},
     "output_type": "display_data"
    },
    {
     "data": {
      "application/vnd.jupyter.widget-view+json": {
       "model_id": "ecf677430d9f426db36cd54a2fdee79f",
       "version_major": 2,
       "version_minor": 0
      },
      "text/plain": [
       "BestResp | t#49/400 | k=1 | sats=STARLINK-11294 [DTC]:   0%|          | 0/200 [00:00<?, ?it/s]"
      ]
     },
     "metadata": {},
     "output_type": "display_data"
    },
    {
     "data": {
      "application/vnd.jupyter.widget-view+json": {
       "model_id": "a37e6a28dc3940d29b9076d25dc520f8",
       "version_major": 2,
       "version_minor": 0
      },
      "text/plain": [
       "BestResp | t#49/400 | k=3 | sats=STARLINK-11294 [DTC],STARLINK-34228,STARLINK-34715:   0%|          | 0/200 [0…"
      ]
     },
     "metadata": {},
     "output_type": "display_data"
    },
    {
     "data": {
      "application/vnd.jupyter.widget-view+json": {
       "model_id": "de38b25098fe4f0baf5b52ba07a094c2",
       "version_major": 2,
       "version_minor": 0
      },
      "text/plain": [
       "BestResp | t#49/400 | k=5 | sats=STARLINK-11294 [DTC],STARLINK-34228,STARLINK-34715,STARLINK-32744,STARLINK-45…"
      ]
     },
     "metadata": {},
     "output_type": "display_data"
    },
    {
     "data": {
      "application/vnd.jupyter.widget-view+json": {
       "model_id": "f296f1cfa4fa4809901ac7cac1a7081f",
       "version_major": 2,
       "version_minor": 0
      },
      "text/plain": [
       "BestResp | t#50/400 | k=1 | sats=STARLINK-11629 [DTC]:   0%|          | 0/200 [00:00<?, ?it/s]"
      ]
     },
     "metadata": {},
     "output_type": "display_data"
    },
    {
     "data": {
      "application/vnd.jupyter.widget-view+json": {
       "model_id": "4b16900ecfa34cf7b38c02270384302b",
       "version_major": 2,
       "version_minor": 0
      },
      "text/plain": [
       "BestResp | t#50/400 | k=3 | sats=STARLINK-11629 [DTC],STARLINK-34172,STARLINK-32483:   0%|          | 0/200 [0…"
      ]
     },
     "metadata": {},
     "output_type": "display_data"
    },
    {
     "data": {
      "application/vnd.jupyter.widget-view+json": {
       "model_id": "6c10dc930837483dad04cb8cdb013099",
       "version_major": 2,
       "version_minor": 0
      },
      "text/plain": [
       "BestResp | t#50/400 | k=5 | sats=STARLINK-11629 [DTC],STARLINK-34172,STARLINK-32483,STARLINK-34398,STARLINK-32…"
      ]
     },
     "metadata": {},
     "output_type": "display_data"
    },
    {
     "data": {
      "application/vnd.jupyter.widget-view+json": {
       "model_id": "ec3b8ff28e114e67b607f78cc38a5d37",
       "version_major": 2,
       "version_minor": 0
      },
      "text/plain": [
       "BestResp | t#51/400 | k=1 | sats=STARLINK-32326:   0%|          | 0/200 [00:00<?, ?it/s]"
      ]
     },
     "metadata": {},
     "output_type": "display_data"
    },
    {
     "data": {
      "application/vnd.jupyter.widget-view+json": {
       "model_id": "11df60eed7aa4e7584a9d90a9333b9ea",
       "version_major": 2,
       "version_minor": 0
      },
      "text/plain": [
       "BestResp | t#51/400 | k=3 | sats=STARLINK-32326,STARLINK-31453,STARLINK-5628:   0%|          | 0/200 [00:00<?,…"
      ]
     },
     "metadata": {},
     "output_type": "display_data"
    },
    {
     "data": {
      "application/vnd.jupyter.widget-view+json": {
       "model_id": "ed92836559b846e8be9c6d2c344e2114",
       "version_major": 2,
       "version_minor": 0
      },
      "text/plain": [
       "BestResp | t#51/400 | k=5 | sats=STARLINK-32326,STARLINK-31453,STARLINK-5628,STARLINK-34790,STARLINK-33716:   …"
      ]
     },
     "metadata": {},
     "output_type": "display_data"
    },
    {
     "data": {
      "application/vnd.jupyter.widget-view+json": {
       "model_id": "009e7b2590e647a1b5a310f318094380",
       "version_major": 2,
       "version_minor": 0
      },
      "text/plain": [
       "BestResp | t#52/400 | k=1 | sats=STARLINK-1010:   0%|          | 0/200 [00:00<?, ?it/s]"
      ]
     },
     "metadata": {},
     "output_type": "display_data"
    },
    {
     "data": {
      "application/vnd.jupyter.widget-view+json": {
       "model_id": "7d23c58b8e114951ad8ef47c47697cf5",
       "version_major": 2,
       "version_minor": 0
      },
      "text/plain": [
       "BestResp | t#52/400 | k=3 | sats=STARLINK-1010,STARLINK-31461,STARLINK-32750:   0%|          | 0/200 [00:00<?,…"
      ]
     },
     "metadata": {},
     "output_type": "display_data"
    },
    {
     "data": {
      "application/vnd.jupyter.widget-view+json": {
       "model_id": "aa6be66524f24fdb99ddbf4c55698597",
       "version_major": 2,
       "version_minor": 0
      },
      "text/plain": [
       "BestResp | t#52/400 | k=5 | sats=STARLINK-1010,STARLINK-31461,STARLINK-32750,STARLINK-33669,STARLINK-34433:   …"
      ]
     },
     "metadata": {},
     "output_type": "display_data"
    },
    {
     "data": {
      "application/vnd.jupyter.widget-view+json": {
       "model_id": "325cfd07502942f1bbc4524f25460d14",
       "version_major": 2,
       "version_minor": 0
      },
      "text/plain": [
       "BestResp | t#53/400 | k=1 | sats=STARLINK-11503 [DTC]:   0%|          | 0/200 [00:00<?, ?it/s]"
      ]
     },
     "metadata": {},
     "output_type": "display_data"
    },
    {
     "data": {
      "application/vnd.jupyter.widget-view+json": {
       "model_id": "fe7239045105442989849cc6357c604e",
       "version_major": 2,
       "version_minor": 0
      },
      "text/plain": [
       "BestResp | t#53/400 | k=3 | sats=STARLINK-11503 [DTC],STARLINK-11280 [DTC],STARLINK-33630:   0%|          | 0/…"
      ]
     },
     "metadata": {},
     "output_type": "display_data"
    },
    {
     "data": {
      "application/vnd.jupyter.widget-view+json": {
       "model_id": "a98854b5aa064a758a11fcda2dcab674",
       "version_major": 2,
       "version_minor": 0
      },
      "text/plain": [
       "BestResp | t#53/400 | k=5 | sats=STARLINK-11503 [DTC],STARLINK-11280 [DTC],STARLINK-33630,STARLINK-4186,STARLI…"
      ]
     },
     "metadata": {},
     "output_type": "display_data"
    },
    {
     "data": {
      "application/vnd.jupyter.widget-view+json": {
       "model_id": "6925286ddaaf48a9adb3eb33ef6431e9",
       "version_major": 2,
       "version_minor": 0
      },
      "text/plain": [
       "BestResp | t#54/400 | k=1 | sats=STARLINK-34248:   0%|          | 0/200 [00:00<?, ?it/s]"
      ]
     },
     "metadata": {},
     "output_type": "display_data"
    },
    {
     "data": {
      "application/vnd.jupyter.widget-view+json": {
       "model_id": "84fa4a8bff3248f08c8b1dc037a2e41f",
       "version_major": 2,
       "version_minor": 0
      },
      "text/plain": [
       "BestResp | t#54/400 | k=3 | sats=STARLINK-34248,STARLINK-34273,STARLINK-11448 [DTC]:   0%|          | 0/200 [0…"
      ]
     },
     "metadata": {},
     "output_type": "display_data"
    },
    {
     "data": {
      "application/vnd.jupyter.widget-view+json": {
       "model_id": "da6cca7fb5a84a54a2abb58e9e0e41b1",
       "version_major": 2,
       "version_minor": 0
      },
      "text/plain": [
       "BestResp | t#54/400 | k=5 | sats=STARLINK-34248,STARLINK-34273,STARLINK-11448 [DTC],STARLINK-1723,STARLINK-352…"
      ]
     },
     "metadata": {},
     "output_type": "display_data"
    },
    {
     "data": {
      "application/vnd.jupyter.widget-view+json": {
       "model_id": "1e793cdbe1b14ced9edb156a87396cca",
       "version_major": 2,
       "version_minor": 0
      },
      "text/plain": [
       "BestResp | t#55/400 | k=1 | sats=STARLINK-11704 [DTC]:   0%|          | 0/200 [00:00<?, ?it/s]"
      ]
     },
     "metadata": {},
     "output_type": "display_data"
    },
    {
     "data": {
      "application/vnd.jupyter.widget-view+json": {
       "model_id": "37bcc34652c649129a819e4918caa5b5",
       "version_major": 2,
       "version_minor": 0
      },
      "text/plain": [
       "BestResp | t#55/400 | k=3 | sats=STARLINK-11704 [DTC],STARLINK-31149,STARLINK-35290:   0%|          | 0/200 [0…"
      ]
     },
     "metadata": {},
     "output_type": "display_data"
    },
    {
     "data": {
      "application/vnd.jupyter.widget-view+json": {
       "model_id": "a005603ed396488b836dd8cce75f8934",
       "version_major": 2,
       "version_minor": 0
      },
      "text/plain": [
       "BestResp | t#55/400 | k=5 | sats=STARLINK-11704 [DTC],STARLINK-31149,STARLINK-35290,STARLINK-34282,STARLINK-31…"
      ]
     },
     "metadata": {},
     "output_type": "display_data"
    },
    {
     "data": {
      "application/vnd.jupyter.widget-view+json": {
       "model_id": "5cc1e0a031624d3ba5c9ee905e38c50a",
       "version_major": 2,
       "version_minor": 0
      },
      "text/plain": [
       "BestResp | t#56/400 | k=1 | sats=STARLINK-11704 [DTC]:   0%|          | 0/200 [00:00<?, ?it/s]"
      ]
     },
     "metadata": {},
     "output_type": "display_data"
    },
    {
     "data": {
      "application/vnd.jupyter.widget-view+json": {
       "model_id": "f3da7f41ff284714bfec71f9d90ed319",
       "version_major": 2,
       "version_minor": 0
      },
      "text/plain": [
       "BestResp | t#56/400 | k=3 | sats=STARLINK-11704 [DTC],STARLINK-31149,STARLINK-31290:   0%|          | 0/200 [0…"
      ]
     },
     "metadata": {},
     "output_type": "display_data"
    },
    {
     "data": {
      "application/vnd.jupyter.widget-view+json": {
       "model_id": "248cf46cb55f4a17a6c2b501efef6aa0",
       "version_major": 2,
       "version_minor": 0
      },
      "text/plain": [
       "BestResp | t#56/400 | k=5 | sats=STARLINK-11704 [DTC],STARLINK-31149,STARLINK-31290,STARLINK-35308,STARLINK-35…"
      ]
     },
     "metadata": {},
     "output_type": "display_data"
    },
    {
     "data": {
      "application/vnd.jupyter.widget-view+json": {
       "model_id": "a1eb630dab714029be495c70f52ef30a",
       "version_major": 2,
       "version_minor": 0
      },
      "text/plain": [
       "BestResp | t#57/400 | k=1 | sats=STARLINK-11308 [DTC]:   0%|          | 0/200 [00:00<?, ?it/s]"
      ]
     },
     "metadata": {},
     "output_type": "display_data"
    },
    {
     "data": {
      "application/vnd.jupyter.widget-view+json": {
       "model_id": "8cc7ab4037c3484d9758a06ab5d3736f",
       "version_major": 2,
       "version_minor": 0
      },
      "text/plain": [
       "BestResp | t#57/400 | k=3 | sats=STARLINK-11308 [DTC],STARLINK-31201,STARLINK-3895:   0%|          | 0/200 [00…"
      ]
     },
     "metadata": {},
     "output_type": "display_data"
    },
    {
     "data": {
      "application/vnd.jupyter.widget-view+json": {
       "model_id": "01d521bb1308461b987c5d046caee49c",
       "version_major": 2,
       "version_minor": 0
      },
      "text/plain": [
       "BestResp | t#57/400 | k=5 | sats=STARLINK-11308 [DTC],STARLINK-31201,STARLINK-3895,STARLINK-32725,STARLINK-301…"
      ]
     },
     "metadata": {},
     "output_type": "display_data"
    },
    {
     "data": {
      "application/vnd.jupyter.widget-view+json": {
       "model_id": "47d2294005704f3d9f021c26ec6e7e0e",
       "version_major": 2,
       "version_minor": 0
      },
      "text/plain": [
       "BestResp | t#58/400 | k=1 | sats=STARLINK-11691 [DTC]:   0%|          | 0/200 [00:00<?, ?it/s]"
      ]
     },
     "metadata": {},
     "output_type": "display_data"
    },
    {
     "data": {
      "application/vnd.jupyter.widget-view+json": {
       "model_id": "eb763996ff374599b44d3e1c25e430f9",
       "version_major": 2,
       "version_minor": 0
      },
      "text/plain": [
       "BestResp | t#58/400 | k=3 | sats=STARLINK-11691 [DTC],STARLINK-34183,STARLINK-32442:   0%|          | 0/200 [0…"
      ]
     },
     "metadata": {},
     "output_type": "display_data"
    },
    {
     "data": {
      "application/vnd.jupyter.widget-view+json": {
       "model_id": "cf9403d60cd644f898caa05fa6b7c15e",
       "version_major": 2,
       "version_minor": 0
      },
      "text/plain": [
       "BestResp | t#58/400 | k=5 | sats=STARLINK-11691 [DTC],STARLINK-34183,STARLINK-32442,STARLINK-31936,STARLINK-61…"
      ]
     },
     "metadata": {},
     "output_type": "display_data"
    },
    {
     "data": {
      "application/vnd.jupyter.widget-view+json": {
       "model_id": "0008373046544eb58080052506f34535",
       "version_major": 2,
       "version_minor": 0
      },
      "text/plain": [
       "BestResp | t#59/400 | k=1 | sats=STARLINK-11276 [DTC]:   0%|          | 0/200 [00:00<?, ?it/s]"
      ]
     },
     "metadata": {},
     "output_type": "display_data"
    },
    {
     "data": {
      "application/vnd.jupyter.widget-view+json": {
       "model_id": "700a48e1720840298737b641d6d305fd",
       "version_major": 2,
       "version_minor": 0
      },
      "text/plain": [
       "BestResp | t#59/400 | k=3 | sats=STARLINK-11276 [DTC],STARLINK-11601 [DTC],STARLINK-31549:   0%|          | 0/…"
      ]
     },
     "metadata": {},
     "output_type": "display_data"
    },
    {
     "data": {
      "application/vnd.jupyter.widget-view+json": {
       "model_id": "fdd467d66d3549ce96765ffac6e930de",
       "version_major": 2,
       "version_minor": 0
      },
      "text/plain": [
       "BestResp | t#59/400 | k=5 | sats=STARLINK-11276 [DTC],STARLINK-11601 [DTC],STARLINK-31549,STARLINK-30934,STARL…"
      ]
     },
     "metadata": {},
     "output_type": "display_data"
    },
    {
     "data": {
      "application/vnd.jupyter.widget-view+json": {
       "model_id": "696fc57748f345dca3f03790b0a68d4a",
       "version_major": 2,
       "version_minor": 0
      },
      "text/plain": [
       "BestResp | t#60/400 | k=1 | sats=STARLINK-11276 [DTC]:   0%|          | 0/200 [00:00<?, ?it/s]"
      ]
     },
     "metadata": {},
     "output_type": "display_data"
    },
    {
     "data": {
      "application/vnd.jupyter.widget-view+json": {
       "model_id": "fa9f4f73466b4d789d1762cd3b6f6c2b",
       "version_major": 2,
       "version_minor": 0
      },
      "text/plain": [
       "BestResp | t#60/400 | k=3 | sats=STARLINK-11276 [DTC],STARLINK-11601 [DTC],STARLINK-31549:   0%|          | 0/…"
      ]
     },
     "metadata": {},
     "output_type": "display_data"
    },
    {
     "data": {
      "application/vnd.jupyter.widget-view+json": {
       "model_id": "73ae94c6b799474aa34f5b4fa0324aa8",
       "version_major": 2,
       "version_minor": 0
      },
      "text/plain": [
       "BestResp | t#60/400 | k=5 | sats=STARLINK-11276 [DTC],STARLINK-11601 [DTC],STARLINK-31549,STARLINK-30934,STARL…"
      ]
     },
     "metadata": {},
     "output_type": "display_data"
    },
    {
     "name": "stdout",
     "output_type": "stream",
     "text": [
      "[flush] wrote up to step 60\n"
     ]
    },
    {
     "data": {
      "application/vnd.jupyter.widget-view+json": {
       "model_id": "02f4ec24f10c41b2ac2e37e4b3dc3271",
       "version_major": 2,
       "version_minor": 0
      },
      "text/plain": [
       "BestResp | t#61/400 | k=1 | sats=STARLINK-11276 [DTC]:   0%|          | 0/200 [00:00<?, ?it/s]"
      ]
     },
     "metadata": {},
     "output_type": "display_data"
    },
    {
     "data": {
      "application/vnd.jupyter.widget-view+json": {
       "model_id": "20dde17fdcb649c7a45966a7d4955569",
       "version_major": 2,
       "version_minor": 0
      },
      "text/plain": [
       "BestResp | t#61/400 | k=3 | sats=STARLINK-11276 [DTC],STARLINK-11601 [DTC],STARLINK-31549:   0%|          | 0/…"
      ]
     },
     "metadata": {},
     "output_type": "display_data"
    },
    {
     "data": {
      "application/vnd.jupyter.widget-view+json": {
       "model_id": "38553450d4b04e839f4cff45fa414665",
       "version_major": 2,
       "version_minor": 0
      },
      "text/plain": [
       "BestResp | t#61/400 | k=5 | sats=STARLINK-11276 [DTC],STARLINK-11601 [DTC],STARLINK-31549,STARLINK-30934,STARL…"
      ]
     },
     "metadata": {},
     "output_type": "display_data"
    },
    {
     "data": {
      "application/vnd.jupyter.widget-view+json": {
       "model_id": "ae73582ff5094f37b99f7b5e95cf2d9c",
       "version_major": 2,
       "version_minor": 0
      },
      "text/plain": [
       "BestResp | t#62/400 | k=1 | sats=STARLINK-32511:   0%|          | 0/200 [00:00<?, ?it/s]"
      ]
     },
     "metadata": {},
     "output_type": "display_data"
    },
    {
     "data": {
      "application/vnd.jupyter.widget-view+json": {
       "model_id": "1295de984a1e4d94b846c92c850e89f1",
       "version_major": 2,
       "version_minor": 0
      },
      "text/plain": [
       "BestResp | t#62/400 | k=3 | sats=STARLINK-32511,STARLINK-1657,STARLINK-30934:   0%|          | 0/200 [00:00<?,…"
      ]
     },
     "metadata": {},
     "output_type": "display_data"
    },
    {
     "data": {
      "application/vnd.jupyter.widget-view+json": {
       "model_id": "2673e5caad0f4968a91265049e8160e8",
       "version_major": 2,
       "version_minor": 0
      },
      "text/plain": [
       "BestResp | t#62/400 | k=5 | sats=STARLINK-32511,STARLINK-1657,STARLINK-30934,STARLINK-34712,STARLINK-31919:   …"
      ]
     },
     "metadata": {},
     "output_type": "display_data"
    },
    {
     "data": {
      "application/vnd.jupyter.widget-view+json": {
       "model_id": "16137927dd5949fd9eb96640c8b14a35",
       "version_major": 2,
       "version_minor": 0
      },
      "text/plain": [
       "BestResp | t#63/400 | k=1 | sats=STARLINK-32511:   0%|          | 0/200 [00:00<?, ?it/s]"
      ]
     },
     "metadata": {},
     "output_type": "display_data"
    },
    {
     "data": {
      "application/vnd.jupyter.widget-view+json": {
       "model_id": "e6cdfcc9da514083b0c9921177c97905",
       "version_major": 2,
       "version_minor": 0
      },
      "text/plain": [
       "BestResp | t#63/400 | k=3 | sats=STARLINK-32511,STARLINK-1657,STARLINK-34712:   0%|          | 0/200 [00:00<?,…"
      ]
     },
     "metadata": {},
     "output_type": "display_data"
    },
    {
     "data": {
      "application/vnd.jupyter.widget-view+json": {
       "model_id": "1edfbcfb2e214b618bc8bffbab8a850a",
       "version_major": 2,
       "version_minor": 0
      },
      "text/plain": [
       "BestResp | t#63/400 | k=5 | sats=STARLINK-32511,STARLINK-1657,STARLINK-34712,STARLINK-30934,STARLINK-6146:   0…"
      ]
     },
     "metadata": {},
     "output_type": "display_data"
    },
    {
     "data": {
      "application/vnd.jupyter.widget-view+json": {
       "model_id": "55adf1d868db4c078981bce636d21724",
       "version_major": 2,
       "version_minor": 0
      },
      "text/plain": [
       "BestResp | t#64/400 | k=1 | sats=STARLINK-32440:   0%|          | 0/200 [00:00<?, ?it/s]"
      ]
     },
     "metadata": {},
     "output_type": "display_data"
    },
    {
     "data": {
      "application/vnd.jupyter.widget-view+json": {
       "model_id": "e24582467d954526bcecbe4fc4311a65",
       "version_major": 2,
       "version_minor": 0
      },
      "text/plain": [
       "BestResp | t#64/400 | k=3 | sats=STARLINK-32440,STARLINK-31237,STARLINK-31413:   0%|          | 0/200 [00:00<?…"
      ]
     },
     "metadata": {},
     "output_type": "display_data"
    },
    {
     "data": {
      "application/vnd.jupyter.widget-view+json": {
       "model_id": "68a3fdbfb3494be084da25b2b96424de",
       "version_major": 2,
       "version_minor": 0
      },
      "text/plain": [
       "BestResp | t#64/400 | k=5 | sats=STARLINK-32440,STARLINK-31237,STARLINK-31413,STARLINK-33639,STARLINK-30501:  …"
      ]
     },
     "metadata": {},
     "output_type": "display_data"
    },
    {
     "data": {
      "application/vnd.jupyter.widget-view+json": {
       "model_id": "5cdab6ee2dfd432daeb3927ed36604a6",
       "version_major": 2,
       "version_minor": 0
      },
      "text/plain": [
       "BestResp | t#65/400 | k=1 | sats=STARLINK-32440:   0%|          | 0/200 [00:00<?, ?it/s]"
      ]
     },
     "metadata": {},
     "output_type": "display_data"
    },
    {
     "data": {
      "application/vnd.jupyter.widget-view+json": {
       "model_id": "3afa36c631684aabb84523c3d5af9d25",
       "version_major": 2,
       "version_minor": 0
      },
      "text/plain": [
       "BestResp | t#65/400 | k=3 | sats=STARLINK-32440,STARLINK-31237,STARLINK-31413:   0%|          | 0/200 [00:00<?…"
      ]
     },
     "metadata": {},
     "output_type": "display_data"
    },
    {
     "data": {
      "application/vnd.jupyter.widget-view+json": {
       "model_id": "bfdbb75cec3147f4bf35947c188f35a6",
       "version_major": 2,
       "version_minor": 0
      },
      "text/plain": [
       "BestResp | t#65/400 | k=5 | sats=STARLINK-32440,STARLINK-31237,STARLINK-31413,STARLINK-33639,STARLINK-30501:  …"
      ]
     },
     "metadata": {},
     "output_type": "display_data"
    },
    {
     "data": {
      "application/vnd.jupyter.widget-view+json": {
       "model_id": "be2ec567c39f42e590c3e116cfd89d6e",
       "version_major": 2,
       "version_minor": 0
      },
      "text/plain": [
       "BestResp | t#66/400 | k=1 | sats=STARLINK-11088 [DTC]:   0%|          | 0/200 [00:00<?, ?it/s]"
      ]
     },
     "metadata": {},
     "output_type": "display_data"
    },
    {
     "data": {
      "application/vnd.jupyter.widget-view+json": {
       "model_id": "cb7bdb5ea19b4c9193d58fcdc0010434",
       "version_major": 2,
       "version_minor": 0
      },
      "text/plain": [
       "BestResp | t#66/400 | k=3 | sats=STARLINK-11088 [DTC],STARLINK-32408,STARLINK-31237:   0%|          | 0/200 [0…"
      ]
     },
     "metadata": {},
     "output_type": "display_data"
    },
    {
     "data": {
      "application/vnd.jupyter.widget-view+json": {
       "model_id": "597a957a0dd84cf39bda96959e65b423",
       "version_major": 2,
       "version_minor": 0
      },
      "text/plain": [
       "BestResp | t#66/400 | k=5 | sats=STARLINK-11088 [DTC],STARLINK-32408,STARLINK-31237,STARLINK-1564,STARLINK-324…"
      ]
     },
     "metadata": {},
     "output_type": "display_data"
    },
    {
     "data": {
      "application/vnd.jupyter.widget-view+json": {
       "model_id": "9f6d5ca5b6a44ab5a041aa913db9ac12",
       "version_major": 2,
       "version_minor": 0
      },
      "text/plain": [
       "BestResp | t#67/400 | k=1 | sats=STARLINK-32509:   0%|          | 0/200 [00:00<?, ?it/s]"
      ]
     },
     "metadata": {},
     "output_type": "display_data"
    },
    {
     "data": {
      "application/vnd.jupyter.widget-view+json": {
       "model_id": "6e81a4100d5d431d981e3f10857e3894",
       "version_major": 2,
       "version_minor": 0
      },
      "text/plain": [
       "BestResp | t#67/400 | k=3 | sats=STARLINK-32509,STARLINK-3643,STARLINK-33765:   0%|          | 0/200 [00:00<?,…"
      ]
     },
     "metadata": {},
     "output_type": "display_data"
    },
    {
     "data": {
      "application/vnd.jupyter.widget-view+json": {
       "model_id": "66f7873d7b674cb998fd9d14b07bd587",
       "version_major": 2,
       "version_minor": 0
      },
      "text/plain": [
       "BestResp | t#67/400 | k=5 | sats=STARLINK-32509,STARLINK-3643,STARLINK-33765,STARLINK-31724,STARLINK-5371:   0…"
      ]
     },
     "metadata": {},
     "output_type": "display_data"
    },
    {
     "data": {
      "application/vnd.jupyter.widget-view+json": {
       "model_id": "2ca4e58cb4ed4b4d98f1bb32d1e645b9",
       "version_major": 2,
       "version_minor": 0
      },
      "text/plain": [
       "BestResp | t#68/400 | k=1 | sats=STARLINK-11587 [DTC]:   0%|          | 0/200 [00:00<?, ?it/s]"
      ]
     },
     "metadata": {},
     "output_type": "display_data"
    },
    {
     "data": {
      "application/vnd.jupyter.widget-view+json": {
       "model_id": "e4c0fb48eb6344b09136af063c2ce1d0",
       "version_major": 2,
       "version_minor": 0
      },
      "text/plain": [
       "BestResp | t#68/400 | k=3 | sats=STARLINK-11587 [DTC],STARLINK-30927,STARLINK-31428:   0%|          | 0/200 [0…"
      ]
     },
     "metadata": {},
     "output_type": "display_data"
    },
    {
     "data": {
      "application/vnd.jupyter.widget-view+json": {
       "model_id": "1f3e81aca2594b7e826aed19926064f2",
       "version_major": 2,
       "version_minor": 0
      },
      "text/plain": [
       "BestResp | t#68/400 | k=5 | sats=STARLINK-11587 [DTC],STARLINK-30927,STARLINK-31428,STARLINK-31214,STARLINK-32…"
      ]
     },
     "metadata": {},
     "output_type": "display_data"
    },
    {
     "data": {
      "application/vnd.jupyter.widget-view+json": {
       "model_id": "535b466fe2b24bf58961cedd16fe0b81",
       "version_major": 2,
       "version_minor": 0
      },
      "text/plain": [
       "BestResp | t#69/400 | k=1 | sats=STARLINK-11611 [DTC]:   0%|          | 0/200 [00:00<?, ?it/s]"
      ]
     },
     "metadata": {},
     "output_type": "display_data"
    },
    {
     "data": {
      "application/vnd.jupyter.widget-view+json": {
       "model_id": "5fc4fb0d2d094121832cbe9ca2b42a97",
       "version_major": 2,
       "version_minor": 0
      },
      "text/plain": [
       "BestResp | t#69/400 | k=3 | sats=STARLINK-11611 [DTC],STARLINK-11449 [DTC],STARLINK-11467 [DTC]:   0%|        …"
      ]
     },
     "metadata": {},
     "output_type": "display_data"
    },
    {
     "data": {
      "application/vnd.jupyter.widget-view+json": {
       "model_id": "cef2348cd7444a8f9b11f52f9aa55793",
       "version_major": 2,
       "version_minor": 0
      },
      "text/plain": [
       "BestResp | t#69/400 | k=5 | sats=STARLINK-11611 [DTC],STARLINK-11449 [DTC],STARLINK-11467 [DTC],STARLINK-31198…"
      ]
     },
     "metadata": {},
     "output_type": "display_data"
    },
    {
     "data": {
      "application/vnd.jupyter.widget-view+json": {
       "model_id": "6daadda4b5f14b5799b27204b3eeee80",
       "version_major": 2,
       "version_minor": 0
      },
      "text/plain": [
       "BestResp | t#70/400 | k=1 | sats=STARLINK-11589 [DTC]:   0%|          | 0/200 [00:00<?, ?it/s]"
      ]
     },
     "metadata": {},
     "output_type": "display_data"
    },
    {
     "data": {
      "application/vnd.jupyter.widget-view+json": {
       "model_id": "434d95efb6c34acabd1d47ebc5486efc",
       "version_major": 2,
       "version_minor": 0
      },
      "text/plain": [
       "BestResp | t#70/400 | k=3 | sats=STARLINK-11589 [DTC],STARLINK-30994,STARLINK-32494:   0%|          | 0/200 [0…"
      ]
     },
     "metadata": {},
     "output_type": "display_data"
    },
    {
     "data": {
      "application/vnd.jupyter.widget-view+json": {
       "model_id": "0f91a7d38b0041afa8c1865f93ed4083",
       "version_major": 2,
       "version_minor": 0
      },
      "text/plain": [
       "BestResp | t#70/400 | k=5 | sats=STARLINK-11589 [DTC],STARLINK-30994,STARLINK-32494,STARLINK-32615,STARLINK-27…"
      ]
     },
     "metadata": {},
     "output_type": "display_data"
    },
    {
     "data": {
      "application/vnd.jupyter.widget-view+json": {
       "model_id": "c3b9c458f3f54057aa1cfb7654041a9d",
       "version_major": 2,
       "version_minor": 0
      },
      "text/plain": [
       "BestResp | t#71/400 | k=1 | sats=STARLINK-11589 [DTC]:   0%|          | 0/200 [00:00<?, ?it/s]"
      ]
     },
     "metadata": {},
     "output_type": "display_data"
    },
    {
     "data": {
      "application/vnd.jupyter.widget-view+json": {
       "model_id": "e0ad682c21e2466280593317d40f6e44",
       "version_major": 2,
       "version_minor": 0
      },
      "text/plain": [
       "BestResp | t#71/400 | k=3 | sats=STARLINK-11589 [DTC],STARLINK-11675 [DTC],STARLINK-30228:   0%|          | 0/…"
      ]
     },
     "metadata": {},
     "output_type": "display_data"
    },
    {
     "data": {
      "application/vnd.jupyter.widget-view+json": {
       "model_id": "2beda101e21c4737a54e229b08befe79",
       "version_major": 2,
       "version_minor": 0
      },
      "text/plain": [
       "BestResp | t#71/400 | k=5 | sats=STARLINK-11589 [DTC],STARLINK-11675 [DTC],STARLINK-30228,STARLINK-32494,STARL…"
      ]
     },
     "metadata": {},
     "output_type": "display_data"
    },
    {
     "data": {
      "application/vnd.jupyter.widget-view+json": {
       "model_id": "6efea166a72b4242b94b73e43e8dac14",
       "version_major": 2,
       "version_minor": 0
      },
      "text/plain": [
       "BestResp | t#72/400 | k=1 | sats=STARLINK-11107 [DTC]:   0%|          | 0/200 [00:00<?, ?it/s]"
      ]
     },
     "metadata": {},
     "output_type": "display_data"
    },
    {
     "data": {
      "application/vnd.jupyter.widget-view+json": {
       "model_id": "a209f7c7eb57490e863513928795a860",
       "version_major": 2,
       "version_minor": 0
      },
      "text/plain": [
       "BestResp | t#72/400 | k=3 | sats=STARLINK-11107 [DTC],STARLINK-11675 [DTC],STARLINK-30228:   0%|          | 0/…"
      ]
     },
     "metadata": {},
     "output_type": "display_data"
    },
    {
     "data": {
      "application/vnd.jupyter.widget-view+json": {
       "model_id": "f671eec32b374a8eb802dee49bdf1d2f",
       "version_major": 2,
       "version_minor": 0
      },
      "text/plain": [
       "BestResp | t#72/400 | k=5 | sats=STARLINK-11107 [DTC],STARLINK-11675 [DTC],STARLINK-30228,STARLINK-11459 [DTC]…"
      ]
     },
     "metadata": {},
     "output_type": "display_data"
    },
    {
     "data": {
      "application/vnd.jupyter.widget-view+json": {
       "model_id": "470ad783cca7448d92b7dd3bacc091b9",
       "version_major": 2,
       "version_minor": 0
      },
      "text/plain": [
       "BestResp | t#73/400 | k=1 | sats=STARLINK-11628 [DTC]:   0%|          | 0/200 [00:00<?, ?it/s]"
      ]
     },
     "metadata": {},
     "output_type": "display_data"
    },
    {
     "data": {
      "application/vnd.jupyter.widget-view+json": {
       "model_id": "6460c44d3f73494d93dfac2b04659992",
       "version_major": 2,
       "version_minor": 0
      },
      "text/plain": [
       "BestResp | t#73/400 | k=3 | sats=STARLINK-11628 [DTC],STARLINK-30898,STARLINK-32344:   0%|          | 0/200 [0…"
      ]
     },
     "metadata": {},
     "output_type": "display_data"
    },
    {
     "data": {
      "application/vnd.jupyter.widget-view+json": {
       "model_id": "58f0568142e243c7aa289b3ca05a5e35",
       "version_major": 2,
       "version_minor": 0
      },
      "text/plain": [
       "BestResp | t#73/400 | k=5 | sats=STARLINK-11628 [DTC],STARLINK-30898,STARLINK-32344,STARLINK-31452,STARLINK-32…"
      ]
     },
     "metadata": {},
     "output_type": "display_data"
    },
    {
     "data": {
      "application/vnd.jupyter.widget-view+json": {
       "model_id": "6fd60b32fa3c461bae14c4036f565808",
       "version_major": 2,
       "version_minor": 0
      },
      "text/plain": [
       "BestResp | t#74/400 | k=1 | sats=STARLINK-32404:   0%|          | 0/200 [00:00<?, ?it/s]"
      ]
     },
     "metadata": {},
     "output_type": "display_data"
    },
    {
     "data": {
      "application/vnd.jupyter.widget-view+json": {
       "model_id": "51fdb3a875424047ac9e778042b06d1d",
       "version_major": 2,
       "version_minor": 0
      },
      "text/plain": [
       "BestResp | t#74/400 | k=3 | sats=STARLINK-32404,STARLINK-30550,STARLINK-30495:   0%|          | 0/200 [00:00<?…"
      ]
     },
     "metadata": {},
     "output_type": "display_data"
    },
    {
     "data": {
      "application/vnd.jupyter.widget-view+json": {
       "model_id": "6c132f5572fd491ca94200e269b8510c",
       "version_major": 2,
       "version_minor": 0
      },
      "text/plain": [
       "BestResp | t#74/400 | k=5 | sats=STARLINK-32404,STARLINK-30550,STARLINK-30495,STARLINK-31404,STARLINK-31244:  …"
      ]
     },
     "metadata": {},
     "output_type": "display_data"
    },
    {
     "data": {
      "application/vnd.jupyter.widget-view+json": {
       "model_id": "b3932969620349bc920d1bafd7c7297e",
       "version_major": 2,
       "version_minor": 0
      },
      "text/plain": [
       "BestResp | t#75/400 | k=1 | sats=STARLINK-11568 [DTC]:   0%|          | 0/200 [00:00<?, ?it/s]"
      ]
     },
     "metadata": {},
     "output_type": "display_data"
    },
    {
     "data": {
      "application/vnd.jupyter.widget-view+json": {
       "model_id": "53ba2f1425064a7da8e24d0ac5b483a6",
       "version_major": 2,
       "version_minor": 0
      },
      "text/plain": [
       "BestResp | t#75/400 | k=3 | sats=STARLINK-11568 [DTC],STARLINK-11103 [DTC],STARLINK-31265:   0%|          | 0/…"
      ]
     },
     "metadata": {},
     "output_type": "display_data"
    },
    {
     "data": {
      "application/vnd.jupyter.widget-view+json": {
       "model_id": "fdfe854cba3c4a4e96e3f8a3012a3089",
       "version_major": 2,
       "version_minor": 0
      },
      "text/plain": [
       "BestResp | t#75/400 | k=5 | sats=STARLINK-11568 [DTC],STARLINK-11103 [DTC],STARLINK-31265,STARLINK-34256,STARL…"
      ]
     },
     "metadata": {},
     "output_type": "display_data"
    },
    {
     "data": {
      "application/vnd.jupyter.widget-view+json": {
       "model_id": "851c25da022541d58e66e8e5e989476f",
       "version_major": 2,
       "version_minor": 0
      },
      "text/plain": [
       "BestResp | t#76/400 | k=1 | sats=STARLINK-11710 [DTC]:   0%|          | 0/200 [00:00<?, ?it/s]"
      ]
     },
     "metadata": {},
     "output_type": "display_data"
    },
    {
     "data": {
      "application/vnd.jupyter.widget-view+json": {
       "model_id": "194bfff1bc7d414d86c09fe19d1b5114",
       "version_major": 2,
       "version_minor": 0
      },
      "text/plain": [
       "BestResp | t#76/400 | k=3 | sats=STARLINK-11710 [DTC],STARLINK-30190,STARLINK-33766:   0%|          | 0/200 [0…"
      ]
     },
     "metadata": {},
     "output_type": "display_data"
    },
    {
     "data": {
      "application/vnd.jupyter.widget-view+json": {
       "model_id": "1b490f9c7b674a26adcd8445c454f782",
       "version_major": 2,
       "version_minor": 0
      },
      "text/plain": [
       "BestResp | t#76/400 | k=5 | sats=STARLINK-11710 [DTC],STARLINK-30190,STARLINK-33766,STARLINK-31509,STARLINK-55…"
      ]
     },
     "metadata": {},
     "output_type": "display_data"
    },
    {
     "data": {
      "application/vnd.jupyter.widget-view+json": {
       "model_id": "b2fab0bacb234dd88a2c939e43160afc",
       "version_major": 2,
       "version_minor": 0
      },
      "text/plain": [
       "BestResp | t#77/400 | k=1 | sats=STARLINK-11429 [DTC]:   0%|          | 0/200 [00:00<?, ?it/s]"
      ]
     },
     "metadata": {},
     "output_type": "display_data"
    },
    {
     "data": {
      "application/vnd.jupyter.widget-view+json": {
       "model_id": "558acf6ef30548ab8f2bba6abb728b61",
       "version_major": 2,
       "version_minor": 0
      },
      "text/plain": [
       "BestResp | t#77/400 | k=3 | sats=STARLINK-11429 [DTC],STARLINK-11502 [DTC],STARLINK-31416:   0%|          | 0/…"
      ]
     },
     "metadata": {},
     "output_type": "display_data"
    },
    {
     "data": {
      "application/vnd.jupyter.widget-view+json": {
       "model_id": "eea8fc9f94bc42c19635074ad815881a",
       "version_major": 2,
       "version_minor": 0
      },
      "text/plain": [
       "BestResp | t#77/400 | k=5 | sats=STARLINK-11429 [DTC],STARLINK-11502 [DTC],STARLINK-31416,STARLINK-3858,STARLI…"
      ]
     },
     "metadata": {},
     "output_type": "display_data"
    },
    {
     "data": {
      "application/vnd.jupyter.widget-view+json": {
       "model_id": "a575249d6c4946f79ca26f15de70ebc9",
       "version_major": 2,
       "version_minor": 0
      },
      "text/plain": [
       "BestResp | t#78/400 | k=1 | sats=STARLINK-11670 [DTC]:   0%|          | 0/200 [00:00<?, ?it/s]"
      ]
     },
     "metadata": {},
     "output_type": "display_data"
    },
    {
     "data": {
      "application/vnd.jupyter.widget-view+json": {
       "model_id": "725af0cbbf7c48bfa0137d101edcb66d",
       "version_major": 2,
       "version_minor": 0
      },
      "text/plain": [
       "BestResp | t#78/400 | k=3 | sats=STARLINK-11670 [DTC],STARLINK-11593 [DTC],STARLINK-31555:   0%|          | 0/…"
      ]
     },
     "metadata": {},
     "output_type": "display_data"
    },
    {
     "data": {
      "application/vnd.jupyter.widget-view+json": {
       "model_id": "6df32ff84891456f8b6e0d37ef822bf5",
       "version_major": 2,
       "version_minor": 0
      },
      "text/plain": [
       "BestResp | t#78/400 | k=5 | sats=STARLINK-11670 [DTC],STARLINK-11593 [DTC],STARLINK-31555,STARLINK-31274,STARL…"
      ]
     },
     "metadata": {},
     "output_type": "display_data"
    },
    {
     "data": {
      "application/vnd.jupyter.widget-view+json": {
       "model_id": "97542ab410904b35ad8f59c9e37002fa",
       "version_major": 2,
       "version_minor": 0
      },
      "text/plain": [
       "BestResp | t#79/400 | k=1 | sats=STARLINK-11686 [DTC]:   0%|          | 0/200 [00:00<?, ?it/s]"
      ]
     },
     "metadata": {},
     "output_type": "display_data"
    },
    {
     "data": {
      "application/vnd.jupyter.widget-view+json": {
       "model_id": "82cf6c698a6d43f3abe374926beffab4",
       "version_major": 2,
       "version_minor": 0
      },
      "text/plain": [
       "BestResp | t#79/400 | k=3 | sats=STARLINK-11686 [DTC],STARLINK-11670 [DTC],STARLINK-33651:   0%|          | 0/…"
      ]
     },
     "metadata": {},
     "output_type": "display_data"
    },
    {
     "data": {
      "application/vnd.jupyter.widget-view+json": {
       "model_id": "352c77f8c42a4bbf9ff2a45dca2b3026",
       "version_major": 2,
       "version_minor": 0
      },
      "text/plain": [
       "BestResp | t#79/400 | k=5 | sats=STARLINK-11686 [DTC],STARLINK-11670 [DTC],STARLINK-33651,STARLINK-5665,STARLI…"
      ]
     },
     "metadata": {},
     "output_type": "display_data"
    },
    {
     "data": {
      "application/vnd.jupyter.widget-view+json": {
       "model_id": "4e2f949616bd4987997f3dce131a1500",
       "version_major": 2,
       "version_minor": 0
      },
      "text/plain": [
       "BestResp | t#80/400 | k=1 | sats=STARLINK-31560:   0%|          | 0/200 [00:00<?, ?it/s]"
      ]
     },
     "metadata": {},
     "output_type": "display_data"
    },
    {
     "data": {
      "application/vnd.jupyter.widget-view+json": {
       "model_id": "fd9527876d78441090e77c120538376d",
       "version_major": 2,
       "version_minor": 0
      },
      "text/plain": [
       "BestResp | t#80/400 | k=3 | sats=STARLINK-31560,STARLINK-32950,STARLINK-32598:   0%|          | 0/200 [00:00<?…"
      ]
     },
     "metadata": {},
     "output_type": "display_data"
    },
    {
     "data": {
      "application/vnd.jupyter.widget-view+json": {
       "model_id": "51b5534d3d854fcf89b5628e2e39d0bc",
       "version_major": 2,
       "version_minor": 0
      },
      "text/plain": [
       "BestResp | t#80/400 | k=5 | sats=STARLINK-31560,STARLINK-32950,STARLINK-32598,STARLINK-5445,STARLINK-2105:   0…"
      ]
     },
     "metadata": {},
     "output_type": "display_data"
    },
    {
     "name": "stdout",
     "output_type": "stream",
     "text": [
      "[flush] wrote up to step 80\n"
     ]
    },
    {
     "data": {
      "application/vnd.jupyter.widget-view+json": {
       "model_id": "27649789032b49248bc8ceea4161e3e2",
       "version_major": 2,
       "version_minor": 0
      },
      "text/plain": [
       "BestResp | t#81/400 | k=1 | sats=STARLINK-11708 [DTC]:   0%|          | 0/200 [00:00<?, ?it/s]"
      ]
     },
     "metadata": {},
     "output_type": "display_data"
    },
    {
     "data": {
      "application/vnd.jupyter.widget-view+json": {
       "model_id": "6d0db847bc674cd587f5099a41270e24",
       "version_major": 2,
       "version_minor": 0
      },
      "text/plain": [
       "BestResp | t#81/400 | k=3 | sats=STARLINK-11708 [DTC],STARLINK-31261,STARLINK-32592:   0%|          | 0/200 [0…"
      ]
     },
     "metadata": {},
     "output_type": "display_data"
    },
    {
     "data": {
      "application/vnd.jupyter.widget-view+json": {
       "model_id": "5914804cd0ae479b96271845515e5060",
       "version_major": 2,
       "version_minor": 0
      },
      "text/plain": [
       "BestResp | t#81/400 | k=5 | sats=STARLINK-11708 [DTC],STARLINK-31261,STARLINK-32592,STARLINK-30843,STARLINK-30…"
      ]
     },
     "metadata": {},
     "output_type": "display_data"
    },
    {
     "data": {
      "application/vnd.jupyter.widget-view+json": {
       "model_id": "42a8065b0e744f44a4deb4fcf304581c",
       "version_major": 2,
       "version_minor": 0
      },
      "text/plain": [
       "BestResp | t#82/400 | k=1 | sats=STARLINK-32653:   0%|          | 0/200 [00:00<?, ?it/s]"
      ]
     },
     "metadata": {},
     "output_type": "display_data"
    },
    {
     "data": {
      "application/vnd.jupyter.widget-view+json": {
       "model_id": "8b9bc48e1a43445d915a373816144b5d",
       "version_major": 2,
       "version_minor": 0
      },
      "text/plain": [
       "BestResp | t#82/400 | k=3 | sats=STARLINK-32653,STARLINK-33752,STARLINK-2116:   0%|          | 0/200 [00:00<?,…"
      ]
     },
     "metadata": {},
     "output_type": "display_data"
    },
    {
     "data": {
      "application/vnd.jupyter.widget-view+json": {
       "model_id": "168c97d54ba84f6384f749de14474b9c",
       "version_major": 2,
       "version_minor": 0
      },
      "text/plain": [
       "BestResp | t#82/400 | k=5 | sats=STARLINK-32653,STARLINK-33752,STARLINK-2116,STARLINK-34215,STARLINK-30953:   …"
      ]
     },
     "metadata": {},
     "output_type": "display_data"
    },
    {
     "data": {
      "application/vnd.jupyter.widget-view+json": {
       "model_id": "bad1087a74cd46acab8194b079ec0f11",
       "version_major": 2,
       "version_minor": 0
      },
      "text/plain": [
       "BestResp | t#83/400 | k=1 | sats=STARLINK-11588 [DTC]:   0%|          | 0/200 [00:00<?, ?it/s]"
      ]
     },
     "metadata": {},
     "output_type": "display_data"
    },
    {
     "data": {
      "application/vnd.jupyter.widget-view+json": {
       "model_id": "460f693f73ff4a74a3057388bcd77c89",
       "version_major": 2,
       "version_minor": 0
      },
      "text/plain": [
       "BestResp | t#83/400 | k=3 | sats=STARLINK-11588 [DTC],STARLINK-11694 [DTC],STARLINK-31501:   0%|          | 0/…"
      ]
     },
     "metadata": {},
     "output_type": "display_data"
    },
    {
     "data": {
      "application/vnd.jupyter.widget-view+json": {
       "model_id": "e099474b1bb348a4b3d673c668c7fa00",
       "version_major": 2,
       "version_minor": 0
      },
      "text/plain": [
       "BestResp | t#83/400 | k=5 | sats=STARLINK-11588 [DTC],STARLINK-11694 [DTC],STARLINK-31501,STARLINK-30515,STARL…"
      ]
     },
     "metadata": {},
     "output_type": "display_data"
    },
    {
     "data": {
      "application/vnd.jupyter.widget-view+json": {
       "model_id": "a33bfb89c0fc4f94bc0abf4c757a676c",
       "version_major": 2,
       "version_minor": 0
      },
      "text/plain": [
       "BestResp | t#84/400 | k=1 | sats=STARLINK-31146:   0%|          | 0/200 [00:00<?, ?it/s]"
      ]
     },
     "metadata": {},
     "output_type": "display_data"
    },
    {
     "data": {
      "application/vnd.jupyter.widget-view+json": {
       "model_id": "4b0f4f7a5b7040269e899e9c72f71a45",
       "version_major": 2,
       "version_minor": 0
      },
      "text/plain": [
       "BestResp | t#84/400 | k=3 | sats=STARLINK-31146,STARLINK-31552,STARLINK-30832:   0%|          | 0/200 [00:00<?…"
      ]
     },
     "metadata": {},
     "output_type": "display_data"
    },
    {
     "data": {
      "application/vnd.jupyter.widget-view+json": {
       "model_id": "bb5c90c3396d4c45a00bd9627cd08398",
       "version_major": 2,
       "version_minor": 0
      },
      "text/plain": [
       "BestResp | t#84/400 | k=5 | sats=STARLINK-31146,STARLINK-31552,STARLINK-30832,STARLINK-1434,STARLINK-32354:   …"
      ]
     },
     "metadata": {},
     "output_type": "display_data"
    },
    {
     "data": {
      "application/vnd.jupyter.widget-view+json": {
       "model_id": "3923566119f342f7bcdbbf55f6f4fc69",
       "version_major": 2,
       "version_minor": 0
      },
      "text/plain": [
       "BestResp | t#85/400 | k=1 | sats=STARLINK-11486 [DTC]:   0%|          | 0/200 [00:00<?, ?it/s]"
      ]
     },
     "metadata": {},
     "output_type": "display_data"
    },
    {
     "data": {
      "application/vnd.jupyter.widget-view+json": {
       "model_id": "986a38bfbe2a4dffb8b15df3d01c54e3",
       "version_major": 2,
       "version_minor": 0
      },
      "text/plain": [
       "BestResp | t#85/400 | k=3 | sats=STARLINK-11486 [DTC],STARLINK-1497,STARLINK-34509:   0%|          | 0/200 [00…"
      ]
     },
     "metadata": {},
     "output_type": "display_data"
    },
    {
     "data": {
      "application/vnd.jupyter.widget-view+json": {
       "model_id": "8b0ec2f56dee40c38fe83e0218a2281a",
       "version_major": 2,
       "version_minor": 0
      },
      "text/plain": [
       "BestResp | t#85/400 | k=5 | sats=STARLINK-11486 [DTC],STARLINK-1497,STARLINK-34509,STARLINK-32669,STARLINK-343…"
      ]
     },
     "metadata": {},
     "output_type": "display_data"
    },
    {
     "data": {
      "application/vnd.jupyter.widget-view+json": {
       "model_id": "0fbfde6bf86f4ab9a3f5d9d0222e21b4",
       "version_major": 2,
       "version_minor": 0
      },
      "text/plain": [
       "BestResp | t#86/400 | k=1 | sats=STARLINK-31899:   0%|          | 0/200 [00:00<?, ?it/s]"
      ]
     },
     "metadata": {},
     "output_type": "display_data"
    },
    {
     "data": {
      "application/vnd.jupyter.widget-view+json": {
       "model_id": "4db657f469ca469caabccb5ae8462b88",
       "version_major": 2,
       "version_minor": 0
      },
      "text/plain": [
       "BestResp | t#86/400 | k=3 | sats=STARLINK-31899,STARLINK-31674,STARLINK-30912:   0%|          | 0/200 [00:00<?…"
      ]
     },
     "metadata": {},
     "output_type": "display_data"
    },
    {
     "data": {
      "application/vnd.jupyter.widget-view+json": {
       "model_id": "e325dd5cd874489f95b64ea0d10056ce",
       "version_major": 2,
       "version_minor": 0
      },
      "text/plain": [
       "BestResp | t#86/400 | k=5 | sats=STARLINK-31899,STARLINK-31674,STARLINK-30912,STARLINK-31136,STARLINK-33739:  …"
      ]
     },
     "metadata": {},
     "output_type": "display_data"
    },
    {
     "data": {
      "application/vnd.jupyter.widget-view+json": {
       "model_id": "7feb9afe99f34545aaa6d22a8cbfdaed",
       "version_major": 2,
       "version_minor": 0
      },
      "text/plain": [
       "BestResp | t#87/400 | k=1 | sats=STARLINK-11518 [DTC]:   0%|          | 0/200 [00:00<?, ?it/s]"
      ]
     },
     "metadata": {},
     "output_type": "display_data"
    },
    {
     "data": {
      "application/vnd.jupyter.widget-view+json": {
       "model_id": "fc710b79cf5f40fa8584185f365b8349",
       "version_major": 2,
       "version_minor": 0
      },
      "text/plain": [
       "BestResp | t#87/400 | k=3 | sats=STARLINK-11518 [DTC],STARLINK-11651 [DTC],STARLINK-34527:   0%|          | 0/…"
      ]
     },
     "metadata": {},
     "output_type": "display_data"
    },
    {
     "data": {
      "application/vnd.jupyter.widget-view+json": {
       "model_id": "0f9c8c2f35a64b41ab7bee28893cb7c1",
       "version_major": 2,
       "version_minor": 0
      },
      "text/plain": [
       "BestResp | t#87/400 | k=5 | sats=STARLINK-11518 [DTC],STARLINK-11651 [DTC],STARLINK-34527,STARLINK-11139 [DTC]…"
      ]
     },
     "metadata": {},
     "output_type": "display_data"
    },
    {
     "data": {
      "application/vnd.jupyter.widget-view+json": {
       "model_id": "e9c462395801476889b48b1791237d3d",
       "version_major": 2,
       "version_minor": 0
      },
      "text/plain": [
       "BestResp | t#88/400 | k=1 | sats=STARLINK-11518 [DTC]:   0%|          | 0/200 [00:00<?, ?it/s]"
      ]
     },
     "metadata": {},
     "output_type": "display_data"
    },
    {
     "data": {
      "application/vnd.jupyter.widget-view+json": {
       "model_id": "bfd1341b85154a76a719b6469704aea1",
       "version_major": 2,
       "version_minor": 0
      },
      "text/plain": [
       "BestResp | t#88/400 | k=3 | sats=STARLINK-11518 [DTC],STARLINK-11139 [DTC],STARLINK-11651 [DTC]:   0%|        …"
      ]
     },
     "metadata": {},
     "output_type": "display_data"
    },
    {
     "data": {
      "application/vnd.jupyter.widget-view+json": {
       "model_id": "9c9290606d3243d791130be8540781c8",
       "version_major": 2,
       "version_minor": 0
      },
      "text/plain": [
       "BestResp | t#88/400 | k=5 | sats=STARLINK-11518 [DTC],STARLINK-11139 [DTC],STARLINK-11651 [DTC],STARLINK-34527…"
      ]
     },
     "metadata": {},
     "output_type": "display_data"
    },
    {
     "data": {
      "application/vnd.jupyter.widget-view+json": {
       "model_id": "2f538c0a4bd34762834cc59bf8763c4a",
       "version_major": 2,
       "version_minor": 0
      },
      "text/plain": [
       "BestResp | t#89/400 | k=1 | sats=STARLINK-11241 [DTC]:   0%|          | 0/200 [00:00<?, ?it/s]"
      ]
     },
     "metadata": {},
     "output_type": "display_data"
    },
    {
     "data": {
      "application/vnd.jupyter.widget-view+json": {
       "model_id": "4b3aec9bf99f4932bf2a36c0765532f4",
       "version_major": 2,
       "version_minor": 0
      },
      "text/plain": [
       "BestResp | t#89/400 | k=3 | sats=STARLINK-11241 [DTC],STARLINK-32784,STARLINK-32622:   0%|          | 0/200 [0…"
      ]
     },
     "metadata": {},
     "output_type": "display_data"
    },
    {
     "data": {
      "application/vnd.jupyter.widget-view+json": {
       "model_id": "daed75ea358948b1a69b1723fefee6ee",
       "version_major": 2,
       "version_minor": 0
      },
      "text/plain": [
       "BestResp | t#89/400 | k=5 | sats=STARLINK-11241 [DTC],STARLINK-32784,STARLINK-32622,STARLINK-31960,STARLINK-30…"
      ]
     },
     "metadata": {},
     "output_type": "display_data"
    },
    {
     "data": {
      "application/vnd.jupyter.widget-view+json": {
       "model_id": "8e6aa6cbd06346cc8fee9e1e409818d3",
       "version_major": 2,
       "version_minor": 0
      },
      "text/plain": [
       "BestResp | t#90/400 | k=1 | sats=STARLINK-11241 [DTC]:   0%|          | 0/200 [00:00<?, ?it/s]"
      ]
     },
     "metadata": {},
     "output_type": "display_data"
    },
    {
     "data": {
      "application/vnd.jupyter.widget-view+json": {
       "model_id": "800098c5680e4b8e93144479960c590f",
       "version_major": 2,
       "version_minor": 0
      },
      "text/plain": [
       "BestResp | t#90/400 | k=3 | sats=STARLINK-11241 [DTC],STARLINK-32784,STARLINK-32622:   0%|          | 0/200 [0…"
      ]
     },
     "metadata": {},
     "output_type": "display_data"
    },
    {
     "data": {
      "application/vnd.jupyter.widget-view+json": {
       "model_id": "58ca2b559cca4e099741c82a5be33659",
       "version_major": 2,
       "version_minor": 0
      },
      "text/plain": [
       "BestResp | t#90/400 | k=5 | sats=STARLINK-11241 [DTC],STARLINK-32784,STARLINK-32622,STARLINK-30509,STARLINK-31…"
      ]
     },
     "metadata": {},
     "output_type": "display_data"
    },
    {
     "data": {
      "application/vnd.jupyter.widget-view+json": {
       "model_id": "775ecfeac5ee4345a8a5c9e35b1ada16",
       "version_major": 2,
       "version_minor": 0
      },
      "text/plain": [
       "BestResp | t#91/400 | k=1 | sats=STARLINK-11587 [DTC]:   0%|          | 0/200 [00:00<?, ?it/s]"
      ]
     },
     "metadata": {},
     "output_type": "display_data"
    },
    {
     "data": {
      "application/vnd.jupyter.widget-view+json": {
       "model_id": "f6e4daae41c1401590d0706f0b49d779",
       "version_major": 2,
       "version_minor": 0
      },
      "text/plain": [
       "BestResp | t#91/400 | k=3 | sats=STARLINK-11587 [DTC],STARLINK-32559,STARLINK-32383:   0%|          | 0/200 [0…"
      ]
     },
     "metadata": {},
     "output_type": "display_data"
    },
    {
     "data": {
      "application/vnd.jupyter.widget-view+json": {
       "model_id": "0c1cd64c6b0e4762810cbabbacb2c637",
       "version_major": 2,
       "version_minor": 0
      },
      "text/plain": [
       "BestResp | t#91/400 | k=5 | sats=STARLINK-11587 [DTC],STARLINK-32559,STARLINK-32383,STARLINK-32892,STARLINK-32…"
      ]
     },
     "metadata": {},
     "output_type": "display_data"
    },
    {
     "data": {
      "application/vnd.jupyter.widget-view+json": {
       "model_id": "d083845e56d9438d91d86accf159e886",
       "version_major": 2,
       "version_minor": 0
      },
      "text/plain": [
       "BestResp | t#92/400 | k=1 | sats=STARLINK-11644 [DTC]:   0%|          | 0/200 [00:00<?, ?it/s]"
      ]
     },
     "metadata": {},
     "output_type": "display_data"
    },
    {
     "data": {
      "application/vnd.jupyter.widget-view+json": {
       "model_id": "e474db7f04644cd1b176b60072d67ffa",
       "version_major": 2,
       "version_minor": 0
      },
      "text/plain": [
       "BestResp | t#92/400 | k=3 | sats=STARLINK-11644 [DTC],STARLINK-32943,STARLINK-5703:   0%|          | 0/200 [00…"
      ]
     },
     "metadata": {},
     "output_type": "display_data"
    },
    {
     "data": {
      "application/vnd.jupyter.widget-view+json": {
       "model_id": "adaf148546274625b70e19d7af872e9e",
       "version_major": 2,
       "version_minor": 0
      },
      "text/plain": [
       "BestResp | t#92/400 | k=5 | sats=STARLINK-11644 [DTC],STARLINK-32943,STARLINK-5703,STARLINK-1741,STARLINK-3372…"
      ]
     },
     "metadata": {},
     "output_type": "display_data"
    },
    {
     "data": {
      "application/vnd.jupyter.widget-view+json": {
       "model_id": "40d5dc6a4c4c4dc49e80c2d73e822be3",
       "version_major": 2,
       "version_minor": 0
      },
      "text/plain": [
       "BestResp | t#93/400 | k=1 | sats=STARLINK-11644 [DTC]:   0%|          | 0/200 [00:00<?, ?it/s]"
      ]
     },
     "metadata": {},
     "output_type": "display_data"
    },
    {
     "data": {
      "application/vnd.jupyter.widget-view+json": {
       "model_id": "461450c841934b91932364f91cd25bd5",
       "version_major": 2,
       "version_minor": 0
      },
      "text/plain": [
       "BestResp | t#93/400 | k=3 | sats=STARLINK-11644 [DTC],STARLINK-11505 [DTC],STARLINK-34538:   0%|          | 0/…"
      ]
     },
     "metadata": {},
     "output_type": "display_data"
    },
    {
     "data": {
      "application/vnd.jupyter.widget-view+json": {
       "model_id": "dc5dea8274854351ac324e2549f52461",
       "version_major": 2,
       "version_minor": 0
      },
      "text/plain": [
       "BestResp | t#93/400 | k=5 | sats=STARLINK-11644 [DTC],STARLINK-11505 [DTC],STARLINK-34538,STARLINK-1741,STARLI…"
      ]
     },
     "metadata": {},
     "output_type": "display_data"
    },
    {
     "data": {
      "application/vnd.jupyter.widget-view+json": {
       "model_id": "6de9eb4c914140b3ae12502a24f493f3",
       "version_major": 2,
       "version_minor": 0
      },
      "text/plain": [
       "BestResp | t#94/400 | k=1 | sats=STARLINK-11093 [DTC]:   0%|          | 0/200 [00:00<?, ?it/s]"
      ]
     },
     "metadata": {},
     "output_type": "display_data"
    },
    {
     "data": {
      "application/vnd.jupyter.widget-view+json": {
       "model_id": "f68f2f0309b44d6a9912f3e0401287d3",
       "version_major": 2,
       "version_minor": 0
      },
      "text/plain": [
       "BestResp | t#94/400 | k=3 | sats=STARLINK-11093 [DTC],STARLINK-32303,STARLINK-32890:   0%|          | 0/200 [0…"
      ]
     },
     "metadata": {},
     "output_type": "display_data"
    },
    {
     "data": {
      "application/vnd.jupyter.widget-view+json": {
       "model_id": "8435ff7b668d4a52aac4ca966578d5e8",
       "version_major": 2,
       "version_minor": 0
      },
      "text/plain": [
       "BestResp | t#94/400 | k=5 | sats=STARLINK-11093 [DTC],STARLINK-32303,STARLINK-32890,STARLINK-34686,STARLINK-30…"
      ]
     },
     "metadata": {},
     "output_type": "display_data"
    },
    {
     "data": {
      "application/vnd.jupyter.widget-view+json": {
       "model_id": "70e8537a00d242c2afa9c3636ee7c9c9",
       "version_major": 2,
       "version_minor": 0
      },
      "text/plain": [
       "BestResp | t#95/400 | k=1 | sats=STARLINK-11329 [DTC]:   0%|          | 0/200 [00:00<?, ?it/s]"
      ]
     },
     "metadata": {},
     "output_type": "display_data"
    },
    {
     "data": {
      "application/vnd.jupyter.widget-view+json": {
       "model_id": "3ff58f0514a649139bc1095aeb39a9f0",
       "version_major": 2,
       "version_minor": 0
      },
      "text/plain": [
       "BestResp | t#95/400 | k=3 | sats=STARLINK-11329 [DTC],STARLINK-11581 [DTC],STARLINK-31887:   0%|          | 0/…"
      ]
     },
     "metadata": {},
     "output_type": "display_data"
    },
    {
     "data": {
      "application/vnd.jupyter.widget-view+json": {
       "model_id": "372b08be695a4246911bd9af9053f98e",
       "version_major": 2,
       "version_minor": 0
      },
      "text/plain": [
       "BestResp | t#95/400 | k=5 | sats=STARLINK-11329 [DTC],STARLINK-11581 [DTC],STARLINK-31887,STARLINK-31397,STARL…"
      ]
     },
     "metadata": {},
     "output_type": "display_data"
    },
    {
     "data": {
      "application/vnd.jupyter.widget-view+json": {
       "model_id": "6389e88d13fc4d80a521d2b31b7b4c44",
       "version_major": 2,
       "version_minor": 0
      },
      "text/plain": [
       "BestResp | t#96/400 | k=1 | sats=STARLINK-11603 [DTC]:   0%|          | 0/200 [00:00<?, ?it/s]"
      ]
     },
     "metadata": {},
     "output_type": "display_data"
    },
    {
     "data": {
      "application/vnd.jupyter.widget-view+json": {
       "model_id": "e19bdef441bc458ebd77c4f117082851",
       "version_major": 2,
       "version_minor": 0
      },
      "text/plain": [
       "BestResp | t#96/400 | k=3 | sats=STARLINK-11603 [DTC],STARLINK-34148,STARLINK-31508:   0%|          | 0/200 [0…"
      ]
     },
     "metadata": {},
     "output_type": "display_data"
    },
    {
     "data": {
      "application/vnd.jupyter.widget-view+json": {
       "model_id": "7cba8cd320354f7bb7c0fdc1a159f052",
       "version_major": 2,
       "version_minor": 0
      },
      "text/plain": [
       "BestResp | t#96/400 | k=5 | sats=STARLINK-11603 [DTC],STARLINK-34148,STARLINK-31508,STARLINK-34822,STARLINK-34…"
      ]
     },
     "metadata": {},
     "output_type": "display_data"
    },
    {
     "data": {
      "application/vnd.jupyter.widget-view+json": {
       "model_id": "2a8f7df9159b446197a7b70cc085f297",
       "version_major": 2,
       "version_minor": 0
      },
      "text/plain": [
       "BestResp | t#97/400 | k=1 | sats=STARLINK-11603 [DTC]:   0%|          | 0/200 [00:00<?, ?it/s]"
      ]
     },
     "metadata": {},
     "output_type": "display_data"
    },
    {
     "data": {
      "application/vnd.jupyter.widget-view+json": {
       "model_id": "3376ca6f7e23453fa4b582628d3b7a12",
       "version_major": 2,
       "version_minor": 0
      },
      "text/plain": [
       "BestResp | t#97/400 | k=3 | sats=STARLINK-11603 [DTC],STARLINK-34148,STARLINK-31508:   0%|          | 0/200 [0…"
      ]
     },
     "metadata": {},
     "output_type": "display_data"
    },
    {
     "data": {
      "application/vnd.jupyter.widget-view+json": {
       "model_id": "49a89910385b40a4b4ab1fc9c2b9ffcc",
       "version_major": 2,
       "version_minor": 0
      },
      "text/plain": [
       "BestResp | t#97/400 | k=5 | sats=STARLINK-11603 [DTC],STARLINK-34148,STARLINK-31508,STARLINK-34822,STARLINK-34…"
      ]
     },
     "metadata": {},
     "output_type": "display_data"
    },
    {
     "data": {
      "application/vnd.jupyter.widget-view+json": {
       "model_id": "6ca73bed87654c00bbe7ef3edaa49bd9",
       "version_major": 2,
       "version_minor": 0
      },
      "text/plain": [
       "BestResp | t#98/400 | k=1 | sats=STARLINK-11676 [DTC]:   0%|          | 0/200 [00:00<?, ?it/s]"
      ]
     },
     "metadata": {},
     "output_type": "display_data"
    },
    {
     "data": {
      "application/vnd.jupyter.widget-view+json": {
       "model_id": "c0bd5580068b4abd95ba82311a442d83",
       "version_major": 2,
       "version_minor": 0
      },
      "text/plain": [
       "BestResp | t#98/400 | k=3 | sats=STARLINK-11676 [DTC],STARLINK-11083 [DTC],STARLINK-32739:   0%|          | 0/…"
      ]
     },
     "metadata": {},
     "output_type": "display_data"
    },
    {
     "data": {
      "application/vnd.jupyter.widget-view+json": {
       "model_id": "5163ebb6892b465f81e3d3f160c6cfd4",
       "version_major": 2,
       "version_minor": 0
      },
      "text/plain": [
       "BestResp | t#98/400 | k=5 | sats=STARLINK-11676 [DTC],STARLINK-11083 [DTC],STARLINK-32739,STARLINK-32620,STARL…"
      ]
     },
     "metadata": {},
     "output_type": "display_data"
    },
    {
     "data": {
      "application/vnd.jupyter.widget-view+json": {
       "model_id": "eabe50b882a0446d8d569aa1bff63a33",
       "version_major": 2,
       "version_minor": 0
      },
      "text/plain": [
       "BestResp | t#99/400 | k=1 | sats=STARLINK-32701:   0%|          | 0/200 [00:00<?, ?it/s]"
      ]
     },
     "metadata": {},
     "output_type": "display_data"
    },
    {
     "data": {
      "application/vnd.jupyter.widget-view+json": {
       "model_id": "af8def9295a2450da6b570e1641512d7",
       "version_major": 2,
       "version_minor": 0
      },
      "text/plain": [
       "BestResp | t#99/400 | k=3 | sats=STARLINK-32701,STARLINK-32869,STARLINK-4565:   0%|          | 0/200 [00:00<?,…"
      ]
     },
     "metadata": {},
     "output_type": "display_data"
    },
    {
     "data": {
      "application/vnd.jupyter.widget-view+json": {
       "model_id": "14035b907a604212b341465bae026a3e",
       "version_major": 2,
       "version_minor": 0
      },
      "text/plain": [
       "BestResp | t#99/400 | k=5 | sats=STARLINK-32701,STARLINK-32869,STARLINK-4565,STARLINK-31512,STARLINK-31973:   …"
      ]
     },
     "metadata": {},
     "output_type": "display_data"
    },
    {
     "data": {
      "application/vnd.jupyter.widget-view+json": {
       "model_id": "51a105b8f7dc40b8be47636fe8716f36",
       "version_major": 2,
       "version_minor": 0
      },
      "text/plain": [
       "BestResp | t#100/400 | k=1 | sats=STARLINK-32701:   0%|          | 0/200 [00:00<?, ?it/s]"
      ]
     },
     "metadata": {},
     "output_type": "display_data"
    },
    {
     "data": {
      "application/vnd.jupyter.widget-view+json": {
       "model_id": "ff3f76d4c8bf4a6090a7ce7cfc30b915",
       "version_major": 2,
       "version_minor": 0
      },
      "text/plain": [
       "BestResp | t#100/400 | k=3 | sats=STARLINK-32701,STARLINK-31973,STARLINK-32869:   0%|          | 0/200 [00:00<…"
      ]
     },
     "metadata": {},
     "output_type": "display_data"
    },
    {
     "data": {
      "application/vnd.jupyter.widget-view+json": {
       "model_id": "abf6a5cc164a43b7ae514ec76c41fe9b",
       "version_major": 2,
       "version_minor": 0
      },
      "text/plain": [
       "BestResp | t#100/400 | k=5 | sats=STARLINK-32701,STARLINK-31973,STARLINK-32869,STARLINK-4565,STARLINK-31512:  …"
      ]
     },
     "metadata": {},
     "output_type": "display_data"
    },
    {
     "name": "stdout",
     "output_type": "stream",
     "text": [
      "[flush] wrote up to step 100\n"
     ]
    },
    {
     "data": {
      "application/vnd.jupyter.widget-view+json": {
       "model_id": "521b8c62c38249ada2a336890d916aa1",
       "version_major": 2,
       "version_minor": 0
      },
      "text/plain": [
       "BestResp | t#101/400 | k=1 | sats=STARLINK-11605 [DTC]:   0%|          | 0/200 [00:00<?, ?it/s]"
      ]
     },
     "metadata": {},
     "output_type": "display_data"
    },
    {
     "data": {
      "application/vnd.jupyter.widget-view+json": {
       "model_id": "100d077be3054a74b3cff1891b8f8bc9",
       "version_major": 2,
       "version_minor": 0
      },
      "text/plain": [
       "BestResp | t#101/400 | k=3 | sats=STARLINK-11605 [DTC],STARLINK-32713,STARLINK-31432:   0%|          | 0/200 […"
      ]
     },
     "metadata": {},
     "output_type": "display_data"
    },
    {
     "data": {
      "application/vnd.jupyter.widget-view+json": {
       "model_id": "e55e79e9e8644fd5a95bca021befae8b",
       "version_major": 2,
       "version_minor": 0
      },
      "text/plain": [
       "BestResp | t#101/400 | k=5 | sats=STARLINK-11605 [DTC],STARLINK-32713,STARLINK-31432,STARLINK-33803,STARLINK-3…"
      ]
     },
     "metadata": {},
     "output_type": "display_data"
    },
    {
     "data": {
      "application/vnd.jupyter.widget-view+json": {
       "model_id": "02c378df09be452ba9613fa2b44dcddc",
       "version_major": 2,
       "version_minor": 0
      },
      "text/plain": [
       "BestResp | t#102/400 | k=1 | sats=STARLINK-11488 [DTC]:   0%|          | 0/200 [00:00<?, ?it/s]"
      ]
     },
     "metadata": {},
     "output_type": "display_data"
    },
    {
     "data": {
      "application/vnd.jupyter.widget-view+json": {
       "model_id": "a0e2bbdb66ff4e67a3aa313b4ddc9bb2",
       "version_major": 2,
       "version_minor": 0
      },
      "text/plain": [
       "BestResp | t#102/400 | k=3 | sats=STARLINK-11488 [DTC],STARLINK-32009,STARLINK-32708:   0%|          | 0/200 […"
      ]
     },
     "metadata": {},
     "output_type": "display_data"
    },
    {
     "data": {
      "application/vnd.jupyter.widget-view+json": {
       "model_id": "7d9faa1e647346c2a8265c26808229b0",
       "version_major": 2,
       "version_minor": 0
      },
      "text/plain": [
       "BestResp | t#102/400 | k=5 | sats=STARLINK-11488 [DTC],STARLINK-32009,STARLINK-32708,STARLINK-31872,STARLINK-3…"
      ]
     },
     "metadata": {},
     "output_type": "display_data"
    },
    {
     "data": {
      "application/vnd.jupyter.widget-view+json": {
       "model_id": "c985ef37be9345b5be4f2d753edcd858",
       "version_major": 2,
       "version_minor": 0
      },
      "text/plain": [
       "BestResp | t#103/400 | k=1 | sats=STARLINK-11663 [DTC]:   0%|          | 0/200 [00:00<?, ?it/s]"
      ]
     },
     "metadata": {},
     "output_type": "display_data"
    },
    {
     "data": {
      "application/vnd.jupyter.widget-view+json": {
       "model_id": "6237448b154647bcb5c5716ce05ddc4d",
       "version_major": 2,
       "version_minor": 0
      },
      "text/plain": [
       "BestResp | t#103/400 | k=3 | sats=STARLINK-11663 [DTC],STARLINK-32715,STARLINK-34311:   0%|          | 0/200 […"
      ]
     },
     "metadata": {},
     "output_type": "display_data"
    },
    {
     "data": {
      "application/vnd.jupyter.widget-view+json": {
       "model_id": "e164334338d94295875fa27367648ebf",
       "version_major": 2,
       "version_minor": 0
      },
      "text/plain": [
       "BestResp | t#103/400 | k=5 | sats=STARLINK-11663 [DTC],STARLINK-32715,STARLINK-34311,STARLINK-32677,STARLINK-3…"
      ]
     },
     "metadata": {},
     "output_type": "display_data"
    },
    {
     "data": {
      "application/vnd.jupyter.widget-view+json": {
       "model_id": "ae7b77a9fcb7460da0a5d1918e0d88ed",
       "version_major": 2,
       "version_minor": 0
      },
      "text/plain": [
       "BestResp | t#104/400 | k=1 | sats=STARLINK-11466 [DTC]:   0%|          | 0/200 [00:00<?, ?it/s]"
      ]
     },
     "metadata": {},
     "output_type": "display_data"
    },
    {
     "data": {
      "application/vnd.jupyter.widget-view+json": {
       "model_id": "047b2d9c3d7444db94107347dd1f39af",
       "version_major": 2,
       "version_minor": 0
      },
      "text/plain": [
       "BestResp | t#104/400 | k=3 | sats=STARLINK-11466 [DTC],STARLINK-32040,STARLINK-32566:   0%|          | 0/200 […"
      ]
     },
     "metadata": {},
     "output_type": "display_data"
    },
    {
     "data": {
      "application/vnd.jupyter.widget-view+json": {
       "model_id": "f5a23a39d1964bd1b616f658daf61596",
       "version_major": 2,
       "version_minor": 0
      },
      "text/plain": [
       "BestResp | t#104/400 | k=5 | sats=STARLINK-11466 [DTC],STARLINK-32040,STARLINK-32566,STARLINK-34332,STARLINK-3…"
      ]
     },
     "metadata": {},
     "output_type": "display_data"
    },
    {
     "data": {
      "application/vnd.jupyter.widget-view+json": {
       "model_id": "729bc22ac906443a98ce8d994dc2b658",
       "version_major": 2,
       "version_minor": 0
      },
      "text/plain": [
       "BestResp | t#105/400 | k=1 | sats=STARLINK-11703 [DTC]:   0%|          | 0/200 [00:00<?, ?it/s]"
      ]
     },
     "metadata": {},
     "output_type": "display_data"
    },
    {
     "data": {
      "application/vnd.jupyter.widget-view+json": {
       "model_id": "e53f4c177b6a414f8d2e2a3cff4f723f",
       "version_major": 2,
       "version_minor": 0
      },
      "text/plain": [
       "BestResp | t#105/400 | k=3 | sats=STARLINK-11703 [DTC],STARLINK-32685,STARLINK-31820:   0%|          | 0/200 […"
      ]
     },
     "metadata": {},
     "output_type": "display_data"
    },
    {
     "data": {
      "application/vnd.jupyter.widget-view+json": {
       "model_id": "f4f4350c1e6d4688b76240ff983d2152",
       "version_major": 2,
       "version_minor": 0
      },
      "text/plain": [
       "BestResp | t#105/400 | k=5 | sats=STARLINK-11703 [DTC],STARLINK-32685,STARLINK-31820,STARLINK-31879,STARLINK-3…"
      ]
     },
     "metadata": {},
     "output_type": "display_data"
    },
    {
     "data": {
      "application/vnd.jupyter.widget-view+json": {
       "model_id": "f83a9e472412486bbdd5121314b0a08b",
       "version_major": 2,
       "version_minor": 0
      },
      "text/plain": [
       "BestResp | t#106/400 | k=1 | sats=STARLINK-11600 [DTC]:   0%|          | 0/200 [00:00<?, ?it/s]"
      ]
     },
     "metadata": {},
     "output_type": "display_data"
    },
    {
     "data": {
      "application/vnd.jupyter.widget-view+json": {
       "model_id": "1ffdbe550ea646baa15ee6f9ba65df84",
       "version_major": 2,
       "version_minor": 0
      },
      "text/plain": [
       "BestResp | t#106/400 | k=3 | sats=STARLINK-11600 [DTC],STARLINK-2582,STARLINK-11702 [DTC]:   0%|          | 0/…"
      ]
     },
     "metadata": {},
     "output_type": "display_data"
    },
    {
     "data": {
      "application/vnd.jupyter.widget-view+json": {
       "model_id": "61d9927286c2448587e34476ab6e1c19",
       "version_major": 2,
       "version_minor": 0
      },
      "text/plain": [
       "BestResp | t#106/400 | k=5 | sats=STARLINK-11600 [DTC],STARLINK-2582,STARLINK-11702 [DTC],STARLINK-31678,STARL…"
      ]
     },
     "metadata": {},
     "output_type": "display_data"
    },
    {
     "data": {
      "application/vnd.jupyter.widget-view+json": {
       "model_id": "392d2dc3708d495c9744031075ddc39e",
       "version_major": 2,
       "version_minor": 0
      },
      "text/plain": [
       "BestResp | t#107/400 | k=1 | sats=STARLINK-32750:   0%|          | 0/200 [00:00<?, ?it/s]"
      ]
     },
     "metadata": {},
     "output_type": "display_data"
    },
    {
     "data": {
      "application/vnd.jupyter.widget-view+json": {
       "model_id": "7ad814dac27648b285c5ae59f97c6114",
       "version_major": 2,
       "version_minor": 0
      },
      "text/plain": [
       "BestResp | t#107/400 | k=3 | sats=STARLINK-32750,STARLINK-5039,STARLINK-33751:   0%|          | 0/200 [00:00<?…"
      ]
     },
     "metadata": {},
     "output_type": "display_data"
    },
    {
     "data": {
      "application/vnd.jupyter.widget-view+json": {
       "model_id": "464ddb1f04e64dafb8722f1aeec064c5",
       "version_major": 2,
       "version_minor": 0
      },
      "text/plain": [
       "BestResp | t#107/400 | k=5 | sats=STARLINK-32750,STARLINK-5039,STARLINK-33751,STARLINK-32293,STARLINK-4141:   …"
      ]
     },
     "metadata": {},
     "output_type": "display_data"
    },
    {
     "data": {
      "application/vnd.jupyter.widget-view+json": {
       "model_id": "08384058cad34906ac797c5ead8846b6",
       "version_major": 2,
       "version_minor": 0
      },
      "text/plain": [
       "BestResp | t#108/400 | k=1 | sats=STARLINK-33763:   0%|          | 0/200 [00:00<?, ?it/s]"
      ]
     },
     "metadata": {},
     "output_type": "display_data"
    },
    {
     "data": {
      "application/vnd.jupyter.widget-view+json": {
       "model_id": "c979226b4c0c414f92b54af1c4a6eda7",
       "version_major": 2,
       "version_minor": 0
      },
      "text/plain": [
       "BestResp | t#108/400 | k=3 | sats=STARLINK-33763,STARLINK-31535,STARLINK-30917:   0%|          | 0/200 [00:00<…"
      ]
     },
     "metadata": {},
     "output_type": "display_data"
    },
    {
     "data": {
      "application/vnd.jupyter.widget-view+json": {
       "model_id": "8d7444b099a7412193dbf58d3c4948cf",
       "version_major": 2,
       "version_minor": 0
      },
      "text/plain": [
       "BestResp | t#108/400 | k=5 | sats=STARLINK-33763,STARLINK-31535,STARLINK-30917,STARLINK-34327,STARLINK-30440: …"
      ]
     },
     "metadata": {},
     "output_type": "display_data"
    },
    {
     "data": {
      "application/vnd.jupyter.widget-view+json": {
       "model_id": "15f9a6573e5d4ddf80a277c86be3b89f",
       "version_major": 2,
       "version_minor": 0
      },
      "text/plain": [
       "BestResp | t#109/400 | k=1 | sats=STARLINK-31535:   0%|          | 0/200 [00:00<?, ?it/s]"
      ]
     },
     "metadata": {},
     "output_type": "display_data"
    },
    {
     "data": {
      "application/vnd.jupyter.widget-view+json": {
       "model_id": "234a8e74c8ac48478725db4b10c74278",
       "version_major": 2,
       "version_minor": 0
      },
      "text/plain": [
       "BestResp | t#109/400 | k=3 | sats=STARLINK-31535,STARLINK-30917,STARLINK-34327:   0%|          | 0/200 [00:00<…"
      ]
     },
     "metadata": {},
     "output_type": "display_data"
    },
    {
     "data": {
      "application/vnd.jupyter.widget-view+json": {
       "model_id": "efe25327b61f4116817dc7657b86da41",
       "version_major": 2,
       "version_minor": 0
      },
      "text/plain": [
       "BestResp | t#109/400 | k=5 | sats=STARLINK-31535,STARLINK-30917,STARLINK-34327,STARLINK-6351,STARLINK-31827:  …"
      ]
     },
     "metadata": {},
     "output_type": "display_data"
    },
    {
     "data": {
      "application/vnd.jupyter.widget-view+json": {
       "model_id": "981209820ca448d9bcef2cea1dc72dc1",
       "version_major": 2,
       "version_minor": 0
      },
      "text/plain": [
       "BestResp | t#110/400 | k=1 | sats=STARLINK-11616 [DTC]:   0%|          | 0/200 [00:00<?, ?it/s]"
      ]
     },
     "metadata": {},
     "output_type": "display_data"
    },
    {
     "data": {
      "application/vnd.jupyter.widget-view+json": {
       "model_id": "7c1412d0c3524a3f8c6271d76eb1304c",
       "version_major": 2,
       "version_minor": 0
      },
      "text/plain": [
       "BestResp | t#110/400 | k=3 | sats=STARLINK-11616 [DTC],STARLINK-31290,STARLINK-31747:   0%|          | 0/200 […"
      ]
     },
     "metadata": {},
     "output_type": "display_data"
    },
    {
     "data": {
      "application/vnd.jupyter.widget-view+json": {
       "model_id": "33ba2d483a58430fa85d5615792b66a6",
       "version_major": 2,
       "version_minor": 0
      },
      "text/plain": [
       "BestResp | t#110/400 | k=5 | sats=STARLINK-11616 [DTC],STARLINK-31290,STARLINK-31747,STARLINK-31756,STARLINK-3…"
      ]
     },
     "metadata": {},
     "output_type": "display_data"
    },
    {
     "data": {
      "application/vnd.jupyter.widget-view+json": {
       "model_id": "af84ae959ad14c2fabd6d01d1d5e82de",
       "version_major": 2,
       "version_minor": 0
      },
      "text/plain": [
       "BestResp | t#111/400 | k=1 | sats=STARLINK-11662 [DTC]:   0%|          | 0/200 [00:00<?, ?it/s]"
      ]
     },
     "metadata": {},
     "output_type": "display_data"
    },
    {
     "data": {
      "application/vnd.jupyter.widget-view+json": {
       "model_id": "cf7e0fdd7b234fa3b00892aba70698a1",
       "version_major": 2,
       "version_minor": 0
      },
      "text/plain": [
       "BestResp | t#111/400 | k=3 | sats=STARLINK-11662 [DTC],STARLINK-31737,STARLINK-34162:   0%|          | 0/200 […"
      ]
     },
     "metadata": {},
     "output_type": "display_data"
    },
    {
     "data": {
      "application/vnd.jupyter.widget-view+json": {
       "model_id": "b67ec816615c4ed2a6ee364c7fb39bb5",
       "version_major": 2,
       "version_minor": 0
      },
      "text/plain": [
       "BestResp | t#111/400 | k=5 | sats=STARLINK-11662 [DTC],STARLINK-31737,STARLINK-34162,STARLINK-1457,STARLINK-34…"
      ]
     },
     "metadata": {},
     "output_type": "display_data"
    },
    {
     "data": {
      "application/vnd.jupyter.widget-view+json": {
       "model_id": "43493da94a2049b8807d841e749eccf2",
       "version_major": 2,
       "version_minor": 0
      },
      "text/plain": [
       "BestResp | t#112/400 | k=1 | sats=STARLINK-11556 [DTC]:   0%|          | 0/200 [00:00<?, ?it/s]"
      ]
     },
     "metadata": {},
     "output_type": "display_data"
    },
    {
     "data": {
      "application/vnd.jupyter.widget-view+json": {
       "model_id": "4b9158d3457346d986fc87c56b6c9643",
       "version_major": 2,
       "version_minor": 0
      },
      "text/plain": [
       "BestResp | t#112/400 | k=3 | sats=STARLINK-11556 [DTC],STARLINK-11263 [DTC],STARLINK-32143:   0%|          | 0…"
      ]
     },
     "metadata": {},
     "output_type": "display_data"
    },
    {
     "data": {
      "application/vnd.jupyter.widget-view+json": {
       "model_id": "e074f665e87d474296374e1c43f8ea3c",
       "version_major": 2,
       "version_minor": 0
      },
      "text/plain": [
       "BestResp | t#112/400 | k=5 | sats=STARLINK-11556 [DTC],STARLINK-11263 [DTC],STARLINK-32143,STARLINK-31292,STAR…"
      ]
     },
     "metadata": {},
     "output_type": "display_data"
    },
    {
     "data": {
      "application/vnd.jupyter.widget-view+json": {
       "model_id": "3e3100875d404b42890410dfba686e0f",
       "version_major": 2,
       "version_minor": 0
      },
      "text/plain": [
       "BestResp | t#113/400 | k=1 | sats=STARLINK-11556 [DTC]:   0%|          | 0/200 [00:00<?, ?it/s]"
      ]
     },
     "metadata": {},
     "output_type": "display_data"
    },
    {
     "data": {
      "application/vnd.jupyter.widget-view+json": {
       "model_id": "61a28faf344d44cdb3ba6a0dea4d8f6a",
       "version_major": 2,
       "version_minor": 0
      },
      "text/plain": [
       "BestResp | t#113/400 | k=3 | sats=STARLINK-11556 [DTC],STARLINK-11263 [DTC],STARLINK-11587 [DTC]:   0%|       …"
      ]
     },
     "metadata": {},
     "output_type": "display_data"
    },
    {
     "data": {
      "application/vnd.jupyter.widget-view+json": {
       "model_id": "39a140430b414de596c05f493713e0e8",
       "version_major": 2,
       "version_minor": 0
      },
      "text/plain": [
       "BestResp | t#113/400 | k=5 | sats=STARLINK-11556 [DTC],STARLINK-11263 [DTC],STARLINK-11587 [DTC],STARLINK-3214…"
      ]
     },
     "metadata": {},
     "output_type": "display_data"
    },
    {
     "data": {
      "application/vnd.jupyter.widget-view+json": {
       "model_id": "89725ae635274a1ba89e6f767a7c9f84",
       "version_major": 2,
       "version_minor": 0
      },
      "text/plain": [
       "BestResp | t#114/400 | k=1 | sats=STARLINK-32010:   0%|          | 0/200 [00:00<?, ?it/s]"
      ]
     },
     "metadata": {},
     "output_type": "display_data"
    },
    {
     "data": {
      "application/vnd.jupyter.widget-view+json": {
       "model_id": "60e413320aff4a60bbe53cbe24ce3f80",
       "version_major": 2,
       "version_minor": 0
      },
      "text/plain": [
       "BestResp | t#114/400 | k=3 | sats=STARLINK-32010,STARLINK-31666,STARLINK-31286:   0%|          | 0/200 [00:00<…"
      ]
     },
     "metadata": {},
     "output_type": "display_data"
    },
    {
     "data": {
      "application/vnd.jupyter.widget-view+json": {
       "model_id": "0a79bda21c2a4f12b9334cd3aa9fb2f9",
       "version_major": 2,
       "version_minor": 0
      },
      "text/plain": [
       "BestResp | t#114/400 | k=5 | sats=STARLINK-32010,STARLINK-31666,STARLINK-31286,STARLINK-2412,STARLINK-3342:   …"
      ]
     },
     "metadata": {},
     "output_type": "display_data"
    },
    {
     "data": {
      "application/vnd.jupyter.widget-view+json": {
       "model_id": "c3d9a7e01a064a14ae82540f58ee96e2",
       "version_major": 2,
       "version_minor": 0
      },
      "text/plain": [
       "BestResp | t#115/400 | k=1 | sats=STARLINK-11611 [DTC]:   0%|          | 0/200 [00:00<?, ?it/s]"
      ]
     },
     "metadata": {},
     "output_type": "display_data"
    },
    {
     "data": {
      "application/vnd.jupyter.widget-view+json": {
       "model_id": "753ea4cf3e6841e68153431f41c222a5",
       "version_major": 2,
       "version_minor": 0
      },
      "text/plain": [
       "BestResp | t#115/400 | k=3 | sats=STARLINK-11611 [DTC],STARLINK-11272 [DTC],STARLINK-31434:   0%|          | 0…"
      ]
     },
     "metadata": {},
     "output_type": "display_data"
    },
    {
     "data": {
      "application/vnd.jupyter.widget-view+json": {
       "model_id": "d0e1e25392d94503acde171aa4137b34",
       "version_major": 2,
       "version_minor": 0
      },
      "text/plain": [
       "BestResp | t#115/400 | k=5 | sats=STARLINK-11611 [DTC],STARLINK-11272 [DTC],STARLINK-31434,STARLINK-34150,STAR…"
      ]
     },
     "metadata": {},
     "output_type": "display_data"
    },
    {
     "data": {
      "application/vnd.jupyter.widget-view+json": {
       "model_id": "4a1634c5be534b8aa950ad9d753f309f",
       "version_major": 2,
       "version_minor": 0
      },
      "text/plain": [
       "BestResp | t#116/400 | k=1 | sats=STARLINK-11421 [DTC]:   0%|          | 0/200 [00:00<?, ?it/s]"
      ]
     },
     "metadata": {},
     "output_type": "display_data"
    },
    {
     "data": {
      "application/vnd.jupyter.widget-view+json": {
       "model_id": "7422fd6d5a284c7188cbb5cc236658e4",
       "version_major": 2,
       "version_minor": 0
      },
      "text/plain": [
       "BestResp | t#116/400 | k=3 | sats=STARLINK-11421 [DTC],STARLINK-1031,STARLINK-30936:   0%|          | 0/200 [0…"
      ]
     },
     "metadata": {},
     "output_type": "display_data"
    },
    {
     "data": {
      "application/vnd.jupyter.widget-view+json": {
       "model_id": "d2585ad206ab4925bde9adaa6def602d",
       "version_major": 2,
       "version_minor": 0
      },
      "text/plain": [
       "BestResp | t#116/400 | k=5 | sats=STARLINK-11421 [DTC],STARLINK-1031,STARLINK-30936,STARLINK-31574,STARLINK-32…"
      ]
     },
     "metadata": {},
     "output_type": "display_data"
    },
    {
     "data": {
      "application/vnd.jupyter.widget-view+json": {
       "model_id": "936327d538c94facb0b1b05a70fbe663",
       "version_major": 2,
       "version_minor": 0
      },
      "text/plain": [
       "BestResp | t#117/400 | k=1 | sats=STARLINK-11421 [DTC]:   0%|          | 0/200 [00:00<?, ?it/s]"
      ]
     },
     "metadata": {},
     "output_type": "display_data"
    },
    {
     "data": {
      "application/vnd.jupyter.widget-view+json": {
       "model_id": "a81ee60b8f7e472698ed0f987fe4576e",
       "version_major": 2,
       "version_minor": 0
      },
      "text/plain": [
       "BestResp | t#117/400 | k=3 | sats=STARLINK-11421 [DTC],STARLINK-1031,STARLINK-32299:   0%|          | 0/200 [0…"
      ]
     },
     "metadata": {},
     "output_type": "display_data"
    },
    {
     "data": {
      "application/vnd.jupyter.widget-view+json": {
       "model_id": "868fb2ec6a8e4028a4a6042cf45daa88",
       "version_major": 2,
       "version_minor": 0
      },
      "text/plain": [
       "BestResp | t#117/400 | k=5 | sats=STARLINK-11421 [DTC],STARLINK-1031,STARLINK-32299,STARLINK-30936,STARLINK-31…"
      ]
     },
     "metadata": {},
     "output_type": "display_data"
    },
    {
     "data": {
      "application/vnd.jupyter.widget-view+json": {
       "model_id": "a20d9007c6064ddebe22b6b2deb36a62",
       "version_major": 2,
       "version_minor": 0
      },
      "text/plain": [
       "BestResp | t#118/400 | k=1 | sats=STARLINK-11551 [DTC]:   0%|          | 0/200 [00:00<?, ?it/s]"
      ]
     },
     "metadata": {},
     "output_type": "display_data"
    },
    {
     "data": {
      "application/vnd.jupyter.widget-view+json": {
       "model_id": "6bb2645192224c97b17ac528a488a5f5",
       "version_major": 2,
       "version_minor": 0
      },
      "text/plain": [
       "BestResp | t#118/400 | k=3 | sats=STARLINK-11551 [DTC],STARLINK-11261 [DTC],STARLINK-11628 [DTC]:   0%|       …"
      ]
     },
     "metadata": {},
     "output_type": "display_data"
    },
    {
     "data": {
      "application/vnd.jupyter.widget-view+json": {
       "model_id": "f9ea7e0202b048d6b3b0272a883bf6a2",
       "version_major": 2,
       "version_minor": 0
      },
      "text/plain": [
       "BestResp | t#118/400 | k=5 | sats=STARLINK-11551 [DTC],STARLINK-11261 [DTC],STARLINK-11628 [DTC],STARLINK-3411…"
      ]
     },
     "metadata": {},
     "output_type": "display_data"
    },
    {
     "data": {
      "application/vnd.jupyter.widget-view+json": {
       "model_id": "973dc8f5478a492d81baf95c49069701",
       "version_major": 2,
       "version_minor": 0
      },
      "text/plain": [
       "BestResp | t#119/400 | k=1 | sats=STARLINK-31618:   0%|          | 0/200 [00:00<?, ?it/s]"
      ]
     },
     "metadata": {},
     "output_type": "display_data"
    },
    {
     "data": {
      "application/vnd.jupyter.widget-view+json": {
       "model_id": "98350b96f99c41c9bd78d23127929ced",
       "version_major": 2,
       "version_minor": 0
      },
      "text/plain": [
       "BestResp | t#119/400 | k=3 | sats=STARLINK-31618,STARLINK-11422 [DTC],STARLINK-32206:   0%|          | 0/200 […"
      ]
     },
     "metadata": {},
     "output_type": "display_data"
    },
    {
     "data": {
      "application/vnd.jupyter.widget-view+json": {
       "model_id": "39f8fdc956824f44800a55a93e5302c4",
       "version_major": 2,
       "version_minor": 0
      },
      "text/plain": [
       "BestResp | t#119/400 | k=5 | sats=STARLINK-31618,STARLINK-11422 [DTC],STARLINK-32206,STARLINK-1645,STARLINK-31…"
      ]
     },
     "metadata": {},
     "output_type": "display_data"
    },
    {
     "data": {
      "application/vnd.jupyter.widget-view+json": {
       "model_id": "02c07aeea49d49b78e98525c77c5e925",
       "version_major": 2,
       "version_minor": 0
      },
      "text/plain": [
       "BestResp | t#120/400 | k=1 | sats=STARLINK-11699 [DTC]:   0%|          | 0/200 [00:00<?, ?it/s]"
      ]
     },
     "metadata": {},
     "output_type": "display_data"
    },
    {
     "data": {
      "application/vnd.jupyter.widget-view+json": {
       "model_id": "f4a3f54b6ffb4a8abab80929dc0fe019",
       "version_major": 2,
       "version_minor": 0
      },
      "text/plain": [
       "BestResp | t#120/400 | k=3 | sats=STARLINK-11699 [DTC],STARLINK-31997,STARLINK-31452:   0%|          | 0/200 […"
      ]
     },
     "metadata": {},
     "output_type": "display_data"
    },
    {
     "data": {
      "application/vnd.jupyter.widget-view+json": {
       "model_id": "4a3e653a5496473882be1a45820b0509",
       "version_major": 2,
       "version_minor": 0
      },
      "text/plain": [
       "BestResp | t#120/400 | k=5 | sats=STARLINK-11699 [DTC],STARLINK-31997,STARLINK-31452,STARLINK-30185,STARLINK-3…"
      ]
     },
     "metadata": {},
     "output_type": "display_data"
    },
    {
     "name": "stdout",
     "output_type": "stream",
     "text": [
      "[flush] wrote up to step 120\n"
     ]
    },
    {
     "data": {
      "application/vnd.jupyter.widget-view+json": {
       "model_id": "74abeed89139494a9b56ffad6a8b1e8d",
       "version_major": 2,
       "version_minor": 0
      },
      "text/plain": [
       "BestResp | t#121/400 | k=1 | sats=STARLINK-11480 [DTC]:   0%|          | 0/200 [00:00<?, ?it/s]"
      ]
     },
     "metadata": {},
     "output_type": "display_data"
    },
    {
     "data": {
      "application/vnd.jupyter.widget-view+json": {
       "model_id": "3ec476e6c3ec4ab2b1914ad04c8e8d79",
       "version_major": 2,
       "version_minor": 0
      },
      "text/plain": [
       "BestResp | t#121/400 | k=3 | sats=STARLINK-11480 [DTC],STARLINK-5715,STARLINK-11581 [DTC]:   0%|          | 0/…"
      ]
     },
     "metadata": {},
     "output_type": "display_data"
    },
    {
     "data": {
      "application/vnd.jupyter.widget-view+json": {
       "model_id": "ae77401d209a4090a79bf6ca89fe1be3",
       "version_major": 2,
       "version_minor": 0
      },
      "text/plain": [
       "BestResp | t#121/400 | k=5 | sats=STARLINK-11480 [DTC],STARLINK-5715,STARLINK-11581 [DTC],STARLINK-34914,STARL…"
      ]
     },
     "metadata": {},
     "output_type": "display_data"
    },
    {
     "data": {
      "application/vnd.jupyter.widget-view+json": {
       "model_id": "bcf54d8231844d38a8f24fd63cfccd76",
       "version_major": 2,
       "version_minor": 0
      },
      "text/plain": [
       "BestResp | t#122/400 | k=1 | sats=STARLINK-11259 [DTC]:   0%|          | 0/200 [00:00<?, ?it/s]"
      ]
     },
     "metadata": {},
     "output_type": "display_data"
    },
    {
     "data": {
      "application/vnd.jupyter.widget-view+json": {
       "model_id": "720d5989d28f4bb5a4af0b5ae77cc93a",
       "version_major": 2,
       "version_minor": 0
      },
      "text/plain": [
       "BestResp | t#122/400 | k=3 | sats=STARLINK-11259 [DTC],STARLINK-33832,STARLINK-31576:   0%|          | 0/200 […"
      ]
     },
     "metadata": {},
     "output_type": "display_data"
    },
    {
     "data": {
      "application/vnd.jupyter.widget-view+json": {
       "model_id": "999dc133cd2b4a69aa4066b5413f462b",
       "version_major": 2,
       "version_minor": 0
      },
      "text/plain": [
       "BestResp | t#122/400 | k=5 | sats=STARLINK-11259 [DTC],STARLINK-33832,STARLINK-31576,STARLINK-32142,STARLINK-3…"
      ]
     },
     "metadata": {},
     "output_type": "display_data"
    },
    {
     "data": {
      "application/vnd.jupyter.widget-view+json": {
       "model_id": "6487aebe1320480fb94d7a2a547746e4",
       "version_major": 2,
       "version_minor": 0
      },
      "text/plain": [
       "BestResp | t#123/400 | k=1 | sats=STARLINK-11259 [DTC]:   0%|          | 0/200 [00:00<?, ?it/s]"
      ]
     },
     "metadata": {},
     "output_type": "display_data"
    },
    {
     "data": {
      "application/vnd.jupyter.widget-view+json": {
       "model_id": "a3a6a8b9af1e45199f887ad33888abc4",
       "version_major": 2,
       "version_minor": 0
      },
      "text/plain": [
       "BestResp | t#123/400 | k=3 | sats=STARLINK-11259 [DTC],STARLINK-34833,STARLINK-30607:   0%|          | 0/200 […"
      ]
     },
     "metadata": {},
     "output_type": "display_data"
    },
    {
     "data": {
      "application/vnd.jupyter.widget-view+json": {
       "model_id": "4b294b38e7974a0e98fcdb1f6c1e69cd",
       "version_major": 2,
       "version_minor": 0
      },
      "text/plain": [
       "BestResp | t#123/400 | k=5 | sats=STARLINK-11259 [DTC],STARLINK-34833,STARLINK-30607,STARLINK-31071,STARLINK-3…"
      ]
     },
     "metadata": {},
     "output_type": "display_data"
    },
    {
     "data": {
      "application/vnd.jupyter.widget-view+json": {
       "model_id": "8fc09590708f47ee836d3818009a9095",
       "version_major": 2,
       "version_minor": 0
      },
      "text/plain": [
       "BestResp | t#124/400 | k=1 | sats=STARLINK-11593 [DTC]:   0%|          | 0/200 [00:00<?, ?it/s]"
      ]
     },
     "metadata": {},
     "output_type": "display_data"
    },
    {
     "data": {
      "application/vnd.jupyter.widget-view+json": {
       "model_id": "c3e858365d7142a29c6389ac9c563f12",
       "version_major": 2,
       "version_minor": 0
      },
      "text/plain": [
       "BestResp | t#124/400 | k=3 | sats=STARLINK-11593 [DTC],STARLINK-32422,STARLINK-31518:   0%|          | 0/200 […"
      ]
     },
     "metadata": {},
     "output_type": "display_data"
    },
    {
     "data": {
      "application/vnd.jupyter.widget-view+json": {
       "model_id": "ed26a3f0f16f414b961a6a0a1a5f7b66",
       "version_major": 2,
       "version_minor": 0
      },
      "text/plain": [
       "BestResp | t#124/400 | k=5 | sats=STARLINK-11593 [DTC],STARLINK-32422,STARLINK-31518,STARLINK-31854,STARLINK-3…"
      ]
     },
     "metadata": {},
     "output_type": "display_data"
    },
    {
     "data": {
      "application/vnd.jupyter.widget-view+json": {
       "model_id": "9977c59553cc43f9b5b0bc30ee2491a0",
       "version_major": 2,
       "version_minor": 0
      },
      "text/plain": [
       "BestResp | t#125/400 | k=1 | sats=STARLINK-11339 [DTC]:   0%|          | 0/200 [00:00<?, ?it/s]"
      ]
     },
     "metadata": {},
     "output_type": "display_data"
    },
    {
     "data": {
      "application/vnd.jupyter.widget-view+json": {
       "model_id": "0e083d70c2474609b80e06b935a70a51",
       "version_major": 2,
       "version_minor": 0
      },
      "text/plain": [
       "BestResp | t#125/400 | k=3 | sats=STARLINK-11339 [DTC],STARLINK-33810,STARLINK-3230:   0%|          | 0/200 [0…"
      ]
     },
     "metadata": {},
     "output_type": "display_data"
    },
    {
     "data": {
      "application/vnd.jupyter.widget-view+json": {
       "model_id": "a59d21dd31ff4dd4a9e6317a3acf9429",
       "version_major": 2,
       "version_minor": 0
      },
      "text/plain": [
       "BestResp | t#125/400 | k=5 | sats=STARLINK-11339 [DTC],STARLINK-33810,STARLINK-3230,STARLINK-3687,STARLINK-254…"
      ]
     },
     "metadata": {},
     "output_type": "display_data"
    },
    {
     "data": {
      "application/vnd.jupyter.widget-view+json": {
       "model_id": "fa6563105f1b45398ae87efb9dcf3082",
       "version_major": 2,
       "version_minor": 0
      },
      "text/plain": [
       "BestResp | t#126/400 | k=1 | sats=STARLINK-33663:   0%|          | 0/200 [00:00<?, ?it/s]"
      ]
     },
     "metadata": {},
     "output_type": "display_data"
    },
    {
     "data": {
      "application/vnd.jupyter.widget-view+json": {
       "model_id": "7eb48dd0b05a4683874811e3506dc92e",
       "version_major": 2,
       "version_minor": 0
      },
      "text/plain": [
       "BestResp | t#126/400 | k=3 | sats=STARLINK-33663,STARLINK-34203,STARLINK-33834:   0%|          | 0/200 [00:00<…"
      ]
     },
     "metadata": {},
     "output_type": "display_data"
    },
    {
     "data": {
      "application/vnd.jupyter.widget-view+json": {
       "model_id": "c8c192ca4b70443c8b12924266a35a71",
       "version_major": 2,
       "version_minor": 0
      },
      "text/plain": [
       "BestResp | t#126/400 | k=5 | sats=STARLINK-33663,STARLINK-34203,STARLINK-33834,STARLINK-30572,STARLINK-4122:  …"
      ]
     },
     "metadata": {},
     "output_type": "display_data"
    },
    {
     "data": {
      "application/vnd.jupyter.widget-view+json": {
       "model_id": "a0f607667bc04bbe85331a83767052f8",
       "version_major": 2,
       "version_minor": 0
      },
      "text/plain": [
       "BestResp | t#127/400 | k=1 | sats=STARLINK-33663:   0%|          | 0/200 [00:00<?, ?it/s]"
      ]
     },
     "metadata": {},
     "output_type": "display_data"
    },
    {
     "data": {
      "application/vnd.jupyter.widget-view+json": {
       "model_id": "7c0e45a5065147e88afe73f9805f4be0",
       "version_major": 2,
       "version_minor": 0
      },
      "text/plain": [
       "BestResp | t#127/400 | k=3 | sats=STARLINK-33663,STARLINK-34203,STARLINK-33834:   0%|          | 0/200 [00:00<…"
      ]
     },
     "metadata": {},
     "output_type": "display_data"
    },
    {
     "data": {
      "application/vnd.jupyter.widget-view+json": {
       "model_id": "d6c9bbf850ad401a89121315142927f2",
       "version_major": 2,
       "version_minor": 0
      },
      "text/plain": [
       "BestResp | t#127/400 | k=5 | sats=STARLINK-33663,STARLINK-34203,STARLINK-33834,STARLINK-30572,STARLINK-4122:  …"
      ]
     },
     "metadata": {},
     "output_type": "display_data"
    },
    {
     "data": {
      "application/vnd.jupyter.widget-view+json": {
       "model_id": "370ffc4e0d6847d998bba9fa714ea9d2",
       "version_major": 2,
       "version_minor": 0
      },
      "text/plain": [
       "BestResp | t#128/400 | k=1 | sats=STARLINK-31702:   0%|          | 0/200 [00:00<?, ?it/s]"
      ]
     },
     "metadata": {},
     "output_type": "display_data"
    },
    {
     "data": {
      "application/vnd.jupyter.widget-view+json": {
       "model_id": "c64dd72155304469a7b85f2be1f054ef",
       "version_major": 2,
       "version_minor": 0
      },
      "text/plain": [
       "BestResp | t#128/400 | k=3 | sats=STARLINK-31702,STARLINK-32945,STARLINK-31057:   0%|          | 0/200 [00:00<…"
      ]
     },
     "metadata": {},
     "output_type": "display_data"
    },
    {
     "data": {
      "application/vnd.jupyter.widget-view+json": {
       "model_id": "dbaf299520b349f2b754c8d8d2a88a9b",
       "version_major": 2,
       "version_minor": 0
      },
      "text/plain": [
       "BestResp | t#128/400 | k=5 | sats=STARLINK-31702,STARLINK-32945,STARLINK-31057,STARLINK-6350,STARLINK-30502:  …"
      ]
     },
     "metadata": {},
     "output_type": "display_data"
    },
    {
     "data": {
      "application/vnd.jupyter.widget-view+json": {
       "model_id": "7733929dea9148b1a7a6fcd2c8b0116e",
       "version_major": 2,
       "version_minor": 0
      },
      "text/plain": [
       "BestResp | t#129/400 | k=1 | sats=STARLINK-11602 [DTC]:   0%|          | 0/200 [00:00<?, ?it/s]"
      ]
     },
     "metadata": {},
     "output_type": "display_data"
    },
    {
     "data": {
      "application/vnd.jupyter.widget-view+json": {
       "model_id": "b41fd3484caf4ac182a84c5e129c8d15",
       "version_major": 2,
       "version_minor": 0
      },
      "text/plain": [
       "BestResp | t#129/400 | k=3 | sats=STARLINK-11602 [DTC],STARLINK-33826,STARLINK-31261:   0%|          | 0/200 […"
      ]
     },
     "metadata": {},
     "output_type": "display_data"
    },
    {
     "data": {
      "application/vnd.jupyter.widget-view+json": {
       "model_id": "52b57533a0e6465e9aa4a0f57bb5bd69",
       "version_major": 2,
       "version_minor": 0
      },
      "text/plain": [
       "BestResp | t#129/400 | k=5 | sats=STARLINK-11602 [DTC],STARLINK-33826,STARLINK-31261,STARLINK-31036,STARLINK-3…"
      ]
     },
     "metadata": {},
     "output_type": "display_data"
    },
    {
     "data": {
      "application/vnd.jupyter.widget-view+json": {
       "model_id": "1663ea28e70f457cad0b08cbe56de961",
       "version_major": 2,
       "version_minor": 0
      },
      "text/plain": [
       "BestResp | t#130/400 | k=1 | sats=STARLINK-11340 [DTC]:   0%|          | 0/200 [00:00<?, ?it/s]"
      ]
     },
     "metadata": {},
     "output_type": "display_data"
    },
    {
     "data": {
      "application/vnd.jupyter.widget-view+json": {
       "model_id": "b5d5f9242d08480f9eb16bf0ae5458f9",
       "version_major": 2,
       "version_minor": 0
      },
      "text/plain": [
       "BestResp | t#130/400 | k=3 | sats=STARLINK-11340 [DTC],STARLINK-33789,STARLINK-33571:   0%|          | 0/200 […"
      ]
     },
     "metadata": {},
     "output_type": "display_data"
    },
    {
     "data": {
      "application/vnd.jupyter.widget-view+json": {
       "model_id": "3c02d5c661274b67b3645e54d8b0bba6",
       "version_major": 2,
       "version_minor": 0
      },
      "text/plain": [
       "BestResp | t#130/400 | k=5 | sats=STARLINK-11340 [DTC],STARLINK-33789,STARLINK-33571,STARLINK-6233,STARLINK-34…"
      ]
     },
     "metadata": {},
     "output_type": "display_data"
    },
    {
     "data": {
      "application/vnd.jupyter.widget-view+json": {
       "model_id": "bf9ad1004363409caca68463ceca70d7",
       "version_major": 2,
       "version_minor": 0
      },
      "text/plain": [
       "BestResp | t#131/400 | k=1 | sats=STARLINK-11336 [DTC]:   0%|          | 0/200 [00:00<?, ?it/s]"
      ]
     },
     "metadata": {},
     "output_type": "display_data"
    },
    {
     "data": {
      "application/vnd.jupyter.widget-view+json": {
       "model_id": "8cf34c8cbcd04b8ebea565ab1b2b3a9f",
       "version_major": 2,
       "version_minor": 0
      },
      "text/plain": [
       "BestResp | t#131/400 | k=3 | sats=STARLINK-11336 [DTC],STARLINK-33661,STARLINK-30595:   0%|          | 0/200 […"
      ]
     },
     "metadata": {},
     "output_type": "display_data"
    },
    {
     "data": {
      "application/vnd.jupyter.widget-view+json": {
       "model_id": "cb40e6f2254a466f8f74316267bd1ea1",
       "version_major": 2,
       "version_minor": 0
      },
      "text/plain": [
       "BestResp | t#131/400 | k=5 | sats=STARLINK-11336 [DTC],STARLINK-33661,STARLINK-30595,STARLINK-33752,STARLINK-3…"
      ]
     },
     "metadata": {},
     "output_type": "display_data"
    },
    {
     "data": {
      "application/vnd.jupyter.widget-view+json": {
       "model_id": "9a26abf802244677ab1b9cace32c1207",
       "version_major": 2,
       "version_minor": 0
      },
      "text/plain": [
       "BestResp | t#132/400 | k=1 | sats=STARLINK-31564:   0%|          | 0/200 [00:00<?, ?it/s]"
      ]
     },
     "metadata": {},
     "output_type": "display_data"
    },
    {
     "data": {
      "application/vnd.jupyter.widget-view+json": {
       "model_id": "3989742c72234690a2671e0830ac013d",
       "version_major": 2,
       "version_minor": 0
      },
      "text/plain": [
       "BestResp | t#132/400 | k=3 | sats=STARLINK-31564,STARLINK-32941,STARLINK-34016:   0%|          | 0/200 [00:00<…"
      ]
     },
     "metadata": {},
     "output_type": "display_data"
    },
    {
     "data": {
      "application/vnd.jupyter.widget-view+json": {
       "model_id": "18228d3c9917428f85533416108f3f70",
       "version_major": 2,
       "version_minor": 0
      },
      "text/plain": [
       "BestResp | t#132/400 | k=5 | sats=STARLINK-31564,STARLINK-32941,STARLINK-34016,STARLINK-4149,STARLINK-31668:  …"
      ]
     },
     "metadata": {},
     "output_type": "display_data"
    },
    {
     "data": {
      "application/vnd.jupyter.widget-view+json": {
       "model_id": "cf22c48c95514dcdbc7176db3a82d914",
       "version_major": 2,
       "version_minor": 0
      },
      "text/plain": [
       "BestResp | t#133/400 | k=1 | sats=STARLINK-11631 [DTC]:   0%|          | 0/200 [00:00<?, ?it/s]"
      ]
     },
     "metadata": {},
     "output_type": "display_data"
    },
    {
     "data": {
      "application/vnd.jupyter.widget-view+json": {
       "model_id": "02d9c931f6dd4e1d8ddb007b81ce14e0",
       "version_major": 2,
       "version_minor": 0
      },
      "text/plain": [
       "BestResp | t#133/400 | k=3 | sats=STARLINK-11631 [DTC],STARLINK-11344 [DTC],STARLINK-11575 [DTC]:   0%|       …"
      ]
     },
     "metadata": {},
     "output_type": "display_data"
    },
    {
     "data": {
      "application/vnd.jupyter.widget-view+json": {
       "model_id": "9bb4555aef1f4a6b87274a7c82ffb509",
       "version_major": 2,
       "version_minor": 0
      },
      "text/plain": [
       "BestResp | t#133/400 | k=5 | sats=STARLINK-11631 [DTC],STARLINK-11344 [DTC],STARLINK-11575 [DTC],STARLINK-3267…"
      ]
     },
     "metadata": {},
     "output_type": "display_data"
    },
    {
     "data": {
      "application/vnd.jupyter.widget-view+json": {
       "model_id": "63427448970f42ab9ec0388d8052f90e",
       "version_major": 2,
       "version_minor": 0
      },
      "text/plain": [
       "BestResp | t#134/400 | k=1 | sats=STARLINK-11672 [DTC]:   0%|          | 0/200 [00:00<?, ?it/s]"
      ]
     },
     "metadata": {},
     "output_type": "display_data"
    },
    {
     "data": {
      "application/vnd.jupyter.widget-view+json": {
       "model_id": "175bb21c9ec642c0821589b5d4b8045b",
       "version_major": 2,
       "version_minor": 0
      },
      "text/plain": [
       "BestResp | t#134/400 | k=3 | sats=STARLINK-11672 [DTC],STARLINK-32284,STARLINK-34760:   0%|          | 0/200 […"
      ]
     },
     "metadata": {},
     "output_type": "display_data"
    },
    {
     "data": {
      "application/vnd.jupyter.widget-view+json": {
       "model_id": "f7cf86ad08a14e67be9717f0a92305cd",
       "version_major": 2,
       "version_minor": 0
      },
      "text/plain": [
       "BestResp | t#134/400 | k=5 | sats=STARLINK-11672 [DTC],STARLINK-32284,STARLINK-34760,STARLINK-1366,STARLINK-33…"
      ]
     },
     "metadata": {},
     "output_type": "display_data"
    },
    {
     "data": {
      "application/vnd.jupyter.widget-view+json": {
       "model_id": "c297e7fc13d341478bdff32372f837ac",
       "version_major": 2,
       "version_minor": 0
      },
      "text/plain": [
       "BestResp | t#135/400 | k=1 | sats=STARLINK-33936:   0%|          | 0/200 [00:00<?, ?it/s]"
      ]
     },
     "metadata": {},
     "output_type": "display_data"
    },
    {
     "data": {
      "application/vnd.jupyter.widget-view+json": {
       "model_id": "92c27f47b29441b28648c0486604980c",
       "version_major": 2,
       "version_minor": 0
      },
      "text/plain": [
       "BestResp | t#135/400 | k=3 | sats=STARLINK-33936,STARLINK-33876,STARLINK-30510:   0%|          | 0/200 [00:00<…"
      ]
     },
     "metadata": {},
     "output_type": "display_data"
    },
    {
     "data": {
      "application/vnd.jupyter.widget-view+json": {
       "model_id": "a70cb634fab7400dacce217916549514",
       "version_major": 2,
       "version_minor": 0
      },
      "text/plain": [
       "BestResp | t#135/400 | k=5 | sats=STARLINK-33936,STARLINK-33876,STARLINK-30510,STARLINK-6069,STARLINK-30958:  …"
      ]
     },
     "metadata": {},
     "output_type": "display_data"
    },
    {
     "data": {
      "application/vnd.jupyter.widget-view+json": {
       "model_id": "df5775881139494b8da5ea8046e08de0",
       "version_major": 2,
       "version_minor": 0
      },
      "text/plain": [
       "BestResp | t#136/400 | k=1 | sats=STARLINK-11559 [DTC]:   0%|          | 0/200 [00:00<?, ?it/s]"
      ]
     },
     "metadata": {},
     "output_type": "display_data"
    },
    {
     "data": {
      "application/vnd.jupyter.widget-view+json": {
       "model_id": "cfee87e5ae13494faa0a50701033a715",
       "version_major": 2,
       "version_minor": 0
      },
      "text/plain": [
       "BestResp | t#136/400 | k=3 | sats=STARLINK-11559 [DTC],STARLINK-31686,STARLINK-31619:   0%|          | 0/200 […"
      ]
     },
     "metadata": {},
     "output_type": "display_data"
    },
    {
     "data": {
      "application/vnd.jupyter.widget-view+json": {
       "model_id": "9cb0558bed164628b2fa6857575306f8",
       "version_major": 2,
       "version_minor": 0
      },
      "text/plain": [
       "BestResp | t#136/400 | k=5 | sats=STARLINK-11559 [DTC],STARLINK-31686,STARLINK-31619,STARLINK-32901,STARLINK-4…"
      ]
     },
     "metadata": {},
     "output_type": "display_data"
    },
    {
     "data": {
      "application/vnd.jupyter.widget-view+json": {
       "model_id": "96e30b5d340544ffa5def6b6d5aac781",
       "version_major": 2,
       "version_minor": 0
      },
      "text/plain": [
       "BestResp | t#137/400 | k=1 | sats=STARLINK-11640 [DTC]:   0%|          | 0/200 [00:00<?, ?it/s]"
      ]
     },
     "metadata": {},
     "output_type": "display_data"
    },
    {
     "data": {
      "application/vnd.jupyter.widget-view+json": {
       "model_id": "82f90ddf9ba54137ba27c5a9ecd9b390",
       "version_major": 2,
       "version_minor": 0
      },
      "text/plain": [
       "BestResp | t#137/400 | k=3 | sats=STARLINK-11640 [DTC],STARLINK-11646 [DTC],STARLINK-11335 [DTC]:   0%|       …"
      ]
     },
     "metadata": {},
     "output_type": "display_data"
    },
    {
     "data": {
      "application/vnd.jupyter.widget-view+json": {
       "model_id": "762ee5161dfa4b5d839a6261ab573def",
       "version_major": 2,
       "version_minor": 0
      },
      "text/plain": [
       "BestResp | t#137/400 | k=5 | sats=STARLINK-11640 [DTC],STARLINK-11646 [DTC],STARLINK-11335 [DTC],STARLINK-3490…"
      ]
     },
     "metadata": {},
     "output_type": "display_data"
    },
    {
     "data": {
      "application/vnd.jupyter.widget-view+json": {
       "model_id": "3b0f96e15e4b4ed98dc13a0110a4a529",
       "version_major": 2,
       "version_minor": 0
      },
      "text/plain": [
       "BestResp | t#138/400 | k=1 | sats=STARLINK-11651 [DTC]:   0%|          | 0/200 [00:00<?, ?it/s]"
      ]
     },
     "metadata": {},
     "output_type": "display_data"
    },
    {
     "data": {
      "application/vnd.jupyter.widget-view+json": {
       "model_id": "13a2ce61443e4d739cc1606327665a97",
       "version_major": 2,
       "version_minor": 0
      },
      "text/plain": [
       "BestResp | t#138/400 | k=3 | sats=STARLINK-11651 [DTC],STARLINK-32661,STARLINK-33683:   0%|          | 0/200 […"
      ]
     },
     "metadata": {},
     "output_type": "display_data"
    },
    {
     "data": {
      "application/vnd.jupyter.widget-view+json": {
       "model_id": "f3feeaef40504c278f4abde98faeb307",
       "version_major": 2,
       "version_minor": 0
      },
      "text/plain": [
       "BestResp | t#138/400 | k=5 | sats=STARLINK-11651 [DTC],STARLINK-32661,STARLINK-33683,STARLINK-33748,STARLINK-1…"
      ]
     },
     "metadata": {},
     "output_type": "display_data"
    },
    {
     "data": {
      "application/vnd.jupyter.widget-view+json": {
       "model_id": "c2c0fb01510b43899a0d192f643d73c2",
       "version_major": 2,
       "version_minor": 0
      },
      "text/plain": [
       "BestResp | t#139/400 | k=1 | sats=STARLINK-35160:   0%|          | 0/200 [00:00<?, ?it/s]"
      ]
     },
     "metadata": {},
     "output_type": "display_data"
    },
    {
     "data": {
      "application/vnd.jupyter.widget-view+json": {
       "model_id": "442f1bdcafcd42778abe0284b988040d",
       "version_major": 2,
       "version_minor": 0
      },
      "text/plain": [
       "BestResp | t#139/400 | k=3 | sats=STARLINK-35160,STARLINK-35508,STARLINK-31864:   0%|          | 0/200 [00:00<…"
      ]
     },
     "metadata": {},
     "output_type": "display_data"
    },
    {
     "data": {
      "application/vnd.jupyter.widget-view+json": {
       "model_id": "5a68cd4f91514f1fb9c3b4aa2c8d4ce0",
       "version_major": 2,
       "version_minor": 0
      },
      "text/plain": [
       "BestResp | t#139/400 | k=5 | sats=STARLINK-35160,STARLINK-35508,STARLINK-31864,STARLINK-33836,STARLINK-4190:  …"
      ]
     },
     "metadata": {},
     "output_type": "display_data"
    },
    {
     "data": {
      "application/vnd.jupyter.widget-view+json": {
       "model_id": "dc3488939bcb4912bd3d5a716fe81a05",
       "version_major": 2,
       "version_minor": 0
      },
      "text/plain": [
       "BestResp | t#140/400 | k=1 | sats=STARLINK-11720 [DTC]:   0%|          | 0/200 [00:00<?, ?it/s]"
      ]
     },
     "metadata": {},
     "output_type": "display_data"
    },
    {
     "data": {
      "application/vnd.jupyter.widget-view+json": {
       "model_id": "cbf50b3f06d245a981dcb562625f9164",
       "version_major": 2,
       "version_minor": 0
      },
      "text/plain": [
       "BestResp | t#140/400 | k=3 | sats=STARLINK-11720 [DTC],STARLINK-32919,STARLINK-32947:   0%|          | 0/200 […"
      ]
     },
     "metadata": {},
     "output_type": "display_data"
    },
    {
     "data": {
      "application/vnd.jupyter.widget-view+json": {
       "model_id": "9384056791d44aba884da30c57321498",
       "version_major": 2,
       "version_minor": 0
      },
      "text/plain": [
       "BestResp | t#140/400 | k=5 | sats=STARLINK-11720 [DTC],STARLINK-32919,STARLINK-32947,STARLINK-30560,STARLINK-2…"
      ]
     },
     "metadata": {},
     "output_type": "display_data"
    },
    {
     "name": "stdout",
     "output_type": "stream",
     "text": [
      "[flush] wrote up to step 140\n"
     ]
    },
    {
     "data": {
      "application/vnd.jupyter.widget-view+json": {
       "model_id": "94f751ace9f54615a69b4dd665a1d42f",
       "version_major": 2,
       "version_minor": 0
      },
      "text/plain": [
       "BestResp | t#141/400 | k=1 | sats=STARLINK-11128 [DTC]:   0%|          | 0/200 [00:00<?, ?it/s]"
      ]
     },
     "metadata": {},
     "output_type": "display_data"
    },
    {
     "data": {
      "application/vnd.jupyter.widget-view+json": {
       "model_id": "3eca9f31c26247189079a62478c307c8",
       "version_major": 2,
       "version_minor": 0
      },
      "text/plain": [
       "BestResp | t#141/400 | k=3 | sats=STARLINK-11128 [DTC],STARLINK-32008,STARLINK-32617:   0%|          | 0/200 […"
      ]
     },
     "metadata": {},
     "output_type": "display_data"
    },
    {
     "data": {
      "application/vnd.jupyter.widget-view+json": {
       "model_id": "b165791de2804c7cba434475521b22cb",
       "version_major": 2,
       "version_minor": 0
      },
      "text/plain": [
       "BestResp | t#141/400 | k=5 | sats=STARLINK-11128 [DTC],STARLINK-32008,STARLINK-32617,STARLINK-33689,STARLINK-3…"
      ]
     },
     "metadata": {},
     "output_type": "display_data"
    },
    {
     "data": {
      "application/vnd.jupyter.widget-view+json": {
       "model_id": "f2c6f5243520468aad31cb72c8af5c7b",
       "version_major": 2,
       "version_minor": 0
      },
      "text/plain": [
       "BestResp | t#142/400 | k=1 | sats=STARLINK-11343 [DTC]:   0%|          | 0/200 [00:00<?, ?it/s]"
      ]
     },
     "metadata": {},
     "output_type": "display_data"
    },
    {
     "data": {
      "application/vnd.jupyter.widget-view+json": {
       "model_id": "84c6aacdb6ef4fd3a61f0def83606d2a",
       "version_major": 2,
       "version_minor": 0
      },
      "text/plain": [
       "BestResp | t#142/400 | k=3 | sats=STARLINK-11343 [DTC],STARLINK-32943,STARLINK-3772:   0%|          | 0/200 [0…"
      ]
     },
     "metadata": {},
     "output_type": "display_data"
    },
    {
     "data": {
      "application/vnd.jupyter.widget-view+json": {
       "model_id": "8e022c1ee5c74f1c881f31ec607b7342",
       "version_major": 2,
       "version_minor": 0
      },
      "text/plain": [
       "BestResp | t#142/400 | k=5 | sats=STARLINK-11343 [DTC],STARLINK-32943,STARLINK-3772,STARLINK-32176,STARLINK-30…"
      ]
     },
     "metadata": {},
     "output_type": "display_data"
    },
    {
     "data": {
      "application/vnd.jupyter.widget-view+json": {
       "model_id": "414a4433538646cb950501503c950576",
       "version_major": 2,
       "version_minor": 0
      },
      "text/plain": [
       "BestResp | t#143/400 | k=1 | sats=STARLINK-11603 [DTC]:   0%|          | 0/200 [00:00<?, ?it/s]"
      ]
     },
     "metadata": {},
     "output_type": "display_data"
    },
    {
     "data": {
      "application/vnd.jupyter.widget-view+json": {
       "model_id": "ef3b14144bda4161b2be09bb32bb5c13",
       "version_major": 2,
       "version_minor": 0
      },
      "text/plain": [
       "BestResp | t#143/400 | k=3 | sats=STARLINK-11603 [DTC],STARLINK-31771,STARLINK-11147 [DTC]:   0%|          | 0…"
      ]
     },
     "metadata": {},
     "output_type": "display_data"
    },
    {
     "data": {
      "application/vnd.jupyter.widget-view+json": {
       "model_id": "86ec431411674e57ba8a964bd0b77781",
       "version_major": 2,
       "version_minor": 0
      },
      "text/plain": [
       "BestResp | t#143/400 | k=5 | sats=STARLINK-11603 [DTC],STARLINK-31771,STARLINK-11147 [DTC],STARLINK-31735,STAR…"
      ]
     },
     "metadata": {},
     "output_type": "display_data"
    },
    {
     "data": {
      "application/vnd.jupyter.widget-view+json": {
       "model_id": "0625e9659a414bcc93bd9b71c1521011",
       "version_major": 2,
       "version_minor": 0
      },
      "text/plain": [
       "BestResp | t#144/400 | k=1 | sats=STARLINK-11676 [DTC]:   0%|          | 0/200 [00:00<?, ?it/s]"
      ]
     },
     "metadata": {},
     "output_type": "display_data"
    },
    {
     "data": {
      "application/vnd.jupyter.widget-view+json": {
       "model_id": "9375dcaf4c6245189bd883ca99db789c",
       "version_major": 2,
       "version_minor": 0
      },
      "text/plain": [
       "BestResp | t#144/400 | k=3 | sats=STARLINK-11676 [DTC],STARLINK-5134,STARLINK-31397:   0%|          | 0/200 [0…"
      ]
     },
     "metadata": {},
     "output_type": "display_data"
    },
    {
     "data": {
      "application/vnd.jupyter.widget-view+json": {
       "model_id": "ef6c98a1e854488a94f5a703cae323f5",
       "version_major": 2,
       "version_minor": 0
      },
      "text/plain": [
       "BestResp | t#144/400 | k=5 | sats=STARLINK-11676 [DTC],STARLINK-5134,STARLINK-31397,STARLINK-32678,STARLINK-32…"
      ]
     },
     "metadata": {},
     "output_type": "display_data"
    },
    {
     "data": {
      "application/vnd.jupyter.widget-view+json": {
       "model_id": "596b7fa2eed0456ca400328b46bf6ca2",
       "version_major": 2,
       "version_minor": 0
      },
      "text/plain": [
       "BestResp | t#145/400 | k=1 | sats=STARLINK-34205:   0%|          | 0/200 [00:00<?, ?it/s]"
      ]
     },
     "metadata": {},
     "output_type": "display_data"
    },
    {
     "data": {
      "application/vnd.jupyter.widget-view+json": {
       "model_id": "1b1d39a079b94b30b6bdea6134b0b529",
       "version_major": 2,
       "version_minor": 0
      },
      "text/plain": [
       "BestResp | t#145/400 | k=3 | sats=STARLINK-34205,STARLINK-31966,STARLINK-31508:   0%|          | 0/200 [00:00<…"
      ]
     },
     "metadata": {},
     "output_type": "display_data"
    },
    {
     "data": {
      "application/vnd.jupyter.widget-view+json": {
       "model_id": "b2e52dee9f814650ba16d7d2ed1324e3",
       "version_major": 2,
       "version_minor": 0
      },
      "text/plain": [
       "BestResp | t#145/400 | k=5 | sats=STARLINK-34205,STARLINK-31966,STARLINK-31508,STARLINK-2164,STARLINK-5957:   …"
      ]
     },
     "metadata": {},
     "output_type": "display_data"
    },
    {
     "data": {
      "application/vnd.jupyter.widget-view+json": {
       "model_id": "35dffce15e2a419495933bfeb49ccea7",
       "version_major": 2,
       "version_minor": 0
      },
      "text/plain": [
       "BestResp | t#146/400 | k=1 | sats=STARLINK-11735 [DTC]:   0%|          | 0/200 [00:00<?, ?it/s]"
      ]
     },
     "metadata": {},
     "output_type": "display_data"
    },
    {
     "data": {
      "application/vnd.jupyter.widget-view+json": {
       "model_id": "361d8046eb2140c6929e0f897d85e67e",
       "version_major": 2,
       "version_minor": 0
      },
      "text/plain": [
       "BestResp | t#146/400 | k=3 | sats=STARLINK-11735 [DTC],STARLINK-31966,STARLINK-2515:   0%|          | 0/200 [0…"
      ]
     },
     "metadata": {},
     "output_type": "display_data"
    },
    {
     "data": {
      "application/vnd.jupyter.widget-view+json": {
       "model_id": "4de02b672888461886422b7ee3e8cb2d",
       "version_major": 2,
       "version_minor": 0
      },
      "text/plain": [
       "BestResp | t#146/400 | k=5 | sats=STARLINK-11735 [DTC],STARLINK-31966,STARLINK-2515,STARLINK-5728,STARLINK-376…"
      ]
     },
     "metadata": {},
     "output_type": "display_data"
    },
    {
     "data": {
      "application/vnd.jupyter.widget-view+json": {
       "model_id": "e65b32e8833b49dda33ffa68f8fdd98b",
       "version_major": 2,
       "version_minor": 0
      },
      "text/plain": [
       "BestResp | t#147/400 | k=1 | sats=STARLINK-11735 [DTC]:   0%|          | 0/200 [00:00<?, ?it/s]"
      ]
     },
     "metadata": {},
     "output_type": "display_data"
    },
    {
     "data": {
      "application/vnd.jupyter.widget-view+json": {
       "model_id": "29b3699a4ec24c1fbbd1cc13e35aa246",
       "version_major": 2,
       "version_minor": 0
      },
      "text/plain": [
       "BestResp | t#147/400 | k=3 | sats=STARLINK-11735 [DTC],STARLINK-31966,STARLINK-2515:   0%|          | 0/200 [0…"
      ]
     },
     "metadata": {},
     "output_type": "display_data"
    },
    {
     "data": {
      "application/vnd.jupyter.widget-view+json": {
       "model_id": "e77e470f88684e37b3132542e783b559",
       "version_major": 2,
       "version_minor": 0
      },
      "text/plain": [
       "BestResp | t#147/400 | k=5 | sats=STARLINK-11735 [DTC],STARLINK-31966,STARLINK-2515,STARLINK-3760,STARLINK-572…"
      ]
     },
     "metadata": {},
     "output_type": "display_data"
    },
    {
     "data": {
      "application/vnd.jupyter.widget-view+json": {
       "model_id": "28b5a16784a540cb9feab4e95d0304c2",
       "version_major": 2,
       "version_minor": 0
      },
      "text/plain": [
       "BestResp | t#148/400 | k=1 | sats=STARLINK-11701 [DTC]:   0%|          | 0/200 [00:00<?, ?it/s]"
      ]
     },
     "metadata": {},
     "output_type": "display_data"
    },
    {
     "data": {
      "application/vnd.jupyter.widget-view+json": {
       "model_id": "ef0ff93e12cc4e529c86fe6d0c362ed0",
       "version_major": 2,
       "version_minor": 0
      },
      "text/plain": [
       "BestResp | t#148/400 | k=3 | sats=STARLINK-11701 [DTC],STARLINK-34596,STARLINK-30844:   0%|          | 0/200 […"
      ]
     },
     "metadata": {},
     "output_type": "display_data"
    },
    {
     "data": {
      "application/vnd.jupyter.widget-view+json": {
       "model_id": "d31f689f7f974db5ae18a22f540ba5c7",
       "version_major": 2,
       "version_minor": 0
      },
      "text/plain": [
       "BestResp | t#148/400 | k=5 | sats=STARLINK-11701 [DTC],STARLINK-34596,STARLINK-30844,STARLINK-32079,STARLINK-3…"
      ]
     },
     "metadata": {},
     "output_type": "display_data"
    },
    {
     "data": {
      "application/vnd.jupyter.widget-view+json": {
       "model_id": "dfdc35d695614b969b3d3adc753c9914",
       "version_major": 2,
       "version_minor": 0
      },
      "text/plain": [
       "BestResp | t#149/400 | k=1 | sats=STARLINK-11701 [DTC]:   0%|          | 0/200 [00:00<?, ?it/s]"
      ]
     },
     "metadata": {},
     "output_type": "display_data"
    },
    {
     "data": {
      "application/vnd.jupyter.widget-view+json": {
       "model_id": "756e9382e79e448ab0994ac11d60f9ad",
       "version_major": 2,
       "version_minor": 0
      },
      "text/plain": [
       "BestResp | t#149/400 | k=3 | sats=STARLINK-11701 [DTC],STARLINK-11330 [DTC],STARLINK-34596:   0%|          | 0…"
      ]
     },
     "metadata": {},
     "output_type": "display_data"
    },
    {
     "data": {
      "application/vnd.jupyter.widget-view+json": {
       "model_id": "f1ce086818014764be52d4f81e0164d7",
       "version_major": 2,
       "version_minor": 0
      },
      "text/plain": [
       "BestResp | t#149/400 | k=5 | sats=STARLINK-11701 [DTC],STARLINK-11330 [DTC],STARLINK-34596,STARLINK-30844,STAR…"
      ]
     },
     "metadata": {},
     "output_type": "display_data"
    },
    {
     "data": {
      "application/vnd.jupyter.widget-view+json": {
       "model_id": "3a432b6de5534df999ed0aefbe1264ac",
       "version_major": 2,
       "version_minor": 0
      },
      "text/plain": [
       "BestResp | t#150/400 | k=1 | sats=STARLINK-11330 [DTC]:   0%|          | 0/200 [00:00<?, ?it/s]"
      ]
     },
     "metadata": {},
     "output_type": "display_data"
    },
    {
     "data": {
      "application/vnd.jupyter.widget-view+json": {
       "model_id": "ff267ee0e7f14aa5b35996f1701f1a20",
       "version_major": 2,
       "version_minor": 0
      },
      "text/plain": [
       "BestResp | t#150/400 | k=3 | sats=STARLINK-11330 [DTC],STARLINK-31153,STARLINK-31227:   0%|          | 0/200 […"
      ]
     },
     "metadata": {},
     "output_type": "display_data"
    },
    {
     "data": {
      "application/vnd.jupyter.widget-view+json": {
       "model_id": "17285331333e453a8bc1ff4b3e869c33",
       "version_major": 2,
       "version_minor": 0
      },
      "text/plain": [
       "BestResp | t#150/400 | k=5 | sats=STARLINK-11330 [DTC],STARLINK-31153,STARLINK-31227,STARLINK-5760,STARLINK-31…"
      ]
     },
     "metadata": {},
     "output_type": "display_data"
    },
    {
     "data": {
      "application/vnd.jupyter.widget-view+json": {
       "model_id": "5c232c3af75f4fe4a6c3b0e31d5bae56",
       "version_major": 2,
       "version_minor": 0
      },
      "text/plain": [
       "BestResp | t#151/400 | k=1 | sats=STARLINK-31734:   0%|          | 0/200 [00:00<?, ?it/s]"
      ]
     },
     "metadata": {},
     "output_type": "display_data"
    },
    {
     "data": {
      "application/vnd.jupyter.widget-view+json": {
       "model_id": "5233e9e1a5294680bd76c2126e5872fd",
       "version_major": 2,
       "version_minor": 0
      },
      "text/plain": [
       "BestResp | t#151/400 | k=3 | sats=STARLINK-31734,STARLINK-34595,STARLINK-31437:   0%|          | 0/200 [00:00<…"
      ]
     },
     "metadata": {},
     "output_type": "display_data"
    },
    {
     "data": {
      "application/vnd.jupyter.widget-view+json": {
       "model_id": "710c530ac2b8429fa563435f0b3667a2",
       "version_major": 2,
       "version_minor": 0
      },
      "text/plain": [
       "BestResp | t#151/400 | k=5 | sats=STARLINK-31734,STARLINK-34595,STARLINK-31437,STARLINK-5697,STARLINK-3889:   …"
      ]
     },
     "metadata": {},
     "output_type": "display_data"
    },
    {
     "data": {
      "application/vnd.jupyter.widget-view+json": {
       "model_id": "a8304cfd49cc4a9caa7db6edb38e9327",
       "version_major": 2,
       "version_minor": 0
      },
      "text/plain": [
       "BestResp | t#152/400 | k=1 | sats=STARLINK-11706 [DTC]:   0%|          | 0/200 [00:00<?, ?it/s]"
      ]
     },
     "metadata": {},
     "output_type": "display_data"
    },
    {
     "data": {
      "application/vnd.jupyter.widget-view+json": {
       "model_id": "29889734629d4cf99ab59aaf94e8a5f3",
       "version_major": 2,
       "version_minor": 0
      },
      "text/plain": [
       "BestResp | t#152/400 | k=3 | sats=STARLINK-11706 [DTC],STARLINK-11262 [DTC],STARLINK-31866:   0%|          | 0…"
      ]
     },
     "metadata": {},
     "output_type": "display_data"
    },
    {
     "data": {
      "application/vnd.jupyter.widget-view+json": {
       "model_id": "7c1c0591131c48f2af6e2449ae31fe31",
       "version_major": 2,
       "version_minor": 0
      },
      "text/plain": [
       "BestResp | t#152/400 | k=5 | sats=STARLINK-11706 [DTC],STARLINK-11262 [DTC],STARLINK-31866,STARLINK-34221,STAR…"
      ]
     },
     "metadata": {},
     "output_type": "display_data"
    },
    {
     "data": {
      "application/vnd.jupyter.widget-view+json": {
       "model_id": "45a2e65a93c04106a19f0e131c5288b3",
       "version_major": 2,
       "version_minor": 0
      },
      "text/plain": [
       "BestResp | t#153/400 | k=1 | sats=STARLINK-31731:   0%|          | 0/200 [00:00<?, ?it/s]"
      ]
     },
     "metadata": {},
     "output_type": "display_data"
    },
    {
     "data": {
      "application/vnd.jupyter.widget-view+json": {
       "model_id": "191961dd717c487f86abab970fda9a8d",
       "version_major": 2,
       "version_minor": 0
      },
      "text/plain": [
       "BestResp | t#153/400 | k=3 | sats=STARLINK-31731,STARLINK-31207,STARLINK-31763:   0%|          | 0/200 [00:00<…"
      ]
     },
     "metadata": {},
     "output_type": "display_data"
    },
    {
     "data": {
      "application/vnd.jupyter.widget-view+json": {
       "model_id": "88014b7563734ddaa9e2cad1deba71b9",
       "version_major": 2,
       "version_minor": 0
      },
      "text/plain": [
       "BestResp | t#153/400 | k=5 | sats=STARLINK-31731,STARLINK-31207,STARLINK-31763,STARLINK-31585,STARLINK-31702: …"
      ]
     },
     "metadata": {},
     "output_type": "display_data"
    },
    {
     "data": {
      "application/vnd.jupyter.widget-view+json": {
       "model_id": "246c801b912d4f9abdf030276c5000c5",
       "version_major": 2,
       "version_minor": 0
      },
      "text/plain": [
       "BestResp | t#154/400 | k=1 | sats=STARLINK-11565 [DTC]:   0%|          | 0/200 [00:00<?, ?it/s]"
      ]
     },
     "metadata": {},
     "output_type": "display_data"
    },
    {
     "data": {
      "application/vnd.jupyter.widget-view+json": {
       "model_id": "21a33d9dc4e946709417a8af67ade7ac",
       "version_major": 2,
       "version_minor": 0
      },
      "text/plain": [
       "BestResp | t#154/400 | k=3 | sats=STARLINK-11565 [DTC],STARLINK-32870,STARLINK-33840:   0%|          | 0/200 […"
      ]
     },
     "metadata": {},
     "output_type": "display_data"
    },
    {
     "data": {
      "application/vnd.jupyter.widget-view+json": {
       "model_id": "290a2bc7af9740d7a1e043c168c8309d",
       "version_major": 2,
       "version_minor": 0
      },
      "text/plain": [
       "BestResp | t#154/400 | k=5 | sats=STARLINK-11565 [DTC],STARLINK-32870,STARLINK-33840,STARLINK-2228,STARLINK-44…"
      ]
     },
     "metadata": {},
     "output_type": "display_data"
    },
    {
     "data": {
      "application/vnd.jupyter.widget-view+json": {
       "model_id": "205c20182831416c91b97dde8c01c5b6",
       "version_major": 2,
       "version_minor": 0
      },
      "text/plain": [
       "BestResp | t#155/400 | k=1 | sats=STARLINK-11660 [DTC]:   0%|          | 0/200 [00:00<?, ?it/s]"
      ]
     },
     "metadata": {},
     "output_type": "display_data"
    },
    {
     "data": {
      "application/vnd.jupyter.widget-view+json": {
       "model_id": "eac89ad0e7554663b5f17daa36dc69b7",
       "version_major": 2,
       "version_minor": 0
      },
      "text/plain": [
       "BestResp | t#155/400 | k=3 | sats=STARLINK-11660 [DTC],STARLINK-34449,STARLINK-31667:   0%|          | 0/200 […"
      ]
     },
     "metadata": {},
     "output_type": "display_data"
    },
    {
     "data": {
      "application/vnd.jupyter.widget-view+json": {
       "model_id": "9b7324400b224ad18650ba852035a7eb",
       "version_major": 2,
       "version_minor": 0
      },
      "text/plain": [
       "BestResp | t#155/400 | k=5 | sats=STARLINK-11660 [DTC],STARLINK-34449,STARLINK-31667,STARLINK-31231,STARLINK-3…"
      ]
     },
     "metadata": {},
     "output_type": "display_data"
    },
    {
     "data": {
      "application/vnd.jupyter.widget-view+json": {
       "model_id": "b971597c72de4ae0a4fd21aea8550fec",
       "version_major": 2,
       "version_minor": 0
      },
      "text/plain": [
       "BestResp | t#156/400 | k=1 | sats=STARLINK-32308:   0%|          | 0/200 [00:00<?, ?it/s]"
      ]
     },
     "metadata": {},
     "output_type": "display_data"
    },
    {
     "data": {
      "application/vnd.jupyter.widget-view+json": {
       "model_id": "b6976ff94685451297b46f77cc0c608c",
       "version_major": 2,
       "version_minor": 0
      },
      "text/plain": [
       "BestResp | t#156/400 | k=3 | sats=STARLINK-32308,STARLINK-32677,STARLINK-33861:   0%|          | 0/200 [00:00<…"
      ]
     },
     "metadata": {},
     "output_type": "display_data"
    },
    {
     "data": {
      "application/vnd.jupyter.widget-view+json": {
       "model_id": "30ce6df583684dc0936c1414deeb17eb",
       "version_major": 2,
       "version_minor": 0
      },
      "text/plain": [
       "BestResp | t#156/400 | k=5 | sats=STARLINK-32308,STARLINK-32677,STARLINK-33861,STARLINK-3792,STARLINK-2160:   …"
      ]
     },
     "metadata": {},
     "output_type": "display_data"
    },
    {
     "data": {
      "application/vnd.jupyter.widget-view+json": {
       "model_id": "11f2a561d3df4cd79587d3d89097ee7a",
       "version_major": 2,
       "version_minor": 0
      },
      "text/plain": [
       "BestResp | t#157/400 | k=1 | sats=STARLINK-11727 [DTC]:   0%|          | 0/200 [00:00<?, ?it/s]"
      ]
     },
     "metadata": {},
     "output_type": "display_data"
    },
    {
     "data": {
      "application/vnd.jupyter.widget-view+json": {
       "model_id": "bdb7e5c481454df1a3132e0d3a625585",
       "version_major": 2,
       "version_minor": 0
      },
      "text/plain": [
       "BestResp | t#157/400 | k=3 | sats=STARLINK-11727 [DTC],STARLINK-31858,STARLINK-31879:   0%|          | 0/200 […"
      ]
     },
     "metadata": {},
     "output_type": "display_data"
    },
    {
     "data": {
      "application/vnd.jupyter.widget-view+json": {
       "model_id": "48732d24b356465ba8b3d1d0714e87c7",
       "version_major": 2,
       "version_minor": 0
      },
      "text/plain": [
       "BestResp | t#157/400 | k=5 | sats=STARLINK-11727 [DTC],STARLINK-31858,STARLINK-31879,STARLINK-34169,STARLINK-5…"
      ]
     },
     "metadata": {},
     "output_type": "display_data"
    },
    {
     "data": {
      "application/vnd.jupyter.widget-view+json": {
       "model_id": "4bb09bb77a36401784ee232d56086c01",
       "version_major": 2,
       "version_minor": 0
      },
      "text/plain": [
       "BestResp | t#158/400 | k=1 | sats=STARLINK-31910:   0%|          | 0/200 [00:00<?, ?it/s]"
      ]
     },
     "metadata": {},
     "output_type": "display_data"
    },
    {
     "data": {
      "application/vnd.jupyter.widget-view+json": {
       "model_id": "b687634dc1bf4a41aa9c228a5a575932",
       "version_major": 2,
       "version_minor": 0
      },
      "text/plain": [
       "BestResp | t#158/400 | k=3 | sats=STARLINK-31910,STARLINK-34172,STARLINK-33936:   0%|          | 0/200 [00:00<…"
      ]
     },
     "metadata": {},
     "output_type": "display_data"
    },
    {
     "data": {
      "application/vnd.jupyter.widget-view+json": {
       "model_id": "53a35928513a4475a26854ca44727e05",
       "version_major": 2,
       "version_minor": 0
      },
      "text/plain": [
       "BestResp | t#158/400 | k=5 | sats=STARLINK-31910,STARLINK-34172,STARLINK-33936,STARLINK-30231,STARLINK-31234: …"
      ]
     },
     "metadata": {},
     "output_type": "display_data"
    },
    {
     "data": {
      "application/vnd.jupyter.widget-view+json": {
       "model_id": "5effcc9cfb50498eb544c17b860966a5",
       "version_major": 2,
       "version_minor": 0
      },
      "text/plain": [
       "BestResp | t#159/400 | k=1 | sats=STARLINK-11662 [DTC]:   0%|          | 0/200 [00:00<?, ?it/s]"
      ]
     },
     "metadata": {},
     "output_type": "display_data"
    },
    {
     "data": {
      "application/vnd.jupyter.widget-view+json": {
       "model_id": "be9d74adf68e4d60aad50960d42d7fe6",
       "version_major": 2,
       "version_minor": 0
      },
      "text/plain": [
       "BestResp | t#159/400 | k=3 | sats=STARLINK-11662 [DTC],STARLINK-11569 [DTC],STARLINK-35393:   0%|          | 0…"
      ]
     },
     "metadata": {},
     "output_type": "display_data"
    },
    {
     "data": {
      "application/vnd.jupyter.widget-view+json": {
       "model_id": "db84ea4a9c084ff6b8a9dc070224cc93",
       "version_major": 2,
       "version_minor": 0
      },
      "text/plain": [
       "BestResp | t#159/400 | k=5 | sats=STARLINK-11662 [DTC],STARLINK-11569 [DTC],STARLINK-35393,STARLINK-35324,STAR…"
      ]
     },
     "metadata": {},
     "output_type": "display_data"
    },
    {
     "data": {
      "application/vnd.jupyter.widget-view+json": {
       "model_id": "fbb169f681d3432397e98678481ef259",
       "version_major": 2,
       "version_minor": 0
      },
      "text/plain": [
       "BestResp | t#160/400 | k=1 | sats=STARLINK-11548 [DTC]:   0%|          | 0/200 [00:00<?, ?it/s]"
      ]
     },
     "metadata": {},
     "output_type": "display_data"
    },
    {
     "data": {
      "application/vnd.jupyter.widget-view+json": {
       "model_id": "c2d71290083c4422b3c5d65084ef8019",
       "version_major": 2,
       "version_minor": 0
      },
      "text/plain": [
       "BestResp | t#160/400 | k=3 | sats=STARLINK-11548 [DTC],STARLINK-31871,STARLINK-35277:   0%|          | 0/200 […"
      ]
     },
     "metadata": {},
     "output_type": "display_data"
    },
    {
     "data": {
      "application/vnd.jupyter.widget-view+json": {
       "model_id": "9ff5b4747f75479190e480fd32ae14e5",
       "version_major": 2,
       "version_minor": 0
      },
      "text/plain": [
       "BestResp | t#160/400 | k=5 | sats=STARLINK-11548 [DTC],STARLINK-31871,STARLINK-35277,STARLINK-35368,STARLINK-3…"
      ]
     },
     "metadata": {},
     "output_type": "display_data"
    },
    {
     "name": "stdout",
     "output_type": "stream",
     "text": [
      "[flush] wrote up to step 160\n"
     ]
    },
    {
     "data": {
      "application/vnd.jupyter.widget-view+json": {
       "model_id": "25c07c9700a649c98907d7afeea8c386",
       "version_major": 2,
       "version_minor": 0
      },
      "text/plain": [
       "BestResp | t#161/400 | k=1 | sats=STARLINK-11582 [DTC]:   0%|          | 0/200 [00:00<?, ?it/s]"
      ]
     },
     "metadata": {},
     "output_type": "display_data"
    },
    {
     "data": {
      "application/vnd.jupyter.widget-view+json": {
       "model_id": "1699d443bd3a42a9a491fe73bf4f3739",
       "version_major": 2,
       "version_minor": 0
      },
      "text/plain": [
       "BestResp | t#161/400 | k=3 | sats=STARLINK-11582 [DTC],STARLINK-31884,STARLINK-11300 [DTC]:   0%|          | 0…"
      ]
     },
     "metadata": {},
     "output_type": "display_data"
    },
    {
     "data": {
      "application/vnd.jupyter.widget-view+json": {
       "model_id": "710bd9642bf649e2aa73a5e4a79642ed",
       "version_major": 2,
       "version_minor": 0
      },
      "text/plain": [
       "BestResp | t#161/400 | k=5 | sats=STARLINK-11582 [DTC],STARLINK-31884,STARLINK-11300 [DTC],STARLINK-33853,STAR…"
      ]
     },
     "metadata": {},
     "output_type": "display_data"
    },
    {
     "data": {
      "application/vnd.jupyter.widget-view+json": {
       "model_id": "b238a91c68fb4093b3df21d17b90a554",
       "version_major": 2,
       "version_minor": 0
      },
      "text/plain": [
       "BestResp | t#162/400 | k=1 | sats=STARLINK-34696:   0%|          | 0/200 [00:00<?, ?it/s]"
      ]
     },
     "metadata": {},
     "output_type": "display_data"
    },
    {
     "data": {
      "application/vnd.jupyter.widget-view+json": {
       "model_id": "18f0bb1f6f2344b7a6c30a8a45290e44",
       "version_major": 2,
       "version_minor": 0
      },
      "text/plain": [
       "BestResp | t#162/400 | k=3 | sats=STARLINK-34696,STARLINK-1541,STARLINK-33836:   0%|          | 0/200 [00:00<?…"
      ]
     },
     "metadata": {},
     "output_type": "display_data"
    },
    {
     "data": {
      "application/vnd.jupyter.widget-view+json": {
       "model_id": "e6a2a81eae7a4875a6441789c324e9d0",
       "version_major": 2,
       "version_minor": 0
      },
      "text/plain": [
       "BestResp | t#162/400 | k=5 | sats=STARLINK-34696,STARLINK-1541,STARLINK-33836,STARLINK-5731,STARLINK-4552:   0…"
      ]
     },
     "metadata": {},
     "output_type": "display_data"
    },
    {
     "data": {
      "application/vnd.jupyter.widget-view+json": {
       "model_id": "a714d2f71be245bc8ec8ff62d32ffadd",
       "version_major": 2,
       "version_minor": 0
      },
      "text/plain": [
       "BestResp | t#163/400 | k=1 | sats=STARLINK-31917:   0%|          | 0/200 [00:00<?, ?it/s]"
      ]
     },
     "metadata": {},
     "output_type": "display_data"
    },
    {
     "data": {
      "application/vnd.jupyter.widget-view+json": {
       "model_id": "32b7eaf02b744cf69f09f0833f5b256e",
       "version_major": 2,
       "version_minor": 0
      },
      "text/plain": [
       "BestResp | t#163/400 | k=3 | sats=STARLINK-31917,STARLINK-3115,STARLINK-31236:   0%|          | 0/200 [00:00<?…"
      ]
     },
     "metadata": {},
     "output_type": "display_data"
    },
    {
     "data": {
      "application/vnd.jupyter.widget-view+json": {
       "model_id": "644d82f8d7404df3886fd590023db870",
       "version_major": 2,
       "version_minor": 0
      },
      "text/plain": [
       "BestResp | t#163/400 | k=5 | sats=STARLINK-31917,STARLINK-3115,STARLINK-31236,STARLINK-6334,STARLINK-3915:   0…"
      ]
     },
     "metadata": {},
     "output_type": "display_data"
    },
    {
     "data": {
      "application/vnd.jupyter.widget-view+json": {
       "model_id": "b9c30f40b965449caadb89a5975b6ab8",
       "version_major": 2,
       "version_minor": 0
      },
      "text/plain": [
       "BestResp | t#164/400 | k=1 | sats=STARLINK-11537 [DTC]:   0%|          | 0/200 [00:00<?, ?it/s]"
      ]
     },
     "metadata": {},
     "output_type": "display_data"
    },
    {
     "data": {
      "application/vnd.jupyter.widget-view+json": {
       "model_id": "45372374953e4e2d9b60e40bb7e206f9",
       "version_major": 2,
       "version_minor": 0
      },
      "text/plain": [
       "BestResp | t#164/400 | k=3 | sats=STARLINK-11537 [DTC],STARLINK-11313 [DTC],STARLINK-31670:   0%|          | 0…"
      ]
     },
     "metadata": {},
     "output_type": "display_data"
    },
    {
     "data": {
      "application/vnd.jupyter.widget-view+json": {
       "model_id": "8d25b1353bbc4af39be07cf318d39bab",
       "version_major": 2,
       "version_minor": 0
      },
      "text/plain": [
       "BestResp | t#164/400 | k=5 | sats=STARLINK-11537 [DTC],STARLINK-11313 [DTC],STARLINK-31670,STARLINK-31917,STAR…"
      ]
     },
     "metadata": {},
     "output_type": "display_data"
    },
    {
     "data": {
      "application/vnd.jupyter.widget-view+json": {
       "model_id": "b161a7a31ed247c78cbe0f91235499a2",
       "version_major": 2,
       "version_minor": 0
      },
      "text/plain": [
       "BestResp | t#165/400 | k=1 | sats=STARLINK-11576 [DTC]:   0%|          | 0/200 [00:00<?, ?it/s]"
      ]
     },
     "metadata": {},
     "output_type": "display_data"
    },
    {
     "data": {
      "application/vnd.jupyter.widget-view+json": {
       "model_id": "01ad6028a2464326a869f30d7f18d502",
       "version_major": 2,
       "version_minor": 0
      },
      "text/plain": [
       "BestResp | t#165/400 | k=3 | sats=STARLINK-11576 [DTC],STARLINK-31712,STARLINK-31885:   0%|          | 0/200 […"
      ]
     },
     "metadata": {},
     "output_type": "display_data"
    },
    {
     "data": {
      "application/vnd.jupyter.widget-view+json": {
       "model_id": "ff912fcd6a1041b0ad4bf2deae67f977",
       "version_major": 2,
       "version_minor": 0
      },
      "text/plain": [
       "BestResp | t#165/400 | k=5 | sats=STARLINK-11576 [DTC],STARLINK-31712,STARLINK-31885,STARLINK-30219,STARLINK-5…"
      ]
     },
     "metadata": {},
     "output_type": "display_data"
    },
    {
     "data": {
      "application/vnd.jupyter.widget-view+json": {
       "model_id": "8fa9fda1ae424adb8bd7176a15e82b5f",
       "version_major": 2,
       "version_minor": 0
      },
      "text/plain": [
       "BestResp | t#166/400 | k=1 | sats=STARLINK-11557 [DTC]:   0%|          | 0/200 [00:00<?, ?it/s]"
      ]
     },
     "metadata": {},
     "output_type": "display_data"
    },
    {
     "data": {
      "application/vnd.jupyter.widget-view+json": {
       "model_id": "039861ba7b0c4401b0983e08e2f7076d",
       "version_major": 2,
       "version_minor": 0
      },
      "text/plain": [
       "BestResp | t#166/400 | k=3 | sats=STARLINK-11557 [DTC],STARLINK-33914,STARLINK-31885:   0%|          | 0/200 […"
      ]
     },
     "metadata": {},
     "output_type": "display_data"
    },
    {
     "data": {
      "application/vnd.jupyter.widget-view+json": {
       "model_id": "e9d16b679505486cb32f578a15394b82",
       "version_major": 2,
       "version_minor": 0
      },
      "text/plain": [
       "BestResp | t#166/400 | k=5 | sats=STARLINK-11557 [DTC],STARLINK-33914,STARLINK-31885,STARLINK-33882,STARLINK-6…"
      ]
     },
     "metadata": {},
     "output_type": "display_data"
    },
    {
     "data": {
      "application/vnd.jupyter.widget-view+json": {
       "model_id": "cd75cc57a6684c8a83aaa4e127574ab8",
       "version_major": 2,
       "version_minor": 0
      },
      "text/plain": [
       "BestResp | t#167/400 | k=1 | sats=STARLINK-11643 [DTC]:   0%|          | 0/200 [00:00<?, ?it/s]"
      ]
     },
     "metadata": {},
     "output_type": "display_data"
    },
    {
     "data": {
      "application/vnd.jupyter.widget-view+json": {
       "model_id": "2dc4544d5e39462982c2a9c470a1955d",
       "version_major": 2,
       "version_minor": 0
      },
      "text/plain": [
       "BestResp | t#167/400 | k=3 | sats=STARLINK-11643 [DTC],STARLINK-34604,STARLINK-33938:   0%|          | 0/200 […"
      ]
     },
     "metadata": {},
     "output_type": "display_data"
    },
    {
     "data": {
      "application/vnd.jupyter.widget-view+json": {
       "model_id": "d86d6fba411a43d3927591508e0a993c",
       "version_major": 2,
       "version_minor": 0
      },
      "text/plain": [
       "BestResp | t#167/400 | k=5 | sats=STARLINK-11643 [DTC],STARLINK-34604,STARLINK-33938,STARLINK-31271,STARLINK-4…"
      ]
     },
     "metadata": {},
     "output_type": "display_data"
    },
    {
     "data": {
      "application/vnd.jupyter.widget-view+json": {
       "model_id": "e53ef85798b946ae95fe21d97581cb6c",
       "version_major": 2,
       "version_minor": 0
      },
      "text/plain": [
       "BestResp | t#168/400 | k=1 | sats=STARLINK-6105:   0%|          | 0/200 [00:00<?, ?it/s]"
      ]
     },
     "metadata": {},
     "output_type": "display_data"
    },
    {
     "data": {
      "application/vnd.jupyter.widget-view+json": {
       "model_id": "00b3d901012144a99a244f585e06ff96",
       "version_major": 2,
       "version_minor": 0
      },
      "text/plain": [
       "BestResp | t#168/400 | k=3 | sats=STARLINK-6105,STARLINK-32344,STARLINK-31662:   0%|          | 0/200 [00:00<?…"
      ]
     },
     "metadata": {},
     "output_type": "display_data"
    },
    {
     "data": {
      "application/vnd.jupyter.widget-view+json": {
       "model_id": "e9dc792b412e42ea84db6e26b753a1ca",
       "version_major": 2,
       "version_minor": 0
      },
      "text/plain": [
       "BestResp | t#168/400 | k=5 | sats=STARLINK-6105,STARLINK-32344,STARLINK-31662,STARLINK-31511,STARLINK-33871:  …"
      ]
     },
     "metadata": {},
     "output_type": "display_data"
    },
    {
     "data": {
      "application/vnd.jupyter.widget-view+json": {
       "model_id": "442f0cdee2ab40f9a27d689899b60574",
       "version_major": 2,
       "version_minor": 0
      },
      "text/plain": [
       "BestResp | t#169/400 | k=1 | sats=STARLINK-11570 [DTC]:   0%|          | 0/200 [00:00<?, ?it/s]"
      ]
     },
     "metadata": {},
     "output_type": "display_data"
    },
    {
     "data": {
      "application/vnd.jupyter.widget-view+json": {
       "model_id": "14d4008af03b4b6d92aa7534443029dd",
       "version_major": 2,
       "version_minor": 0
      },
      "text/plain": [
       "BestResp | t#169/400 | k=3 | sats=STARLINK-11570 [DTC],STARLINK-11555 [DTC],STARLINK-35016:   0%|          | 0…"
      ]
     },
     "metadata": {},
     "output_type": "display_data"
    },
    {
     "data": {
      "application/vnd.jupyter.widget-view+json": {
       "model_id": "9be29c38ced541eea1e50c75ecf34765",
       "version_major": 2,
       "version_minor": 0
      },
      "text/plain": [
       "BestResp | t#169/400 | k=5 | sats=STARLINK-11570 [DTC],STARLINK-11555 [DTC],STARLINK-35016,STARLINK-33918,STAR…"
      ]
     },
     "metadata": {},
     "output_type": "display_data"
    },
    {
     "data": {
      "application/vnd.jupyter.widget-view+json": {
       "model_id": "7c4a0e795f7f4425b54d95fcb0427140",
       "version_major": 2,
       "version_minor": 0
      },
      "text/plain": [
       "BestResp | t#170/400 | k=1 | sats=STARLINK-11636 [DTC]:   0%|          | 0/200 [00:00<?, ?it/s]"
      ]
     },
     "metadata": {},
     "output_type": "display_data"
    },
    {
     "data": {
      "application/vnd.jupyter.widget-view+json": {
       "model_id": "1ae6b2fd30994cbe82701c6d370b6755",
       "version_major": 2,
       "version_minor": 0
      },
      "text/plain": [
       "BestResp | t#170/400 | k=3 | sats=STARLINK-11636 [DTC],STARLINK-30275,STARLINK-34192:   0%|          | 0/200 […"
      ]
     },
     "metadata": {},
     "output_type": "display_data"
    },
    {
     "data": {
      "application/vnd.jupyter.widget-view+json": {
       "model_id": "e1abc349d4a74f5d9bcd94cecce6f92b",
       "version_major": 2,
       "version_minor": 0
      },
      "text/plain": [
       "BestResp | t#170/400 | k=5 | sats=STARLINK-11636 [DTC],STARLINK-30275,STARLINK-34192,STARLINK-33883,STARLINK-3…"
      ]
     },
     "metadata": {},
     "output_type": "display_data"
    },
    {
     "data": {
      "application/vnd.jupyter.widget-view+json": {
       "model_id": "fff91f53651c4437b19950e82f3e8ec0",
       "version_major": 2,
       "version_minor": 0
      },
      "text/plain": [
       "BestResp | t#171/400 | k=1 | sats=STARLINK-11636 [DTC]:   0%|          | 0/200 [00:00<?, ?it/s]"
      ]
     },
     "metadata": {},
     "output_type": "display_data"
    },
    {
     "data": {
      "application/vnd.jupyter.widget-view+json": {
       "model_id": "7c6bbc420dd943e6bf3c3f6bd7ce00a2",
       "version_major": 2,
       "version_minor": 0
      },
      "text/plain": [
       "BestResp | t#171/400 | k=3 | sats=STARLINK-11636 [DTC],STARLINK-33684,STARLINK-3133:   0%|          | 0/200 [0…"
      ]
     },
     "metadata": {},
     "output_type": "display_data"
    },
    {
     "data": {
      "application/vnd.jupyter.widget-view+json": {
       "model_id": "fdba7c013390440e944902b0d1b4be62",
       "version_major": 2,
       "version_minor": 0
      },
      "text/plain": [
       "BestResp | t#171/400 | k=5 | sats=STARLINK-11636 [DTC],STARLINK-33684,STARLINK-3133,STARLINK-6169,STARLINK-341…"
      ]
     },
     "metadata": {},
     "output_type": "display_data"
    },
    {
     "data": {
      "application/vnd.jupyter.widget-view+json": {
       "model_id": "66df70be9e0a4eaaa41802ec09bd94cb",
       "version_major": 2,
       "version_minor": 0
      },
      "text/plain": [
       "BestResp | t#172/400 | k=1 | sats=STARLINK-31400:   0%|          | 0/200 [00:00<?, ?it/s]"
      ]
     },
     "metadata": {},
     "output_type": "display_data"
    },
    {
     "data": {
      "application/vnd.jupyter.widget-view+json": {
       "model_id": "ee5f63be10204fd4964bb774d27cffef",
       "version_major": 2,
       "version_minor": 0
      },
      "text/plain": [
       "BestResp | t#172/400 | k=3 | sats=STARLINK-31400,STARLINK-32705,STARLINK-30584:   0%|          | 0/200 [00:00<…"
      ]
     },
     "metadata": {},
     "output_type": "display_data"
    },
    {
     "data": {
      "application/vnd.jupyter.widget-view+json": {
       "model_id": "375034568c8e4b6e9cbaae618d09cfb9",
       "version_major": 2,
       "version_minor": 0
      },
      "text/plain": [
       "BestResp | t#172/400 | k=5 | sats=STARLINK-31400,STARLINK-32705,STARLINK-30584,STARLINK-5800,STARLINK-30534:  …"
      ]
     },
     "metadata": {},
     "output_type": "display_data"
    },
    {
     "data": {
      "application/vnd.jupyter.widget-view+json": {
       "model_id": "c8f8e05748044ddcb072c38ef54390f8",
       "version_major": 2,
       "version_minor": 0
      },
      "text/plain": [
       "BestResp | t#173/400 | k=1 | sats=STARLINK-30321:   0%|          | 0/200 [00:00<?, ?it/s]"
      ]
     },
     "metadata": {},
     "output_type": "display_data"
    },
    {
     "data": {
      "application/vnd.jupyter.widget-view+json": {
       "model_id": "39c654bdcbe646daaa8ca652fe41a298",
       "version_major": 2,
       "version_minor": 0
      },
      "text/plain": [
       "BestResp | t#173/400 | k=3 | sats=STARLINK-30321,STARLINK-32088,STARLINK-33832:   0%|          | 0/200 [00:00<…"
      ]
     },
     "metadata": {},
     "output_type": "display_data"
    },
    {
     "data": {
      "application/vnd.jupyter.widget-view+json": {
       "model_id": "f667a22f459744ba857cdea90adae458",
       "version_major": 2,
       "version_minor": 0
      },
      "text/plain": [
       "BestResp | t#173/400 | k=5 | sats=STARLINK-30321,STARLINK-32088,STARLINK-33832,STARLINK-31071,STARLINK-32438: …"
      ]
     },
     "metadata": {},
     "output_type": "display_data"
    },
    {
     "data": {
      "application/vnd.jupyter.widget-view+json": {
       "model_id": "00a6c867f9be4a81a7e7a78e46216c64",
       "version_major": 2,
       "version_minor": 0
      },
      "text/plain": [
       "BestResp | t#174/400 | k=1 | sats=STARLINK-30321:   0%|          | 0/200 [00:00<?, ?it/s]"
      ]
     },
     "metadata": {},
     "output_type": "display_data"
    },
    {
     "data": {
      "application/vnd.jupyter.widget-view+json": {
       "model_id": "e43134afdb8a4affb02364d1818c6fb1",
       "version_major": 2,
       "version_minor": 0
      },
      "text/plain": [
       "BestResp | t#174/400 | k=3 | sats=STARLINK-30321,STARLINK-32088,STARLINK-33832:   0%|          | 0/200 [00:00<…"
      ]
     },
     "metadata": {},
     "output_type": "display_data"
    },
    {
     "data": {
      "application/vnd.jupyter.widget-view+json": {
       "model_id": "854fed06379f4fe0a66713008fd2abee",
       "version_major": 2,
       "version_minor": 0
      },
      "text/plain": [
       "BestResp | t#174/400 | k=5 | sats=STARLINK-30321,STARLINK-32088,STARLINK-33832,STARLINK-34880,STARLINK-31071: …"
      ]
     },
     "metadata": {},
     "output_type": "display_data"
    },
    {
     "data": {
      "application/vnd.jupyter.widget-view+json": {
       "model_id": "eb9e4bcc74484865af975c65ba918d29",
       "version_major": 2,
       "version_minor": 0
      },
      "text/plain": [
       "BestResp | t#175/400 | k=1 | sats=STARLINK-11302 [DTC]:   0%|          | 0/200 [00:00<?, ?it/s]"
      ]
     },
     "metadata": {},
     "output_type": "display_data"
    },
    {
     "data": {
      "application/vnd.jupyter.widget-view+json": {
       "model_id": "08d6869f150441aea5b0449458e61f49",
       "version_major": 2,
       "version_minor": 0
      },
      "text/plain": [
       "BestResp | t#175/400 | k=3 | sats=STARLINK-11302 [DTC],STARLINK-31391,STARLINK-33841:   0%|          | 0/200 […"
      ]
     },
     "metadata": {},
     "output_type": "display_data"
    },
    {
     "data": {
      "application/vnd.jupyter.widget-view+json": {
       "model_id": "3764a298fb38478eb1e5d8b9b2e92653",
       "version_major": 2,
       "version_minor": 0
      },
      "text/plain": [
       "BestResp | t#175/400 | k=5 | sats=STARLINK-11302 [DTC],STARLINK-31391,STARLINK-33841,STARLINK-30273,STARLINK-3…"
      ]
     },
     "metadata": {},
     "output_type": "display_data"
    },
    {
     "data": {
      "application/vnd.jupyter.widget-view+json": {
       "model_id": "5c63652f833e4151a58c5499210fa06d",
       "version_major": 2,
       "version_minor": 0
      },
      "text/plain": [
       "BestResp | t#176/400 | k=1 | sats=STARLINK-1152:   0%|          | 0/200 [00:00<?, ?it/s]"
      ]
     },
     "metadata": {},
     "output_type": "display_data"
    },
    {
     "data": {
      "application/vnd.jupyter.widget-view+json": {
       "model_id": "7be2577e6cef4c85a23b79811b2b6154",
       "version_major": 2,
       "version_minor": 0
      },
      "text/plain": [
       "BestResp | t#176/400 | k=3 | sats=STARLINK-1152,STARLINK-32091,STARLINK-32631:   0%|          | 0/200 [00:00<?…"
      ]
     },
     "metadata": {},
     "output_type": "display_data"
    },
    {
     "data": {
      "application/vnd.jupyter.widget-view+json": {
       "model_id": "7b8becea8d234e2bafc498f5a4888793",
       "version_major": 2,
       "version_minor": 0
      },
      "text/plain": [
       "BestResp | t#176/400 | k=5 | sats=STARLINK-1152,STARLINK-32091,STARLINK-32631,STARLINK-31784,STARLINK-6250:   …"
      ]
     },
     "metadata": {},
     "output_type": "display_data"
    },
    {
     "data": {
      "application/vnd.jupyter.widget-view+json": {
       "model_id": "4a83d0ef909e4d989a0179bdfba703e4",
       "version_major": 2,
       "version_minor": 0
      },
      "text/plain": [
       "BestResp | t#177/400 | k=1 | sats=STARLINK-11571 [DTC]:   0%|          | 0/200 [00:00<?, ?it/s]"
      ]
     },
     "metadata": {},
     "output_type": "display_data"
    },
    {
     "data": {
      "application/vnd.jupyter.widget-view+json": {
       "model_id": "a6fd7a1021de48559a8fd3e6644c0e4c",
       "version_major": 2,
       "version_minor": 0
      },
      "text/plain": [
       "BestResp | t#177/400 | k=3 | sats=STARLINK-11571 [DTC],STARLINK-31545,STARLINK-33928:   0%|          | 0/200 […"
      ]
     },
     "metadata": {},
     "output_type": "display_data"
    },
    {
     "data": {
      "application/vnd.jupyter.widget-view+json": {
       "model_id": "2b890042254f41c4a05e3b3305da678a",
       "version_major": 2,
       "version_minor": 0
      },
      "text/plain": [
       "BestResp | t#177/400 | k=5 | sats=STARLINK-11571 [DTC],STARLINK-31545,STARLINK-33928,STARLINK-33935,STARLINK-3…"
      ]
     },
     "metadata": {},
     "output_type": "display_data"
    },
    {
     "data": {
      "application/vnd.jupyter.widget-view+json": {
       "model_id": "7ec6cd929a114ea1832cdfb4d936895b",
       "version_major": 2,
       "version_minor": 0
      },
      "text/plain": [
       "BestResp | t#178/400 | k=1 | sats=STARLINK-11473 [DTC]:   0%|          | 0/200 [00:00<?, ?it/s]"
      ]
     },
     "metadata": {},
     "output_type": "display_data"
    },
    {
     "data": {
      "application/vnd.jupyter.widget-view+json": {
       "model_id": "de13cb5c2be64158a51af017cb458554",
       "version_major": 2,
       "version_minor": 0
      },
      "text/plain": [
       "BestResp | t#178/400 | k=3 | sats=STARLINK-11473 [DTC],STARLINK-11717 [DTC],STARLINK-33856:   0%|          | 0…"
      ]
     },
     "metadata": {},
     "output_type": "display_data"
    },
    {
     "data": {
      "application/vnd.jupyter.widget-view+json": {
       "model_id": "4d9e54031b874a73a09deedbfd433868",
       "version_major": 2,
       "version_minor": 0
      },
      "text/plain": [
       "BestResp | t#178/400 | k=5 | sats=STARLINK-11473 [DTC],STARLINK-11717 [DTC],STARLINK-33856,STARLINK-34602,STAR…"
      ]
     },
     "metadata": {},
     "output_type": "display_data"
    },
    {
     "data": {
      "application/vnd.jupyter.widget-view+json": {
       "model_id": "5c904c558a7042d99c061c9982c04da7",
       "version_major": 2,
       "version_minor": 0
      },
      "text/plain": [
       "BestResp | t#179/400 | k=1 | sats=STARLINK-11565 [DTC]:   0%|          | 0/200 [00:00<?, ?it/s]"
      ]
     },
     "metadata": {},
     "output_type": "display_data"
    },
    {
     "data": {
      "application/vnd.jupyter.widget-view+json": {
       "model_id": "0fd6bd44003246d9862ee7327c065636",
       "version_major": 2,
       "version_minor": 0
      },
      "text/plain": [
       "BestResp | t#179/400 | k=3 | sats=STARLINK-11565 [DTC],STARLINK-31399,STARLINK-32945:   0%|          | 0/200 […"
      ]
     },
     "metadata": {},
     "output_type": "display_data"
    },
    {
     "data": {
      "application/vnd.jupyter.widget-view+json": {
       "model_id": "4895c014a53442dd8a8b84bdff39530f",
       "version_major": 2,
       "version_minor": 0
      },
      "text/plain": [
       "BestResp | t#179/400 | k=5 | sats=STARLINK-11565 [DTC],STARLINK-31399,STARLINK-32945,STARLINK-32743,STARLINK-3…"
      ]
     },
     "metadata": {},
     "output_type": "display_data"
    },
    {
     "data": {
      "application/vnd.jupyter.widget-view+json": {
       "model_id": "0cfe126fb7ba43bdbce4ff1af53cddad",
       "version_major": 2,
       "version_minor": 0
      },
      "text/plain": [
       "BestResp | t#180/400 | k=1 | sats=STARLINK-11622 [DTC]:   0%|          | 0/200 [00:00<?, ?it/s]"
      ]
     },
     "metadata": {},
     "output_type": "display_data"
    },
    {
     "data": {
      "application/vnd.jupyter.widget-view+json": {
       "model_id": "9cb1fee52d3e4ec0a0ca77f261157464",
       "version_major": 2,
       "version_minor": 0
      },
      "text/plain": [
       "BestResp | t#180/400 | k=3 | sats=STARLINK-11622 [DTC],STARLINK-33789,STARLINK-34078:   0%|          | 0/200 […"
      ]
     },
     "metadata": {},
     "output_type": "display_data"
    },
    {
     "data": {
      "application/vnd.jupyter.widget-view+json": {
       "model_id": "f641e1f46d2a410db6375d52be59ed39",
       "version_major": 2,
       "version_minor": 0
      },
      "text/plain": [
       "BestResp | t#180/400 | k=5 | sats=STARLINK-11622 [DTC],STARLINK-33789,STARLINK-34078,STARLINK-3944,STARLINK-31…"
      ]
     },
     "metadata": {},
     "output_type": "display_data"
    },
    {
     "name": "stdout",
     "output_type": "stream",
     "text": [
      "[flush] wrote up to step 180\n"
     ]
    },
    {
     "data": {
      "application/vnd.jupyter.widget-view+json": {
       "model_id": "f9bffcbc93c943b5b45e490cbafea45a",
       "version_major": 2,
       "version_minor": 0
      },
      "text/plain": [
       "BestResp | t#181/400 | k=1 | sats=STARLINK-35311:   0%|          | 0/200 [00:00<?, ?it/s]"
      ]
     },
     "metadata": {},
     "output_type": "display_data"
    },
    {
     "data": {
      "application/vnd.jupyter.widget-view+json": {
       "model_id": "d26745a9d9614c41995d257596be6957",
       "version_major": 2,
       "version_minor": 0
      },
      "text/plain": [
       "BestResp | t#181/400 | k=3 | sats=STARLINK-35311,STARLINK-11622 [DTC],STARLINK-11460 [DTC]:   0%|          | 0…"
      ]
     },
     "metadata": {},
     "output_type": "display_data"
    },
    {
     "data": {
      "application/vnd.jupyter.widget-view+json": {
       "model_id": "31dbabeeeae3419c9b0bb099569ff4d7",
       "version_major": 2,
       "version_minor": 0
      },
      "text/plain": [
       "BestResp | t#181/400 | k=5 | sats=STARLINK-35311,STARLINK-11622 [DTC],STARLINK-11460 [DTC],STARLINK-34078,STAR…"
      ]
     },
     "metadata": {},
     "output_type": "display_data"
    },
    {
     "data": {
      "application/vnd.jupyter.widget-view+json": {
       "model_id": "68cf3f74bf5a4e61b80338675aa9dbc0",
       "version_major": 2,
       "version_minor": 0
      },
      "text/plain": [
       "BestResp | t#182/400 | k=1 | sats=STARLINK-35339:   0%|          | 0/200 [00:00<?, ?it/s]"
      ]
     },
     "metadata": {},
     "output_type": "display_data"
    },
    {
     "data": {
      "application/vnd.jupyter.widget-view+json": {
       "model_id": "1bf7be1cba934ff38946307b13dc1374",
       "version_major": 2,
       "version_minor": 0
      },
      "text/plain": [
       "BestResp | t#182/400 | k=3 | sats=STARLINK-35339,STARLINK-35399,STARLINK-35341:   0%|          | 0/200 [00:00<…"
      ]
     },
     "metadata": {},
     "output_type": "display_data"
    },
    {
     "data": {
      "application/vnd.jupyter.widget-view+json": {
       "model_id": "e81ad0d510a748a1b6170278dad0a714",
       "version_major": 2,
       "version_minor": 0
      },
      "text/plain": [
       "BestResp | t#182/400 | k=5 | sats=STARLINK-35339,STARLINK-35399,STARLINK-35341,STARLINK-32941,STARLINK-31348: …"
      ]
     },
     "metadata": {},
     "output_type": "display_data"
    },
    {
     "data": {
      "application/vnd.jupyter.widget-view+json": {
       "model_id": "990467bacb274bdc952e4b0886bf982f",
       "version_major": 2,
       "version_minor": 0
      },
      "text/plain": [
       "BestResp | t#183/400 | k=1 | sats=STARLINK-35432:   0%|          | 0/200 [00:00<?, ?it/s]"
      ]
     },
     "metadata": {},
     "output_type": "display_data"
    },
    {
     "data": {
      "application/vnd.jupyter.widget-view+json": {
       "model_id": "0357ff606b7847e78c3daced3120133a",
       "version_major": 2,
       "version_minor": 0
      },
      "text/plain": [
       "BestResp | t#183/400 | k=3 | sats=STARLINK-35432,STARLINK-11408 [DTC],STARLINK-32196:   0%|          | 0/200 […"
      ]
     },
     "metadata": {},
     "output_type": "display_data"
    },
    {
     "data": {
      "application/vnd.jupyter.widget-view+json": {
       "model_id": "8384a792de40423c858351b3a7494721",
       "version_major": 2,
       "version_minor": 0
      },
      "text/plain": [
       "BestResp | t#183/400 | k=5 | sats=STARLINK-35432,STARLINK-11408 [DTC],STARLINK-32196,STARLINK-32733,STARLINK-3…"
      ]
     },
     "metadata": {},
     "output_type": "display_data"
    },
    {
     "data": {
      "application/vnd.jupyter.widget-view+json": {
       "model_id": "5601b8e85d8a41cca4fdbbd07bca6887",
       "version_major": 2,
       "version_minor": 0
      },
      "text/plain": [
       "BestResp | t#184/400 | k=1 | sats=STARLINK-11408 [DTC]:   0%|          | 0/200 [00:00<?, ?it/s]"
      ]
     },
     "metadata": {},
     "output_type": "display_data"
    },
    {
     "data": {
      "application/vnd.jupyter.widget-view+json": {
       "model_id": "50fb2d037a4d403889acb69b26ecfdd7",
       "version_major": 2,
       "version_minor": 0
      },
      "text/plain": [
       "BestResp | t#184/400 | k=3 | sats=STARLINK-11408 [DTC],STARLINK-35398,STARLINK-31606:   0%|          | 0/200 […"
      ]
     },
     "metadata": {},
     "output_type": "display_data"
    },
    {
     "data": {
      "application/vnd.jupyter.widget-view+json": {
       "model_id": "7600e3954f32463f922bf9bc106b742a",
       "version_major": 2,
       "version_minor": 0
      },
      "text/plain": [
       "BestResp | t#184/400 | k=5 | sats=STARLINK-11408 [DTC],STARLINK-35398,STARLINK-31606,STARLINK-1279,STARLINK-32…"
      ]
     },
     "metadata": {},
     "output_type": "display_data"
    },
    {
     "data": {
      "application/vnd.jupyter.widget-view+json": {
       "model_id": "f88d0f982a964e53951d9f1fcd95fc5e",
       "version_major": 2,
       "version_minor": 0
      },
      "text/plain": [
       "BestResp | t#185/400 | k=1 | sats=STARLINK-34364:   0%|          | 0/200 [00:00<?, ?it/s]"
      ]
     },
     "metadata": {},
     "output_type": "display_data"
    },
    {
     "data": {
      "application/vnd.jupyter.widget-view+json": {
       "model_id": "7775b399e3f54e8f98be163341957fba",
       "version_major": 2,
       "version_minor": 0
      },
      "text/plain": [
       "BestResp | t#185/400 | k=3 | sats=STARLINK-34364,STARLINK-32254,STARLINK-33772:   0%|          | 0/200 [00:00<…"
      ]
     },
     "metadata": {},
     "output_type": "display_data"
    },
    {
     "data": {
      "application/vnd.jupyter.widget-view+json": {
       "model_id": "1672a57455f549bb871e96876139daea",
       "version_major": 2,
       "version_minor": 0
      },
      "text/plain": [
       "BestResp | t#185/400 | k=5 | sats=STARLINK-34364,STARLINK-32254,STARLINK-33772,STARLINK-4690,STARLINK-31086:  …"
      ]
     },
     "metadata": {},
     "output_type": "display_data"
    },
    {
     "data": {
      "application/vnd.jupyter.widget-view+json": {
       "model_id": "e1cea1fd78b9418fba690f6b7bc96f8f",
       "version_major": 2,
       "version_minor": 0
      },
      "text/plain": [
       "BestResp | t#186/400 | k=1 | sats=STARLINK-11209 [DTC]:   0%|          | 0/200 [00:00<?, ?it/s]"
      ]
     },
     "metadata": {},
     "output_type": "display_data"
    },
    {
     "data": {
      "application/vnd.jupyter.widget-view+json": {
       "model_id": "e1ced36cb92147f189ad429ebca38172",
       "version_major": 2,
       "version_minor": 0
      },
      "text/plain": [
       "BestResp | t#186/400 | k=3 | sats=STARLINK-11209 [DTC],STARLINK-32086,STARLINK-34520:   0%|          | 0/200 […"
      ]
     },
     "metadata": {},
     "output_type": "display_data"
    },
    {
     "data": {
      "application/vnd.jupyter.widget-view+json": {
       "model_id": "85fb62ced5e644638a93cb906313898a",
       "version_major": 2,
       "version_minor": 0
      },
      "text/plain": [
       "BestResp | t#186/400 | k=5 | sats=STARLINK-11209 [DTC],STARLINK-32086,STARLINK-34520,STARLINK-34409,STARLINK-3…"
      ]
     },
     "metadata": {},
     "output_type": "display_data"
    },
    {
     "data": {
      "application/vnd.jupyter.widget-view+json": {
       "model_id": "716605771d5542549554a32ea4ccdc95",
       "version_major": 2,
       "version_minor": 0
      },
      "text/plain": [
       "BestResp | t#187/400 | k=1 | sats=STARLINK-11712 [DTC]:   0%|          | 0/200 [00:00<?, ?it/s]"
      ]
     },
     "metadata": {},
     "output_type": "display_data"
    },
    {
     "data": {
      "application/vnd.jupyter.widget-view+json": {
       "model_id": "5a39681bc97749f38234fc528dfcb477",
       "version_major": 2,
       "version_minor": 0
      },
      "text/plain": [
       "BestResp | t#187/400 | k=3 | sats=STARLINK-11712 [DTC],STARLINK-34298,STARLINK-33870:   0%|          | 0/200 […"
      ]
     },
     "metadata": {},
     "output_type": "display_data"
    },
    {
     "data": {
      "application/vnd.jupyter.widget-view+json": {
       "model_id": "b544460582dd493c8c8a592f13bd2ff0",
       "version_major": 2,
       "version_minor": 0
      },
      "text/plain": [
       "BestResp | t#187/400 | k=5 | sats=STARLINK-11712 [DTC],STARLINK-34298,STARLINK-33870,STARLINK-33783,STARLINK-3…"
      ]
     },
     "metadata": {},
     "output_type": "display_data"
    },
    {
     "data": {
      "application/vnd.jupyter.widget-view+json": {
       "model_id": "4df6620f6ca7430cb689def16b72ca82",
       "version_major": 2,
       "version_minor": 0
      },
      "text/plain": [
       "BestResp | t#188/400 | k=1 | sats=STARLINK-32105:   0%|          | 0/200 [00:00<?, ?it/s]"
      ]
     },
     "metadata": {},
     "output_type": "display_data"
    },
    {
     "data": {
      "application/vnd.jupyter.widget-view+json": {
       "model_id": "c224c2b9fe91463584a3423ce1237cb6",
       "version_major": 2,
       "version_minor": 0
      },
      "text/plain": [
       "BestResp | t#188/400 | k=3 | sats=STARLINK-32105,STARLINK-32753,STARLINK-33783:   0%|          | 0/200 [00:00<…"
      ]
     },
     "metadata": {},
     "output_type": "display_data"
    },
    {
     "data": {
      "application/vnd.jupyter.widget-view+json": {
       "model_id": "9321074c8aba44c4b3555e39802d6fab",
       "version_major": 2,
       "version_minor": 0
      },
      "text/plain": [
       "BestResp | t#188/400 | k=5 | sats=STARLINK-32105,STARLINK-32753,STARLINK-33783,STARLINK-30959,STARLINK-5821:  …"
      ]
     },
     "metadata": {},
     "output_type": "display_data"
    },
    {
     "data": {
      "application/vnd.jupyter.widget-view+json": {
       "model_id": "a54ad3a81bd74760b0d379a65344adc9",
       "version_major": 2,
       "version_minor": 0
      },
      "text/plain": [
       "BestResp | t#189/400 | k=1 | sats=STARLINK-34509:   0%|          | 0/200 [00:00<?, ?it/s]"
      ]
     },
     "metadata": {},
     "output_type": "display_data"
    },
    {
     "data": {
      "application/vnd.jupyter.widget-view+json": {
       "model_id": "21afa1e083394a488f3fa041c929b278",
       "version_major": 2,
       "version_minor": 0
      },
      "text/plain": [
       "BestResp | t#189/400 | k=3 | sats=STARLINK-34509,STARLINK-31686,STARLINK-30788:   0%|          | 0/200 [00:00<…"
      ]
     },
     "metadata": {},
     "output_type": "display_data"
    },
    {
     "data": {
      "application/vnd.jupyter.widget-view+json": {
       "model_id": "9a082122cfc84fc6a38f46e45aeadf81",
       "version_major": 2,
       "version_minor": 0
      },
      "text/plain": [
       "BestResp | t#189/400 | k=5 | sats=STARLINK-34509,STARLINK-31686,STARLINK-30788,STARLINK-31025,STARLINK-34420: …"
      ]
     },
     "metadata": {},
     "output_type": "display_data"
    },
    {
     "data": {
      "application/vnd.jupyter.widget-view+json": {
       "model_id": "269fa81ee8944ae893dd523390edd46e",
       "version_major": 2,
       "version_minor": 0
      },
      "text/plain": [
       "BestResp | t#190/400 | k=1 | sats=STARLINK-11550 [DTC]:   0%|          | 0/200 [00:00<?, ?it/s]"
      ]
     },
     "metadata": {},
     "output_type": "display_data"
    },
    {
     "data": {
      "application/vnd.jupyter.widget-view+json": {
       "model_id": "e7ac492ed6964a8a848e1e3b2289efc2",
       "version_major": 2,
       "version_minor": 0
      },
      "text/plain": [
       "BestResp | t#190/400 | k=3 | sats=STARLINK-11550 [DTC],STARLINK-32232,STARLINK-33835:   0%|          | 0/200 […"
      ]
     },
     "metadata": {},
     "output_type": "display_data"
    },
    {
     "data": {
      "application/vnd.jupyter.widget-view+json": {
       "model_id": "dce141f42dca4d1fa77490152ef18447",
       "version_major": 2,
       "version_minor": 0
      },
      "text/plain": [
       "BestResp | t#190/400 | k=5 | sats=STARLINK-11550 [DTC],STARLINK-32232,STARLINK-33835,STARLINK-4648,STARLINK-31…"
      ]
     },
     "metadata": {},
     "output_type": "display_data"
    },
    {
     "data": {
      "application/vnd.jupyter.widget-view+json": {
       "model_id": "7c21436dd92b449da6b0904a7d762df7",
       "version_major": 2,
       "version_minor": 0
      },
      "text/plain": [
       "BestResp | t#191/400 | k=1 | sats=STARLINK-32099:   0%|          | 0/200 [00:00<?, ?it/s]"
      ]
     },
     "metadata": {},
     "output_type": "display_data"
    },
    {
     "data": {
      "application/vnd.jupyter.widget-view+json": {
       "model_id": "de5f4137849c4563badbcae44484f15c",
       "version_major": 2,
       "version_minor": 0
      },
      "text/plain": [
       "BestResp | t#191/400 | k=3 | sats=STARLINK-32099,STARLINK-30804,STARLINK-34537:   0%|          | 0/200 [00:00<…"
      ]
     },
     "metadata": {},
     "output_type": "display_data"
    },
    {
     "data": {
      "application/vnd.jupyter.widget-view+json": {
       "model_id": "bd8505c3bfd0418ab9f6a5f5d2016b75",
       "version_major": 2,
       "version_minor": 0
      },
      "text/plain": [
       "BestResp | t#191/400 | k=5 | sats=STARLINK-32099,STARLINK-30804,STARLINK-34537,STARLINK-3208,STARLINK-6243:   …"
      ]
     },
     "metadata": {},
     "output_type": "display_data"
    },
    {
     "data": {
      "application/vnd.jupyter.widget-view+json": {
       "model_id": "aaf7dd4aaed74bef9099ff368af3c48a",
       "version_major": 2,
       "version_minor": 0
      },
      "text/plain": [
       "BestResp | t#192/400 | k=1 | sats=STARLINK-32089:   0%|          | 0/200 [00:00<?, ?it/s]"
      ]
     },
     "metadata": {},
     "output_type": "display_data"
    },
    {
     "data": {
      "application/vnd.jupyter.widget-view+json": {
       "model_id": "553369c7311b44d0b00fdd8cf5599f9e",
       "version_major": 2,
       "version_minor": 0
      },
      "text/plain": [
       "BestResp | t#192/400 | k=3 | sats=STARLINK-32089,STARLINK-31483,STARLINK-3264:   0%|          | 0/200 [00:00<?…"
      ]
     },
     "metadata": {},
     "output_type": "display_data"
    },
    {
     "data": {
      "application/vnd.jupyter.widget-view+json": {
       "model_id": "c8c5bffea32444ac9eea6d21b4a66ab1",
       "version_major": 2,
       "version_minor": 0
      },
      "text/plain": [
       "BestResp | t#192/400 | k=5 | sats=STARLINK-32089,STARLINK-31483,STARLINK-3264,STARLINK-4300,STARLINK-31364:   …"
      ]
     },
     "metadata": {},
     "output_type": "display_data"
    },
    {
     "data": {
      "application/vnd.jupyter.widget-view+json": {
       "model_id": "b39af89b76d64d6596a6d0d08d377c09",
       "version_major": 2,
       "version_minor": 0
      },
      "text/plain": [
       "BestResp | t#193/400 | k=1 | sats=STARLINK-11563 [DTC]:   0%|          | 0/200 [00:00<?, ?it/s]"
      ]
     },
     "metadata": {},
     "output_type": "display_data"
    },
    {
     "data": {
      "application/vnd.jupyter.widget-view+json": {
       "model_id": "a300668efe49450eac078514349f2548",
       "version_major": 2,
       "version_minor": 0
      },
      "text/plain": [
       "BestResp | t#193/400 | k=3 | sats=STARLINK-11563 [DTC],STARLINK-11618 [DTC],STARLINK-32957:   0%|          | 0…"
      ]
     },
     "metadata": {},
     "output_type": "display_data"
    },
    {
     "data": {
      "application/vnd.jupyter.widget-view+json": {
       "model_id": "a385ad792fa1489bae804a30161ea641",
       "version_major": 2,
       "version_minor": 0
      },
      "text/plain": [
       "BestResp | t#193/400 | k=5 | sats=STARLINK-11563 [DTC],STARLINK-11618 [DTC],STARLINK-32957,STARLINK-34308,STAR…"
      ]
     },
     "metadata": {},
     "output_type": "display_data"
    },
    {
     "data": {
      "application/vnd.jupyter.widget-view+json": {
       "model_id": "ef02b45ded2e415fab0992d4d46ac33e",
       "version_major": 2,
       "version_minor": 0
      },
      "text/plain": [
       "BestResp | t#194/400 | k=1 | sats=STARLINK-11234 [DTC]:   0%|          | 0/200 [00:00<?, ?it/s]"
      ]
     },
     "metadata": {},
     "output_type": "display_data"
    },
    {
     "data": {
      "application/vnd.jupyter.widget-view+json": {
       "model_id": "a1ae4aff5bdc42ea9a42247be2e07693",
       "version_major": 2,
       "version_minor": 0
      },
      "text/plain": [
       "BestResp | t#194/400 | k=3 | sats=STARLINK-11234 [DTC],STARLINK-34490,STARLINK-32102:   0%|          | 0/200 […"
      ]
     },
     "metadata": {},
     "output_type": "display_data"
    },
    {
     "data": {
      "application/vnd.jupyter.widget-view+json": {
       "model_id": "ae2da134a33b4ae0b2f592cb00006efb",
       "version_major": 2,
       "version_minor": 0
      },
      "text/plain": [
       "BestResp | t#194/400 | k=5 | sats=STARLINK-11234 [DTC],STARLINK-34490,STARLINK-32102,STARLINK-31690,STARLINK-1…"
      ]
     },
     "metadata": {},
     "output_type": "display_data"
    },
    {
     "data": {
      "application/vnd.jupyter.widget-view+json": {
       "model_id": "3b852223f093415e913c4a1d276cb950",
       "version_major": 2,
       "version_minor": 0
      },
      "text/plain": [
       "BestResp | t#195/400 | k=1 | sats=STARLINK-11582 [DTC]:   0%|          | 0/200 [00:00<?, ?it/s]"
      ]
     },
     "metadata": {},
     "output_type": "display_data"
    },
    {
     "data": {
      "application/vnd.jupyter.widget-view+json": {
       "model_id": "9335c1d0126443d496df4020b4ffac8d",
       "version_major": 2,
       "version_minor": 0
      },
      "text/plain": [
       "BestResp | t#195/400 | k=3 | sats=STARLINK-11582 [DTC],STARLINK-30802,STARLINK-30286:   0%|          | 0/200 […"
      ]
     },
     "metadata": {},
     "output_type": "display_data"
    },
    {
     "data": {
      "application/vnd.jupyter.widget-view+json": {
       "model_id": "50bb6dc142db4b8aa41f33ccfe0ceb95",
       "version_major": 2,
       "version_minor": 0
      },
      "text/plain": [
       "BestResp | t#195/400 | k=5 | sats=STARLINK-11582 [DTC],STARLINK-30802,STARLINK-30286,STARLINK-33873,STARLINK-3…"
      ]
     },
     "metadata": {},
     "output_type": "display_data"
    },
    {
     "data": {
      "application/vnd.jupyter.widget-view+json": {
       "model_id": "14ffd21f4ec44271b5143a94447a8294",
       "version_major": 2,
       "version_minor": 0
      },
      "text/plain": [
       "BestResp | t#196/400 | k=1 | sats=STARLINK-11406 [DTC]:   0%|          | 0/200 [00:00<?, ?it/s]"
      ]
     },
     "metadata": {},
     "output_type": "display_data"
    },
    {
     "data": {
      "application/vnd.jupyter.widget-view+json": {
       "model_id": "f63e3bb57c164ddcb0b6f2c654ce12e9",
       "version_major": 2,
       "version_minor": 0
      },
      "text/plain": [
       "BestResp | t#196/400 | k=3 | sats=STARLINK-11406 [DTC],STARLINK-31340,STARLINK-31471:   0%|          | 0/200 […"
      ]
     },
     "metadata": {},
     "output_type": "display_data"
    },
    {
     "data": {
      "application/vnd.jupyter.widget-view+json": {
       "model_id": "f2c1c0a971a74aa4b0e396677a744e08",
       "version_major": 2,
       "version_minor": 0
      },
      "text/plain": [
       "BestResp | t#196/400 | k=5 | sats=STARLINK-11406 [DTC],STARLINK-31340,STARLINK-31471,STARLINK-30784,STARLINK-3…"
      ]
     },
     "metadata": {},
     "output_type": "display_data"
    },
    {
     "data": {
      "application/vnd.jupyter.widget-view+json": {
       "model_id": "2f7f36a7cc5f4340998fece260dcc8ae",
       "version_major": 2,
       "version_minor": 0
      },
      "text/plain": [
       "BestResp | t#197/400 | k=1 | sats=STARLINK-11679 [DTC]:   0%|          | 0/200 [00:00<?, ?it/s]"
      ]
     },
     "metadata": {},
     "output_type": "display_data"
    },
    {
     "data": {
      "application/vnd.jupyter.widget-view+json": {
       "model_id": "64781f95d07d4950b5976d2b8b9424b6",
       "version_major": 2,
       "version_minor": 0
      },
      "text/plain": [
       "BestResp | t#197/400 | k=3 | sats=STARLINK-11679 [DTC],STARLINK-11182 [DTC],STARLINK-34375:   0%|          | 0…"
      ]
     },
     "metadata": {},
     "output_type": "display_data"
    },
    {
     "data": {
      "application/vnd.jupyter.widget-view+json": {
       "model_id": "782d9de594e3463e8f76ee6f86565018",
       "version_major": 2,
       "version_minor": 0
      },
      "text/plain": [
       "BestResp | t#197/400 | k=5 | sats=STARLINK-11679 [DTC],STARLINK-11182 [DTC],STARLINK-34375,STARLINK-34528,STAR…"
      ]
     },
     "metadata": {},
     "output_type": "display_data"
    },
    {
     "data": {
      "application/vnd.jupyter.widget-view+json": {
       "model_id": "72d58269d9cd4bf784a2f08862057f3e",
       "version_major": 2,
       "version_minor": 0
      },
      "text/plain": [
       "BestResp | t#198/400 | k=1 | sats=STARLINK-11412 [DTC]:   0%|          | 0/200 [00:00<?, ?it/s]"
      ]
     },
     "metadata": {},
     "output_type": "display_data"
    },
    {
     "data": {
      "application/vnd.jupyter.widget-view+json": {
       "model_id": "41a72f1e39a44771b6ae7078d9562da5",
       "version_major": 2,
       "version_minor": 0
      },
      "text/plain": [
       "BestResp | t#198/400 | k=3 | sats=STARLINK-11412 [DTC],STARLINK-34496,STARLINK-32936:   0%|          | 0/200 […"
      ]
     },
     "metadata": {},
     "output_type": "display_data"
    },
    {
     "data": {
      "application/vnd.jupyter.widget-view+json": {
       "model_id": "28b2e6374cc344c4bc7ca2861619a8ab",
       "version_major": 2,
       "version_minor": 0
      },
      "text/plain": [
       "BestResp | t#198/400 | k=5 | sats=STARLINK-11412 [DTC],STARLINK-34496,STARLINK-32936,STARLINK-5793,STARLINK-32…"
      ]
     },
     "metadata": {},
     "output_type": "display_data"
    },
    {
     "data": {
      "application/vnd.jupyter.widget-view+json": {
       "model_id": "20041082d6854b2bb71191f0000ec7b2",
       "version_major": 2,
       "version_minor": 0
      },
      "text/plain": [
       "BestResp | t#199/400 | k=1 | sats=STARLINK-11720 [DTC]:   0%|          | 0/200 [00:00<?, ?it/s]"
      ]
     },
     "metadata": {},
     "output_type": "display_data"
    },
    {
     "data": {
      "application/vnd.jupyter.widget-view+json": {
       "model_id": "daed9490df1c4e4c983f0f6dbd38e4ae",
       "version_major": 2,
       "version_minor": 0
      },
      "text/plain": [
       "BestResp | t#199/400 | k=3 | sats=STARLINK-11720 [DTC],STARLINK-32383,STARLINK-32937:   0%|          | 0/200 […"
      ]
     },
     "metadata": {},
     "output_type": "display_data"
    },
    {
     "data": {
      "application/vnd.jupyter.widget-view+json": {
       "model_id": "4f51ebdf12c64470b1943091a6040f31",
       "version_major": 2,
       "version_minor": 0
      },
      "text/plain": [
       "BestResp | t#199/400 | k=5 | sats=STARLINK-11720 [DTC],STARLINK-32383,STARLINK-32937,STARLINK-31620,STARLINK-5…"
      ]
     },
     "metadata": {},
     "output_type": "display_data"
    },
    {
     "data": {
      "application/vnd.jupyter.widget-view+json": {
       "model_id": "892c0e5e66a74100beb5a0f7afdb1e47",
       "version_major": 2,
       "version_minor": 0
      },
      "text/plain": [
       "BestResp | t#200/400 | k=1 | sats=STARLINK-11166 [DTC]:   0%|          | 0/200 [00:00<?, ?it/s]"
      ]
     },
     "metadata": {},
     "output_type": "display_data"
    },
    {
     "data": {
      "application/vnd.jupyter.widget-view+json": {
       "model_id": "30b5a3f80cdd489d84cb8517c797ac79",
       "version_major": 2,
       "version_minor": 0
      },
      "text/plain": [
       "BestResp | t#200/400 | k=3 | sats=STARLINK-11166 [DTC],STARLINK-11573 [DTC],STARLINK-1301:   0%|          | 0/…"
      ]
     },
     "metadata": {},
     "output_type": "display_data"
    },
    {
     "data": {
      "application/vnd.jupyter.widget-view+json": {
       "model_id": "27d79083fac34737b8498a5842f40635",
       "version_major": 2,
       "version_minor": 0
      },
      "text/plain": [
       "BestResp | t#200/400 | k=5 | sats=STARLINK-11166 [DTC],STARLINK-11573 [DTC],STARLINK-1301,STARLINK-3284,STARLI…"
      ]
     },
     "metadata": {},
     "output_type": "display_data"
    },
    {
     "name": "stdout",
     "output_type": "stream",
     "text": [
      "[flush] wrote up to step 200\n"
     ]
    },
    {
     "data": {
      "application/vnd.jupyter.widget-view+json": {
       "model_id": "5d6119a47d0f48afad004065717268e7",
       "version_major": 2,
       "version_minor": 0
      },
      "text/plain": [
       "BestResp | t#201/400 | k=1 | sats=STARLINK-11403 [DTC]:   0%|          | 0/200 [00:00<?, ?it/s]"
      ]
     },
     "metadata": {},
     "output_type": "display_data"
    },
    {
     "data": {
      "application/vnd.jupyter.widget-view+json": {
       "model_id": "5af1a7aab8fd4e1f9308118b97c7d56b",
       "version_major": 2,
       "version_minor": 0
      },
      "text/plain": [
       "BestResp | t#201/400 | k=3 | sats=STARLINK-11403 [DTC],STARLINK-32919,STARLINK-34288:   0%|          | 0/200 […"
      ]
     },
     "metadata": {},
     "output_type": "display_data"
    },
    {
     "data": {
      "application/vnd.jupyter.widget-view+json": {
       "model_id": "7c018d42ac444eaeaaf737ff6de636ae",
       "version_major": 2,
       "version_minor": 0
      },
      "text/plain": [
       "BestResp | t#201/400 | k=5 | sats=STARLINK-11403 [DTC],STARLINK-32919,STARLINK-34288,STARLINK-32947,STARLINK-3…"
      ]
     },
     "metadata": {},
     "output_type": "display_data"
    },
    {
     "data": {
      "application/vnd.jupyter.widget-view+json": {
       "model_id": "8aedbabd37974048bfdbe1795d84bdb7",
       "version_major": 2,
       "version_minor": 0
      },
      "text/plain": [
       "BestResp | t#202/400 | k=1 | sats=STARLINK-11724 [DTC]:   0%|          | 0/200 [00:00<?, ?it/s]"
      ]
     },
     "metadata": {},
     "output_type": "display_data"
    },
    {
     "data": {
      "application/vnd.jupyter.widget-view+json": {
       "model_id": "0b7981a5e11648a4bc44dc609a229bde",
       "version_major": 2,
       "version_minor": 0
      },
      "text/plain": [
       "BestResp | t#202/400 | k=3 | sats=STARLINK-11724 [DTC],STARLINK-34262,STARLINK-31102:   0%|          | 0/200 […"
      ]
     },
     "metadata": {},
     "output_type": "display_data"
    },
    {
     "data": {
      "application/vnd.jupyter.widget-view+json": {
       "model_id": "49213a1763e242f18b46a078121db216",
       "version_major": 2,
       "version_minor": 0
      },
      "text/plain": [
       "BestResp | t#202/400 | k=5 | sats=STARLINK-11724 [DTC],STARLINK-34262,STARLINK-31102,STARLINK-34129,STARLINK-3…"
      ]
     },
     "metadata": {},
     "output_type": "display_data"
    },
    {
     "data": {
      "application/vnd.jupyter.widget-view+json": {
       "model_id": "bba8dae840ab41419b1280e38bcaeb6c",
       "version_major": 2,
       "version_minor": 0
      },
      "text/plain": [
       "BestResp | t#203/400 | k=1 | sats=STARLINK-11176 [DTC]:   0%|          | 0/200 [00:00<?, ?it/s]"
      ]
     },
     "metadata": {},
     "output_type": "display_data"
    },
    {
     "data": {
      "application/vnd.jupyter.widget-view+json": {
       "model_id": "6448dc82a03f47e5ba65ad22c5c1a300",
       "version_major": 2,
       "version_minor": 0
      },
      "text/plain": [
       "BestResp | t#203/400 | k=3 | sats=STARLINK-11176 [DTC],STARLINK-11566 [DTC],STARLINK-32734:   0%|          | 0…"
      ]
     },
     "metadata": {},
     "output_type": "display_data"
    },
    {
     "data": {
      "application/vnd.jupyter.widget-view+json": {
       "model_id": "cf8539b23141497d8801167f97f614f0",
       "version_major": 2,
       "version_minor": 0
      },
      "text/plain": [
       "BestResp | t#203/400 | k=5 | sats=STARLINK-11176 [DTC],STARLINK-11566 [DTC],STARLINK-32734,STARLINK-31225,STAR…"
      ]
     },
     "metadata": {},
     "output_type": "display_data"
    },
    {
     "data": {
      "application/vnd.jupyter.widget-view+json": {
       "model_id": "d2cef8d43e774232ad7fd06acd6069c9",
       "version_major": 2,
       "version_minor": 0
      },
      "text/plain": [
       "BestResp | t#204/400 | k=1 | sats=STARLINK-11176 [DTC]:   0%|          | 0/200 [00:00<?, ?it/s]"
      ]
     },
     "metadata": {},
     "output_type": "display_data"
    },
    {
     "data": {
      "application/vnd.jupyter.widget-view+json": {
       "model_id": "3a10741f3e4d4a13bfb16590af604245",
       "version_major": 2,
       "version_minor": 0
      },
      "text/plain": [
       "BestResp | t#204/400 | k=3 | sats=STARLINK-11176 [DTC],STARLINK-31225,STARLINK-31511:   0%|          | 0/200 […"
      ]
     },
     "metadata": {},
     "output_type": "display_data"
    },
    {
     "data": {
      "application/vnd.jupyter.widget-view+json": {
       "model_id": "0ba3331d17c343a09a15e5d9db36a9e8",
       "version_major": 2,
       "version_minor": 0
      },
      "text/plain": [
       "BestResp | t#204/400 | k=5 | sats=STARLINK-11176 [DTC],STARLINK-31225,STARLINK-31511,STARLINK-5902,STARLINK-62…"
      ]
     },
     "metadata": {},
     "output_type": "display_data"
    },
    {
     "data": {
      "application/vnd.jupyter.widget-view+json": {
       "model_id": "4a1565cb03fa4e4cbcb2853849420857",
       "version_major": 2,
       "version_minor": 0
      },
      "text/plain": [
       "BestResp | t#205/400 | k=1 | sats=STARLINK-11735 [DTC]:   0%|          | 0/200 [00:00<?, ?it/s]"
      ]
     },
     "metadata": {},
     "output_type": "display_data"
    },
    {
     "data": {
      "application/vnd.jupyter.widget-view+json": {
       "model_id": "a4e46dd31e2d41b7af9d6d838fa44a83",
       "version_major": 2,
       "version_minor": 0
      },
      "text/plain": [
       "BestResp | t#205/400 | k=3 | sats=STARLINK-11735 [DTC],STARLINK-11674 [DTC],STARLINK-34009:   0%|          | 0…"
      ]
     },
     "metadata": {},
     "output_type": "display_data"
    },
    {
     "data": {
      "application/vnd.jupyter.widget-view+json": {
       "model_id": "caa0e75442ee4482a35d6d67531c222f",
       "version_major": 2,
       "version_minor": 0
      },
      "text/plain": [
       "BestResp | t#205/400 | k=5 | sats=STARLINK-11735 [DTC],STARLINK-11674 [DTC],STARLINK-34009,STARLINK-31022,STAR…"
      ]
     },
     "metadata": {},
     "output_type": "display_data"
    },
    {
     "data": {
      "application/vnd.jupyter.widget-view+json": {
       "model_id": "3b9469f216ce4dd7b1d443f59932da0b",
       "version_major": 2,
       "version_minor": 0
      },
      "text/plain": [
       "BestResp | t#206/400 | k=1 | sats=STARLINK-11087 [DTC]:   0%|          | 0/200 [00:00<?, ?it/s]"
      ]
     },
     "metadata": {},
     "output_type": "display_data"
    },
    {
     "data": {
      "application/vnd.jupyter.widget-view+json": {
       "model_id": "d5718925f84e4904899968dcba413654",
       "version_major": 2,
       "version_minor": 0
      },
      "text/plain": [
       "BestResp | t#206/400 | k=3 | sats=STARLINK-11087 [DTC],STARLINK-11567 [DTC],STARLINK-33954:   0%|          | 0…"
      ]
     },
     "metadata": {},
     "output_type": "display_data"
    },
    {
     "data": {
      "application/vnd.jupyter.widget-view+json": {
       "model_id": "6bcfa9a5ba4f42129ba0ad275f3fbcf0",
       "version_major": 2,
       "version_minor": 0
      },
      "text/plain": [
       "BestResp | t#206/400 | k=5 | sats=STARLINK-11087 [DTC],STARLINK-11567 [DTC],STARLINK-33954,STARLINK-32174,STAR…"
      ]
     },
     "metadata": {},
     "output_type": "display_data"
    },
    {
     "data": {
      "application/vnd.jupyter.widget-view+json": {
       "model_id": "41e7e1c1aeb14a4591436f0a6660d9d2",
       "version_major": 2,
       "version_minor": 0
      },
      "text/plain": [
       "BestResp | t#207/400 | k=1 | sats=STARLINK-31011:   0%|          | 0/200 [00:00<?, ?it/s]"
      ]
     },
     "metadata": {},
     "output_type": "display_data"
    },
    {
     "data": {
      "application/vnd.jupyter.widget-view+json": {
       "model_id": "b43c126631894323b96b692aa433ff50",
       "version_major": 2,
       "version_minor": 0
      },
      "text/plain": [
       "BestResp | t#207/400 | k=3 | sats=STARLINK-31011,STARLINK-32794,STARLINK-32884:   0%|          | 0/200 [00:00<…"
      ]
     },
     "metadata": {},
     "output_type": "display_data"
    },
    {
     "data": {
      "application/vnd.jupyter.widget-view+json": {
       "model_id": "f7f5351dd2e54cb6b52254ec3f900407",
       "version_major": 2,
       "version_minor": 0
      },
      "text/plain": [
       "BestResp | t#207/400 | k=5 | sats=STARLINK-31011,STARLINK-32794,STARLINK-32884,STARLINK-2464,STARLINK-1805:   …"
      ]
     },
     "metadata": {},
     "output_type": "display_data"
    },
    {
     "data": {
      "application/vnd.jupyter.widget-view+json": {
       "model_id": "2d1130c76090489299f2801401526149",
       "version_major": 2,
       "version_minor": 0
      },
      "text/plain": [
       "BestResp | t#208/400 | k=1 | sats=STARLINK-11488 [DTC]:   0%|          | 0/200 [00:00<?, ?it/s]"
      ]
     },
     "metadata": {},
     "output_type": "display_data"
    },
    {
     "data": {
      "application/vnd.jupyter.widget-view+json": {
       "model_id": "3b78bcb5054945cd9b94c091c7b30d40",
       "version_major": 2,
       "version_minor": 0
      },
      "text/plain": [
       "BestResp | t#208/400 | k=3 | sats=STARLINK-11488 [DTC],STARLINK-31208,STARLINK-1735:   0%|          | 0/200 [0…"
      ]
     },
     "metadata": {},
     "output_type": "display_data"
    },
    {
     "data": {
      "application/vnd.jupyter.widget-view+json": {
       "model_id": "363b1b37112041958fca9861529047e9",
       "version_major": 2,
       "version_minor": 0
      },
      "text/plain": [
       "BestResp | t#208/400 | k=5 | sats=STARLINK-11488 [DTC],STARLINK-31208,STARLINK-1735,STARLINK-32846,STARLINK-32…"
      ]
     },
     "metadata": {},
     "output_type": "display_data"
    },
    {
     "data": {
      "application/vnd.jupyter.widget-view+json": {
       "model_id": "3a8c58be9fcc46ed8a3c54978ff4bee9",
       "version_major": 2,
       "version_minor": 0
      },
      "text/plain": [
       "BestResp | t#209/400 | k=1 | sats=STARLINK-31207:   0%|          | 0/200 [00:00<?, ?it/s]"
      ]
     },
     "metadata": {},
     "output_type": "display_data"
    },
    {
     "data": {
      "application/vnd.jupyter.widget-view+json": {
       "model_id": "2b38f9998fe0429682c05579d1dc7fce",
       "version_major": 2,
       "version_minor": 0
      },
      "text/plain": [
       "BestResp | t#209/400 | k=3 | sats=STARLINK-31207,STARLINK-31763,STARLINK-3973:   0%|          | 0/200 [00:00<?…"
      ]
     },
     "metadata": {},
     "output_type": "display_data"
    },
    {
     "data": {
      "application/vnd.jupyter.widget-view+json": {
       "model_id": "0520d3b4b21f4b21a770de5d88a7c5f0",
       "version_major": 2,
       "version_minor": 0
      },
      "text/plain": [
       "BestResp | t#209/400 | k=5 | sats=STARLINK-31207,STARLINK-31763,STARLINK-3973,STARLINK-31058,STARLINK-31008:  …"
      ]
     },
     "metadata": {},
     "output_type": "display_data"
    },
    {
     "data": {
      "application/vnd.jupyter.widget-view+json": {
       "model_id": "b534bd2b000b45b7b41a8b33c4e9d12f",
       "version_major": 2,
       "version_minor": 0
      },
      "text/plain": [
       "BestResp | t#210/400 | k=1 | sats=STARLINK-11466 [DTC]:   0%|          | 0/200 [00:00<?, ?it/s]"
      ]
     },
     "metadata": {},
     "output_type": "display_data"
    },
    {
     "data": {
      "application/vnd.jupyter.widget-view+json": {
       "model_id": "dfba832395d847fc8952ac155897ba67",
       "version_major": 2,
       "version_minor": 0
      },
      "text/plain": [
       "BestResp | t#210/400 | k=3 | sats=STARLINK-11466 [DTC],STARLINK-33840,STARLINK-31836:   0%|          | 0/200 […"
      ]
     },
     "metadata": {},
     "output_type": "display_data"
    },
    {
     "data": {
      "application/vnd.jupyter.widget-view+json": {
       "model_id": "21b79806020e4888926b7153f56c4606",
       "version_major": 2,
       "version_minor": 0
      },
      "text/plain": [
       "BestResp | t#210/400 | k=5 | sats=STARLINK-11466 [DTC],STARLINK-33840,STARLINK-31836,STARLINK-31909,STARLINK-3…"
      ]
     },
     "metadata": {},
     "output_type": "display_data"
    },
    {
     "data": {
      "application/vnd.jupyter.widget-view+json": {
       "model_id": "86e8ae2ded2e4f9c8601d81848f06752",
       "version_major": 2,
       "version_minor": 0
      },
      "text/plain": [
       "BestResp | t#211/400 | k=1 | sats=STARLINK-11457 [DTC]:   0%|          | 0/200 [00:00<?, ?it/s]"
      ]
     },
     "metadata": {},
     "output_type": "display_data"
    },
    {
     "data": {
      "application/vnd.jupyter.widget-view+json": {
       "model_id": "600bc00538624a65abe6299b09f96804",
       "version_major": 2,
       "version_minor": 0
      },
      "text/plain": [
       "BestResp | t#211/400 | k=3 | sats=STARLINK-11457 [DTC],STARLINK-31667,STARLINK-31231:   0%|          | 0/200 […"
      ]
     },
     "metadata": {},
     "output_type": "display_data"
    },
    {
     "data": {
      "application/vnd.jupyter.widget-view+json": {
       "model_id": "c2b6e086df744ba8bb3ca5f1d6ab350a",
       "version_major": 2,
       "version_minor": 0
      },
      "text/plain": [
       "BestResp | t#211/400 | k=5 | sats=STARLINK-11457 [DTC],STARLINK-31667,STARLINK-31231,STARLINK-32186,STARLINK-3…"
      ]
     },
     "metadata": {},
     "output_type": "display_data"
    },
    {
     "data": {
      "application/vnd.jupyter.widget-view+json": {
       "model_id": "345eea2730de43efb97e50defb95e913",
       "version_major": 2,
       "version_minor": 0
      },
      "text/plain": [
       "BestResp | t#212/400 | k=1 | sats=STARLINK-34133:   0%|          | 0/200 [00:00<?, ?it/s]"
      ]
     },
     "metadata": {},
     "output_type": "display_data"
    },
    {
     "data": {
      "application/vnd.jupyter.widget-view+json": {
       "model_id": "fdaf2337e9ec420e904b9835b8053350",
       "version_major": 2,
       "version_minor": 0
      },
      "text/plain": [
       "BestResp | t#212/400 | k=3 | sats=STARLINK-34133,STARLINK-32946,STARLINK-33880:   0%|          | 0/200 [00:00<…"
      ]
     },
     "metadata": {},
     "output_type": "display_data"
    },
    {
     "data": {
      "application/vnd.jupyter.widget-view+json": {
       "model_id": "55e1c436bb9547ce8ed92c012f10a6fe",
       "version_major": 2,
       "version_minor": 0
      },
      "text/plain": [
       "BestResp | t#212/400 | k=5 | sats=STARLINK-34133,STARLINK-32946,STARLINK-33880,STARLINK-31110,STARLINK-5845:  …"
      ]
     },
     "metadata": {},
     "output_type": "display_data"
    },
    {
     "data": {
      "application/vnd.jupyter.widget-view+json": {
       "model_id": "9177c31278d64f14be03180bc034a091",
       "version_major": 2,
       "version_minor": 0
      },
      "text/plain": [
       "BestResp | t#213/400 | k=1 | sats=STARLINK-11468 [DTC]:   0%|          | 0/200 [00:00<?, ?it/s]"
      ]
     },
     "metadata": {},
     "output_type": "display_data"
    },
    {
     "data": {
      "application/vnd.jupyter.widget-view+json": {
       "model_id": "f46499521f674ae3b9e5ec93be4b16ea",
       "version_major": 2,
       "version_minor": 0
      },
      "text/plain": [
       "BestResp | t#213/400 | k=3 | sats=STARLINK-11468 [DTC],STARLINK-5326,STARLINK-34670:   0%|          | 0/200 [0…"
      ]
     },
     "metadata": {},
     "output_type": "display_data"
    },
    {
     "data": {
      "application/vnd.jupyter.widget-view+json": {
       "model_id": "1fbccf8fc4404ebfb336f4a00033ff4f",
       "version_major": 2,
       "version_minor": 0
      },
      "text/plain": [
       "BestResp | t#213/400 | k=5 | sats=STARLINK-11468 [DTC],STARLINK-5326,STARLINK-34670,STARLINK-31820,STARLINK-32…"
      ]
     },
     "metadata": {},
     "output_type": "display_data"
    },
    {
     "data": {
      "application/vnd.jupyter.widget-view+json": {
       "model_id": "6d7c3d031b5d40478daec621c5b28fe2",
       "version_major": 2,
       "version_minor": 0
      },
      "text/plain": [
       "BestResp | t#214/400 | k=1 | sats=STARLINK-11747 [DTC]:   0%|          | 0/200 [00:00<?, ?it/s]"
      ]
     },
     "metadata": {},
     "output_type": "display_data"
    },
    {
     "data": {
      "application/vnd.jupyter.widget-view+json": {
       "model_id": "4acce13404c844169ec2df21ab3c36b9",
       "version_major": 2,
       "version_minor": 0
      },
      "text/plain": [
       "BestResp | t#214/400 | k=3 | sats=STARLINK-11747 [DTC],STARLINK-32934,STARLINK-11712 [DTC]:   0%|          | 0…"
      ]
     },
     "metadata": {},
     "output_type": "display_data"
    },
    {
     "data": {
      "application/vnd.jupyter.widget-view+json": {
       "model_id": "3ef0ef1c5ab4443bb1ce3d239bfa324d",
       "version_major": 2,
       "version_minor": 0
      },
      "text/plain": [
       "BestResp | t#214/400 | k=5 | sats=STARLINK-11747 [DTC],STARLINK-32934,STARLINK-11712 [DTC],STARLINK-32807,STAR…"
      ]
     },
     "metadata": {},
     "output_type": "display_data"
    },
    {
     "data": {
      "application/vnd.jupyter.widget-view+json": {
       "model_id": "9d346f0cc64b481aba7323f30f179004",
       "version_major": 2,
       "version_minor": 0
      },
      "text/plain": [
       "BestResp | t#215/400 | k=1 | sats=STARLINK-11481 [DTC]:   0%|          | 0/200 [00:00<?, ?it/s]"
      ]
     },
     "metadata": {},
     "output_type": "display_data"
    },
    {
     "data": {
      "application/vnd.jupyter.widget-view+json": {
       "model_id": "d959ed62fbb044cfa24693b2f29d4f4d",
       "version_major": 2,
       "version_minor": 0
      },
      "text/plain": [
       "BestResp | t#215/400 | k=3 | sats=STARLINK-11481 [DTC],STARLINK-11458 [DTC],STARLINK-33736:   0%|          | 0…"
      ]
     },
     "metadata": {},
     "output_type": "display_data"
    },
    {
     "data": {
      "application/vnd.jupyter.widget-view+json": {
       "model_id": "b57285e630324b11a5e94355b5b5e7c1",
       "version_major": 2,
       "version_minor": 0
      },
      "text/plain": [
       "BestResp | t#215/400 | k=5 | sats=STARLINK-11481 [DTC],STARLINK-11458 [DTC],STARLINK-33736,STARLINK-1134,STARL…"
      ]
     },
     "metadata": {},
     "output_type": "display_data"
    },
    {
     "data": {
      "application/vnd.jupyter.widget-view+json": {
       "model_id": "416ed8f3c4884ddb9ad7749ef6ad03fb",
       "version_major": 2,
       "version_minor": 0
      },
      "text/plain": [
       "BestResp | t#216/400 | k=1 | sats=STARLINK-35022:   0%|          | 0/200 [00:00<?, ?it/s]"
      ]
     },
     "metadata": {},
     "output_type": "display_data"
    },
    {
     "data": {
      "application/vnd.jupyter.widget-view+json": {
       "model_id": "242cee1c094341428fd96c4fcaa1ac3a",
       "version_major": 2,
       "version_minor": 0
      },
      "text/plain": [
       "BestResp | t#216/400 | k=3 | sats=STARLINK-35022,STARLINK-33833,STARLINK-11481 [DTC]:   0%|          | 0/200 […"
      ]
     },
     "metadata": {},
     "output_type": "display_data"
    },
    {
     "data": {
      "application/vnd.jupyter.widget-view+json": {
       "model_id": "73492dcbfc41438fa83ed3217c23477e",
       "version_major": 2,
       "version_minor": 0
      },
      "text/plain": [
       "BestResp | t#216/400 | k=5 | sats=STARLINK-35022,STARLINK-33833,STARLINK-11481 [DTC],STARLINK-35146,STARLINK-3…"
      ]
     },
     "metadata": {},
     "output_type": "display_data"
    },
    {
     "data": {
      "application/vnd.jupyter.widget-view+json": {
       "model_id": "ecb86f40f094430499c60e713db9c2a7",
       "version_major": 2,
       "version_minor": 0
      },
      "text/plain": [
       "BestResp | t#217/400 | k=1 | sats=STARLINK-4063:   0%|          | 0/200 [00:00<?, ?it/s]"
      ]
     },
     "metadata": {},
     "output_type": "display_data"
    },
    {
     "data": {
      "application/vnd.jupyter.widget-view+json": {
       "model_id": "691f5e3868b34ebb9cbb6fe282083592",
       "version_major": 2,
       "version_minor": 0
      },
      "text/plain": [
       "BestResp | t#217/400 | k=3 | sats=STARLINK-4063,STARLINK-11272 [DTC],STARLINK-3290:   0%|          | 0/200 [00…"
      ]
     },
     "metadata": {},
     "output_type": "display_data"
    },
    {
     "data": {
      "application/vnd.jupyter.widget-view+json": {
       "model_id": "3b5efc56e9c4470f9becf250dda5b0a3",
       "version_major": 2,
       "version_minor": 0
      },
      "text/plain": [
       "BestResp | t#217/400 | k=5 | sats=STARLINK-4063,STARLINK-11272 [DTC],STARLINK-3290,STARLINK-5418,STARLINK-3138…"
      ]
     },
     "metadata": {},
     "output_type": "display_data"
    },
    {
     "data": {
      "application/vnd.jupyter.widget-view+json": {
       "model_id": "3b72a9cb0da54853a017f017626fc954",
       "version_major": 2,
       "version_minor": 0
      },
      "text/plain": [
       "BestResp | t#218/400 | k=1 | sats=STARLINK-31478:   0%|          | 0/200 [00:00<?, ?it/s]"
      ]
     },
     "metadata": {},
     "output_type": "display_data"
    },
    {
     "data": {
      "application/vnd.jupyter.widget-view+json": {
       "model_id": "52eeea9041bd4fd3aaec95be6ef48523",
       "version_major": 2,
       "version_minor": 0
      },
      "text/plain": [
       "BestResp | t#218/400 | k=3 | sats=STARLINK-31478,STARLINK-4063,STARLINK-30538:   0%|          | 0/200 [00:00<?…"
      ]
     },
     "metadata": {},
     "output_type": "display_data"
    },
    {
     "data": {
      "application/vnd.jupyter.widget-view+json": {
       "model_id": "06c63580ac62429c93abc0a854828493",
       "version_major": 2,
       "version_minor": 0
      },
      "text/plain": [
       "BestResp | t#218/400 | k=5 | sats=STARLINK-31478,STARLINK-4063,STARLINK-30538,STARLINK-33976,STARLINK-4388:   …"
      ]
     },
     "metadata": {},
     "output_type": "display_data"
    },
    {
     "data": {
      "application/vnd.jupyter.widget-view+json": {
       "model_id": "7152c25e121e421d8d6ecbd2853ddcbf",
       "version_major": 2,
       "version_minor": 0
      },
      "text/plain": [
       "BestResp | t#219/400 | k=1 | sats=STARLINK-31917:   0%|          | 0/200 [00:00<?, ?it/s]"
      ]
     },
     "metadata": {},
     "output_type": "display_data"
    },
    {
     "data": {
      "application/vnd.jupyter.widget-view+json": {
       "model_id": "9701022086a7425c8337559da5fee145",
       "version_major": 2,
       "version_minor": 0
      },
      "text/plain": [
       "BestResp | t#219/400 | k=3 | sats=STARLINK-31917,STARLINK-31478,STARLINK-33768:   0%|          | 0/200 [00:00<…"
      ]
     },
     "metadata": {},
     "output_type": "display_data"
    },
    {
     "data": {
      "application/vnd.jupyter.widget-view+json": {
       "model_id": "a57550eff013483494205dffe2649988",
       "version_major": 2,
       "version_minor": 0
      },
      "text/plain": [
       "BestResp | t#219/400 | k=5 | sats=STARLINK-31917,STARLINK-31478,STARLINK-33768,STARLINK-31092,STARLINK-30538: …"
      ]
     },
     "metadata": {},
     "output_type": "display_data"
    },
    {
     "data": {
      "application/vnd.jupyter.widget-view+json": {
       "model_id": "87f8275caa284a1d90fe6a09455998d7",
       "version_major": 2,
       "version_minor": 0
      },
      "text/plain": [
       "BestResp | t#220/400 | k=1 | sats=STARLINK-11594 [DTC]:   0%|          | 0/200 [00:00<?, ?it/s]"
      ]
     },
     "metadata": {},
     "output_type": "display_data"
    },
    {
     "data": {
      "application/vnd.jupyter.widget-view+json": {
       "model_id": "7eab92f447b54d53959a8663a974f7e7",
       "version_major": 2,
       "version_minor": 0
      },
      "text/plain": [
       "BestResp | t#220/400 | k=3 | sats=STARLINK-11594 [DTC],STARLINK-34257,STARLINK-31917:   0%|          | 0/200 […"
      ]
     },
     "metadata": {},
     "output_type": "display_data"
    },
    {
     "data": {
      "application/vnd.jupyter.widget-view+json": {
       "model_id": "3b59d446d7c44ae5b43c5e83a9042faf",
       "version_major": 2,
       "version_minor": 0
      },
      "text/plain": [
       "BestResp | t#220/400 | k=5 | sats=STARLINK-11594 [DTC],STARLINK-34257,STARLINK-31917,STARLINK-31515,STARLINK-3…"
      ]
     },
     "metadata": {},
     "output_type": "display_data"
    },
    {
     "name": "stdout",
     "output_type": "stream",
     "text": [
      "[flush] wrote up to step 220\n"
     ]
    },
    {
     "data": {
      "application/vnd.jupyter.widget-view+json": {
       "model_id": "64c9d22adf88412aa6f03dd8e42ba259",
       "version_major": 2,
       "version_minor": 0
      },
      "text/plain": [
       "BestResp | t#221/400 | k=1 | sats=STARLINK-11594 [DTC]:   0%|          | 0/200 [00:00<?, ?it/s]"
      ]
     },
     "metadata": {},
     "output_type": "display_data"
    },
    {
     "data": {
      "application/vnd.jupyter.widget-view+json": {
       "model_id": "3e750a8c9b0541c99840a3e1238d7890",
       "version_major": 2,
       "version_minor": 0
      },
      "text/plain": [
       "BestResp | t#221/400 | k=3 | sats=STARLINK-11594 [DTC],STARLINK-34763,STARLINK-34257:   0%|          | 0/200 […"
      ]
     },
     "metadata": {},
     "output_type": "display_data"
    },
    {
     "data": {
      "application/vnd.jupyter.widget-view+json": {
       "model_id": "ab382c4288ab4b42a4e3471b94383162",
       "version_major": 2,
       "version_minor": 0
      },
      "text/plain": [
       "BestResp | t#221/400 | k=5 | sats=STARLINK-11594 [DTC],STARLINK-34763,STARLINK-34257,STARLINK-31515,STARLINK-3…"
      ]
     },
     "metadata": {},
     "output_type": "display_data"
    },
    {
     "data": {
      "application/vnd.jupyter.widget-view+json": {
       "model_id": "a6edd51086984e48ada138c4612112b3",
       "version_major": 2,
       "version_minor": 0
      },
      "text/plain": [
       "BestResp | t#222/400 | k=1 | sats=STARLINK-2595:   0%|          | 0/200 [00:00<?, ?it/s]"
      ]
     },
     "metadata": {},
     "output_type": "display_data"
    },
    {
     "data": {
      "application/vnd.jupyter.widget-view+json": {
       "model_id": "60998d00116d4142a47bad87bd9a9b05",
       "version_major": 2,
       "version_minor": 0
      },
      "text/plain": [
       "BestResp | t#222/400 | k=3 | sats=STARLINK-2595,STARLINK-34763,STARLINK-30335:   0%|          | 0/200 [00:00<?…"
      ]
     },
     "metadata": {},
     "output_type": "display_data"
    },
    {
     "data": {
      "application/vnd.jupyter.widget-view+json": {
       "model_id": "fa289c4a3e2c474e9830d332260fba1c",
       "version_major": 2,
       "version_minor": 0
      },
      "text/plain": [
       "BestResp | t#222/400 | k=5 | sats=STARLINK-2595,STARLINK-34763,STARLINK-30335,STARLINK-1262,STARLINK-1531:   0…"
      ]
     },
     "metadata": {},
     "output_type": "display_data"
    },
    {
     "data": {
      "application/vnd.jupyter.widget-view+json": {
       "model_id": "f3cf94655c1b492a8a4e6591af2e3602",
       "version_major": 2,
       "version_minor": 0
      },
      "text/plain": [
       "BestResp | t#223/400 | k=1 | sats=STARLINK-33914:   0%|          | 0/200 [00:00<?, ?it/s]"
      ]
     },
     "metadata": {},
     "output_type": "display_data"
    },
    {
     "data": {
      "application/vnd.jupyter.widget-view+json": {
       "model_id": "20bc7c4b3ecd4e1dbfec7865109f66c9",
       "version_major": 2,
       "version_minor": 0
      },
      "text/plain": [
       "BestResp | t#223/400 | k=3 | sats=STARLINK-33914,STARLINK-31544,STARLINK-30523:   0%|          | 0/200 [00:00<…"
      ]
     },
     "metadata": {},
     "output_type": "display_data"
    },
    {
     "data": {
      "application/vnd.jupyter.widget-view+json": {
       "model_id": "6f896d34ee2b4153a486e4cba93d5687",
       "version_major": 2,
       "version_minor": 0
      },
      "text/plain": [
       "BestResp | t#223/400 | k=5 | sats=STARLINK-33914,STARLINK-31544,STARLINK-30523,STARLINK-1676,STARLINK-31885:  …"
      ]
     },
     "metadata": {},
     "output_type": "display_data"
    },
    {
     "data": {
      "application/vnd.jupyter.widget-view+json": {
       "model_id": "6994906204b24eeb9fbd66fe3a58d409",
       "version_major": 2,
       "version_minor": 0
      },
      "text/plain": [
       "BestResp | t#224/400 | k=1 | sats=STARLINK-34974:   0%|          | 0/200 [00:00<?, ?it/s]"
      ]
     },
     "metadata": {},
     "output_type": "display_data"
    },
    {
     "data": {
      "application/vnd.jupyter.widget-view+json": {
       "model_id": "6445ce60490049588b6a8710ce474cbd",
       "version_major": 2,
       "version_minor": 0
      },
      "text/plain": [
       "BestResp | t#224/400 | k=3 | sats=STARLINK-34974,STARLINK-33842,STARLINK-1031:   0%|          | 0/200 [00:00<?…"
      ]
     },
     "metadata": {},
     "output_type": "display_data"
    },
    {
     "data": {
      "application/vnd.jupyter.widget-view+json": {
       "model_id": "7bbb6608cb8848a594a185a00f054e6e",
       "version_major": 2,
       "version_minor": 0
      },
      "text/plain": [
       "BestResp | t#224/400 | k=5 | sats=STARLINK-34974,STARLINK-33842,STARLINK-1031,STARLINK-2355,STARLINK-3339:   0…"
      ]
     },
     "metadata": {},
     "output_type": "display_data"
    },
    {
     "data": {
      "application/vnd.jupyter.widget-view+json": {
       "model_id": "c6b58a34485a4c68910891ac8f5f7154",
       "version_major": 2,
       "version_minor": 0
      },
      "text/plain": [
       "BestResp | t#225/400 | k=1 | sats=STARLINK-34796:   0%|          | 0/200 [00:00<?, ?it/s]"
      ]
     },
     "metadata": {},
     "output_type": "display_data"
    },
    {
     "data": {
      "application/vnd.jupyter.widget-view+json": {
       "model_id": "4b009f6ee73d441395b0c63027fc09d5",
       "version_major": 2,
       "version_minor": 0
      },
      "text/plain": [
       "BestResp | t#225/400 | k=3 | sats=STARLINK-34796,STARLINK-30616,STARLINK-31886:   0%|          | 0/200 [00:00<…"
      ]
     },
     "metadata": {},
     "output_type": "display_data"
    },
    {
     "data": {
      "application/vnd.jupyter.widget-view+json": {
       "model_id": "882c05610da84ed5b37fa5fed7f35794",
       "version_major": 2,
       "version_minor": 0
      },
      "text/plain": [
       "BestResp | t#225/400 | k=5 | sats=STARLINK-34796,STARLINK-30616,STARLINK-31886,STARLINK-31660,STARLINK-33923: …"
      ]
     },
     "metadata": {},
     "output_type": "display_data"
    },
    {
     "data": {
      "application/vnd.jupyter.widget-view+json": {
       "model_id": "b483b2770bce44b591f67405317cf185",
       "version_major": 2,
       "version_minor": 0
      },
      "text/plain": [
       "BestResp | t#226/400 | k=1 | sats=STARLINK-31660:   0%|          | 0/200 [00:00<?, ?it/s]"
      ]
     },
     "metadata": {},
     "output_type": "display_data"
    },
    {
     "data": {
      "application/vnd.jupyter.widget-view+json": {
       "model_id": "ef3ceea6e8f34beb935e64641d018e34",
       "version_major": 2,
       "version_minor": 0
      },
      "text/plain": [
       "BestResp | t#226/400 | k=3 | sats=STARLINK-31660,STARLINK-31886,STARLINK-31410:   0%|          | 0/200 [00:00<…"
      ]
     },
     "metadata": {},
     "output_type": "display_data"
    },
    {
     "data": {
      "application/vnd.jupyter.widget-view+json": {
       "model_id": "8d068ea107b2433c8a3a81c5646388aa",
       "version_major": 2,
       "version_minor": 0
      },
      "text/plain": [
       "BestResp | t#226/400 | k=5 | sats=STARLINK-31660,STARLINK-31886,STARLINK-31410,STARLINK-30254,STARLINK-31415: …"
      ]
     },
     "metadata": {},
     "output_type": "display_data"
    },
    {
     "data": {
      "application/vnd.jupyter.widget-view+json": {
       "model_id": "81711b61a5f14b30abc62a245b347917",
       "version_major": 2,
       "version_minor": 0
      },
      "text/plain": [
       "BestResp | t#227/400 | k=1 | sats=STARLINK-11570 [DTC]:   0%|          | 0/200 [00:00<?, ?it/s]"
      ]
     },
     "metadata": {},
     "output_type": "display_data"
    },
    {
     "data": {
      "application/vnd.jupyter.widget-view+json": {
       "model_id": "d8a756d94b6b49e0bf9b87be9ac892b4",
       "version_major": 2,
       "version_minor": 0
      },
      "text/plain": [
       "BestResp | t#227/400 | k=3 | sats=STARLINK-11570 [DTC],STARLINK-11259 [DTC],STARLINK-11333 [DTC]:   0%|       …"
      ]
     },
     "metadata": {},
     "output_type": "display_data"
    },
    {
     "data": {
      "application/vnd.jupyter.widget-view+json": {
       "model_id": "b3ba97c78f6a494885fc5fb517eee075",
       "version_major": 2,
       "version_minor": 0
      },
      "text/plain": [
       "BestResp | t#227/400 | k=5 | sats=STARLINK-11570 [DTC],STARLINK-11259 [DTC],STARLINK-11333 [DTC],STARLINK-1155…"
      ]
     },
     "metadata": {},
     "output_type": "display_data"
    },
    {
     "data": {
      "application/vnd.jupyter.widget-view+json": {
       "model_id": "4162f0e2350845659539ca4bc8e94951",
       "version_major": 2,
       "version_minor": 0
      },
      "text/plain": [
       "BestResp | t#228/400 | k=1 | sats=STARLINK-11201 [DTC]:   0%|          | 0/200 [00:00<?, ?it/s]"
      ]
     },
     "metadata": {},
     "output_type": "display_data"
    },
    {
     "data": {
      "application/vnd.jupyter.widget-view+json": {
       "model_id": "a642850eab4d43c1aa3b2ba30583ed0f",
       "version_major": 2,
       "version_minor": 0
      },
      "text/plain": [
       "BestResp | t#228/400 | k=3 | sats=STARLINK-11201 [DTC],STARLINK-33867,STARLINK-31649:   0%|          | 0/200 […"
      ]
     },
     "metadata": {},
     "output_type": "display_data"
    },
    {
     "data": {
      "application/vnd.jupyter.widget-view+json": {
       "model_id": "4e5f38627f2547ad9a6f03953572923f",
       "version_major": 2,
       "version_minor": 0
      },
      "text/plain": [
       "BestResp | t#228/400 | k=5 | sats=STARLINK-11201 [DTC],STARLINK-33867,STARLINK-31649,STARLINK-31256,STARLINK-3…"
      ]
     },
     "metadata": {},
     "output_type": "display_data"
    },
    {
     "data": {
      "application/vnd.jupyter.widget-view+json": {
       "model_id": "e2c157a78bca4bee855ac85baec9ad5b",
       "version_major": 2,
       "version_minor": 0
      },
      "text/plain": [
       "BestResp | t#229/400 | k=1 | sats=STARLINK-11201 [DTC]:   0%|          | 0/200 [00:00<?, ?it/s]"
      ]
     },
     "metadata": {},
     "output_type": "display_data"
    },
    {
     "data": {
      "application/vnd.jupyter.widget-view+json": {
       "model_id": "a08b145336554ddf932007a9124dba39",
       "version_major": 2,
       "version_minor": 0
      },
      "text/plain": [
       "BestResp | t#229/400 | k=3 | sats=STARLINK-11201 [DTC],STARLINK-31499,STARLINK-33884:   0%|          | 0/200 […"
      ]
     },
     "metadata": {},
     "output_type": "display_data"
    },
    {
     "data": {
      "application/vnd.jupyter.widget-view+json": {
       "model_id": "df4cf0a040b84e279a5567470ae0f227",
       "version_major": 2,
       "version_minor": 0
      },
      "text/plain": [
       "BestResp | t#229/400 | k=5 | sats=STARLINK-11201 [DTC],STARLINK-31499,STARLINK-33884,STARLINK-31534,STARLINK-4…"
      ]
     },
     "metadata": {},
     "output_type": "display_data"
    },
    {
     "data": {
      "application/vnd.jupyter.widget-view+json": {
       "model_id": "81ceffeb7dfc4026833e094a84a900fc",
       "version_major": 2,
       "version_minor": 0
      },
      "text/plain": [
       "BestResp | t#230/400 | k=1 | sats=STARLINK-34888:   0%|          | 0/200 [00:00<?, ?it/s]"
      ]
     },
     "metadata": {},
     "output_type": "display_data"
    },
    {
     "data": {
      "application/vnd.jupyter.widget-view+json": {
       "model_id": "2a4cc5c556d349ccb3f3a31731ccf701",
       "version_major": 2,
       "version_minor": 0
      },
      "text/plain": [
       "BestResp | t#230/400 | k=3 | sats=STARLINK-34888,STARLINK-11386 [DTC],STARLINK-32738:   0%|          | 0/200 […"
      ]
     },
     "metadata": {},
     "output_type": "display_data"
    },
    {
     "data": {
      "application/vnd.jupyter.widget-view+json": {
       "model_id": "aa889408f8764938a320f766e84afaeb",
       "version_major": 2,
       "version_minor": 0
      },
      "text/plain": [
       "BestResp | t#230/400 | k=5 | sats=STARLINK-34888,STARLINK-11386 [DTC],STARLINK-32738,STARLINK-35093,STARLINK-3…"
      ]
     },
     "metadata": {},
     "output_type": "display_data"
    },
    {
     "data": {
      "application/vnd.jupyter.widget-view+json": {
       "model_id": "4d91ebb78eda4a70aba422a37edf73c1",
       "version_major": 2,
       "version_minor": 0
      },
      "text/plain": [
       "BestResp | t#231/400 | k=1 | sats=STARLINK-11489 [DTC]:   0%|          | 0/200 [00:00<?, ?it/s]"
      ]
     },
     "metadata": {},
     "output_type": "display_data"
    },
    {
     "data": {
      "application/vnd.jupyter.widget-view+json": {
       "model_id": "9b200497aadf428bb725c29c95cda3e9",
       "version_major": 2,
       "version_minor": 0
      },
      "text/plain": [
       "BestResp | t#231/400 | k=3 | sats=STARLINK-11489 [DTC],STARLINK-34603,STARLINK-31278:   0%|          | 0/200 […"
      ]
     },
     "metadata": {},
     "output_type": "display_data"
    },
    {
     "data": {
      "application/vnd.jupyter.widget-view+json": {
       "model_id": "53158d95e87349cfaf6e44de5a136b6e",
       "version_major": 2,
       "version_minor": 0
      },
      "text/plain": [
       "BestResp | t#231/400 | k=5 | sats=STARLINK-11489 [DTC],STARLINK-34603,STARLINK-31278,STARLINK-33916,STARLINK-3…"
      ]
     },
     "metadata": {},
     "output_type": "display_data"
    },
    {
     "data": {
      "application/vnd.jupyter.widget-view+json": {
       "model_id": "82f80140fafc4b6fb37fa5b07a137a57",
       "version_major": 2,
       "version_minor": 0
      },
      "text/plain": [
       "BestResp | t#232/400 | k=1 | sats=STARLINK-11162 [DTC]:   0%|          | 0/200 [00:00<?, ?it/s]"
      ]
     },
     "metadata": {},
     "output_type": "display_data"
    },
    {
     "data": {
      "application/vnd.jupyter.widget-view+json": {
       "model_id": "ded4f0d608754099990b1945ee880429",
       "version_major": 2,
       "version_minor": 0
      },
      "text/plain": [
       "BestResp | t#232/400 | k=3 | sats=STARLINK-11162 [DTC],STARLINK-35089,STARLINK-32091:   0%|          | 0/200 […"
      ]
     },
     "metadata": {},
     "output_type": "display_data"
    },
    {
     "data": {
      "application/vnd.jupyter.widget-view+json": {
       "model_id": "3511bf52c3cd4d95b222c500fddacf16",
       "version_major": 2,
       "version_minor": 0
      },
      "text/plain": [
       "BestResp | t#232/400 | k=5 | sats=STARLINK-11162 [DTC],STARLINK-35089,STARLINK-32091,STARLINK-1629,STARLINK-30…"
      ]
     },
     "metadata": {},
     "output_type": "display_data"
    },
    {
     "data": {
      "application/vnd.jupyter.widget-view+json": {
       "model_id": "0f7f0d9427724179a9c778d5179cd287",
       "version_major": 2,
       "version_minor": 0
      },
      "text/plain": [
       "BestResp | t#233/400 | k=1 | sats=STARLINK-11162 [DTC]:   0%|          | 0/200 [00:00<?, ?it/s]"
      ]
     },
     "metadata": {},
     "output_type": "display_data"
    },
    {
     "data": {
      "application/vnd.jupyter.widget-view+json": {
       "model_id": "279a96dafda14a9da8e8426f591c75a7",
       "version_major": 2,
       "version_minor": 0
      },
      "text/plain": [
       "BestResp | t#233/400 | k=3 | sats=STARLINK-11162 [DTC],STARLINK-35089,STARLINK-32091:   0%|          | 0/200 […"
      ]
     },
     "metadata": {},
     "output_type": "display_data"
    },
    {
     "data": {
      "application/vnd.jupyter.widget-view+json": {
       "model_id": "9090e4fd0333481788b8ae56777254b4",
       "version_major": 2,
       "version_minor": 0
      },
      "text/plain": [
       "BestResp | t#233/400 | k=5 | sats=STARLINK-11162 [DTC],STARLINK-35089,STARLINK-32091,STARLINK-1629,STARLINK-30…"
      ]
     },
     "metadata": {},
     "output_type": "display_data"
    },
    {
     "data": {
      "application/vnd.jupyter.widget-view+json": {
       "model_id": "e80def929def4094b5ebaec7761b88f5",
       "version_major": 2,
       "version_minor": 0
      },
      "text/plain": [
       "BestResp | t#234/400 | k=1 | sats=STARLINK-11303 [DTC]:   0%|          | 0/200 [00:00<?, ?it/s]"
      ]
     },
     "metadata": {},
     "output_type": "display_data"
    },
    {
     "data": {
      "application/vnd.jupyter.widget-view+json": {
       "model_id": "838587b015da40b4b3611bb445a32906",
       "version_major": 2,
       "version_minor": 0
      },
      "text/plain": [
       "BestResp | t#234/400 | k=3 | sats=STARLINK-11303 [DTC],STARLINK-31545,STARLINK-3230:   0%|          | 0/200 [0…"
      ]
     },
     "metadata": {},
     "output_type": "display_data"
    },
    {
     "data": {
      "application/vnd.jupyter.widget-view+json": {
       "model_id": "a2b1988d59944ffab11146cc06602d15",
       "version_major": 2,
       "version_minor": 0
      },
      "text/plain": [
       "BestResp | t#234/400 | k=5 | sats=STARLINK-11303 [DTC],STARLINK-31545,STARLINK-3230,STARLINK-34871,STARLINK-31…"
      ]
     },
     "metadata": {},
     "output_type": "display_data"
    },
    {
     "data": {
      "application/vnd.jupyter.widget-view+json": {
       "model_id": "c2fbec3e5c8a4e9fa7bab48bc18c39ad",
       "version_major": 2,
       "version_minor": 0
      },
      "text/plain": [
       "BestResp | t#235/400 | k=1 | sats=STARLINK-33947:   0%|          | 0/200 [00:00<?, ?it/s]"
      ]
     },
     "metadata": {},
     "output_type": "display_data"
    },
    {
     "data": {
      "application/vnd.jupyter.widget-view+json": {
       "model_id": "c97aba678f594b15a0adfd871889cc90",
       "version_major": 2,
       "version_minor": 0
      },
      "text/plain": [
       "BestResp | t#235/400 | k=3 | sats=STARLINK-33947,STARLINK-31399,STARLINK-31008:   0%|          | 0/200 [00:00<…"
      ]
     },
     "metadata": {},
     "output_type": "display_data"
    },
    {
     "data": {
      "application/vnd.jupyter.widget-view+json": {
       "model_id": "e4db2ac6bf034cdfb0da250dc603743b",
       "version_major": 2,
       "version_minor": 0
      },
      "text/plain": [
       "BestResp | t#235/400 | k=5 | sats=STARLINK-33947,STARLINK-31399,STARLINK-31008,STARLINK-6177,STARLINK-30557:  …"
      ]
     },
     "metadata": {},
     "output_type": "display_data"
    },
    {
     "data": {
      "application/vnd.jupyter.widget-view+json": {
       "model_id": "90f64949b7db4de0a2f162116782c837",
       "version_major": 2,
       "version_minor": 0
      },
      "text/plain": [
       "BestResp | t#236/400 | k=1 | sats=STARLINK-31399:   0%|          | 0/200 [00:00<?, ?it/s]"
      ]
     },
     "metadata": {},
     "output_type": "display_data"
    },
    {
     "data": {
      "application/vnd.jupyter.widget-view+json": {
       "model_id": "d0b265dbcf7a44fca338c76b928004de",
       "version_major": 2,
       "version_minor": 0
      },
      "text/plain": [
       "BestResp | t#236/400 | k=3 | sats=STARLINK-31399,STARLINK-30593,STARLINK-30756:   0%|          | 0/200 [00:00<…"
      ]
     },
     "metadata": {},
     "output_type": "display_data"
    },
    {
     "data": {
      "application/vnd.jupyter.widget-view+json": {
       "model_id": "f5fa77ed3a2e4ca88034bb1c6d17a90a",
       "version_major": 2,
       "version_minor": 0
      },
      "text/plain": [
       "BestResp | t#236/400 | k=5 | sats=STARLINK-31399,STARLINK-30593,STARLINK-30756,STARLINK-4779,STARLINK-31604:  …"
      ]
     },
     "metadata": {},
     "output_type": "display_data"
    },
    {
     "data": {
      "application/vnd.jupyter.widget-view+json": {
       "model_id": "a4a6fa1f0f484fad970474c2f4aa8ebf",
       "version_major": 2,
       "version_minor": 0
      },
      "text/plain": [
       "BestResp | t#237/400 | k=1 | sats=STARLINK-11369 [DTC]:   0%|          | 0/200 [00:00<?, ?it/s]"
      ]
     },
     "metadata": {},
     "output_type": "display_data"
    },
    {
     "data": {
      "application/vnd.jupyter.widget-view+json": {
       "model_id": "1454a35443e34a978e15ad3b0b23dd68",
       "version_major": 2,
       "version_minor": 0
      },
      "text/plain": [
       "BestResp | t#237/400 | k=3 | sats=STARLINK-11369 [DTC],STARLINK-31342,STARLINK-32090:   0%|          | 0/200 […"
      ]
     },
     "metadata": {},
     "output_type": "display_data"
    },
    {
     "data": {
      "application/vnd.jupyter.widget-view+json": {
       "model_id": "cac06c81a7884a15af132d289ade5074",
       "version_major": 2,
       "version_minor": 0
      },
      "text/plain": [
       "BestResp | t#237/400 | k=5 | sats=STARLINK-11369 [DTC],STARLINK-31342,STARLINK-32090,STARLINK-30244,STARLINK-3…"
      ]
     },
     "metadata": {},
     "output_type": "display_data"
    },
    {
     "data": {
      "application/vnd.jupyter.widget-view+json": {
       "model_id": "9d3e6fc0df814e9784972c82d39a4992",
       "version_major": 2,
       "version_minor": 0
      },
      "text/plain": [
       "BestResp | t#238/400 | k=1 | sats=STARLINK-11491 [DTC]:   0%|          | 0/200 [00:00<?, ?it/s]"
      ]
     },
     "metadata": {},
     "output_type": "display_data"
    },
    {
     "data": {
      "application/vnd.jupyter.widget-view+json": {
       "model_id": "03f2f0ebeea94d32813a50562c62d6f6",
       "version_major": 2,
       "version_minor": 0
      },
      "text/plain": [
       "BestResp | t#238/400 | k=3 | sats=STARLINK-11491 [DTC],STARLINK-11542 [DTC],STARLINK-31507:   0%|          | 0…"
      ]
     },
     "metadata": {},
     "output_type": "display_data"
    },
    {
     "data": {
      "application/vnd.jupyter.widget-view+json": {
       "model_id": "d7272bf2132a4b69827f94425c5fc52e",
       "version_major": 2,
       "version_minor": 0
      },
      "text/plain": [
       "BestResp | t#238/400 | k=5 | sats=STARLINK-11491 [DTC],STARLINK-11542 [DTC],STARLINK-31507,STARLINK-35248,STAR…"
      ]
     },
     "metadata": {},
     "output_type": "display_data"
    },
    {
     "data": {
      "application/vnd.jupyter.widget-view+json": {
       "model_id": "25d22206cd9a40fbb065ec1b3ca70c1e",
       "version_major": 2,
       "version_minor": 0
      },
      "text/plain": [
       "BestResp | t#239/400 | k=1 | sats=STARLINK-11491 [DTC]:   0%|          | 0/200 [00:00<?, ?it/s]"
      ]
     },
     "metadata": {},
     "output_type": "display_data"
    },
    {
     "data": {
      "application/vnd.jupyter.widget-view+json": {
       "model_id": "6f6803cfc45d4681a26856289060c094",
       "version_major": 2,
       "version_minor": 0
      },
      "text/plain": [
       "BestResp | t#239/400 | k=3 | sats=STARLINK-11491 [DTC],STARLINK-11542 [DTC],STARLINK-30595:   0%|          | 0…"
      ]
     },
     "metadata": {},
     "output_type": "display_data"
    },
    {
     "data": {
      "application/vnd.jupyter.widget-view+json": {
       "model_id": "5b56c6f7f5a9430da32a4fe39c6b25e2",
       "version_major": 2,
       "version_minor": 0
      },
      "text/plain": [
       "BestResp | t#239/400 | k=5 | sats=STARLINK-11491 [DTC],STARLINK-11542 [DTC],STARLINK-30595,STARLINK-31507,STAR…"
      ]
     },
     "metadata": {},
     "output_type": "display_data"
    },
    {
     "data": {
      "application/vnd.jupyter.widget-view+json": {
       "model_id": "7c2b6180ebec40d8909f3f632c9d1298",
       "version_major": 2,
       "version_minor": 0
      },
      "text/plain": [
       "BestResp | t#240/400 | k=1 | sats=STARLINK-35162:   0%|          | 0/200 [00:00<?, ?it/s]"
      ]
     },
     "metadata": {},
     "output_type": "display_data"
    },
    {
     "data": {
      "application/vnd.jupyter.widget-view+json": {
       "model_id": "35d8a4137de84b489cfd2ded368c11c7",
       "version_major": 2,
       "version_minor": 0
      },
      "text/plain": [
       "BestResp | t#240/400 | k=3 | sats=STARLINK-35162,STARLINK-31348,STARLINK-2626:   0%|          | 0/200 [00:00<?…"
      ]
     },
     "metadata": {},
     "output_type": "display_data"
    },
    {
     "data": {
      "application/vnd.jupyter.widget-view+json": {
       "model_id": "cd5002368668417db11b4ecea6b9f627",
       "version_major": 2,
       "version_minor": 0
      },
      "text/plain": [
       "BestResp | t#240/400 | k=5 | sats=STARLINK-35162,STARLINK-31348,STARLINK-2626,STARLINK-31298,STARLINK-31403:  …"
      ]
     },
     "metadata": {},
     "output_type": "display_data"
    },
    {
     "name": "stdout",
     "output_type": "stream",
     "text": [
      "[flush] wrote up to step 240\n"
     ]
    },
    {
     "data": {
      "application/vnd.jupyter.widget-view+json": {
       "model_id": "3ddfcce8e373424e9af53407bbf8581f",
       "version_major": 2,
       "version_minor": 0
      },
      "text/plain": [
       "BestResp | t#241/400 | k=1 | sats=STARLINK-33692:   0%|          | 0/200 [00:00<?, ?it/s]"
      ]
     },
     "metadata": {},
     "output_type": "display_data"
    },
    {
     "data": {
      "application/vnd.jupyter.widget-view+json": {
       "model_id": "557b75f08d3c4eb99b2644fc11b9d513",
       "version_major": 2,
       "version_minor": 0
      },
      "text/plain": [
       "BestResp | t#241/400 | k=3 | sats=STARLINK-33692,STARLINK-31298,STARLINK-30493:   0%|          | 0/200 [00:00<…"
      ]
     },
     "metadata": {},
     "output_type": "display_data"
    },
    {
     "data": {
      "application/vnd.jupyter.widget-view+json": {
       "model_id": "61694bfba483494d8cea011690572ac8",
       "version_major": 2,
       "version_minor": 0
      },
      "text/plain": [
       "BestResp | t#241/400 | k=5 | sats=STARLINK-33692,STARLINK-31298,STARLINK-30493,STARLINK-31398,STARLINK-32080: …"
      ]
     },
     "metadata": {},
     "output_type": "display_data"
    },
    {
     "data": {
      "application/vnd.jupyter.widget-view+json": {
       "model_id": "dd85f7b407a14aaf97c5fabd690b166b",
       "version_major": 2,
       "version_minor": 0
      },
      "text/plain": [
       "BestResp | t#242/400 | k=1 | sats=STARLINK-11501 [DTC]:   0%|          | 0/200 [00:00<?, ?it/s]"
      ]
     },
     "metadata": {},
     "output_type": "display_data"
    },
    {
     "data": {
      "application/vnd.jupyter.widget-view+json": {
       "model_id": "44fc9c8021d1465681f10aa94e97a55b",
       "version_major": 2,
       "version_minor": 0
      },
      "text/plain": [
       "BestResp | t#242/400 | k=3 | sats=STARLINK-11501 [DTC],STARLINK-11271 [DTC],STARLINK-32334:   0%|          | 0…"
      ]
     },
     "metadata": {},
     "output_type": "display_data"
    },
    {
     "data": {
      "application/vnd.jupyter.widget-view+json": {
       "model_id": "7d111e71d8db4fe18da437faa836f3a4",
       "version_major": 2,
       "version_minor": 0
      },
      "text/plain": [
       "BestResp | t#242/400 | k=5 | sats=STARLINK-11501 [DTC],STARLINK-11271 [DTC],STARLINK-32334,STARLINK-31134,STAR…"
      ]
     },
     "metadata": {},
     "output_type": "display_data"
    },
    {
     "data": {
      "application/vnd.jupyter.widget-view+json": {
       "model_id": "6515a91efe144ea0ab5800d339dcfd51",
       "version_major": 2,
       "version_minor": 0
      },
      "text/plain": [
       "BestResp | t#243/400 | k=1 | sats=STARLINK-33711:   0%|          | 0/200 [00:00<?, ?it/s]"
      ]
     },
     "metadata": {},
     "output_type": "display_data"
    },
    {
     "data": {
      "application/vnd.jupyter.widget-view+json": {
       "model_id": "f6b08d8b7d8441af9bc265fdc8264e46",
       "version_major": 2,
       "version_minor": 0
      },
      "text/plain": [
       "BestResp | t#243/400 | k=3 | sats=STARLINK-33711,STARLINK-30529,STARLINK-1019:   0%|          | 0/200 [00:00<?…"
      ]
     },
     "metadata": {},
     "output_type": "display_data"
    },
    {
     "data": {
      "application/vnd.jupyter.widget-view+json": {
       "model_id": "f131d023e9ed4f03b14a3fd774adb539",
       "version_major": 2,
       "version_minor": 0
      },
      "text/plain": [
       "BestResp | t#243/400 | k=5 | sats=STARLINK-33711,STARLINK-30529,STARLINK-1019,STARLINK-31338,STARLINK-6171:   …"
      ]
     },
     "metadata": {},
     "output_type": "display_data"
    },
    {
     "data": {
      "application/vnd.jupyter.widget-view+json": {
       "model_id": "1b3288bca8ff4f0e957846f60497e7fe",
       "version_major": 2,
       "version_minor": 0
      },
      "text/plain": [
       "BestResp | t#244/400 | k=1 | sats=STARLINK-33711:   0%|          | 0/200 [00:00<?, ?it/s]"
      ]
     },
     "metadata": {},
     "output_type": "display_data"
    },
    {
     "data": {
      "application/vnd.jupyter.widget-view+json": {
       "model_id": "7721b50e3357432182a40649facad7f0",
       "version_major": 2,
       "version_minor": 0
      },
      "text/plain": [
       "BestResp | t#244/400 | k=3 | sats=STARLINK-33711,STARLINK-30529,STARLINK-31086:   0%|          | 0/200 [00:00<…"
      ]
     },
     "metadata": {},
     "output_type": "display_data"
    },
    {
     "data": {
      "application/vnd.jupyter.widget-view+json": {
       "model_id": "5d99984ecb3f475289eb4819cf0fd11d",
       "version_major": 2,
       "version_minor": 0
      },
      "text/plain": [
       "BestResp | t#244/400 | k=5 | sats=STARLINK-33711,STARLINK-30529,STARLINK-31086,STARLINK-1019,STARLINK-31558:  …"
      ]
     },
     "metadata": {},
     "output_type": "display_data"
    },
    {
     "data": {
      "application/vnd.jupyter.widget-view+json": {
       "model_id": "f8fefee9268145f6b09b0de53f186a23",
       "version_major": 2,
       "version_minor": 0
      },
      "text/plain": [
       "BestResp | t#245/400 | k=1 | sats=STARLINK-11482 [DTC]:   0%|          | 0/200 [00:00<?, ?it/s]"
      ]
     },
     "metadata": {},
     "output_type": "display_data"
    },
    {
     "data": {
      "application/vnd.jupyter.widget-view+json": {
       "model_id": "5ec703ccaa7c4fd3a3dbbc3b88c9a5bc",
       "version_major": 2,
       "version_minor": 0
      },
      "text/plain": [
       "BestResp | t#245/400 | k=3 | sats=STARLINK-11482 [DTC],STARLINK-35255,STARLINK-31366:   0%|          | 0/200 […"
      ]
     },
     "metadata": {},
     "output_type": "display_data"
    },
    {
     "data": {
      "application/vnd.jupyter.widget-view+json": {
       "model_id": "edc9a25fa6a8473d8ead4d8f8b36424f",
       "version_major": 2,
       "version_minor": 0
      },
      "text/plain": [
       "BestResp | t#245/400 | k=5 | sats=STARLINK-11482 [DTC],STARLINK-35255,STARLINK-31366,STARLINK-30331,STARLINK-3…"
      ]
     },
     "metadata": {},
     "output_type": "display_data"
    },
    {
     "data": {
      "application/vnd.jupyter.widget-view+json": {
       "model_id": "478ed4dac69748bda4c217542ea38941",
       "version_major": 2,
       "version_minor": 0
      },
      "text/plain": [
       "BestResp | t#246/400 | k=1 | sats=STARLINK-35161:   0%|          | 0/200 [00:00<?, ?it/s]"
      ]
     },
     "metadata": {},
     "output_type": "display_data"
    },
    {
     "data": {
      "application/vnd.jupyter.widget-view+json": {
       "model_id": "d1914ba5fc2c4f4d8a52dba69ded9420",
       "version_major": 2,
       "version_minor": 0
      },
      "text/plain": [
       "BestResp | t#246/400 | k=3 | sats=STARLINK-35161,STARLINK-35473,STARLINK-11273 [DTC]:   0%|          | 0/200 […"
      ]
     },
     "metadata": {},
     "output_type": "display_data"
    },
    {
     "data": {
      "application/vnd.jupyter.widget-view+json": {
       "model_id": "b1272760b92348cc962a8e614583509a",
       "version_major": 2,
       "version_minor": 0
      },
      "text/plain": [
       "BestResp | t#246/400 | k=5 | sats=STARLINK-35161,STARLINK-35473,STARLINK-11273 [DTC],STARLINK-35192,STARLINK-3…"
      ]
     },
     "metadata": {},
     "output_type": "display_data"
    },
    {
     "data": {
      "application/vnd.jupyter.widget-view+json": {
       "model_id": "b1532524965b4227aa0d13473798b1b2",
       "version_major": 2,
       "version_minor": 0
      },
      "text/plain": [
       "BestResp | t#247/400 | k=1 | sats=STARLINK-11350 [DTC]:   0%|          | 0/200 [00:00<?, ?it/s]"
      ]
     },
     "metadata": {},
     "output_type": "display_data"
    },
    {
     "data": {
      "application/vnd.jupyter.widget-view+json": {
       "model_id": "608c688294d84cbc89c23c745f1a627e",
       "version_major": 2,
       "version_minor": 0
      },
      "text/plain": [
       "BestResp | t#247/400 | k=3 | sats=STARLINK-11350 [DTC],STARLINK-11406 [DTC],STARLINK-11508 [DTC]:   0%|       …"
      ]
     },
     "metadata": {},
     "output_type": "display_data"
    },
    {
     "data": {
      "application/vnd.jupyter.widget-view+json": {
       "model_id": "a2a184976d2e46a788bdf9ce1d310247",
       "version_major": 2,
       "version_minor": 0
      },
      "text/plain": [
       "BestResp | t#247/400 | k=5 | sats=STARLINK-11350 [DTC],STARLINK-11406 [DTC],STARLINK-11508 [DTC],STARLINK-3547…"
      ]
     },
     "metadata": {},
     "output_type": "display_data"
    },
    {
     "data": {
      "application/vnd.jupyter.widget-view+json": {
       "model_id": "c7289626b1954a5690a06b8d1025c5e5",
       "version_major": 2,
       "version_minor": 0
      },
      "text/plain": [
       "BestResp | t#248/400 | k=1 | sats=STARLINK-11190 [DTC]:   0%|          | 0/200 [00:00<?, ?it/s]"
      ]
     },
     "metadata": {},
     "output_type": "display_data"
    },
    {
     "data": {
      "application/vnd.jupyter.widget-view+json": {
       "model_id": "572737ec68c245a7811c11b11b26f3fc",
       "version_major": 2,
       "version_minor": 0
      },
      "text/plain": [
       "BestResp | t#248/400 | k=3 | sats=STARLINK-11190 [DTC],STARLINK-11736 [DTC],STARLINK-33855:   0%|          | 0…"
      ]
     },
     "metadata": {},
     "output_type": "display_data"
    },
    {
     "data": {
      "application/vnd.jupyter.widget-view+json": {
       "model_id": "3552d3612b634e8c83ef05f2adb39faa",
       "version_major": 2,
       "version_minor": 0
      },
      "text/plain": [
       "BestResp | t#248/400 | k=5 | sats=STARLINK-11190 [DTC],STARLINK-11736 [DTC],STARLINK-33855,STARLINK-34729,STAR…"
      ]
     },
     "metadata": {},
     "output_type": "display_data"
    },
    {
     "data": {
      "application/vnd.jupyter.widget-view+json": {
       "model_id": "353f2026a9804d62abb4f2e020322600",
       "version_major": 2,
       "version_minor": 0
      },
      "text/plain": [
       "BestResp | t#249/400 | k=1 | sats=STARLINK-11734 [DTC]:   0%|          | 0/200 [00:00<?, ?it/s]"
      ]
     },
     "metadata": {},
     "output_type": "display_data"
    },
    {
     "data": {
      "application/vnd.jupyter.widget-view+json": {
       "model_id": "2275dbae1bcb4d79b0a4268fc022c4e6",
       "version_major": 2,
       "version_minor": 0
      },
      "text/plain": [
       "BestResp | t#249/400 | k=3 | sats=STARLINK-11734 [DTC],STARLINK-32922,STARLINK-4639:   0%|          | 0/200 [0…"
      ]
     },
     "metadata": {},
     "output_type": "display_data"
    },
    {
     "data": {
      "application/vnd.jupyter.widget-view+json": {
       "model_id": "aa55e4ab054e4167982ce2db90267b42",
       "version_major": 2,
       "version_minor": 0
      },
      "text/plain": [
       "BestResp | t#249/400 | k=5 | sats=STARLINK-11734 [DTC],STARLINK-32922,STARLINK-4639,STARLINK-32085,STARLINK-30…"
      ]
     },
     "metadata": {},
     "output_type": "display_data"
    },
    {
     "data": {
      "application/vnd.jupyter.widget-view+json": {
       "model_id": "21e13649d0804e5b939a09c02ddb573c",
       "version_major": 2,
       "version_minor": 0
      },
      "text/plain": [
       "BestResp | t#250/400 | k=1 | sats=STARLINK-34239:   0%|          | 0/200 [00:00<?, ?it/s]"
      ]
     },
     "metadata": {},
     "output_type": "display_data"
    },
    {
     "data": {
      "application/vnd.jupyter.widget-view+json": {
       "model_id": "b513f2d85c624e03922b685632b20700",
       "version_major": 2,
       "version_minor": 0
      },
      "text/plain": [
       "BestResp | t#250/400 | k=3 | sats=STARLINK-34239,STARLINK-34053,STARLINK-33606:   0%|          | 0/200 [00:00<…"
      ]
     },
     "metadata": {},
     "output_type": "display_data"
    },
    {
     "data": {
      "application/vnd.jupyter.widget-view+json": {
       "model_id": "1b65e065abc64c1fb43d3c3970ab3305",
       "version_major": 2,
       "version_minor": 0
      },
      "text/plain": [
       "BestResp | t#250/400 | k=5 | sats=STARLINK-34239,STARLINK-34053,STARLINK-33606,STARLINK-31095,STARLINK-31129: …"
      ]
     },
     "metadata": {},
     "output_type": "display_data"
    },
    {
     "data": {
      "application/vnd.jupyter.widget-view+json": {
       "model_id": "e3d635cbd12048a5af40a0a246a7f38e",
       "version_major": 2,
       "version_minor": 0
      },
      "text/plain": [
       "BestResp | t#251/400 | k=1 | sats=STARLINK-31711:   0%|          | 0/200 [00:00<?, ?it/s]"
      ]
     },
     "metadata": {},
     "output_type": "display_data"
    },
    {
     "data": {
      "application/vnd.jupyter.widget-view+json": {
       "model_id": "314b0540f05c417c85b2bf2d8b0fdd3c",
       "version_major": 2,
       "version_minor": 0
      },
      "text/plain": [
       "BestResp | t#251/400 | k=3 | sats=STARLINK-31711,STARLINK-34050,STARLINK-34129:   0%|          | 0/200 [00:00<…"
      ]
     },
     "metadata": {},
     "output_type": "display_data"
    },
    {
     "data": {
      "application/vnd.jupyter.widget-view+json": {
       "model_id": "b445d17e5bc840a9aa89c494e452693f",
       "version_major": 2,
       "version_minor": 0
      },
      "text/plain": [
       "BestResp | t#251/400 | k=5 | sats=STARLINK-31711,STARLINK-34050,STARLINK-34129,STARLINK-32905,STARLINK-30809: …"
      ]
     },
     "metadata": {},
     "output_type": "display_data"
    },
    {
     "data": {
      "application/vnd.jupyter.widget-view+json": {
       "model_id": "bff0e164beac4b5d89c156431c6c88c8",
       "version_major": 2,
       "version_minor": 0
      },
      "text/plain": [
       "BestResp | t#252/400 | k=1 | sats=STARLINK-11728 [DTC]:   0%|          | 0/200 [00:00<?, ?it/s]"
      ]
     },
     "metadata": {},
     "output_type": "display_data"
    },
    {
     "data": {
      "application/vnd.jupyter.widget-view+json": {
       "model_id": "c8a80cc8c13b49929f2b502940742515",
       "version_major": 2,
       "version_minor": 0
      },
      "text/plain": [
       "BestResp | t#252/400 | k=3 | sats=STARLINK-11728 [DTC],STARLINK-30234,STARLINK-35182:   0%|          | 0/200 […"
      ]
     },
     "metadata": {},
     "output_type": "display_data"
    },
    {
     "data": {
      "application/vnd.jupyter.widget-view+json": {
       "model_id": "7995e86bf6254efe87aeecf25dff8fa9",
       "version_major": 2,
       "version_minor": 0
      },
      "text/plain": [
       "BestResp | t#252/400 | k=5 | sats=STARLINK-11728 [DTC],STARLINK-30234,STARLINK-35182,STARLINK-35232,STARLINK-3…"
      ]
     },
     "metadata": {},
     "output_type": "display_data"
    },
    {
     "data": {
      "application/vnd.jupyter.widget-view+json": {
       "model_id": "f9287c76d3414cd6a041c7866d449b24",
       "version_major": 2,
       "version_minor": 0
      },
      "text/plain": [
       "BestResp | t#253/400 | k=1 | sats=STARLINK-11147 [DTC]:   0%|          | 0/200 [00:00<?, ?it/s]"
      ]
     },
     "metadata": {},
     "output_type": "display_data"
    },
    {
     "data": {
      "application/vnd.jupyter.widget-view+json": {
       "model_id": "505b8a448d56474592b962dc767c3e36",
       "version_major": 2,
       "version_minor": 0
      },
      "text/plain": [
       "BestResp | t#253/400 | k=3 | sats=STARLINK-11147 [DTC],STARLINK-32891,STARLINK-31068:   0%|          | 0/200 […"
      ]
     },
     "metadata": {},
     "output_type": "display_data"
    },
    {
     "data": {
      "application/vnd.jupyter.widget-view+json": {
       "model_id": "fef1f31567684297ab530eec149883fb",
       "version_major": 2,
       "version_minor": 0
      },
      "text/plain": [
       "BestResp | t#253/400 | k=5 | sats=STARLINK-11147 [DTC],STARLINK-32891,STARLINK-31068,STARLINK-34531,STARLINK-3…"
      ]
     },
     "metadata": {},
     "output_type": "display_data"
    },
    {
     "data": {
      "application/vnd.jupyter.widget-view+json": {
       "model_id": "e793a1f30b4e44ceb9fc23759b760b88",
       "version_major": 2,
       "version_minor": 0
      },
      "text/plain": [
       "BestResp | t#254/400 | k=1 | sats=STARLINK-33896:   0%|          | 0/200 [00:00<?, ?it/s]"
      ]
     },
     "metadata": {},
     "output_type": "display_data"
    },
    {
     "data": {
      "application/vnd.jupyter.widget-view+json": {
       "model_id": "0d8b92116b2b4cdb9672ae42178d736d",
       "version_major": 2,
       "version_minor": 0
      },
      "text/plain": [
       "BestResp | t#254/400 | k=3 | sats=STARLINK-33896,STARLINK-31598,STARLINK-31696:   0%|          | 0/200 [00:00<…"
      ]
     },
     "metadata": {},
     "output_type": "display_data"
    },
    {
     "data": {
      "application/vnd.jupyter.widget-view+json": {
       "model_id": "7d7ad8f7c38142d68981d4c3e009c6c6",
       "version_major": 2,
       "version_minor": 0
      },
      "text/plain": [
       "BestResp | t#254/400 | k=5 | sats=STARLINK-33896,STARLINK-31598,STARLINK-31696,STARLINK-32317,STARLINK-3185:  …"
      ]
     },
     "metadata": {},
     "output_type": "display_data"
    },
    {
     "data": {
      "application/vnd.jupyter.widget-view+json": {
       "model_id": "02fcccb1f41349138707da95bc02c8ad",
       "version_major": 2,
       "version_minor": 0
      },
      "text/plain": [
       "BestResp | t#255/400 | k=1 | sats=STARLINK-11507 [DTC]:   0%|          | 0/200 [00:00<?, ?it/s]"
      ]
     },
     "metadata": {},
     "output_type": "display_data"
    },
    {
     "data": {
      "application/vnd.jupyter.widget-view+json": {
       "model_id": "993dee24e3bb4cf39a732206fbc30597",
       "version_major": 2,
       "version_minor": 0
      },
      "text/plain": [
       "BestResp | t#255/400 | k=3 | sats=STARLINK-11507 [DTC],STARLINK-11509 [DTC],STARLINK-33821:   0%|          | 0…"
      ]
     },
     "metadata": {},
     "output_type": "display_data"
    },
    {
     "data": {
      "application/vnd.jupyter.widget-view+json": {
       "model_id": "581a03884d6b49ec97876a025a6260f4",
       "version_major": 2,
       "version_minor": 0
      },
      "text/plain": [
       "BestResp | t#255/400 | k=5 | sats=STARLINK-11507 [DTC],STARLINK-11509 [DTC],STARLINK-33821,STARLINK-32597,STAR…"
      ]
     },
     "metadata": {},
     "output_type": "display_data"
    },
    {
     "data": {
      "application/vnd.jupyter.widget-view+json": {
       "model_id": "9c3d665dc9154dac9882a485579ecb97",
       "version_major": 2,
       "version_minor": 0
      },
      "text/plain": [
       "BestResp | t#256/400 | k=1 | sats=STARLINK-34056:   0%|          | 0/200 [00:00<?, ?it/s]"
      ]
     },
     "metadata": {},
     "output_type": "display_data"
    },
    {
     "data": {
      "application/vnd.jupyter.widget-view+json": {
       "model_id": "243f88264c09459e915e5232a5ca68fe",
       "version_major": 2,
       "version_minor": 0
      },
      "text/plain": [
       "BestResp | t#256/400 | k=3 | sats=STARLINK-34056,STARLINK-31439,STARLINK-34130:   0%|          | 0/200 [00:00<…"
      ]
     },
     "metadata": {},
     "output_type": "display_data"
    },
    {
     "data": {
      "application/vnd.jupyter.widget-view+json": {
       "model_id": "1c60ab10bb4d4997b2292be114896abc",
       "version_major": 2,
       "version_minor": 0
      },
      "text/plain": [
       "BestResp | t#256/400 | k=5 | sats=STARLINK-34056,STARLINK-31439,STARLINK-34130,STARLINK-6223,STARLINK-32700:  …"
      ]
     },
     "metadata": {},
     "output_type": "display_data"
    },
    {
     "data": {
      "application/vnd.jupyter.widget-view+json": {
       "model_id": "137d8d3b6c774aa0bcd58b765b4fc1ad",
       "version_major": 2,
       "version_minor": 0
      },
      "text/plain": [
       "BestResp | t#257/400 | k=1 | sats=STARLINK-11440 [DTC]:   0%|          | 0/200 [00:00<?, ?it/s]"
      ]
     },
     "metadata": {},
     "output_type": "display_data"
    },
    {
     "data": {
      "application/vnd.jupyter.widget-view+json": {
       "model_id": "22127484a0994536972454e751cff30f",
       "version_major": 2,
       "version_minor": 0
      },
      "text/plain": [
       "BestResp | t#257/400 | k=3 | sats=STARLINK-11440 [DTC],STARLINK-32678,STARLINK-34009:   0%|          | 0/200 […"
      ]
     },
     "metadata": {},
     "output_type": "display_data"
    },
    {
     "data": {
      "application/vnd.jupyter.widget-view+json": {
       "model_id": "8dbaf9994d3e4061be659eb2e15c7659",
       "version_major": 2,
       "version_minor": 0
      },
      "text/plain": [
       "BestResp | t#257/400 | k=5 | sats=STARLINK-11440 [DTC],STARLINK-32678,STARLINK-34009,STARLINK-31022,STARLINK-3…"
      ]
     },
     "metadata": {},
     "output_type": "display_data"
    },
    {
     "data": {
      "application/vnd.jupyter.widget-view+json": {
       "model_id": "0a047ed098a44abdb4c3a5c2a7436aad",
       "version_major": 2,
       "version_minor": 0
      },
      "text/plain": [
       "BestResp | t#258/400 | k=1 | sats=STARLINK-11696 [DTC]:   0%|          | 0/200 [00:00<?, ?it/s]"
      ]
     },
     "metadata": {},
     "output_type": "display_data"
    },
    {
     "data": {
      "application/vnd.jupyter.widget-view+json": {
       "model_id": "2495dd7b2f464e9787d67d94068e9256",
       "version_major": 2,
       "version_minor": 0
      },
      "text/plain": [
       "BestResp | t#258/400 | k=3 | sats=STARLINK-11696 [DTC],STARLINK-11206 [DTC],STARLINK-33954:   0%|          | 0…"
      ]
     },
     "metadata": {},
     "output_type": "display_data"
    },
    {
     "data": {
      "application/vnd.jupyter.widget-view+json": {
       "model_id": "00272540742c4b9793f8b2619e9b1656",
       "version_major": 2,
       "version_minor": 0
      },
      "text/plain": [
       "BestResp | t#258/400 | k=5 | sats=STARLINK-11696 [DTC],STARLINK-11206 [DTC],STARLINK-33954,STARLINK-32367,STAR…"
      ]
     },
     "metadata": {},
     "output_type": "display_data"
    },
    {
     "data": {
      "application/vnd.jupyter.widget-view+json": {
       "model_id": "bbb2e09385a0427fb47eeb6d6312574a",
       "version_major": 2,
       "version_minor": 0
      },
      "text/plain": [
       "BestResp | t#259/400 | k=1 | sats=STARLINK-11671 [DTC]:   0%|          | 0/200 [00:00<?, ?it/s]"
      ]
     },
     "metadata": {},
     "output_type": "display_data"
    },
    {
     "data": {
      "application/vnd.jupyter.widget-view+json": {
       "model_id": "2e51e4e7940f4da7905530d55ea16d01",
       "version_major": 2,
       "version_minor": 0
      },
      "text/plain": [
       "BestResp | t#259/400 | k=3 | sats=STARLINK-11671 [DTC],STARLINK-34536,STARLINK-30372:   0%|          | 0/200 […"
      ]
     },
     "metadata": {},
     "output_type": "display_data"
    },
    {
     "data": {
      "application/vnd.jupyter.widget-view+json": {
       "model_id": "74d7ea8a31ee4c169dd6a94cf1d1358c",
       "version_major": 2,
       "version_minor": 0
      },
      "text/plain": [
       "BestResp | t#259/400 | k=5 | sats=STARLINK-11671 [DTC],STARLINK-34536,STARLINK-30372,STARLINK-32568,STARLINK-5…"
      ]
     },
     "metadata": {},
     "output_type": "display_data"
    },
    {
     "data": {
      "application/vnd.jupyter.widget-view+json": {
       "model_id": "ff8fdc86e4f8440e96deada49fb83984",
       "version_major": 2,
       "version_minor": 0
      },
      "text/plain": [
       "BestResp | t#260/400 | k=1 | sats=STARLINK-11138 [DTC]:   0%|          | 0/200 [00:00<?, ?it/s]"
      ]
     },
     "metadata": {},
     "output_type": "display_data"
    },
    {
     "data": {
      "application/vnd.jupyter.widget-view+json": {
       "model_id": "e0bc3949328747d9a5b455486f88cdcc",
       "version_major": 2,
       "version_minor": 0
      },
      "text/plain": [
       "BestResp | t#260/400 | k=3 | sats=STARLINK-11138 [DTC],STARLINK-32546,STARLINK-32794:   0%|          | 0/200 […"
      ]
     },
     "metadata": {},
     "output_type": "display_data"
    },
    {
     "data": {
      "application/vnd.jupyter.widget-view+json": {
       "model_id": "05cefaaed925483eab8474ec287ffda6",
       "version_major": 2,
       "version_minor": 0
      },
      "text/plain": [
       "BestResp | t#260/400 | k=5 | sats=STARLINK-11138 [DTC],STARLINK-32546,STARLINK-32794,STARLINK-31639,STARLINK-3…"
      ]
     },
     "metadata": {},
     "output_type": "display_data"
    },
    {
     "name": "stdout",
     "output_type": "stream",
     "text": [
      "[flush] wrote up to step 260\n"
     ]
    },
    {
     "data": {
      "application/vnd.jupyter.widget-view+json": {
       "model_id": "571c4b6d192c484eb66fb56cffcb371b",
       "version_major": 2,
       "version_minor": 0
      },
      "text/plain": [
       "BestResp | t#261/400 | k=1 | sats=STARLINK-31974:   0%|          | 0/200 [00:00<?, ?it/s]"
      ]
     },
     "metadata": {},
     "output_type": "display_data"
    },
    {
     "data": {
      "application/vnd.jupyter.widget-view+json": {
       "model_id": "b206965fa68149deb0322d7af78676d3",
       "version_major": 2,
       "version_minor": 0
      },
      "text/plain": [
       "BestResp | t#261/400 | k=3 | sats=STARLINK-31974,STARLINK-31639,STARLINK-5812:   0%|          | 0/200 [00:00<?…"
      ]
     },
     "metadata": {},
     "output_type": "display_data"
    },
    {
     "data": {
      "application/vnd.jupyter.widget-view+json": {
       "model_id": "94743df68cf04fd3bd6e2549b932e54c",
       "version_major": 2,
       "version_minor": 0
      },
      "text/plain": [
       "BestResp | t#261/400 | k=5 | sats=STARLINK-31974,STARLINK-31639,STARLINK-5812,STARLINK-30760,STARLINK-31131:  …"
      ]
     },
     "metadata": {},
     "output_type": "display_data"
    },
    {
     "data": {
      "application/vnd.jupyter.widget-view+json": {
       "model_id": "6ccb857aa5094cc88a9e0511db0f3b1b",
       "version_major": 2,
       "version_minor": 0
      },
      "text/plain": [
       "BestResp | t#262/400 | k=1 | sats=STARLINK-31953:   0%|          | 0/200 [00:00<?, ?it/s]"
      ]
     },
     "metadata": {},
     "output_type": "display_data"
    },
    {
     "data": {
      "application/vnd.jupyter.widget-view+json": {
       "model_id": "9970438022464da08d058ee486638444",
       "version_major": 2,
       "version_minor": 0
      },
      "text/plain": [
       "BestResp | t#262/400 | k=3 | sats=STARLINK-31953,STARLINK-3513,STARLINK-34587:   0%|          | 0/200 [00:00<?…"
      ]
     },
     "metadata": {},
     "output_type": "display_data"
    },
    {
     "data": {
      "application/vnd.jupyter.widget-view+json": {
       "model_id": "8928945c48d24c8d8f5a2fa975706a69",
       "version_major": 2,
       "version_minor": 0
      },
      "text/plain": [
       "BestResp | t#262/400 | k=5 | sats=STARLINK-31953,STARLINK-3513,STARLINK-34587,STARLINK-31749,STARLINK-30998:  …"
      ]
     },
     "metadata": {},
     "output_type": "display_data"
    },
    {
     "data": {
      "application/vnd.jupyter.widget-view+json": {
       "model_id": "dfadf1e106db45f3861002170c5d8f5f",
       "version_major": 2,
       "version_minor": 0
      },
      "text/plain": [
       "BestResp | t#263/400 | k=1 | sats=STARLINK-11213 [DTC]:   0%|          | 0/200 [00:00<?, ?it/s]"
      ]
     },
     "metadata": {},
     "output_type": "display_data"
    },
    {
     "data": {
      "application/vnd.jupyter.widget-view+json": {
       "model_id": "30c2b5a7afd04fcf80072eb94668953e",
       "version_major": 2,
       "version_minor": 0
      },
      "text/plain": [
       "BestResp | t#263/400 | k=3 | sats=STARLINK-11213 [DTC],STARLINK-11443 [DTC],STARLINK-31676:   0%|          | 0…"
      ]
     },
     "metadata": {},
     "output_type": "display_data"
    },
    {
     "data": {
      "application/vnd.jupyter.widget-view+json": {
       "model_id": "c26a54449dec48c5b4dd6a835e5267be",
       "version_major": 2,
       "version_minor": 0
      },
      "text/plain": [
       "BestResp | t#263/400 | k=5 | sats=STARLINK-11213 [DTC],STARLINK-11443 [DTC],STARLINK-31676,STARLINK-30069,STAR…"
      ]
     },
     "metadata": {},
     "output_type": "display_data"
    },
    {
     "data": {
      "application/vnd.jupyter.widget-view+json": {
       "model_id": "bf9d251f9c804184bd999c0a1fab159c",
       "version_major": 2,
       "version_minor": 0
      },
      "text/plain": [
       "BestResp | t#264/400 | k=1 | sats=STARLINK-11381 [DTC]:   0%|          | 0/200 [00:00<?, ?it/s]"
      ]
     },
     "metadata": {},
     "output_type": "display_data"
    },
    {
     "data": {
      "application/vnd.jupyter.widget-view+json": {
       "model_id": "cc90d5401de14f24bdf042b7f933a0cd",
       "version_major": 2,
       "version_minor": 0
      },
      "text/plain": [
       "BestResp | t#264/400 | k=3 | sats=STARLINK-11381 [DTC],STARLINK-34133,STARLINK-31264:   0%|          | 0/200 […"
      ]
     },
     "metadata": {},
     "output_type": "display_data"
    },
    {
     "data": {
      "application/vnd.jupyter.widget-view+json": {
       "model_id": "2eac67d0a9224110863d36e33c460577",
       "version_major": 2,
       "version_minor": 0
      },
      "text/plain": [
       "BestResp | t#264/400 | k=5 | sats=STARLINK-11381 [DTC],STARLINK-34133,STARLINK-31264,STARLINK-31905,STARLINK-3…"
      ]
     },
     "metadata": {},
     "output_type": "display_data"
    },
    {
     "data": {
      "application/vnd.jupyter.widget-view+json": {
       "model_id": "8db017bd89ac4c858efa4f8fbedbea5b",
       "version_major": 2,
       "version_minor": 0
      },
      "text/plain": [
       "BestResp | t#265/400 | k=1 | sats=STARLINK-11381 [DTC]:   0%|          | 0/200 [00:00<?, ?it/s]"
      ]
     },
     "metadata": {},
     "output_type": "display_data"
    },
    {
     "data": {
      "application/vnd.jupyter.widget-view+json": {
       "model_id": "0e2b604625db4125b633461297bd5856",
       "version_major": 2,
       "version_minor": 0
      },
      "text/plain": [
       "BestResp | t#265/400 | k=3 | sats=STARLINK-11381 [DTC],STARLINK-31804,STARLINK-34133:   0%|          | 0/200 […"
      ]
     },
     "metadata": {},
     "output_type": "display_data"
    },
    {
     "data": {
      "application/vnd.jupyter.widget-view+json": {
       "model_id": "486125849e3b4ac89236437344119e3c",
       "version_major": 2,
       "version_minor": 0
      },
      "text/plain": [
       "BestResp | t#265/400 | k=5 | sats=STARLINK-11381 [DTC],STARLINK-31804,STARLINK-34133,STARLINK-3457,STARLINK-31…"
      ]
     },
     "metadata": {},
     "output_type": "display_data"
    },
    {
     "data": {
      "application/vnd.jupyter.widget-view+json": {
       "model_id": "3188e7a9c4b34eb492ab7ae45ad42519",
       "version_major": 2,
       "version_minor": 0
      },
      "text/plain": [
       "BestResp | t#266/400 | k=1 | sats=STARLINK-34789:   0%|          | 0/200 [00:00<?, ?it/s]"
      ]
     },
     "metadata": {},
     "output_type": "display_data"
    },
    {
     "data": {
      "application/vnd.jupyter.widget-view+json": {
       "model_id": "141e7972b1e54c52a92e33ba87f92754",
       "version_major": 2,
       "version_minor": 0
      },
      "text/plain": [
       "BestResp | t#266/400 | k=3 | sats=STARLINK-34789,STARLINK-31920,STARLINK-5023:   0%|          | 0/200 [00:00<?…"
      ]
     },
     "metadata": {},
     "output_type": "display_data"
    },
    {
     "data": {
      "application/vnd.jupyter.widget-view+json": {
       "model_id": "a2e6ba4e687c43b68cb9e51265b842b9",
       "version_major": 2,
       "version_minor": 0
      },
      "text/plain": [
       "BestResp | t#266/400 | k=5 | sats=STARLINK-34789,STARLINK-31920,STARLINK-5023,STARLINK-34042,STARLINK-30076:  …"
      ]
     },
     "metadata": {},
     "output_type": "display_data"
    },
    {
     "data": {
      "application/vnd.jupyter.widget-view+json": {
       "model_id": "bdb8b3dcbbf141baaf4a9005883a7ff3",
       "version_major": 2,
       "version_minor": 0
      },
      "text/plain": [
       "BestResp | t#267/400 | k=1 | sats=STARLINK-11223 [DTC]:   0%|          | 0/200 [00:00<?, ?it/s]"
      ]
     },
     "metadata": {},
     "output_type": "display_data"
    },
    {
     "data": {
      "application/vnd.jupyter.widget-view+json": {
       "model_id": "fe9ea20a7e9a4958ba42b770e51e0120",
       "version_major": 2,
       "version_minor": 0
      },
      "text/plain": [
       "BestResp | t#267/400 | k=3 | sats=STARLINK-11223 [DTC],STARLINK-11512 [DTC],STARLINK-32488:   0%|          | 0…"
      ]
     },
     "metadata": {},
     "output_type": "display_data"
    },
    {
     "data": {
      "application/vnd.jupyter.widget-view+json": {
       "model_id": "26cab6b7224e4821bd9c7ea811254be2",
       "version_major": 2,
       "version_minor": 0
      },
      "text/plain": [
       "BestResp | t#267/400 | k=5 | sats=STARLINK-11223 [DTC],STARLINK-11512 [DTC],STARLINK-32488,STARLINK-31542,STAR…"
      ]
     },
     "metadata": {},
     "output_type": "display_data"
    },
    {
     "data": {
      "application/vnd.jupyter.widget-view+json": {
       "model_id": "f071b489572a46b580fa62e47db08582",
       "version_major": 2,
       "version_minor": 0
      },
      "text/plain": [
       "BestResp | t#268/400 | k=1 | sats=STARLINK-11512 [DTC]:   0%|          | 0/200 [00:00<?, ?it/s]"
      ]
     },
     "metadata": {},
     "output_type": "display_data"
    },
    {
     "data": {
      "application/vnd.jupyter.widget-view+json": {
       "model_id": "41dc5b9349ad42aa8ef30392733b7467",
       "version_major": 2,
       "version_minor": 0
      },
      "text/plain": [
       "BestResp | t#268/400 | k=3 | sats=STARLINK-11512 [DTC],STARLINK-34617,STARLINK-32488:   0%|          | 0/200 […"
      ]
     },
     "metadata": {},
     "output_type": "display_data"
    },
    {
     "data": {
      "application/vnd.jupyter.widget-view+json": {
       "model_id": "d90233c264a8457d9ebdeae28af49187",
       "version_major": 2,
       "version_minor": 0
      },
      "text/plain": [
       "BestResp | t#268/400 | k=5 | sats=STARLINK-11512 [DTC],STARLINK-34617,STARLINK-32488,STARLINK-31799,STARLINK-3…"
      ]
     },
     "metadata": {},
     "output_type": "display_data"
    },
    {
     "data": {
      "application/vnd.jupyter.widget-view+json": {
       "model_id": "e7c2e468633f400fbc04d4b7c669369a",
       "version_major": 2,
       "version_minor": 0
      },
      "text/plain": [
       "BestResp | t#269/400 | k=1 | sats=STARLINK-32545:   0%|          | 0/200 [00:00<?, ?it/s]"
      ]
     },
     "metadata": {},
     "output_type": "display_data"
    },
    {
     "data": {
      "application/vnd.jupyter.widget-view+json": {
       "model_id": "527a3b15b4ac48a8960a28f3f5792c64",
       "version_major": 2,
       "version_minor": 0
      },
      "text/plain": [
       "BestResp | t#269/400 | k=3 | sats=STARLINK-32545,STARLINK-1593,STARLINK-31558:   0%|          | 0/200 [00:00<?…"
      ]
     },
     "metadata": {},
     "output_type": "display_data"
    },
    {
     "data": {
      "application/vnd.jupyter.widget-view+json": {
       "model_id": "70256bc7217f4efa865f5bf9b94c97cb",
       "version_major": 2,
       "version_minor": 0
      },
      "text/plain": [
       "BestResp | t#269/400 | k=5 | sats=STARLINK-32545,STARLINK-1593,STARLINK-31558,STARLINK-31551,STARLINK-32192:  …"
      ]
     },
     "metadata": {},
     "output_type": "display_data"
    },
    {
     "data": {
      "application/vnd.jupyter.widget-view+json": {
       "model_id": "5c38fd5a8bbe46abac984251f99236b2",
       "version_major": 2,
       "version_minor": 0
      },
      "text/plain": [
       "BestResp | t#270/400 | k=1 | sats=STARLINK-35418:   0%|          | 0/200 [00:00<?, ?it/s]"
      ]
     },
     "metadata": {},
     "output_type": "display_data"
    },
    {
     "data": {
      "application/vnd.jupyter.widget-view+json": {
       "model_id": "2a5c5918127342fcbb10564f0c1dc9af",
       "version_major": 2,
       "version_minor": 0
      },
      "text/plain": [
       "BestResp | t#270/400 | k=3 | sats=STARLINK-35418,STARLINK-32807,STARLINK-35464:   0%|          | 0/200 [00:00<…"
      ]
     },
     "metadata": {},
     "output_type": "display_data"
    },
    {
     "data": {
      "application/vnd.jupyter.widget-view+json": {
       "model_id": "fa7d8d1f817d4e9bb69608de70694646",
       "version_major": 2,
       "version_minor": 0
      },
      "text/plain": [
       "BestResp | t#270/400 | k=5 | sats=STARLINK-35418,STARLINK-32807,STARLINK-35464,STARLINK-32604,STARLINK-34212: …"
      ]
     },
     "metadata": {},
     "output_type": "display_data"
    },
    {
     "data": {
      "application/vnd.jupyter.widget-view+json": {
       "model_id": "6a45465d71fc4adcab6cd0d62e98c5e0",
       "version_major": 2,
       "version_minor": 0
      },
      "text/plain": [
       "BestResp | t#271/400 | k=1 | sats=STARLINK-11732 [DTC]:   0%|          | 0/200 [00:00<?, ?it/s]"
      ]
     },
     "metadata": {},
     "output_type": "display_data"
    },
    {
     "data": {
      "application/vnd.jupyter.widget-view+json": {
       "model_id": "5faf51b22e9148bebef0d8b1ef9bb209",
       "version_major": 2,
       "version_minor": 0
      },
      "text/plain": [
       "BestResp | t#271/400 | k=3 | sats=STARLINK-11732 [DTC],STARLINK-1601,STARLINK-34438:   0%|          | 0/200 [0…"
      ]
     },
     "metadata": {},
     "output_type": "display_data"
    },
    {
     "data": {
      "application/vnd.jupyter.widget-view+json": {
       "model_id": "01962ae83b59492e837a57547a6c9387",
       "version_major": 2,
       "version_minor": 0
      },
      "text/plain": [
       "BestResp | t#271/400 | k=5 | sats=STARLINK-11732 [DTC],STARLINK-1601,STARLINK-34438,STARLINK-1575,STARLINK-116…"
      ]
     },
     "metadata": {},
     "output_type": "display_data"
    },
    {
     "data": {
      "application/vnd.jupyter.widget-view+json": {
       "model_id": "746b795da552469ebbe445401ec2b03f",
       "version_major": 2,
       "version_minor": 0
      },
      "text/plain": [
       "BestResp | t#272/400 | k=1 | sats=STARLINK-11123 [DTC]:   0%|          | 0/200 [00:00<?, ?it/s]"
      ]
     },
     "metadata": {},
     "output_type": "display_data"
    },
    {
     "data": {
      "application/vnd.jupyter.widget-view+json": {
       "model_id": "a453ea707c4b42b2bd90d48978e1ff0d",
       "version_major": 2,
       "version_minor": 0
      },
      "text/plain": [
       "BestResp | t#272/400 | k=3 | sats=STARLINK-11123 [DTC],STARLINK-34671,STARLINK-35423:   0%|          | 0/200 […"
      ]
     },
     "metadata": {},
     "output_type": "display_data"
    },
    {
     "data": {
      "application/vnd.jupyter.widget-view+json": {
       "model_id": "aa5c172a227146ad86be7a1ef4151a68",
       "version_major": 2,
       "version_minor": 0
      },
      "text/plain": [
       "BestResp | t#272/400 | k=5 | sats=STARLINK-11123 [DTC],STARLINK-34671,STARLINK-35423,STARLINK-32507,STARLINK-3…"
      ]
     },
     "metadata": {},
     "output_type": "display_data"
    },
    {
     "data": {
      "application/vnd.jupyter.widget-view+json": {
       "model_id": "55a5d0d1b13d4c7ca6bf899539c70671",
       "version_major": 2,
       "version_minor": 0
      },
      "text/plain": [
       "BestResp | t#273/400 | k=1 | sats=STARLINK-30163:   0%|          | 0/200 [00:00<?, ?it/s]"
      ]
     },
     "metadata": {},
     "output_type": "display_data"
    },
    {
     "data": {
      "application/vnd.jupyter.widget-view+json": {
       "model_id": "faf992d4c5cb40b58ec9d227e27ea32e",
       "version_major": 2,
       "version_minor": 0
      },
      "text/plain": [
       "BestResp | t#273/400 | k=3 | sats=STARLINK-30163,STARLINK-35489,STARLINK-35258:   0%|          | 0/200 [00:00<…"
      ]
     },
     "metadata": {},
     "output_type": "display_data"
    },
    {
     "data": {
      "application/vnd.jupyter.widget-view+json": {
       "model_id": "7c790a53449340e2ad57c087c6ff1d41",
       "version_major": 2,
       "version_minor": 0
      },
      "text/plain": [
       "BestResp | t#273/400 | k=5 | sats=STARLINK-30163,STARLINK-35489,STARLINK-35258,STARLINK-33622,STARLINK-34721: …"
      ]
     },
     "metadata": {},
     "output_type": "display_data"
    },
    {
     "data": {
      "application/vnd.jupyter.widget-view+json": {
       "model_id": "7127370c625b4779bcdb399c77f5e521",
       "version_major": 2,
       "version_minor": 0
      },
      "text/plain": [
       "BestResp | t#274/400 | k=1 | sats=STARLINK-31796:   0%|          | 0/200 [00:00<?, ?it/s]"
      ]
     },
     "metadata": {},
     "output_type": "display_data"
    },
    {
     "data": {
      "application/vnd.jupyter.widget-view+json": {
       "model_id": "5e25709deb954023956f1a1bb175e317",
       "version_major": 2,
       "version_minor": 0
      },
      "text/plain": [
       "BestResp | t#274/400 | k=3 | sats=STARLINK-31796,STARLINK-31125,STARLINK-30368:   0%|          | 0/200 [00:00<…"
      ]
     },
     "metadata": {},
     "output_type": "display_data"
    },
    {
     "data": {
      "application/vnd.jupyter.widget-view+json": {
       "model_id": "872777fa9a41409e929661c02b8f3b35",
       "version_major": 2,
       "version_minor": 0
      },
      "text/plain": [
       "BestResp | t#274/400 | k=5 | sats=STARLINK-31796,STARLINK-31125,STARLINK-30368,STARLINK-34827,STARLINK-33698: …"
      ]
     },
     "metadata": {},
     "output_type": "display_data"
    },
    {
     "data": {
      "application/vnd.jupyter.widget-view+json": {
       "model_id": "49782fc940294bafb173013b89fc78ab",
       "version_major": 2,
       "version_minor": 0
      },
      "text/plain": [
       "BestResp | t#275/400 | k=1 | sats=STARLINK-11742 [DTC]:   0%|          | 0/200 [00:00<?, ?it/s]"
      ]
     },
     "metadata": {},
     "output_type": "display_data"
    },
    {
     "data": {
      "application/vnd.jupyter.widget-view+json": {
       "model_id": "f02b549bc89c429daeefbf9a43854e6f",
       "version_major": 2,
       "version_minor": 0
      },
      "text/plain": [
       "BestResp | t#275/400 | k=3 | sats=STARLINK-11742 [DTC],STARLINK-11736 [DTC],STARLINK-31137:   0%|          | 0…"
      ]
     },
     "metadata": {},
     "output_type": "display_data"
    },
    {
     "data": {
      "application/vnd.jupyter.widget-view+json": {
       "model_id": "3c8bf5e70f68449b83c4705ae934b033",
       "version_major": 2,
       "version_minor": 0
      },
      "text/plain": [
       "BestResp | t#275/400 | k=5 | sats=STARLINK-11742 [DTC],STARLINK-11736 [DTC],STARLINK-31137,STARLINK-31361,STAR…"
      ]
     },
     "metadata": {},
     "output_type": "display_data"
    },
    {
     "data": {
      "application/vnd.jupyter.widget-view+json": {
       "model_id": "5bd9ead719bc4104a409449d2ddb391d",
       "version_major": 2,
       "version_minor": 0
      },
      "text/plain": [
       "BestResp | t#276/400 | k=1 | sats=STARLINK-32654:   0%|          | 0/200 [00:00<?, ?it/s]"
      ]
     },
     "metadata": {},
     "output_type": "display_data"
    },
    {
     "data": {
      "application/vnd.jupyter.widget-view+json": {
       "model_id": "4da0cb4447c64561ab3a21da1eb8d3d2",
       "version_major": 2,
       "version_minor": 0
      },
      "text/plain": [
       "BestResp | t#276/400 | k=3 | sats=STARLINK-32654,STARLINK-31361,STARLINK-31567:   0%|          | 0/200 [00:00<…"
      ]
     },
     "metadata": {},
     "output_type": "display_data"
    },
    {
     "data": {
      "application/vnd.jupyter.widget-view+json": {
       "model_id": "5354b18393504e04a43c79fd623eb038",
       "version_major": 2,
       "version_minor": 0
      },
      "text/plain": [
       "BestResp | t#276/400 | k=5 | sats=STARLINK-32654,STARLINK-31361,STARLINK-31567,STARLINK-31427,STARLINK-32525: …"
      ]
     },
     "metadata": {},
     "output_type": "display_data"
    },
    {
     "data": {
      "application/vnd.jupyter.widget-view+json": {
       "model_id": "4a0764daa61441309da4edb127afeea6",
       "version_major": 2,
       "version_minor": 0
      },
      "text/plain": [
       "BestResp | t#277/400 | k=1 | sats=STARLINK-11504 [DTC]:   0%|          | 0/200 [00:00<?, ?it/s]"
      ]
     },
     "metadata": {},
     "output_type": "display_data"
    },
    {
     "data": {
      "application/vnd.jupyter.widget-view+json": {
       "model_id": "76e6989c3a0f4d0abb51a469710a473a",
       "version_major": 2,
       "version_minor": 0
      },
      "text/plain": [
       "BestResp | t#277/400 | k=3 | sats=STARLINK-11504 [DTC],STARLINK-32799,STARLINK-31365:   0%|          | 0/200 […"
      ]
     },
     "metadata": {},
     "output_type": "display_data"
    },
    {
     "data": {
      "application/vnd.jupyter.widget-view+json": {
       "model_id": "d7e56397ea6244dfadc9e1b21ccea0e9",
       "version_major": 2,
       "version_minor": 0
      },
      "text/plain": [
       "BestResp | t#277/400 | k=5 | sats=STARLINK-11504 [DTC],STARLINK-32799,STARLINK-31365,STARLINK-6239,STARLINK-31…"
      ]
     },
     "metadata": {},
     "output_type": "display_data"
    },
    {
     "data": {
      "application/vnd.jupyter.widget-view+json": {
       "model_id": "fdab9299334d4f7f8955c962fed3bb1b",
       "version_major": 2,
       "version_minor": 0
      },
      "text/plain": [
       "BestResp | t#278/400 | k=1 | sats=STARLINK-31365:   0%|          | 0/200 [00:00<?, ?it/s]"
      ]
     },
     "metadata": {},
     "output_type": "display_data"
    },
    {
     "data": {
      "application/vnd.jupyter.widget-view+json": {
       "model_id": "79493e388d6d4665a359ff6a348f54bf",
       "version_major": 2,
       "version_minor": 0
      },
      "text/plain": [
       "BestResp | t#278/400 | k=3 | sats=STARLINK-31365,STARLINK-31394,STARLINK-5114:   0%|          | 0/200 [00:00<?…"
      ]
     },
     "metadata": {},
     "output_type": "display_data"
    },
    {
     "data": {
      "application/vnd.jupyter.widget-view+json": {
       "model_id": "b1da2dfe8a9a4295a4117de85c1c9e84",
       "version_major": 2,
       "version_minor": 0
      },
      "text/plain": [
       "BestResp | t#278/400 | k=5 | sats=STARLINK-31365,STARLINK-31394,STARLINK-5114,STARLINK-31344,STARLINK-32799:  …"
      ]
     },
     "metadata": {},
     "output_type": "display_data"
    },
    {
     "data": {
      "application/vnd.jupyter.widget-view+json": {
       "model_id": "25c3ea0e222a4bd385fa500cf56d8fbf",
       "version_major": 2,
       "version_minor": 0
      },
      "text/plain": [
       "BestResp | t#279/400 | k=1 | sats=STARLINK-31268:   0%|          | 0/200 [00:00<?, ?it/s]"
      ]
     },
     "metadata": {},
     "output_type": "display_data"
    },
    {
     "data": {
      "application/vnd.jupyter.widget-view+json": {
       "model_id": "111aaf1dbede42c3a81242b814c5bb80",
       "version_major": 2,
       "version_minor": 0
      },
      "text/plain": [
       "BestResp | t#279/400 | k=3 | sats=STARLINK-31268,STARLINK-1547,STARLINK-31280:   0%|          | 0/200 [00:00<?…"
      ]
     },
     "metadata": {},
     "output_type": "display_data"
    },
    {
     "data": {
      "application/vnd.jupyter.widget-view+json": {
       "model_id": "4c4093bd7f6c4f588b2e501f7e4d7f53",
       "version_major": 2,
       "version_minor": 0
      },
      "text/plain": [
       "BestResp | t#279/400 | k=5 | sats=STARLINK-31268,STARLINK-1547,STARLINK-31280,STARLINK-3449,STARLINK-32447:   …"
      ]
     },
     "metadata": {},
     "output_type": "display_data"
    },
    {
     "data": {
      "application/vnd.jupyter.widget-view+json": {
       "model_id": "faf649c68635449bb864fd36cf98b19b",
       "version_major": 2,
       "version_minor": 0
      },
      "text/plain": [
       "BestResp | t#280/400 | k=1 | sats=STARLINK-11737 [DTC]:   0%|          | 0/200 [00:00<?, ?it/s]"
      ]
     },
     "metadata": {},
     "output_type": "display_data"
    },
    {
     "data": {
      "application/vnd.jupyter.widget-view+json": {
       "model_id": "e2269475b3e04095bce95056568e0ebc",
       "version_major": 2,
       "version_minor": 0
      },
      "text/plain": [
       "BestResp | t#280/400 | k=3 | sats=STARLINK-11737 [DTC],STARLINK-11120 [DTC],STARLINK-11384 [DTC]:   0%|       …"
      ]
     },
     "metadata": {},
     "output_type": "display_data"
    },
    {
     "data": {
      "application/vnd.jupyter.widget-view+json": {
       "model_id": "e42a840f8e71412a8a3ae87a9f6cf3c7",
       "version_major": 2,
       "version_minor": 0
      },
      "text/plain": [
       "BestResp | t#280/400 | k=5 | sats=STARLINK-11737 [DTC],STARLINK-11120 [DTC],STARLINK-11384 [DTC],STARLINK-3126…"
      ]
     },
     "metadata": {},
     "output_type": "display_data"
    },
    {
     "name": "stdout",
     "output_type": "stream",
     "text": [
      "[flush] wrote up to step 280\n"
     ]
    },
    {
     "data": {
      "application/vnd.jupyter.widget-view+json": {
       "model_id": "cf8cca0ab0534f69959f8004550a9a19",
       "version_major": 2,
       "version_minor": 0
      },
      "text/plain": [
       "BestResp | t#281/400 | k=1 | sats=STARLINK-3663:   0%|          | 0/200 [00:00<?, ?it/s]"
      ]
     },
     "metadata": {},
     "output_type": "display_data"
    },
    {
     "data": {
      "application/vnd.jupyter.widget-view+json": {
       "model_id": "df630c75ce4b4bd586e82c47108dbd0e",
       "version_major": 2,
       "version_minor": 0
      },
      "text/plain": [
       "BestResp | t#281/400 | k=3 | sats=STARLINK-3663,STARLINK-32437,STARLINK-33635:   0%|          | 0/200 [00:00<?…"
      ]
     },
     "metadata": {},
     "output_type": "display_data"
    },
    {
     "data": {
      "application/vnd.jupyter.widget-view+json": {
       "model_id": "d65959e57c1e4001b6bad08ad11eb88d",
       "version_major": 2,
       "version_minor": 0
      },
      "text/plain": [
       "BestResp | t#281/400 | k=5 | sats=STARLINK-3663,STARLINK-32437,STARLINK-33635,STARLINK-32370,STARLINK-31096:  …"
      ]
     },
     "metadata": {},
     "output_type": "display_data"
    },
    {
     "data": {
      "application/vnd.jupyter.widget-view+json": {
       "model_id": "2272a2d210fc46a196eab3ff61b955bf",
       "version_major": 2,
       "version_minor": 0
      },
      "text/plain": [
       "BestResp | t#282/400 | k=1 | sats=STARLINK-11175 [DTC]:   0%|          | 0/200 [00:00<?, ?it/s]"
      ]
     },
     "metadata": {},
     "output_type": "display_data"
    },
    {
     "data": {
      "application/vnd.jupyter.widget-view+json": {
       "model_id": "525a34fb61ab4829bb68f73285b89df3",
       "version_major": 2,
       "version_minor": 0
      },
      "text/plain": [
       "BestResp | t#282/400 | k=3 | sats=STARLINK-11175 [DTC],STARLINK-31273,STARLINK-32770:   0%|          | 0/200 […"
      ]
     },
     "metadata": {},
     "output_type": "display_data"
    },
    {
     "data": {
      "application/vnd.jupyter.widget-view+json": {
       "model_id": "d05597581b05433191db6ddea635cf30",
       "version_major": 2,
       "version_minor": 0
      },
      "text/plain": [
       "BestResp | t#282/400 | k=5 | sats=STARLINK-11175 [DTC],STARLINK-31273,STARLINK-32770,STARLINK-30857,STARLINK-3…"
      ]
     },
     "metadata": {},
     "output_type": "display_data"
    },
    {
     "data": {
      "application/vnd.jupyter.widget-view+json": {
       "model_id": "adc7cef823c7487f8fa2767435dc03d3",
       "version_major": 2,
       "version_minor": 0
      },
      "text/plain": [
       "BestResp | t#283/400 | k=1 | sats=STARLINK-11149 [DTC]:   0%|          | 0/200 [00:00<?, ?it/s]"
      ]
     },
     "metadata": {},
     "output_type": "display_data"
    },
    {
     "data": {
      "application/vnd.jupyter.widget-view+json": {
       "model_id": "e31560efb06c442fa392e2cff69da1f5",
       "version_major": 2,
       "version_minor": 0
      },
      "text/plain": [
       "BestResp | t#283/400 | k=3 | sats=STARLINK-11149 [DTC],STARLINK-5190,STARLINK-35225:   0%|          | 0/200 [0…"
      ]
     },
     "metadata": {},
     "output_type": "display_data"
    },
    {
     "data": {
      "application/vnd.jupyter.widget-view+json": {
       "model_id": "e37ca589968b4233b4be58e4eccff9c1",
       "version_major": 2,
       "version_minor": 0
      },
      "text/plain": [
       "BestResp | t#283/400 | k=5 | sats=STARLINK-11149 [DTC],STARLINK-5190,STARLINK-35225,STARLINK-32554,STARLINK-32…"
      ]
     },
     "metadata": {},
     "output_type": "display_data"
    },
    {
     "data": {
      "application/vnd.jupyter.widget-view+json": {
       "model_id": "f64cb8ecdf774d28b7c4b2ab733ea0fc",
       "version_major": 2,
       "version_minor": 0
      },
      "text/plain": [
       "BestResp | t#284/400 | k=1 | sats=STARLINK-11723 [DTC]:   0%|          | 0/200 [00:00<?, ?it/s]"
      ]
     },
     "metadata": {},
     "output_type": "display_data"
    },
    {
     "data": {
      "application/vnd.jupyter.widget-view+json": {
       "model_id": "c53103f599f54922886beadd4671d8c9",
       "version_major": 2,
       "version_minor": 0
      },
      "text/plain": [
       "BestResp | t#284/400 | k=3 | sats=STARLINK-11723 [DTC],STARLINK-11149 [DTC],STARLINK-5190:   0%|          | 0/…"
      ]
     },
     "metadata": {},
     "output_type": "display_data"
    },
    {
     "data": {
      "application/vnd.jupyter.widget-view+json": {
       "model_id": "68e8fc2a7e8a4ded96aa710864bede15",
       "version_major": 2,
       "version_minor": 0
      },
      "text/plain": [
       "BestResp | t#284/400 | k=5 | sats=STARLINK-11723 [DTC],STARLINK-11149 [DTC],STARLINK-5190,STARLINK-11748 [DTC]…"
      ]
     },
     "metadata": {},
     "output_type": "display_data"
    },
    {
     "data": {
      "application/vnd.jupyter.widget-view+json": {
       "model_id": "fad76f24110c411f9a6560bb1ee28f68",
       "version_major": 2,
       "version_minor": 0
      },
      "text/plain": [
       "BestResp | t#285/400 | k=1 | sats=STARLINK-11122 [DTC]:   0%|          | 0/200 [00:00<?, ?it/s]"
      ]
     },
     "metadata": {},
     "output_type": "display_data"
    },
    {
     "data": {
      "application/vnd.jupyter.widget-view+json": {
       "model_id": "a2711533e4c64acdb10cee526529f5fb",
       "version_major": 2,
       "version_minor": 0
      },
      "text/plain": [
       "BestResp | t#285/400 | k=3 | sats=STARLINK-11122 [DTC],STARLINK-11713 [DTC],STARLINK-35147:   0%|          | 0…"
      ]
     },
     "metadata": {},
     "output_type": "display_data"
    },
    {
     "data": {
      "application/vnd.jupyter.widget-view+json": {
       "model_id": "ab4fe0727b104c59aa77a589274cf05d",
       "version_major": 2,
       "version_minor": 0
      },
      "text/plain": [
       "BestResp | t#285/400 | k=5 | sats=STARLINK-11122 [DTC],STARLINK-11713 [DTC],STARLINK-35147,STARLINK-30278,STAR…"
      ]
     },
     "metadata": {},
     "output_type": "display_data"
    },
    {
     "data": {
      "application/vnd.jupyter.widget-view+json": {
       "model_id": "718f6f959dbc42d8be5d08a1b5c33b08",
       "version_major": 2,
       "version_minor": 0
      },
      "text/plain": [
       "BestResp | t#286/400 | k=1 | sats=STARLINK-11129 [DTC]:   0%|          | 0/200 [00:00<?, ?it/s]"
      ]
     },
     "metadata": {},
     "output_type": "display_data"
    },
    {
     "data": {
      "application/vnd.jupyter.widget-view+json": {
       "model_id": "0b520ce2ebff493b95c1c7ca66abf6fa",
       "version_major": 2,
       "version_minor": 0
      },
      "text/plain": [
       "BestResp | t#286/400 | k=3 | sats=STARLINK-11129 [DTC],STARLINK-33628,STARLINK-32295:   0%|          | 0/200 […"
      ]
     },
     "metadata": {},
     "output_type": "display_data"
    },
    {
     "data": {
      "application/vnd.jupyter.widget-view+json": {
       "model_id": "f560a1878d5b4472a2c1e49ac3ccbe06",
       "version_major": 2,
       "version_minor": 0
      },
      "text/plain": [
       "BestResp | t#286/400 | k=5 | sats=STARLINK-11129 [DTC],STARLINK-33628,STARLINK-32295,STARLINK-3133,STARLINK-52…"
      ]
     },
     "metadata": {},
     "output_type": "display_data"
    },
    {
     "data": {
      "application/vnd.jupyter.widget-view+json": {
       "model_id": "5a2bfa79a03f4e3c98f9e3c2b9f62717",
       "version_major": 2,
       "version_minor": 0
      },
      "text/plain": [
       "BestResp | t#287/400 | k=1 | sats=STARLINK-11730 [DTC]:   0%|          | 0/200 [00:00<?, ?it/s]"
      ]
     },
     "metadata": {},
     "output_type": "display_data"
    },
    {
     "data": {
      "application/vnd.jupyter.widget-view+json": {
       "model_id": "5018932211734692bdb133450942c6d3",
       "version_major": 2,
       "version_minor": 0
      },
      "text/plain": [
       "BestResp | t#287/400 | k=3 | sats=STARLINK-11730 [DTC],STARLINK-34838,STARLINK-32704:   0%|          | 0/200 […"
      ]
     },
     "metadata": {},
     "output_type": "display_data"
    },
    {
     "data": {
      "application/vnd.jupyter.widget-view+json": {
       "model_id": "fc10d040310d4197b3d1f43ee2a4c601",
       "version_major": 2,
       "version_minor": 0
      },
      "text/plain": [
       "BestResp | t#287/400 | k=5 | sats=STARLINK-11730 [DTC],STARLINK-34838,STARLINK-32704,STARLINK-34751,STARLINK-3…"
      ]
     },
     "metadata": {},
     "output_type": "display_data"
    },
    {
     "data": {
      "application/vnd.jupyter.widget-view+json": {
       "model_id": "ae15baa4bdc543c6a25d1e9a3bcb7be4",
       "version_major": 2,
       "version_minor": 0
      },
      "text/plain": [
       "BestResp | t#288/400 | k=1 | sats=STARLINK-11303 [DTC]:   0%|          | 0/200 [00:00<?, ?it/s]"
      ]
     },
     "metadata": {},
     "output_type": "display_data"
    },
    {
     "data": {
      "application/vnd.jupyter.widget-view+json": {
       "model_id": "30696f2126164a7da0441fcfd4382b45",
       "version_major": 2,
       "version_minor": 0
      },
      "text/plain": [
       "BestResp | t#288/400 | k=3 | sats=STARLINK-11303 [DTC],STARLINK-32484,STARLINK-1210:   0%|          | 0/200 [0…"
      ]
     },
     "metadata": {},
     "output_type": "display_data"
    },
    {
     "data": {
      "application/vnd.jupyter.widget-view+json": {
       "model_id": "268a9a3edd67492b8a68346ec7d9c11f",
       "version_major": 2,
       "version_minor": 0
      },
      "text/plain": [
       "BestResp | t#288/400 | k=5 | sats=STARLINK-11303 [DTC],STARLINK-32484,STARLINK-1210,STARLINK-32021,STARLINK-31…"
      ]
     },
     "metadata": {},
     "output_type": "display_data"
    },
    {
     "data": {
      "application/vnd.jupyter.widget-view+json": {
       "model_id": "f33a71c1725e4a768bc69c642cccc8f0",
       "version_major": 2,
       "version_minor": 0
      },
      "text/plain": [
       "BestResp | t#289/400 | k=1 | sats=STARLINK-11077 [DTC]:   0%|          | 0/200 [00:00<?, ?it/s]"
      ]
     },
     "metadata": {},
     "output_type": "display_data"
    },
    {
     "data": {
      "application/vnd.jupyter.widget-view+json": {
       "model_id": "1d0fd294f6bf4e64952972acddc7d8e5",
       "version_major": 2,
       "version_minor": 0
      },
      "text/plain": [
       "BestResp | t#289/400 | k=3 | sats=STARLINK-11077 [DTC],STARLINK-35123,STARLINK-30271:   0%|          | 0/200 […"
      ]
     },
     "metadata": {},
     "output_type": "display_data"
    },
    {
     "data": {
      "application/vnd.jupyter.widget-view+json": {
       "model_id": "9e56736bc86346d1be0ded9d2b6fd236",
       "version_major": 2,
       "version_minor": 0
      },
      "text/plain": [
       "BestResp | t#289/400 | k=5 | sats=STARLINK-11077 [DTC],STARLINK-35123,STARLINK-30271,STARLINK-32625,STARLINK-3…"
      ]
     },
     "metadata": {},
     "output_type": "display_data"
    },
    {
     "data": {
      "application/vnd.jupyter.widget-view+json": {
       "model_id": "f9f8d8296b3b4af3b78048ce413c18b3",
       "version_major": 2,
       "version_minor": 0
      },
      "text/plain": [
       "BestResp | t#290/400 | k=1 | sats=STARLINK-11719 [DTC]:   0%|          | 0/200 [00:00<?, ?it/s]"
      ]
     },
     "metadata": {},
     "output_type": "display_data"
    },
    {
     "data": {
      "application/vnd.jupyter.widget-view+json": {
       "model_id": "ade144cd24154c8693f4dcbae7deeefb",
       "version_major": 2,
       "version_minor": 0
      },
      "text/plain": [
       "BestResp | t#290/400 | k=3 | sats=STARLINK-11719 [DTC],STARLINK-33703,STARLINK-32269:   0%|          | 0/200 […"
      ]
     },
     "metadata": {},
     "output_type": "display_data"
    },
    {
     "data": {
      "application/vnd.jupyter.widget-view+json": {
       "model_id": "08bf5ffc2092476fb9a2f4e32faae9c6",
       "version_major": 2,
       "version_minor": 0
      },
      "text/plain": [
       "BestResp | t#290/400 | k=5 | sats=STARLINK-11719 [DTC],STARLINK-33703,STARLINK-32269,STARLINK-31330,STARLINK-5…"
      ]
     },
     "metadata": {},
     "output_type": "display_data"
    },
    {
     "data": {
      "application/vnd.jupyter.widget-view+json": {
       "model_id": "345e4d206510459a92ac115f901aaa95",
       "version_major": 2,
       "version_minor": 0
      },
      "text/plain": [
       "BestResp | t#291/400 | k=1 | sats=STARLINK-11443 [DTC]:   0%|          | 0/200 [00:00<?, ?it/s]"
      ]
     },
     "metadata": {},
     "output_type": "display_data"
    },
    {
     "data": {
      "application/vnd.jupyter.widget-view+json": {
       "model_id": "9598068b2ceb47b181a54a55fd449b72",
       "version_major": 2,
       "version_minor": 0
      },
      "text/plain": [
       "BestResp | t#291/400 | k=3 | sats=STARLINK-11443 [DTC],STARLINK-32341,STARLINK-32852:   0%|          | 0/200 […"
      ]
     },
     "metadata": {},
     "output_type": "display_data"
    },
    {
     "data": {
      "application/vnd.jupyter.widget-view+json": {
       "model_id": "63ef55ea51af425cb81fe4b09868d265",
       "version_major": 2,
       "version_minor": 0
      },
      "text/plain": [
       "BestResp | t#291/400 | k=5 | sats=STARLINK-11443 [DTC],STARLINK-32341,STARLINK-32852,STARLINK-32819,STARLINK-4…"
      ]
     },
     "metadata": {},
     "output_type": "display_data"
    },
    {
     "data": {
      "application/vnd.jupyter.widget-view+json": {
       "model_id": "2d4071354e064867a467577e2e6488a1",
       "version_major": 2,
       "version_minor": 0
      },
      "text/plain": [
       "BestResp | t#292/400 | k=1 | sats=STARLINK-32745:   0%|          | 0/200 [00:00<?, ?it/s]"
      ]
     },
     "metadata": {},
     "output_type": "display_data"
    },
    {
     "data": {
      "application/vnd.jupyter.widget-view+json": {
       "model_id": "eeb83dfcd81b48f68118a696d2c1a84c",
       "version_major": 2,
       "version_minor": 0
      },
      "text/plain": [
       "BestResp | t#292/400 | k=3 | sats=STARLINK-32745,STARLINK-32348,STARLINK-32188:   0%|          | 0/200 [00:00<…"
      ]
     },
     "metadata": {},
     "output_type": "display_data"
    },
    {
     "data": {
      "application/vnd.jupyter.widget-view+json": {
       "model_id": "1c6d1ffc932b49acaac3a8f7d17f6f37",
       "version_major": 2,
       "version_minor": 0
      },
      "text/plain": [
       "BestResp | t#292/400 | k=5 | sats=STARLINK-32745,STARLINK-32348,STARLINK-32188,STARLINK-35020,STARLINK-3121:  …"
      ]
     },
     "metadata": {},
     "output_type": "display_data"
    },
    {
     "data": {
      "application/vnd.jupyter.widget-view+json": {
       "model_id": "d82ad4c22c604512b8784aec350e683c",
       "version_major": 2,
       "version_minor": 0
      },
      "text/plain": [
       "BestResp | t#293/400 | k=1 | sats=STARLINK-11638 [DTC]:   0%|          | 0/200 [00:00<?, ?it/s]"
      ]
     },
     "metadata": {},
     "output_type": "display_data"
    },
    {
     "data": {
      "application/vnd.jupyter.widget-view+json": {
       "model_id": "13e2aa5710c944e5b041f7f37572e35c",
       "version_major": 2,
       "version_minor": 0
      },
      "text/plain": [
       "BestResp | t#293/400 | k=3 | sats=STARLINK-11638 [DTC],STARLINK-11209 [DTC],STARLINK-11501 [DTC]:   0%|       …"
      ]
     },
     "metadata": {},
     "output_type": "display_data"
    },
    {
     "data": {
      "application/vnd.jupyter.widget-view+json": {
       "model_id": "1f88865e2f2a46e4b414cde0855dd072",
       "version_major": 2,
       "version_minor": 0
      },
      "text/plain": [
       "BestResp | t#293/400 | k=5 | sats=STARLINK-11638 [DTC],STARLINK-11209 [DTC],STARLINK-11501 [DTC],STARLINK-3242…"
      ]
     },
     "metadata": {},
     "output_type": "display_data"
    },
    {
     "data": {
      "application/vnd.jupyter.widget-view+json": {
       "model_id": "70f5ef0f429148d88d9bd1b91cc8f5d3",
       "version_major": 2,
       "version_minor": 0
      },
      "text/plain": [
       "BestResp | t#294/400 | k=1 | sats=STARLINK-11310 [DTC]:   0%|          | 0/200 [00:00<?, ?it/s]"
      ]
     },
     "metadata": {},
     "output_type": "display_data"
    },
    {
     "data": {
      "application/vnd.jupyter.widget-view+json": {
       "model_id": "da6d24b10ee54974be3a4490f677a688",
       "version_major": 2,
       "version_minor": 0
      },
      "text/plain": [
       "BestResp | t#294/400 | k=3 | sats=STARLINK-11310 [DTC],STARLINK-30459,STARLINK-11498 [DTC]:   0%|          | 0…"
      ]
     },
     "metadata": {},
     "output_type": "display_data"
    },
    {
     "data": {
      "application/vnd.jupyter.widget-view+json": {
       "model_id": "1bdf740a43394b16be9feb1bd26a968a",
       "version_major": 2,
       "version_minor": 0
      },
      "text/plain": [
       "BestResp | t#294/400 | k=5 | sats=STARLINK-11310 [DTC],STARLINK-30459,STARLINK-11498 [DTC],STARLINK-32503,STAR…"
      ]
     },
     "metadata": {},
     "output_type": "display_data"
    },
    {
     "data": {
      "application/vnd.jupyter.widget-view+json": {
       "model_id": "cda2df784dfe4e4bb848a3678930cb56",
       "version_major": 2,
       "version_minor": 0
      },
      "text/plain": [
       "BestResp | t#295/400 | k=1 | sats=STARLINK-2069:   0%|          | 0/200 [00:00<?, ?it/s]"
      ]
     },
     "metadata": {},
     "output_type": "display_data"
    },
    {
     "data": {
      "application/vnd.jupyter.widget-view+json": {
       "model_id": "ca586b4b851a49dcaf1013e58f3bcc17",
       "version_major": 2,
       "version_minor": 0
      },
      "text/plain": [
       "BestResp | t#295/400 | k=3 | sats=STARLINK-2069,STARLINK-31341,STARLINK-32388:   0%|          | 0/200 [00:00<?…"
      ]
     },
     "metadata": {},
     "output_type": "display_data"
    },
    {
     "data": {
      "application/vnd.jupyter.widget-view+json": {
       "model_id": "382732b492a64a28b2d501198b3dce9c",
       "version_major": 2,
       "version_minor": 0
      },
      "text/plain": [
       "BestResp | t#295/400 | k=5 | sats=STARLINK-2069,STARLINK-31341,STARLINK-32388,STARLINK-32751,STARLINK-32242:  …"
      ]
     },
     "metadata": {},
     "output_type": "display_data"
    },
    {
     "data": {
      "application/vnd.jupyter.widget-view+json": {
       "model_id": "8610b4c886db4f2fbacdbbe4e637273c",
       "version_major": 2,
       "version_minor": 0
      },
      "text/plain": [
       "BestResp | t#296/400 | k=1 | sats=STARLINK-11715 [DTC]:   0%|          | 0/200 [00:00<?, ?it/s]"
      ]
     },
     "metadata": {},
     "output_type": "display_data"
    },
    {
     "data": {
      "application/vnd.jupyter.widget-view+json": {
       "model_id": "e7499ef70ed442728a16a5e6c3e4a249",
       "version_major": 2,
       "version_minor": 0
      },
      "text/plain": [
       "BestResp | t#296/400 | k=3 | sats=STARLINK-11715 [DTC],STARLINK-33593,STARLINK-4646:   0%|          | 0/200 [0…"
      ]
     },
     "metadata": {},
     "output_type": "display_data"
    },
    {
     "data": {
      "application/vnd.jupyter.widget-view+json": {
       "model_id": "238f6b1394864858940074fe8ea8ce0c",
       "version_major": 2,
       "version_minor": 0
      },
      "text/plain": [
       "BestResp | t#296/400 | k=5 | sats=STARLINK-11715 [DTC],STARLINK-33593,STARLINK-4646,STARLINK-30804,STARLINK-33…"
      ]
     },
     "metadata": {},
     "output_type": "display_data"
    },
    {
     "data": {
      "application/vnd.jupyter.widget-view+json": {
       "model_id": "f9dda5f3b27b4db2afa3a8ba38b10c26",
       "version_major": 2,
       "version_minor": 0
      },
      "text/plain": [
       "BestResp | t#297/400 | k=1 | sats=STARLINK-11654 [DTC]:   0%|          | 0/200 [00:00<?, ?it/s]"
      ]
     },
     "metadata": {},
     "output_type": "display_data"
    },
    {
     "data": {
      "application/vnd.jupyter.widget-view+json": {
       "model_id": "04257d30c5db4aa5931e28bd68ffef68",
       "version_major": 2,
       "version_minor": 0
      },
      "text/plain": [
       "BestResp | t#297/400 | k=3 | sats=STARLINK-11654 [DTC],STARLINK-33749,STARLINK-31300:   0%|          | 0/200 […"
      ]
     },
     "metadata": {},
     "output_type": "display_data"
    },
    {
     "data": {
      "application/vnd.jupyter.widget-view+json": {
       "model_id": "a5d03a28859f4231b71d25a60ab9f626",
       "version_major": 2,
       "version_minor": 0
      },
      "text/plain": [
       "BestResp | t#297/400 | k=5 | sats=STARLINK-11654 [DTC],STARLINK-33749,STARLINK-31300,STARLINK-32355,STARLINK-3…"
      ]
     },
     "metadata": {},
     "output_type": "display_data"
    },
    {
     "data": {
      "application/vnd.jupyter.widget-view+json": {
       "model_id": "69f49bd9014c477ebacb42412d5f45e9",
       "version_major": 2,
       "version_minor": 0
      },
      "text/plain": [
       "BestResp | t#298/400 | k=1 | sats=STARLINK-11484 [DTC]:   0%|          | 0/200 [00:00<?, ?it/s]"
      ]
     },
     "metadata": {},
     "output_type": "display_data"
    },
    {
     "data": {
      "application/vnd.jupyter.widget-view+json": {
       "model_id": "ccbd852514f64cdc8acaa72e599820d4",
       "version_major": 2,
       "version_minor": 0
      },
      "text/plain": [
       "BestResp | t#298/400 | k=3 | sats=STARLINK-11484 [DTC],STARLINK-33570,STARLINK-32635:   0%|          | 0/200 […"
      ]
     },
     "metadata": {},
     "output_type": "display_data"
    },
    {
     "data": {
      "application/vnd.jupyter.widget-view+json": {
       "model_id": "df874b7f1a0049e0969adfb31bfbfd7c",
       "version_major": 2,
       "version_minor": 0
      },
      "text/plain": [
       "BestResp | t#298/400 | k=5 | sats=STARLINK-11484 [DTC],STARLINK-33570,STARLINK-32635,STARLINK-32193,STARLINK-3…"
      ]
     },
     "metadata": {},
     "output_type": "display_data"
    },
    {
     "data": {
      "application/vnd.jupyter.widget-view+json": {
       "model_id": "4ef5c5dd897645e5bae66d8291541cf3",
       "version_major": 2,
       "version_minor": 0
      },
      "text/plain": [
       "BestResp | t#299/400 | k=1 | sats=STARLINK-11508 [DTC]:   0%|          | 0/200 [00:00<?, ?it/s]"
      ]
     },
     "metadata": {},
     "output_type": "display_data"
    },
    {
     "data": {
      "application/vnd.jupyter.widget-view+json": {
       "model_id": "bb15ebeb83164ca78017768168696a7f",
       "version_major": 2,
       "version_minor": 0
      },
      "text/plain": [
       "BestResp | t#299/400 | k=3 | sats=STARLINK-11508 [DTC],STARLINK-30829,STARLINK-11269 [DTC]:   0%|          | 0…"
      ]
     },
     "metadata": {},
     "output_type": "display_data"
    },
    {
     "data": {
      "application/vnd.jupyter.widget-view+json": {
       "model_id": "fe38fcae312f4fe29083bff5ce943450",
       "version_major": 2,
       "version_minor": 0
      },
      "text/plain": [
       "BestResp | t#299/400 | k=5 | sats=STARLINK-11508 [DTC],STARLINK-30829,STARLINK-11269 [DTC],STARLINK-32482,STAR…"
      ]
     },
     "metadata": {},
     "output_type": "display_data"
    },
    {
     "data": {
      "application/vnd.jupyter.widget-view+json": {
       "model_id": "d38a320405e94debbc979937652024cb",
       "version_major": 2,
       "version_minor": 0
      },
      "text/plain": [
       "BestResp | t#300/400 | k=1 | sats=STARLINK-11494 [DTC]:   0%|          | 0/200 [00:00<?, ?it/s]"
      ]
     },
     "metadata": {},
     "output_type": "display_data"
    },
    {
     "data": {
      "application/vnd.jupyter.widget-view+json": {
       "model_id": "8302cc31ee5b46b49b355b3738c135ba",
       "version_major": 2,
       "version_minor": 0
      },
      "text/plain": [
       "BestResp | t#300/400 | k=3 | sats=STARLINK-11494 [DTC],STARLINK-11416 [DTC],STARLINK-30834:   0%|          | 0…"
      ]
     },
     "metadata": {},
     "output_type": "display_data"
    },
    {
     "data": {
      "application/vnd.jupyter.widget-view+json": {
       "model_id": "e2770547556640389c2f5492071b4644",
       "version_major": 2,
       "version_minor": 0
      },
      "text/plain": [
       "BestResp | t#300/400 | k=5 | sats=STARLINK-11494 [DTC],STARLINK-11416 [DTC],STARLINK-30834,STARLINK-33584,STAR…"
      ]
     },
     "metadata": {},
     "output_type": "display_data"
    },
    {
     "name": "stdout",
     "output_type": "stream",
     "text": [
      "[flush] wrote up to step 300\n"
     ]
    },
    {
     "data": {
      "application/vnd.jupyter.widget-view+json": {
       "model_id": "e99c535c74ba424482edc9eabc96ff15",
       "version_major": 2,
       "version_minor": 0
      },
      "text/plain": [
       "BestResp | t#301/400 | k=1 | sats=STARLINK-11416 [DTC]:   0%|          | 0/200 [00:00<?, ?it/s]"
      ]
     },
     "metadata": {},
     "output_type": "display_data"
    },
    {
     "data": {
      "application/vnd.jupyter.widget-view+json": {
       "model_id": "2880ed2f6bbc484e983204d664e12e2d",
       "version_major": 2,
       "version_minor": 0
      },
      "text/plain": [
       "BestResp | t#301/400 | k=3 | sats=STARLINK-11416 [DTC],STARLINK-30238,STARLINK-34029:   0%|          | 0/200 […"
      ]
     },
     "metadata": {},
     "output_type": "display_data"
    },
    {
     "data": {
      "application/vnd.jupyter.widget-view+json": {
       "model_id": "8a069379fdb047018a6f7fa4192e7bcf",
       "version_major": 2,
       "version_minor": 0
      },
      "text/plain": [
       "BestResp | t#301/400 | k=5 | sats=STARLINK-11416 [DTC],STARLINK-30238,STARLINK-34029,STARLINK-33601,STARLINK-1…"
      ]
     },
     "metadata": {},
     "output_type": "display_data"
    },
    {
     "data": {
      "application/vnd.jupyter.widget-view+json": {
       "model_id": "7d562c708bac49e79d5bbcef9ee6052c",
       "version_major": 2,
       "version_minor": 0
      },
      "text/plain": [
       "BestResp | t#302/400 | k=1 | sats=STARLINK-1750:   0%|          | 0/200 [00:00<?, ?it/s]"
      ]
     },
     "metadata": {},
     "output_type": "display_data"
    },
    {
     "data": {
      "application/vnd.jupyter.widget-view+json": {
       "model_id": "ca9ec6b8a5454942bf4d0f24db43b7f2",
       "version_major": 2,
       "version_minor": 0
      },
      "text/plain": [
       "BestResp | t#302/400 | k=3 | sats=STARLINK-1750,STARLINK-33891,STARLINK-34153:   0%|          | 0/200 [00:00<?…"
      ]
     },
     "metadata": {},
     "output_type": "display_data"
    },
    {
     "data": {
      "application/vnd.jupyter.widget-view+json": {
       "model_id": "d080b77629f84e33a10b6568d9ed890b",
       "version_major": 2,
       "version_minor": 0
      },
      "text/plain": [
       "BestResp | t#302/400 | k=5 | sats=STARLINK-1750,STARLINK-33891,STARLINK-34153,STARLINK-31976,STARLINK-32468:  …"
      ]
     },
     "metadata": {},
     "output_type": "display_data"
    },
    {
     "data": {
      "application/vnd.jupyter.widget-view+json": {
       "model_id": "603c237343e443a39054fec500c8ba9d",
       "version_major": 2,
       "version_minor": 0
      },
      "text/plain": [
       "BestResp | t#303/400 | k=1 | sats=STARLINK-11614 [DTC]:   0%|          | 0/200 [00:00<?, ?it/s]"
      ]
     },
     "metadata": {},
     "output_type": "display_data"
    },
    {
     "data": {
      "application/vnd.jupyter.widget-view+json": {
       "model_id": "37348286bdaf4ad9a0e77d281750945b",
       "version_major": 2,
       "version_minor": 0
      },
      "text/plain": [
       "BestResp | t#303/400 | k=3 | sats=STARLINK-11614 [DTC],STARLINK-11167 [DTC],STARLINK-34095:   0%|          | 0…"
      ]
     },
     "metadata": {},
     "output_type": "display_data"
    },
    {
     "data": {
      "application/vnd.jupyter.widget-view+json": {
       "model_id": "298c9169d8094722b47add369da3a59d",
       "version_major": 2,
       "version_minor": 0
      },
      "text/plain": [
       "BestResp | t#303/400 | k=5 | sats=STARLINK-11614 [DTC],STARLINK-11167 [DTC],STARLINK-34095,STARLINK-32023,STAR…"
      ]
     },
     "metadata": {},
     "output_type": "display_data"
    },
    {
     "data": {
      "application/vnd.jupyter.widget-view+json": {
       "model_id": "0274deec09134326b301895113180ab3",
       "version_major": 2,
       "version_minor": 0
      },
      "text/plain": [
       "BestResp | t#304/400 | k=1 | sats=STARLINK-11185 [DTC]:   0%|          | 0/200 [00:00<?, ?it/s]"
      ]
     },
     "metadata": {},
     "output_type": "display_data"
    },
    {
     "data": {
      "application/vnd.jupyter.widget-view+json": {
       "model_id": "27b121dd79f94930ae828d96b4053684",
       "version_major": 2,
       "version_minor": 0
      },
      "text/plain": [
       "BestResp | t#304/400 | k=3 | sats=STARLINK-11185 [DTC],STARLINK-30234,STARLINK-4465:   0%|          | 0/200 [0…"
      ]
     },
     "metadata": {},
     "output_type": "display_data"
    },
    {
     "data": {
      "application/vnd.jupyter.widget-view+json": {
       "model_id": "694052769ef34aaeaeebec0a5bceec07",
       "version_major": 2,
       "version_minor": 0
      },
      "text/plain": [
       "BestResp | t#304/400 | k=5 | sats=STARLINK-11185 [DTC],STARLINK-30234,STARLINK-4465,STARLINK-11653 [DTC],STARL…"
      ]
     },
     "metadata": {},
     "output_type": "display_data"
    },
    {
     "data": {
      "application/vnd.jupyter.widget-view+json": {
       "model_id": "e0d9c982d60b47c9bae9f8ad0a49ed35",
       "version_major": 2,
       "version_minor": 0
      },
      "text/plain": [
       "BestResp | t#305/400 | k=1 | sats=STARLINK-11450 [DTC]:   0%|          | 0/200 [00:00<?, ?it/s]"
      ]
     },
     "metadata": {},
     "output_type": "display_data"
    },
    {
     "data": {
      "application/vnd.jupyter.widget-view+json": {
       "model_id": "7bb697eb402345768b1c80a643e66c86",
       "version_major": 2,
       "version_minor": 0
      },
      "text/plain": [
       "BestResp | t#305/400 | k=3 | sats=STARLINK-11450 [DTC],STARLINK-33959,STARLINK-4361:   0%|          | 0/200 [0…"
      ]
     },
     "metadata": {},
     "output_type": "display_data"
    },
    {
     "data": {
      "application/vnd.jupyter.widget-view+json": {
       "model_id": "c6296df724c24e8fb86675542271f06f",
       "version_major": 2,
       "version_minor": 0
      },
      "text/plain": [
       "BestResp | t#305/400 | k=5 | sats=STARLINK-11450 [DTC],STARLINK-33959,STARLINK-4361,STARLINK-32922,STARLINK-32…"
      ]
     },
     "metadata": {},
     "output_type": "display_data"
    },
    {
     "data": {
      "application/vnd.jupyter.widget-view+json": {
       "model_id": "1a00fc2f0c84466d99a3026d82ee76ee",
       "version_major": 2,
       "version_minor": 0
      },
      "text/plain": [
       "BestResp | t#306/400 | k=1 | sats=STARLINK-11612 [DTC]:   0%|          | 0/200 [00:00<?, ?it/s]"
      ]
     },
     "metadata": {},
     "output_type": "display_data"
    },
    {
     "data": {
      "application/vnd.jupyter.widget-view+json": {
       "model_id": "e97ee359562347ae8aa866048c8463b9",
       "version_major": 2,
       "version_minor": 0
      },
      "text/plain": [
       "BestResp | t#306/400 | k=3 | sats=STARLINK-11612 [DTC],STARLINK-31850,STARLINK-31191:   0%|          | 0/200 […"
      ]
     },
     "metadata": {},
     "output_type": "display_data"
    },
    {
     "data": {
      "application/vnd.jupyter.widget-view+json": {
       "model_id": "107df04713d54fe4bf27c7d7031f5fef",
       "version_major": 2,
       "version_minor": 0
      },
      "text/plain": [
       "BestResp | t#306/400 | k=5 | sats=STARLINK-11612 [DTC],STARLINK-31850,STARLINK-31191,STARLINK-32487,STARLINK-3…"
      ]
     },
     "metadata": {},
     "output_type": "display_data"
    },
    {
     "data": {
      "application/vnd.jupyter.widget-view+json": {
       "model_id": "67c7cc31320c4a8cb704e190765d7cda",
       "version_major": 2,
       "version_minor": 0
      },
      "text/plain": [
       "BestResp | t#307/400 | k=1 | sats=STARLINK-34147:   0%|          | 0/200 [00:00<?, ?it/s]"
      ]
     },
     "metadata": {},
     "output_type": "display_data"
    },
    {
     "data": {
      "application/vnd.jupyter.widget-view+json": {
       "model_id": "b7dee88394f248c7bd061af99b050a81",
       "version_major": 2,
       "version_minor": 0
      },
      "text/plain": [
       "BestResp | t#307/400 | k=3 | sats=STARLINK-34147,STARLINK-34058,STARLINK-32891:   0%|          | 0/200 [00:00<…"
      ]
     },
     "metadata": {},
     "output_type": "display_data"
    },
    {
     "data": {
      "application/vnd.jupyter.widget-view+json": {
       "model_id": "636c454e30d74951a9e32b13ad1ff76a",
       "version_major": 2,
       "version_minor": 0
      },
      "text/plain": [
       "BestResp | t#307/400 | k=5 | sats=STARLINK-34147,STARLINK-34058,STARLINK-32891,STARLINK-30856,STARLINK-32724: …"
      ]
     },
     "metadata": {},
     "output_type": "display_data"
    },
    {
     "data": {
      "application/vnd.jupyter.widget-view+json": {
       "model_id": "42c57ef3b39e47ef948b20a920cf7d6c",
       "version_major": 2,
       "version_minor": 0
      },
      "text/plain": [
       "BestResp | t#308/400 | k=1 | sats=STARLINK-11623 [DTC]:   0%|          | 0/200 [00:00<?, ?it/s]"
      ]
     },
     "metadata": {},
     "output_type": "display_data"
    },
    {
     "data": {
      "application/vnd.jupyter.widget-view+json": {
       "model_id": "7bf23c658f8a49e5a1904baa7e9972db",
       "version_major": 2,
       "version_minor": 0
      },
      "text/plain": [
       "BestResp | t#308/400 | k=3 | sats=STARLINK-11623 [DTC],STARLINK-31951,STARLINK-34128:   0%|          | 0/200 […"
      ]
     },
     "metadata": {},
     "output_type": "display_data"
    },
    {
     "data": {
      "application/vnd.jupyter.widget-view+json": {
       "model_id": "bb958d6009214b2c99e266aa17cdd66f",
       "version_major": 2,
       "version_minor": 0
      },
      "text/plain": [
       "BestResp | t#308/400 | k=5 | sats=STARLINK-11623 [DTC],STARLINK-31951,STARLINK-34128,STARLINK-5564,STARLINK-32…"
      ]
     },
     "metadata": {},
     "output_type": "display_data"
    },
    {
     "data": {
      "application/vnd.jupyter.widget-view+json": {
       "model_id": "1e4b9a5b37154c0685d403117ed6e18e",
       "version_major": 2,
       "version_minor": 0
      },
      "text/plain": [
       "BestResp | t#309/400 | k=1 | sats=STARLINK-32874:   0%|          | 0/200 [00:00<?, ?it/s]"
      ]
     },
     "metadata": {},
     "output_type": "display_data"
    },
    {
     "data": {
      "application/vnd.jupyter.widget-view+json": {
       "model_id": "3249f4c45b6f4b13852e0cb4a8f01518",
       "version_major": 2,
       "version_minor": 0
      },
      "text/plain": [
       "BestResp | t#309/400 | k=3 | sats=STARLINK-32874,STARLINK-31951,STARLINK-34115:   0%|          | 0/200 [00:00<…"
      ]
     },
     "metadata": {},
     "output_type": "display_data"
    },
    {
     "data": {
      "application/vnd.jupyter.widget-view+json": {
       "model_id": "d279fb1ef8b54bae874fcd5d96556d6c",
       "version_major": 2,
       "version_minor": 0
      },
      "text/plain": [
       "BestResp | t#309/400 | k=5 | sats=STARLINK-32874,STARLINK-31951,STARLINK-34115,STARLINK-34070,STARLINK-5564:  …"
      ]
     },
     "metadata": {},
     "output_type": "display_data"
    },
    {
     "data": {
      "application/vnd.jupyter.widget-view+json": {
       "model_id": "042a71dac2e047829c2378672e9fe5ed",
       "version_major": 2,
       "version_minor": 0
      },
      "text/plain": [
       "BestResp | t#310/400 | k=1 | sats=STARLINK-34125:   0%|          | 0/200 [00:00<?, ?it/s]"
      ]
     },
     "metadata": {},
     "output_type": "display_data"
    },
    {
     "data": {
      "application/vnd.jupyter.widget-view+json": {
       "model_id": "086cc3098cf1427db6f9f55b144fb6fa",
       "version_major": 2,
       "version_minor": 0
      },
      "text/plain": [
       "BestResp | t#310/400 | k=3 | sats=STARLINK-34125,STARLINK-34060,STARLINK-32826:   0%|          | 0/200 [00:00<…"
      ]
     },
     "metadata": {},
     "output_type": "display_data"
    },
    {
     "data": {
      "application/vnd.jupyter.widget-view+json": {
       "model_id": "277dc4a34b3f48faad185bf449c97d57",
       "version_major": 2,
       "version_minor": 0
      },
      "text/plain": [
       "BestResp | t#310/400 | k=5 | sats=STARLINK-34125,STARLINK-34060,STARLINK-32826,STARLINK-32697,STARLINK-31818: …"
      ]
     },
     "metadata": {},
     "output_type": "display_data"
    },
    {
     "data": {
      "application/vnd.jupyter.widget-view+json": {
       "model_id": "4adf8bc578f34994842bbbb67321c003",
       "version_major": 2,
       "version_minor": 0
      },
      "text/plain": [
       "BestResp | t#311/400 | k=1 | sats=STARLINK-11184 [DTC]:   0%|          | 0/200 [00:00<?, ?it/s]"
      ]
     },
     "metadata": {},
     "output_type": "display_data"
    },
    {
     "data": {
      "application/vnd.jupyter.widget-view+json": {
       "model_id": "724a367c8eba4373b87532bfb9aff6d1",
       "version_major": 2,
       "version_minor": 0
      },
      "text/plain": [
       "BestResp | t#311/400 | k=3 | sats=STARLINK-11184 [DTC],STARLINK-1767,STARLINK-34045:   0%|          | 0/200 [0…"
      ]
     },
     "metadata": {},
     "output_type": "display_data"
    },
    {
     "data": {
      "application/vnd.jupyter.widget-view+json": {
       "model_id": "05403cff021b460481e8ba9ee2f079ec",
       "version_major": 2,
       "version_minor": 0
      },
      "text/plain": [
       "BestResp | t#311/400 | k=5 | sats=STARLINK-11184 [DTC],STARLINK-1767,STARLINK-34045,STARLINK-31942,STARLINK-63…"
      ]
     },
     "metadata": {},
     "output_type": "display_data"
    },
    {
     "data": {
      "application/vnd.jupyter.widget-view+json": {
       "model_id": "22f27ba3593c4dbe9576fbd85152f9d6",
       "version_major": 2,
       "version_minor": 0
      },
      "text/plain": [
       "BestResp | t#312/400 | k=1 | sats=STARLINK-34038:   0%|          | 0/200 [00:00<?, ?it/s]"
      ]
     },
     "metadata": {},
     "output_type": "display_data"
    },
    {
     "data": {
      "application/vnd.jupyter.widget-view+json": {
       "model_id": "173c194b1f224067b4d3d0b79d9ac5ae",
       "version_major": 2,
       "version_minor": 0
      },
      "text/plain": [
       "BestResp | t#312/400 | k=3 | sats=STARLINK-34038,STARLINK-1767,STARLINK-34045:   0%|          | 0/200 [00:00<?…"
      ]
     },
     "metadata": {},
     "output_type": "display_data"
    },
    {
     "data": {
      "application/vnd.jupyter.widget-view+json": {
       "model_id": "ff671b54a5994539bfeb3b8a37e119f6",
       "version_major": 2,
       "version_minor": 0
      },
      "text/plain": [
       "BestResp | t#312/400 | k=5 | sats=STARLINK-34038,STARLINK-1767,STARLINK-34045,STARLINK-1770,STARLINK-30819:   …"
      ]
     },
     "metadata": {},
     "output_type": "display_data"
    },
    {
     "data": {
      "application/vnd.jupyter.widget-view+json": {
       "model_id": "ed82e999e13244a7a13a88c5f251f4f0",
       "version_major": 2,
       "version_minor": 0
      },
      "text/plain": [
       "BestResp | t#313/400 | k=1 | sats=STARLINK-11620 [DTC]:   0%|          | 0/200 [00:00<?, ?it/s]"
      ]
     },
     "metadata": {},
     "output_type": "display_data"
    },
    {
     "data": {
      "application/vnd.jupyter.widget-view+json": {
       "model_id": "ba67a1c8b4564e84b4742f5a0475ee6e",
       "version_major": 2,
       "version_minor": 0
      },
      "text/plain": [
       "BestResp | t#313/400 | k=3 | sats=STARLINK-11620 [DTC],STARLINK-34038,STARLINK-1770:   0%|          | 0/200 [0…"
      ]
     },
     "metadata": {},
     "output_type": "display_data"
    },
    {
     "data": {
      "application/vnd.jupyter.widget-view+json": {
       "model_id": "af3ccf950f414201a03cf312ac2a4885",
       "version_major": 2,
       "version_minor": 0
      },
      "text/plain": [
       "BestResp | t#313/400 | k=5 | sats=STARLINK-11620 [DTC],STARLINK-34038,STARLINK-1770,STARLINK-32610,STARLINK-34…"
      ]
     },
     "metadata": {},
     "output_type": "display_data"
    },
    {
     "data": {
      "application/vnd.jupyter.widget-view+json": {
       "model_id": "0bcdaca3de2b4a24a14cd418fb81c32c",
       "version_major": 2,
       "version_minor": 0
      },
      "text/plain": [
       "BestResp | t#314/400 | k=1 | sats=STARLINK-31841:   0%|          | 0/200 [00:00<?, ?it/s]"
      ]
     },
     "metadata": {},
     "output_type": "display_data"
    },
    {
     "data": {
      "application/vnd.jupyter.widget-view+json": {
       "model_id": "387caa094a0a4f8fa60b66f5444057ae",
       "version_major": 2,
       "version_minor": 0
      },
      "text/plain": [
       "BestResp | t#314/400 | k=3 | sats=STARLINK-31841,STARLINK-32610,STARLINK-1770:   0%|          | 0/200 [00:00<?…"
      ]
     },
     "metadata": {},
     "output_type": "display_data"
    },
    {
     "data": {
      "application/vnd.jupyter.widget-view+json": {
       "model_id": "5319b10a9f35454e83b419d90d914c63",
       "version_major": 2,
       "version_minor": 0
      },
      "text/plain": [
       "BestResp | t#314/400 | k=5 | sats=STARLINK-31841,STARLINK-32610,STARLINK-1770,STARLINK-31166,STARLINK-32518:  …"
      ]
     },
     "metadata": {},
     "output_type": "display_data"
    },
    {
     "data": {
      "application/vnd.jupyter.widget-view+json": {
       "model_id": "d46a34e7b76c48dc91baad9837666b93",
       "version_major": 2,
       "version_minor": 0
      },
      "text/plain": [
       "BestResp | t#315/400 | k=1 | sats=STARLINK-11529 [DTC]:   0%|          | 0/200 [00:00<?, ?it/s]"
      ]
     },
     "metadata": {},
     "output_type": "display_data"
    },
    {
     "data": {
      "application/vnd.jupyter.widget-view+json": {
       "model_id": "f8ad694fc41045c38184d71352799a7f",
       "version_major": 2,
       "version_minor": 0
      },
      "text/plain": [
       "BestResp | t#315/400 | k=3 | sats=STARLINK-11529 [DTC],STARLINK-34135,STARLINK-34252:   0%|          | 0/200 […"
      ]
     },
     "metadata": {},
     "output_type": "display_data"
    },
    {
     "data": {
      "application/vnd.jupyter.widget-view+json": {
       "model_id": "61f2012ba27c47eeb7839c8652bbce4c",
       "version_major": 2,
       "version_minor": 0
      },
      "text/plain": [
       "BestResp | t#315/400 | k=5 | sats=STARLINK-11529 [DTC],STARLINK-34135,STARLINK-34252,STARLINK-32836,STARLINK-3…"
      ]
     },
     "metadata": {},
     "output_type": "display_data"
    },
    {
     "data": {
      "application/vnd.jupyter.widget-view+json": {
       "model_id": "4ca9c5ccc23c4b9aa469e341e5c305e4",
       "version_major": 2,
       "version_minor": 0
      },
      "text/plain": [
       "BestResp | t#316/400 | k=1 | sats=STARLINK-11529 [DTC]:   0%|          | 0/200 [00:00<?, ?it/s]"
      ]
     },
     "metadata": {},
     "output_type": "display_data"
    },
    {
     "data": {
      "application/vnd.jupyter.widget-view+json": {
       "model_id": "e3ee2b6420a547fcb5946ad289ad6e19",
       "version_major": 2,
       "version_minor": 0
      },
      "text/plain": [
       "BestResp | t#316/400 | k=3 | sats=STARLINK-11529 [DTC],STARLINK-11373 [DTC],STARLINK-34086:   0%|          | 0…"
      ]
     },
     "metadata": {},
     "output_type": "display_data"
    },
    {
     "data": {
      "application/vnd.jupyter.widget-view+json": {
       "model_id": "5d18623040c84778803bf29747ba6337",
       "version_major": 2,
       "version_minor": 0
      },
      "text/plain": [
       "BestResp | t#316/400 | k=5 | sats=STARLINK-11529 [DTC],STARLINK-11373 [DTC],STARLINK-34086,STARLINK-32702,STAR…"
      ]
     },
     "metadata": {},
     "output_type": "display_data"
    },
    {
     "data": {
      "application/vnd.jupyter.widget-view+json": {
       "model_id": "e29b605dcbab47278b0074cd3937278f",
       "version_major": 2,
       "version_minor": 0
      },
      "text/plain": [
       "BestResp | t#317/400 | k=1 | sats=STARLINK-11711 [DTC]:   0%|          | 0/200 [00:00<?, ?it/s]"
      ]
     },
     "metadata": {},
     "output_type": "display_data"
    },
    {
     "data": {
      "application/vnd.jupyter.widget-view+json": {
       "model_id": "65faa266a9574b6eaf6089c70c91251e",
       "version_major": 2,
       "version_minor": 0
      },
      "text/plain": [
       "BestResp | t#317/400 | k=3 | sats=STARLINK-11711 [DTC],STARLINK-33642,STARLINK-34031:   0%|          | 0/200 […"
      ]
     },
     "metadata": {},
     "output_type": "display_data"
    },
    {
     "data": {
      "application/vnd.jupyter.widget-view+json": {
       "model_id": "e605e52af6954016aaad37ce0017ad55",
       "version_major": 2,
       "version_minor": 0
      },
      "text/plain": [
       "BestResp | t#317/400 | k=5 | sats=STARLINK-11711 [DTC],STARLINK-33642,STARLINK-34031,STARLINK-31924,STARLINK-3…"
      ]
     },
     "metadata": {},
     "output_type": "display_data"
    },
    {
     "data": {
      "application/vnd.jupyter.widget-view+json": {
       "model_id": "1115c2a3e6f34442b9467e0b8302e59a",
       "version_major": 2,
       "version_minor": 0
      },
      "text/plain": [
       "BestResp | t#318/400 | k=1 | sats=STARLINK-11711 [DTC]:   0%|          | 0/200 [00:00<?, ?it/s]"
      ]
     },
     "metadata": {},
     "output_type": "display_data"
    },
    {
     "data": {
      "application/vnd.jupyter.widget-view+json": {
       "model_id": "e52c1782632c4179a64e58cc2a519c68",
       "version_major": 2,
       "version_minor": 0
      },
      "text/plain": [
       "BestResp | t#318/400 | k=3 | sats=STARLINK-11711 [DTC],STARLINK-11186 [DTC],STARLINK-34031:   0%|          | 0…"
      ]
     },
     "metadata": {},
     "output_type": "display_data"
    },
    {
     "data": {
      "application/vnd.jupyter.widget-view+json": {
       "model_id": "e6a353f8c02a4eb4881db646c4c34b47",
       "version_major": 2,
       "version_minor": 0
      },
      "text/plain": [
       "BestResp | t#318/400 | k=5 | sats=STARLINK-11711 [DTC],STARLINK-11186 [DTC],STARLINK-34031,STARLINK-33642,STAR…"
      ]
     },
     "metadata": {},
     "output_type": "display_data"
    },
    {
     "data": {
      "application/vnd.jupyter.widget-view+json": {
       "model_id": "3193072dae2f431f8d0b3e97cf85956a",
       "version_major": 2,
       "version_minor": 0
      },
      "text/plain": [
       "BestResp | t#319/400 | k=1 | sats=STARLINK-32894:   0%|          | 0/200 [00:00<?, ?it/s]"
      ]
     },
     "metadata": {},
     "output_type": "display_data"
    },
    {
     "data": {
      "application/vnd.jupyter.widget-view+json": {
       "model_id": "f2b450577a27404d855b2bf7017c1d85",
       "version_major": 2,
       "version_minor": 0
      },
      "text/plain": [
       "BestResp | t#319/400 | k=3 | sats=STARLINK-32894,STARLINK-33889,STARLINK-34103:   0%|          | 0/200 [00:00<…"
      ]
     },
     "metadata": {},
     "output_type": "display_data"
    },
    {
     "data": {
      "application/vnd.jupyter.widget-view+json": {
       "model_id": "a96de4ebe9b8487bb51f1191b7a9fcc3",
       "version_major": 2,
       "version_minor": 0
      },
      "text/plain": [
       "BestResp | t#319/400 | k=5 | sats=STARLINK-32894,STARLINK-33889,STARLINK-34103,STARLINK-1986,STARLINK-1605:   …"
      ]
     },
     "metadata": {},
     "output_type": "display_data"
    },
    {
     "data": {
      "application/vnd.jupyter.widget-view+json": {
       "model_id": "fe6eab8e528644c69dc9e1f0c8d0d3aa",
       "version_major": 2,
       "version_minor": 0
      },
      "text/plain": [
       "BestResp | t#320/400 | k=1 | sats=STARLINK-11621 [DTC]:   0%|          | 0/200 [00:00<?, ?it/s]"
      ]
     },
     "metadata": {},
     "output_type": "display_data"
    },
    {
     "data": {
      "application/vnd.jupyter.widget-view+json": {
       "model_id": "ada1a8ac6271433e98bbd577de35a71f",
       "version_major": 2,
       "version_minor": 0
      },
      "text/plain": [
       "BestResp | t#320/400 | k=3 | sats=STARLINK-11621 [DTC],STARLINK-1986,STARLINK-34260:   0%|          | 0/200 [0…"
      ]
     },
     "metadata": {},
     "output_type": "display_data"
    },
    {
     "data": {
      "application/vnd.jupyter.widget-view+json": {
       "model_id": "c36c11d53f1144ed8bdb56d74692f17f",
       "version_major": 2,
       "version_minor": 0
      },
      "text/plain": [
       "BestResp | t#320/400 | k=5 | sats=STARLINK-11621 [DTC],STARLINK-1986,STARLINK-34260,STARLINK-32887,STARLINK-52…"
      ]
     },
     "metadata": {},
     "output_type": "display_data"
    },
    {
     "name": "stdout",
     "output_type": "stream",
     "text": [
      "[flush] wrote up to step 320\n"
     ]
    },
    {
     "data": {
      "application/vnd.jupyter.widget-view+json": {
       "model_id": "4b15feededb9481fa03aad40acbce1b9",
       "version_major": 2,
       "version_minor": 0
      },
      "text/plain": [
       "BestResp | t#321/400 | k=1 | sats=STARLINK-11374 [DTC]:   0%|          | 0/200 [00:00<?, ?it/s]"
      ]
     },
     "metadata": {},
     "output_type": "display_data"
    },
    {
     "data": {
      "application/vnd.jupyter.widget-view+json": {
       "model_id": "4d9e941573ed4824ae0f066de5c859bc",
       "version_major": 2,
       "version_minor": 0
      },
      "text/plain": [
       "BestResp | t#321/400 | k=3 | sats=STARLINK-11374 [DTC],STARLINK-11513 [DTC],STARLINK-35211:   0%|          | 0…"
      ]
     },
     "metadata": {},
     "output_type": "display_data"
    },
    {
     "data": {
      "application/vnd.jupyter.widget-view+json": {
       "model_id": "a9f6093c061f43bcb99fee17cc372e3e",
       "version_major": 2,
       "version_minor": 0
      },
      "text/plain": [
       "BestResp | t#321/400 | k=5 | sats=STARLINK-11374 [DTC],STARLINK-11513 [DTC],STARLINK-35211,STARLINK-31472,STAR…"
      ]
     },
     "metadata": {},
     "output_type": "display_data"
    },
    {
     "data": {
      "application/vnd.jupyter.widget-view+json": {
       "model_id": "340701af38dd4297a3a0134e6478772c",
       "version_major": 2,
       "version_minor": 0
      },
      "text/plain": [
       "BestResp | t#322/400 | k=1 | sats=STARLINK-11528 [DTC]:   0%|          | 0/200 [00:00<?, ?it/s]"
      ]
     },
     "metadata": {},
     "output_type": "display_data"
    },
    {
     "data": {
      "application/vnd.jupyter.widget-view+json": {
       "model_id": "fd5f9100f9334ccdb00d3a82c564e750",
       "version_major": 2,
       "version_minor": 0
      },
      "text/plain": [
       "BestResp | t#322/400 | k=3 | sats=STARLINK-11528 [DTC],STARLINK-1398,STARLINK-11513 [DTC]:   0%|          | 0/…"
      ]
     },
     "metadata": {},
     "output_type": "display_data"
    },
    {
     "data": {
      "application/vnd.jupyter.widget-view+json": {
       "model_id": "0e5927f7e94c4b34a8eaa9b17c70e7f1",
       "version_major": 2,
       "version_minor": 0
      },
      "text/plain": [
       "BestResp | t#322/400 | k=5 | sats=STARLINK-11528 [DTC],STARLINK-1398,STARLINK-11513 [DTC],STARLINK-34066,STARL…"
      ]
     },
     "metadata": {},
     "output_type": "display_data"
    },
    {
     "data": {
      "application/vnd.jupyter.widget-view+json": {
       "model_id": "4caa8510562b4b5681a38a8cd61bbc6d",
       "version_major": 2,
       "version_minor": 0
      },
      "text/plain": [
       "BestResp | t#323/400 | k=1 | sats=STARLINK-34107:   0%|          | 0/200 [00:00<?, ?it/s]"
      ]
     },
     "metadata": {},
     "output_type": "display_data"
    },
    {
     "data": {
      "application/vnd.jupyter.widget-view+json": {
       "model_id": "b3c9f60c1a514db8b31888ea3d5475f3",
       "version_major": 2,
       "version_minor": 0
      },
      "text/plain": [
       "BestResp | t#323/400 | k=3 | sats=STARLINK-34107,STARLINK-31550,STARLINK-34704:   0%|          | 0/200 [00:00<…"
      ]
     },
     "metadata": {},
     "output_type": "display_data"
    },
    {
     "data": {
      "application/vnd.jupyter.widget-view+json": {
       "model_id": "64ee44198eb1415797811c2cebd0b01a",
       "version_major": 2,
       "version_minor": 0
      },
      "text/plain": [
       "BestResp | t#323/400 | k=5 | sats=STARLINK-34107,STARLINK-31550,STARLINK-34704,STARLINK-30209,STARLINK-34292: …"
      ]
     },
     "metadata": {},
     "output_type": "display_data"
    },
    {
     "data": {
      "application/vnd.jupyter.widget-view+json": {
       "model_id": "460ca4fe0b834be7abdc25fe3bdd41ed",
       "version_major": 2,
       "version_minor": 0
      },
      "text/plain": [
       "BestResp | t#324/400 | k=1 | sats=STARLINK-34513:   0%|          | 0/200 [00:00<?, ?it/s]"
      ]
     },
     "metadata": {},
     "output_type": "display_data"
    },
    {
     "data": {
      "application/vnd.jupyter.widget-view+json": {
       "model_id": "66b8f77cb4b94a3da737c290a60cca4c",
       "version_major": 2,
       "version_minor": 0
      },
      "text/plain": [
       "BestResp | t#324/400 | k=3 | sats=STARLINK-34513,STARLINK-31676,STARLINK-31407:   0%|          | 0/200 [00:00<…"
      ]
     },
     "metadata": {},
     "output_type": "display_data"
    },
    {
     "data": {
      "application/vnd.jupyter.widget-view+json": {
       "model_id": "be4cc567ba0944f28fa41ba6a83f6df8",
       "version_major": 2,
       "version_minor": 0
      },
      "text/plain": [
       "BestResp | t#324/400 | k=5 | sats=STARLINK-34513,STARLINK-31676,STARLINK-31407,STARLINK-32865,STARLINK-3579:  …"
      ]
     },
     "metadata": {},
     "output_type": "display_data"
    },
    {
     "data": {
      "application/vnd.jupyter.widget-view+json": {
       "model_id": "3594012805764985955dfbf0efd63766",
       "version_major": 2,
       "version_minor": 0
      },
      "text/plain": [
       "BestResp | t#325/400 | k=1 | sats=STARLINK-11745 [DTC]:   0%|          | 0/200 [00:00<?, ?it/s]"
      ]
     },
     "metadata": {},
     "output_type": "display_data"
    },
    {
     "data": {
      "application/vnd.jupyter.widget-view+json": {
       "model_id": "462e68036ae04196bf060ce0d1ca4eba",
       "version_major": 2,
       "version_minor": 0
      },
      "text/plain": [
       "BestResp | t#325/400 | k=3 | sats=STARLINK-11745 [DTC],STARLINK-34983,STARLINK-34271:   0%|          | 0/200 […"
      ]
     },
     "metadata": {},
     "output_type": "display_data"
    },
    {
     "data": {
      "application/vnd.jupyter.widget-view+json": {
       "model_id": "42eb9ac08399495fb9de3994a9fdf498",
       "version_major": 2,
       "version_minor": 0
      },
      "text/plain": [
       "BestResp | t#325/400 | k=5 | sats=STARLINK-11745 [DTC],STARLINK-34983,STARLINK-34271,STARLINK-31611,STARLINK-3…"
      ]
     },
     "metadata": {},
     "output_type": "display_data"
    },
    {
     "data": {
      "application/vnd.jupyter.widget-view+json": {
       "model_id": "45e6171bb8c14404981e132aa42d8e29",
       "version_major": 2,
       "version_minor": 0
      },
      "text/plain": [
       "BestResp | t#326/400 | k=1 | sats=STARLINK-34504:   0%|          | 0/200 [00:00<?, ?it/s]"
      ]
     },
     "metadata": {},
     "output_type": "display_data"
    },
    {
     "data": {
      "application/vnd.jupyter.widget-view+json": {
       "model_id": "b9af5c70a5a148b39db78424e464888f",
       "version_major": 2,
       "version_minor": 0
      },
      "text/plain": [
       "BestResp | t#326/400 | k=3 | sats=STARLINK-34504,STARLINK-11741 [DTC],STARLINK-11117 [DTC]:   0%|          | 0…"
      ]
     },
     "metadata": {},
     "output_type": "display_data"
    },
    {
     "data": {
      "application/vnd.jupyter.widget-view+json": {
       "model_id": "68180db7749d404a93cdf8f6cdfb9d3a",
       "version_major": 2,
       "version_minor": 0
      },
      "text/plain": [
       "BestResp | t#326/400 | k=5 | sats=STARLINK-34504,STARLINK-11741 [DTC],STARLINK-11117 [DTC],STARLINK-34519,STAR…"
      ]
     },
     "metadata": {},
     "output_type": "display_data"
    },
    {
     "data": {
      "application/vnd.jupyter.widget-view+json": {
       "model_id": "6cf6496f286b450281f5d4064c5eed82",
       "version_major": 2,
       "version_minor": 0
      },
      "text/plain": [
       "BestResp | t#327/400 | k=1 | sats=STARLINK-32488:   0%|          | 0/200 [00:00<?, ?it/s]"
      ]
     },
     "metadata": {},
     "output_type": "display_data"
    },
    {
     "data": {
      "application/vnd.jupyter.widget-view+json": {
       "model_id": "8cd3cb83058f447486a7967ee82e6ff6",
       "version_major": 2,
       "version_minor": 0
      },
      "text/plain": [
       "BestResp | t#327/400 | k=3 | sats=STARLINK-32488,STARLINK-32601,STARLINK-31573:   0%|          | 0/200 [00:00<…"
      ]
     },
     "metadata": {},
     "output_type": "display_data"
    },
    {
     "data": {
      "application/vnd.jupyter.widget-view+json": {
       "model_id": "c8c66cf767264805bedca89b4381d0b0",
       "version_major": 2,
       "version_minor": 0
      },
      "text/plain": [
       "BestResp | t#327/400 | k=5 | sats=STARLINK-32488,STARLINK-32601,STARLINK-31573,STARLINK-34083,STARLINK-35221: …"
      ]
     },
     "metadata": {},
     "output_type": "display_data"
    },
    {
     "data": {
      "application/vnd.jupyter.widget-view+json": {
       "model_id": "a452b8f9a31843cc8b4a3023c52451ba",
       "version_major": 2,
       "version_minor": 0
      },
      "text/plain": [
       "BestResp | t#328/400 | k=1 | sats=STARLINK-11540 [DTC]:   0%|          | 0/200 [00:00<?, ?it/s]"
      ]
     },
     "metadata": {},
     "output_type": "display_data"
    },
    {
     "data": {
      "application/vnd.jupyter.widget-view+json": {
       "model_id": "0c9d3474acd9416292783904a1bcc2ae",
       "version_major": 2,
       "version_minor": 0
      },
      "text/plain": [
       "BestResp | t#328/400 | k=3 | sats=STARLINK-11540 [DTC],STARLINK-34830,STARLINK-31726:   0%|          | 0/200 […"
      ]
     },
     "metadata": {},
     "output_type": "display_data"
    },
    {
     "data": {
      "application/vnd.jupyter.widget-view+json": {
       "model_id": "1a97c00518774fe985a4ca770121d568",
       "version_major": 2,
       "version_minor": 0
      },
      "text/plain": [
       "BestResp | t#328/400 | k=5 | sats=STARLINK-11540 [DTC],STARLINK-34830,STARLINK-31726,STARLINK-31791,STARLINK-3…"
      ]
     },
     "metadata": {},
     "output_type": "display_data"
    },
    {
     "data": {
      "application/vnd.jupyter.widget-view+json": {
       "model_id": "2f42cbed2ed34cbb86ff05580e8cd994",
       "version_major": 2,
       "version_minor": 0
      },
      "text/plain": [
       "BestResp | t#329/400 | k=1 | sats=STARLINK-11540 [DTC]:   0%|          | 0/200 [00:00<?, ?it/s]"
      ]
     },
     "metadata": {},
     "output_type": "display_data"
    },
    {
     "data": {
      "application/vnd.jupyter.widget-view+json": {
       "model_id": "faca028439384c6ba1d542bc96a342b2",
       "version_major": 2,
       "version_minor": 0
      },
      "text/plain": [
       "BestResp | t#329/400 | k=3 | sats=STARLINK-11540 [DTC],STARLINK-34830,STARLINK-34123:   0%|          | 0/200 […"
      ]
     },
     "metadata": {},
     "output_type": "display_data"
    },
    {
     "data": {
      "application/vnd.jupyter.widget-view+json": {
       "model_id": "e7970607ed6d4e8a9e896c3bdecf4f36",
       "version_major": 2,
       "version_minor": 0
      },
      "text/plain": [
       "BestResp | t#329/400 | k=5 | sats=STARLINK-11540 [DTC],STARLINK-34830,STARLINK-34123,STARLINK-31726,STARLINK-3…"
      ]
     },
     "metadata": {},
     "output_type": "display_data"
    },
    {
     "data": {
      "application/vnd.jupyter.widget-view+json": {
       "model_id": "6048bb7ad69c472dadac47d60e81b12a",
       "version_major": 2,
       "version_minor": 0
      },
      "text/plain": [
       "BestResp | t#330/400 | k=1 | sats=STARLINK-11540 [DTC]:   0%|          | 0/200 [00:00<?, ?it/s]"
      ]
     },
     "metadata": {},
     "output_type": "display_data"
    },
    {
     "data": {
      "application/vnd.jupyter.widget-view+json": {
       "model_id": "17761fc78bce474f911f744bd2caf2bc",
       "version_major": 2,
       "version_minor": 0
      },
      "text/plain": [
       "BestResp | t#330/400 | k=3 | sats=STARLINK-11540 [DTC],STARLINK-34123,STARLINK-34830:   0%|          | 0/200 […"
      ]
     },
     "metadata": {},
     "output_type": "display_data"
    },
    {
     "data": {
      "application/vnd.jupyter.widget-view+json": {
       "model_id": "999e64edc652480dbb1dada1a4f7cb50",
       "version_major": 2,
       "version_minor": 0
      },
      "text/plain": [
       "BestResp | t#330/400 | k=5 | sats=STARLINK-11540 [DTC],STARLINK-34123,STARLINK-34830,STARLINK-31726,STARLINK-3…"
      ]
     },
     "metadata": {},
     "output_type": "display_data"
    },
    {
     "data": {
      "application/vnd.jupyter.widget-view+json": {
       "model_id": "7530bbf20ad64344953e209ef7c0903d",
       "version_major": 2,
       "version_minor": 0
      },
      "text/plain": [
       "BestResp | t#331/400 | k=1 | sats=STARLINK-11732 [DTC]:   0%|          | 0/200 [00:00<?, ?it/s]"
      ]
     },
     "metadata": {},
     "output_type": "display_data"
    },
    {
     "data": {
      "application/vnd.jupyter.widget-view+json": {
       "model_id": "d330c1aaaa3244a4b2965fe47f20ce05",
       "version_major": 2,
       "version_minor": 0
      },
      "text/plain": [
       "BestResp | t#331/400 | k=3 | sats=STARLINK-11732 [DTC],STARLINK-11540 [DTC],STARLINK-34123:   0%|          | 0…"
      ]
     },
     "metadata": {},
     "output_type": "display_data"
    },
    {
     "data": {
      "application/vnd.jupyter.widget-view+json": {
       "model_id": "a3afe6e736f9439688ab24f6f3370341",
       "version_major": 2,
       "version_minor": 0
      },
      "text/plain": [
       "BestResp | t#331/400 | k=5 | sats=STARLINK-11732 [DTC],STARLINK-11540 [DTC],STARLINK-34123,STARLINK-34930,STAR…"
      ]
     },
     "metadata": {},
     "output_type": "display_data"
    },
    {
     "data": {
      "application/vnd.jupyter.widget-view+json": {
       "model_id": "35bc4ad977b34a5db0e319898124ed21",
       "version_major": 2,
       "version_minor": 0
      },
      "text/plain": [
       "BestResp | t#332/400 | k=1 | sats=STARLINK-31060:   0%|          | 0/200 [00:00<?, ?it/s]"
      ]
     },
     "metadata": {},
     "output_type": "display_data"
    },
    {
     "data": {
      "application/vnd.jupyter.widget-view+json": {
       "model_id": "49ebe8f501114269845c3c8755367fe9",
       "version_major": 2,
       "version_minor": 0
      },
      "text/plain": [
       "BestResp | t#332/400 | k=3 | sats=STARLINK-31060,STARLINK-35146,STARLINK-11294 [DTC]:   0%|          | 0/200 […"
      ]
     },
     "metadata": {},
     "output_type": "display_data"
    },
    {
     "data": {
      "application/vnd.jupyter.widget-view+json": {
       "model_id": "3938e93010f34e4397093f1062b77b46",
       "version_major": 2,
       "version_minor": 0
      },
      "text/plain": [
       "BestResp | t#332/400 | k=5 | sats=STARLINK-31060,STARLINK-35146,STARLINK-11294 [DTC],STARLINK-35022,STARLINK-3…"
      ]
     },
     "metadata": {},
     "output_type": "display_data"
    },
    {
     "data": {
      "application/vnd.jupyter.widget-view+json": {
       "model_id": "de1a8f9500ec4806b99caf17b96fcec1",
       "version_major": 2,
       "version_minor": 0
      },
      "text/plain": [
       "BestResp | t#333/400 | k=1 | sats=STARLINK-11397 [DTC]:   0%|          | 0/200 [00:00<?, ?it/s]"
      ]
     },
     "metadata": {},
     "output_type": "display_data"
    },
    {
     "data": {
      "application/vnd.jupyter.widget-view+json": {
       "model_id": "a11811e6d5ca43e7a95c8a00bb555b50",
       "version_major": 2,
       "version_minor": 0
      },
      "text/plain": [
       "BestResp | t#333/400 | k=3 | sats=STARLINK-11397 [DTC],STARLINK-11230 [DTC],STARLINK-31438:   0%|          | 0…"
      ]
     },
     "metadata": {},
     "output_type": "display_data"
    },
    {
     "data": {
      "application/vnd.jupyter.widget-view+json": {
       "model_id": "e6e3339214b54c369118b61ee47613c9",
       "version_major": 2,
       "version_minor": 0
      },
      "text/plain": [
       "BestResp | t#333/400 | k=5 | sats=STARLINK-11397 [DTC],STARLINK-11230 [DTC],STARLINK-31438,STARLINK-32549,STAR…"
      ]
     },
     "metadata": {},
     "output_type": "display_data"
    },
    {
     "data": {
      "application/vnd.jupyter.widget-view+json": {
       "model_id": "d5f165295f024d6aadb27b945c575372",
       "version_major": 2,
       "version_minor": 0
      },
      "text/plain": [
       "BestResp | t#334/400 | k=1 | sats=STARLINK-1643:   0%|          | 0/200 [00:00<?, ?it/s]"
      ]
     },
     "metadata": {},
     "output_type": "display_data"
    },
    {
     "data": {
      "application/vnd.jupyter.widget-view+json": {
       "model_id": "26665171bc5246efbf00f584f1e2ad59",
       "version_major": 2,
       "version_minor": 0
      },
      "text/plain": [
       "BestResp | t#334/400 | k=3 | sats=STARLINK-1643,STARLINK-31408,STARLINK-32490:   0%|          | 0/200 [00:00<?…"
      ]
     },
     "metadata": {},
     "output_type": "display_data"
    },
    {
     "data": {
      "application/vnd.jupyter.widget-view+json": {
       "model_id": "8175007e8cc24c9782718815c2ffec03",
       "version_major": 2,
       "version_minor": 0
      },
      "text/plain": [
       "BestResp | t#334/400 | k=5 | sats=STARLINK-1643,STARLINK-31408,STARLINK-32490,STARLINK-31797,STARLINK-33910:  …"
      ]
     },
     "metadata": {},
     "output_type": "display_data"
    },
    {
     "data": {
      "application/vnd.jupyter.widget-view+json": {
       "model_id": "ca12f953c835495d98d8b25e140b41a2",
       "version_major": 2,
       "version_minor": 0
      },
      "text/plain": [
       "BestResp | t#335/400 | k=1 | sats=STARLINK-11733 [DTC]:   0%|          | 0/200 [00:00<?, ?it/s]"
      ]
     },
     "metadata": {},
     "output_type": "display_data"
    },
    {
     "data": {
      "application/vnd.jupyter.widget-view+json": {
       "model_id": "9fd2729f19c94cb29f47fda461ae8acf",
       "version_major": 2,
       "version_minor": 0
      },
      "text/plain": [
       "BestResp | t#335/400 | k=3 | sats=STARLINK-11733 [DTC],STARLINK-31787,STARLINK-35204:   0%|          | 0/200 […"
      ]
     },
     "metadata": {},
     "output_type": "display_data"
    },
    {
     "data": {
      "application/vnd.jupyter.widget-view+json": {
       "model_id": "0f7f5f5b24c542cfa7481fcc4d410b83",
       "version_major": 2,
       "version_minor": 0
      },
      "text/plain": [
       "BestResp | t#335/400 | k=5 | sats=STARLINK-11733 [DTC],STARLINK-31787,STARLINK-35204,STARLINK-31707,STARLINK-3…"
      ]
     },
     "metadata": {},
     "output_type": "display_data"
    },
    {
     "data": {
      "application/vnd.jupyter.widget-view+json": {
       "model_id": "df63f667d1324a898902944c52c74b7a",
       "version_major": 2,
       "version_minor": 0
      },
      "text/plain": [
       "BestResp | t#336/400 | k=1 | sats=STARLINK-2595:   0%|          | 0/200 [00:00<?, ?it/s]"
      ]
     },
     "metadata": {},
     "output_type": "display_data"
    },
    {
     "data": {
      "application/vnd.jupyter.widget-view+json": {
       "model_id": "d831935a49204a188b6cd4c5386626ea",
       "version_major": 2,
       "version_minor": 0
      },
      "text/plain": [
       "BestResp | t#336/400 | k=3 | sats=STARLINK-2595,STARLINK-1964,STARLINK-31473:   0%|          | 0/200 [00:00<?,…"
      ]
     },
     "metadata": {},
     "output_type": "display_data"
    },
    {
     "data": {
      "application/vnd.jupyter.widget-view+json": {
       "model_id": "2aa139d6e99a4748a49a2ef84a73ad51",
       "version_major": 2,
       "version_minor": 0
      },
      "text/plain": [
       "BestResp | t#336/400 | k=5 | sats=STARLINK-2595,STARLINK-1964,STARLINK-31473,STARLINK-32703,STARLINK-32463:   …"
      ]
     },
     "metadata": {},
     "output_type": "display_data"
    },
    {
     "data": {
      "application/vnd.jupyter.widget-view+json": {
       "model_id": "af60a588fe5a4812afdd9f210b716ad4",
       "version_major": 2,
       "version_minor": 0
      },
      "text/plain": [
       "BestResp | t#337/400 | k=1 | sats=STARLINK-11416 [DTC]:   0%|          | 0/200 [00:00<?, ?it/s]"
      ]
     },
     "metadata": {},
     "output_type": "display_data"
    },
    {
     "data": {
      "application/vnd.jupyter.widget-view+json": {
       "model_id": "9238919f42734a8681c412f901de2562",
       "version_major": 2,
       "version_minor": 0
      },
      "text/plain": [
       "BestResp | t#337/400 | k=3 | sats=STARLINK-11416 [DTC],STARLINK-33586,STARLINK-32463:   0%|          | 0/200 […"
      ]
     },
     "metadata": {},
     "output_type": "display_data"
    },
    {
     "data": {
      "application/vnd.jupyter.widget-view+json": {
       "model_id": "963456df548e4e9994f16cde1f69fbf1",
       "version_major": 2,
       "version_minor": 0
      },
      "text/plain": [
       "BestResp | t#337/400 | k=5 | sats=STARLINK-11416 [DTC],STARLINK-33586,STARLINK-32463,STARLINK-3503,STARLINK-32…"
      ]
     },
     "metadata": {},
     "output_type": "display_data"
    },
    {
     "data": {
      "application/vnd.jupyter.widget-view+json": {
       "model_id": "04ae1cd69ce54204b2922786af1c7723",
       "version_major": 2,
       "version_minor": 0
      },
      "text/plain": [
       "BestResp | t#338/400 | k=1 | sats=STARLINK-11131 [DTC]:   0%|          | 0/200 [00:00<?, ?it/s]"
      ]
     },
     "metadata": {},
     "output_type": "display_data"
    },
    {
     "data": {
      "application/vnd.jupyter.widget-view+json": {
       "model_id": "089da75d71d04b7692e0e6c0bdd4b3dd",
       "version_major": 2,
       "version_minor": 0
      },
      "text/plain": [
       "BestResp | t#338/400 | k=3 | sats=STARLINK-11131 [DTC],STARLINK-34636,STARLINK-31493:   0%|          | 0/200 […"
      ]
     },
     "metadata": {},
     "output_type": "display_data"
    },
    {
     "data": {
      "application/vnd.jupyter.widget-view+json": {
       "model_id": "cbe9ea280e1745f18862f5ab0883cb9a",
       "version_major": 2,
       "version_minor": 0
      },
      "text/plain": [
       "BestResp | t#338/400 | k=5 | sats=STARLINK-11131 [DTC],STARLINK-34636,STARLINK-31493,STARLINK-34585,STARLINK-3…"
      ]
     },
     "metadata": {},
     "output_type": "display_data"
    },
    {
     "data": {
      "application/vnd.jupyter.widget-view+json": {
       "model_id": "ed4a15d6840245149e6032d80af8158d",
       "version_major": 2,
       "version_minor": 0
      },
      "text/plain": [
       "BestResp | t#339/400 | k=1 | sats=STARLINK-11743 [DTC]:   0%|          | 0/200 [00:00<?, ?it/s]"
      ]
     },
     "metadata": {},
     "output_type": "display_data"
    },
    {
     "data": {
      "application/vnd.jupyter.widget-view+json": {
       "model_id": "7bd755b081214a71aaf2c7ca8334dd2a",
       "version_major": 2,
       "version_minor": 0
      },
      "text/plain": [
       "BestResp | t#339/400 | k=3 | sats=STARLINK-11743 [DTC],STARLINK-11680 [DTC],STARLINK-11525 [DTC]:   0%|       …"
      ]
     },
     "metadata": {},
     "output_type": "display_data"
    },
    {
     "data": {
      "application/vnd.jupyter.widget-view+json": {
       "model_id": "850246a3c3704323bcadaab483376531",
       "version_major": 2,
       "version_minor": 0
      },
      "text/plain": [
       "BestResp | t#339/400 | k=5 | sats=STARLINK-11743 [DTC],STARLINK-11680 [DTC],STARLINK-11525 [DTC],STARLINK-3469…"
      ]
     },
     "metadata": {},
     "output_type": "display_data"
    },
    {
     "data": {
      "application/vnd.jupyter.widget-view+json": {
       "model_id": "9e4c5e918c074a2d9970ddd0b8d65232",
       "version_major": 2,
       "version_minor": 0
      },
      "text/plain": [
       "BestResp | t#340/400 | k=1 | sats=STARLINK-11614 [DTC]:   0%|          | 0/200 [00:00<?, ?it/s]"
      ]
     },
     "metadata": {},
     "output_type": "display_data"
    },
    {
     "data": {
      "application/vnd.jupyter.widget-view+json": {
       "model_id": "649699c02517495cb5ee6ab4f9521394",
       "version_major": 2,
       "version_minor": 0
      },
      "text/plain": [
       "BestResp | t#340/400 | k=3 | sats=STARLINK-11614 [DTC],STARLINK-30527,STARLINK-32899:   0%|          | 0/200 […"
      ]
     },
     "metadata": {},
     "output_type": "display_data"
    },
    {
     "data": {
      "application/vnd.jupyter.widget-view+json": {
       "model_id": "07983410c2414ac09be7966c7a8659fa",
       "version_major": 2,
       "version_minor": 0
      },
      "text/plain": [
       "BestResp | t#340/400 | k=5 | sats=STARLINK-11614 [DTC],STARLINK-30527,STARLINK-32899,STARLINK-32339,STARLINK-3…"
      ]
     },
     "metadata": {},
     "output_type": "display_data"
    },
    {
     "name": "stdout",
     "output_type": "stream",
     "text": [
      "[flush] wrote up to step 340\n"
     ]
    },
    {
     "data": {
      "application/vnd.jupyter.widget-view+json": {
       "model_id": "3e1d5fe4d7bb46e78f70a0513fd3c313",
       "version_major": 2,
       "version_minor": 0
      },
      "text/plain": [
       "BestResp | t#341/400 | k=1 | sats=STARLINK-32899:   0%|          | 0/200 [00:00<?, ?it/s]"
      ]
     },
     "metadata": {},
     "output_type": "display_data"
    },
    {
     "data": {
      "application/vnd.jupyter.widget-view+json": {
       "model_id": "d6111598c55d4e3eabc2b8dad2f75b85",
       "version_major": 2,
       "version_minor": 0
      },
      "text/plain": [
       "BestResp | t#341/400 | k=3 | sats=STARLINK-32899,STARLINK-30527,STARLINK-32339:   0%|          | 0/200 [00:00<…"
      ]
     },
     "metadata": {},
     "output_type": "display_data"
    },
    {
     "data": {
      "application/vnd.jupyter.widget-view+json": {
       "model_id": "2b43c1d004254e5883e206f74d591ca9",
       "version_major": 2,
       "version_minor": 0
      },
      "text/plain": [
       "BestResp | t#341/400 | k=5 | sats=STARLINK-32899,STARLINK-30527,STARLINK-32339,STARLINK-6226,STARLINK-32468:  …"
      ]
     },
     "metadata": {},
     "output_type": "display_data"
    },
    {
     "data": {
      "application/vnd.jupyter.widget-view+json": {
       "model_id": "18f062be1c8d4c6a9009c38dcaa75d89",
       "version_major": 2,
       "version_minor": 0
      },
      "text/plain": [
       "BestResp | t#342/400 | k=1 | sats=STARLINK-11132 [DTC]:   0%|          | 0/200 [00:00<?, ?it/s]"
      ]
     },
     "metadata": {},
     "output_type": "display_data"
    },
    {
     "data": {
      "application/vnd.jupyter.widget-view+json": {
       "model_id": "40a784b66958471e965928043754fc72",
       "version_major": 2,
       "version_minor": 0
      },
      "text/plain": [
       "BestResp | t#342/400 | k=3 | sats=STARLINK-11132 [DTC],STARLINK-11653 [DTC],STARLINK-34248:   0%|          | 0…"
      ]
     },
     "metadata": {},
     "output_type": "display_data"
    },
    {
     "data": {
      "application/vnd.jupyter.widget-view+json": {
       "model_id": "2441ef2afee041d6ab2070faeea5a3cb",
       "version_major": 2,
       "version_minor": 0
      },
      "text/plain": [
       "BestResp | t#342/400 | k=5 | sats=STARLINK-11132 [DTC],STARLINK-11653 [DTC],STARLINK-34248,STARLINK-31277,STAR…"
      ]
     },
     "metadata": {},
     "output_type": "display_data"
    },
    {
     "data": {
      "application/vnd.jupyter.widget-view+json": {
       "model_id": "4f97b0055cc34b0bb99cbbfc38b111f8",
       "version_major": 2,
       "version_minor": 0
      },
      "text/plain": [
       "BestResp | t#343/400 | k=1 | sats=STARLINK-11538 [DTC]:   0%|          | 0/200 [00:00<?, ?it/s]"
      ]
     },
     "metadata": {},
     "output_type": "display_data"
    },
    {
     "data": {
      "application/vnd.jupyter.widget-view+json": {
       "model_id": "3322deae1996463ab25004bf7ac00e71",
       "version_major": 2,
       "version_minor": 0
      },
      "text/plain": [
       "BestResp | t#343/400 | k=3 | sats=STARLINK-11538 [DTC],STARLINK-31268,STARLINK-32763:   0%|          | 0/200 […"
      ]
     },
     "metadata": {},
     "output_type": "display_data"
    },
    {
     "data": {
      "application/vnd.jupyter.widget-view+json": {
       "model_id": "74fc976bca0f452b80ec40442fe50241",
       "version_major": 2,
       "version_minor": 0
      },
      "text/plain": [
       "BestResp | t#343/400 | k=5 | sats=STARLINK-11538 [DTC],STARLINK-31268,STARLINK-32763,STARLINK-31640,STARLINK-3…"
      ]
     },
     "metadata": {},
     "output_type": "display_data"
    },
    {
     "data": {
      "application/vnd.jupyter.widget-view+json": {
       "model_id": "b9df83ff6fff48689be389f75916b96f",
       "version_major": 2,
       "version_minor": 0
      },
      "text/plain": [
       "BestResp | t#344/400 | k=1 | sats=STARLINK-11538 [DTC]:   0%|          | 0/200 [00:00<?, ?it/s]"
      ]
     },
     "metadata": {},
     "output_type": "display_data"
    },
    {
     "data": {
      "application/vnd.jupyter.widget-view+json": {
       "model_id": "ae912ca238b145f9b591f91a0b111bfe",
       "version_major": 2,
       "version_minor": 0
      },
      "text/plain": [
       "BestResp | t#344/400 | k=3 | sats=STARLINK-11538 [DTC],STARLINK-11738 [DTC],STARLINK-5356:   0%|          | 0/…"
      ]
     },
     "metadata": {},
     "output_type": "display_data"
    },
    {
     "data": {
      "application/vnd.jupyter.widget-view+json": {
       "model_id": "fd7e8dc0860245ee86af38b109bc31e3",
       "version_major": 2,
       "version_minor": 0
      },
      "text/plain": [
       "BestResp | t#344/400 | k=5 | sats=STARLINK-11538 [DTC],STARLINK-11738 [DTC],STARLINK-5356,STARLINK-32774,STARL…"
      ]
     },
     "metadata": {},
     "output_type": "display_data"
    },
    {
     "data": {
      "application/vnd.jupyter.widget-view+json": {
       "model_id": "0b44ea1d9e36438aaa05e9ed2b2aea5c",
       "version_major": 2,
       "version_minor": 0
      },
      "text/plain": [
       "BestResp | t#345/400 | k=1 | sats=STARLINK-11667 [DTC]:   0%|          | 0/200 [00:00<?, ?it/s]"
      ]
     },
     "metadata": {},
     "output_type": "display_data"
    },
    {
     "data": {
      "application/vnd.jupyter.widget-view+json": {
       "model_id": "9ee11f084d6f46f28e83be6ccec747f7",
       "version_major": 2,
       "version_minor": 0
      },
      "text/plain": [
       "BestResp | t#345/400 | k=3 | sats=STARLINK-11667 [DTC],STARLINK-31402,STARLINK-31632:   0%|          | 0/200 […"
      ]
     },
     "metadata": {},
     "output_type": "display_data"
    },
    {
     "data": {
      "application/vnd.jupyter.widget-view+json": {
       "model_id": "a8382b6429fe4e19ae0b0cdc3b438900",
       "version_major": 2,
       "version_minor": 0
      },
      "text/plain": [
       "BestResp | t#345/400 | k=5 | sats=STARLINK-11667 [DTC],STARLINK-31402,STARLINK-31632,STARLINK-32437,STARLINK-3…"
      ]
     },
     "metadata": {},
     "output_type": "display_data"
    },
    {
     "data": {
      "application/vnd.jupyter.widget-view+json": {
       "model_id": "958a5c1b71ff4b4a813b85e485837c13",
       "version_major": 2,
       "version_minor": 0
      },
      "text/plain": [
       "BestResp | t#346/400 | k=1 | sats=STARLINK-11161 [DTC]:   0%|          | 0/200 [00:00<?, ?it/s]"
      ]
     },
     "metadata": {},
     "output_type": "display_data"
    },
    {
     "data": {
      "application/vnd.jupyter.widget-view+json": {
       "model_id": "223cb2cfa09544d7bdf26b87b6f4c2b6",
       "version_major": 2,
       "version_minor": 0
      },
      "text/plain": [
       "BestResp | t#346/400 | k=3 | sats=STARLINK-11161 [DTC],STARLINK-11451 [DTC],STARLINK-31494:   0%|          | 0…"
      ]
     },
     "metadata": {},
     "output_type": "display_data"
    },
    {
     "data": {
      "application/vnd.jupyter.widget-view+json": {
       "model_id": "5b18d0075bc3472997dac47d9bf44c6c",
       "version_major": 2,
       "version_minor": 0
      },
      "text/plain": [
       "BestResp | t#346/400 | k=5 | sats=STARLINK-11161 [DTC],STARLINK-11451 [DTC],STARLINK-31494,STARLINK-33548,STAR…"
      ]
     },
     "metadata": {},
     "output_type": "display_data"
    },
    {
     "data": {
      "application/vnd.jupyter.widget-view+json": {
       "model_id": "297dc23e0339418ea7a16359762a9d8d",
       "version_major": 2,
       "version_minor": 0
      },
      "text/plain": [
       "BestResp | t#347/400 | k=1 | sats=STARLINK-11162 [DTC]:   0%|          | 0/200 [00:00<?, ?it/s]"
      ]
     },
     "metadata": {},
     "output_type": "display_data"
    },
    {
     "data": {
      "application/vnd.jupyter.widget-view+json": {
       "model_id": "68b7ef321e3e4021a74da2a8effe80f4",
       "version_major": 2,
       "version_minor": 0
      },
      "text/plain": [
       "BestResp | t#347/400 | k=3 | sats=STARLINK-11162 [DTC],STARLINK-11536 [DTC],STARLINK-32364:   0%|          | 0…"
      ]
     },
     "metadata": {},
     "output_type": "display_data"
    },
    {
     "data": {
      "application/vnd.jupyter.widget-view+json": {
       "model_id": "db9ce1fb3ec446c3ac6f9e91e44d5b9b",
       "version_major": 2,
       "version_minor": 0
      },
      "text/plain": [
       "BestResp | t#347/400 | k=5 | sats=STARLINK-11162 [DTC],STARLINK-11536 [DTC],STARLINK-32364,STARLINK-30913,STAR…"
      ]
     },
     "metadata": {},
     "output_type": "display_data"
    },
    {
     "data": {
      "application/vnd.jupyter.widget-view+json": {
       "model_id": "ad2e0057e01c49f5a33583af9027d028",
       "version_major": 2,
       "version_minor": 0
      },
      "text/plain": [
       "BestResp | t#348/400 | k=1 | sats=STARLINK-11730 [DTC]:   0%|          | 0/200 [00:00<?, ?it/s]"
      ]
     },
     "metadata": {},
     "output_type": "display_data"
    },
    {
     "data": {
      "application/vnd.jupyter.widget-view+json": {
       "model_id": "87e529805fed416290de27d7e2a81de5",
       "version_major": 2,
       "version_minor": 0
      },
      "text/plain": [
       "BestResp | t#348/400 | k=3 | sats=STARLINK-11730 [DTC],STARLINK-11669 [DTC],STARLINK-30938:   0%|          | 0…"
      ]
     },
     "metadata": {},
     "output_type": "display_data"
    },
    {
     "data": {
      "application/vnd.jupyter.widget-view+json": {
       "model_id": "af8e7361fcb646d189ce8db941d9cc3f",
       "version_major": 2,
       "version_minor": 0
      },
      "text/plain": [
       "BestResp | t#348/400 | k=5 | sats=STARLINK-11730 [DTC],STARLINK-11669 [DTC],STARLINK-30938,STARLINK-32529,STAR…"
      ]
     },
     "metadata": {},
     "output_type": "display_data"
    },
    {
     "data": {
      "application/vnd.jupyter.widget-view+json": {
       "model_id": "01a980ac4cc349dbb5750a8a3a916ec8",
       "version_major": 2,
       "version_minor": 0
      },
      "text/plain": [
       "BestResp | t#349/400 | k=1 | sats=STARLINK-11695 [DTC]:   0%|          | 0/200 [00:00<?, ?it/s]"
      ]
     },
     "metadata": {},
     "output_type": "display_data"
    },
    {
     "data": {
      "application/vnd.jupyter.widget-view+json": {
       "model_id": "49bbc2852b914a77baca28d16374a0b6",
       "version_major": 2,
       "version_minor": 0
      },
      "text/plain": [
       "BestResp | t#349/400 | k=3 | sats=STARLINK-11695 [DTC],STARLINK-11103 [DTC],STARLINK-1629:   0%|          | 0/…"
      ]
     },
     "metadata": {},
     "output_type": "display_data"
    },
    {
     "data": {
      "application/vnd.jupyter.widget-view+json": {
       "model_id": "40770656a50746c489ffd57a749bbb08",
       "version_major": 2,
       "version_minor": 0
      },
      "text/plain": [
       "BestResp | t#349/400 | k=5 | sats=STARLINK-11695 [DTC],STARLINK-11103 [DTC],STARLINK-1629,STARLINK-30938,STARL…"
      ]
     },
     "metadata": {},
     "output_type": "display_data"
    },
    {
     "data": {
      "application/vnd.jupyter.widget-view+json": {
       "model_id": "8b57357ce4444fa2abe3f6fb6d23e2bb",
       "version_major": 2,
       "version_minor": 0
      },
      "text/plain": [
       "BestResp | t#350/400 | k=1 | sats=STARLINK-11119 [DTC]:   0%|          | 0/200 [00:00<?, ?it/s]"
      ]
     },
     "metadata": {},
     "output_type": "display_data"
    },
    {
     "data": {
      "application/vnd.jupyter.widget-view+json": {
       "model_id": "413795f4e4574f13b046929d55dbc942",
       "version_major": 2,
       "version_minor": 0
      },
      "text/plain": [
       "BestResp | t#350/400 | k=3 | sats=STARLINK-11119 [DTC],STARLINK-3183,STARLINK-33628:   0%|          | 0/200 [0…"
      ]
     },
     "metadata": {},
     "output_type": "display_data"
    },
    {
     "data": {
      "application/vnd.jupyter.widget-view+json": {
       "model_id": "d20e92d804a5403192a8eea6750f4a29",
       "version_major": 2,
       "version_minor": 0
      },
      "text/plain": [
       "BestResp | t#350/400 | k=5 | sats=STARLINK-11119 [DTC],STARLINK-3183,STARLINK-33628,STARLINK-31823,STARLINK-31…"
      ]
     },
     "metadata": {},
     "output_type": "display_data"
    },
    {
     "data": {
      "application/vnd.jupyter.widget-view+json": {
       "model_id": "88b31d014d9e4627ba822373b0a313b2",
       "version_major": 2,
       "version_minor": 0
      },
      "text/plain": [
       "BestResp | t#351/400 | k=1 | sats=STARLINK-33667:   0%|          | 0/200 [00:00<?, ?it/s]"
      ]
     },
     "metadata": {},
     "output_type": "display_data"
    },
    {
     "data": {
      "application/vnd.jupyter.widget-view+json": {
       "model_id": "8fcba62a5605455d8193b23062d01e71",
       "version_major": 2,
       "version_minor": 0
      },
      "text/plain": [
       "BestResp | t#351/400 | k=3 | sats=STARLINK-33667,STARLINK-11084 [DTC],STARLINK-11719 [DTC]:   0%|          | 0…"
      ]
     },
     "metadata": {},
     "output_type": "display_data"
    },
    {
     "data": {
      "application/vnd.jupyter.widget-view+json": {
       "model_id": "0e55245bbe6f409390283b2c6d31fb62",
       "version_major": 2,
       "version_minor": 0
      },
      "text/plain": [
       "BestResp | t#351/400 | k=5 | sats=STARLINK-33667,STARLINK-11084 [DTC],STARLINK-11719 [DTC],STARLINK-32403,STAR…"
      ]
     },
     "metadata": {},
     "output_type": "display_data"
    },
    {
     "data": {
      "application/vnd.jupyter.widget-view+json": {
       "model_id": "ef6aaae3dde74d74b71c986c0a16bb1f",
       "version_major": 2,
       "version_minor": 0
      },
      "text/plain": [
       "BestResp | t#352/400 | k=1 | sats=STARLINK-11641 [DTC]:   0%|          | 0/200 [00:00<?, ?it/s]"
      ]
     },
     "metadata": {},
     "output_type": "display_data"
    },
    {
     "data": {
      "application/vnd.jupyter.widget-view+json": {
       "model_id": "50b7304f786b477aa36002bf365f9b68",
       "version_major": 2,
       "version_minor": 0
      },
      "text/plain": [
       "BestResp | t#352/400 | k=3 | sats=STARLINK-11641 [DTC],STARLINK-11700 [DTC],STARLINK-31916:   0%|          | 0…"
      ]
     },
     "metadata": {},
     "output_type": "display_data"
    },
    {
     "data": {
      "application/vnd.jupyter.widget-view+json": {
       "model_id": "fbf8080125404f3f9cab44f6a5022e9c",
       "version_major": 2,
       "version_minor": 0
      },
      "text/plain": [
       "BestResp | t#352/400 | k=5 | sats=STARLINK-11641 [DTC],STARLINK-11700 [DTC],STARLINK-31916,STARLINK-32765,STAR…"
      ]
     },
     "metadata": {},
     "output_type": "display_data"
    },
    {
     "data": {
      "application/vnd.jupyter.widget-view+json": {
       "model_id": "441ae817e8ca4f328ec42dc538efbde4",
       "version_major": 2,
       "version_minor": 0
      },
      "text/plain": [
       "BestResp | t#353/400 | k=1 | sats=STARLINK-11157 [DTC]:   0%|          | 0/200 [00:00<?, ?it/s]"
      ]
     },
     "metadata": {},
     "output_type": "display_data"
    },
    {
     "data": {
      "application/vnd.jupyter.widget-view+json": {
       "model_id": "3e52f73c21e74888b63f278ef7797a19",
       "version_major": 2,
       "version_minor": 0
      },
      "text/plain": [
       "BestResp | t#353/400 | k=3 | sats=STARLINK-11157 [DTC],STARLINK-32464,STARLINK-3928:   0%|          | 0/200 [0…"
      ]
     },
     "metadata": {},
     "output_type": "display_data"
    },
    {
     "data": {
      "application/vnd.jupyter.widget-view+json": {
       "model_id": "2e3a0bdd41cc4630a16f8e6c3db242df",
       "version_major": 2,
       "version_minor": 0
      },
      "text/plain": [
       "BestResp | t#353/400 | k=5 | sats=STARLINK-11157 [DTC],STARLINK-32464,STARLINK-3928,STARLINK-34850,STARLINK-42…"
      ]
     },
     "metadata": {},
     "output_type": "display_data"
    },
    {
     "data": {
      "application/vnd.jupyter.widget-view+json": {
       "model_id": "b4d20662968148848aeaa4aa1c909364",
       "version_major": 2,
       "version_minor": 0
      },
      "text/plain": [
       "BestResp | t#354/400 | k=1 | sats=STARLINK-32398:   0%|          | 0/200 [00:00<?, ?it/s]"
      ]
     },
     "metadata": {},
     "output_type": "display_data"
    },
    {
     "data": {
      "application/vnd.jupyter.widget-view+json": {
       "model_id": "637c304296a747e29e6668b557954b5c",
       "version_major": 2,
       "version_minor": 0
      },
      "text/plain": [
       "BestResp | t#354/400 | k=3 | sats=STARLINK-32398,STARLINK-31907,STARLINK-30424:   0%|          | 0/200 [00:00<…"
      ]
     },
     "metadata": {},
     "output_type": "display_data"
    },
    {
     "data": {
      "application/vnd.jupyter.widget-view+json": {
       "model_id": "d05d63456f644e73b21e6ebd8f130a2d",
       "version_major": 2,
       "version_minor": 0
      },
      "text/plain": [
       "BestResp | t#354/400 | k=5 | sats=STARLINK-32398,STARLINK-31907,STARLINK-30424,STARLINK-32331,STARLINK-30359: …"
      ]
     },
     "metadata": {},
     "output_type": "display_data"
    },
    {
     "data": {
      "application/vnd.jupyter.widget-view+json": {
       "model_id": "08da9e065e2547b68901ccd39cb92c30",
       "version_major": 2,
       "version_minor": 0
      },
      "text/plain": [
       "BestResp | t#355/400 | k=1 | sats=STARLINK-11741 [DTC]:   0%|          | 0/200 [00:00<?, ?it/s]"
      ]
     },
     "metadata": {},
     "output_type": "display_data"
    },
    {
     "data": {
      "application/vnd.jupyter.widget-view+json": {
       "model_id": "ce37011ec63946e78eb9a99461b62140",
       "version_major": 2,
       "version_minor": 0
      },
      "text/plain": [
       "BestResp | t#355/400 | k=3 | sats=STARLINK-11741 [DTC],STARLINK-11697 [DTC],STARLINK-32421:   0%|          | 0…"
      ]
     },
     "metadata": {},
     "output_type": "display_data"
    },
    {
     "data": {
      "application/vnd.jupyter.widget-view+json": {
       "model_id": "800335edf0c64a56bce22495dd5076b9",
       "version_major": 2,
       "version_minor": 0
      },
      "text/plain": [
       "BestResp | t#355/400 | k=5 | sats=STARLINK-11741 [DTC],STARLINK-11697 [DTC],STARLINK-32421,STARLINK-6338,STARL…"
      ]
     },
     "metadata": {},
     "output_type": "display_data"
    },
    {
     "data": {
      "application/vnd.jupyter.widget-view+json": {
       "model_id": "fac122904a694a53b34d5781c57099bf",
       "version_major": 2,
       "version_minor": 0
      },
      "text/plain": [
       "BestResp | t#356/400 | k=1 | sats=STARLINK-11741 [DTC]:   0%|          | 0/200 [00:00<?, ?it/s]"
      ]
     },
     "metadata": {},
     "output_type": "display_data"
    },
    {
     "data": {
      "application/vnd.jupyter.widget-view+json": {
       "model_id": "cbce982850314c059064b5c3655a1931",
       "version_major": 2,
       "version_minor": 0
      },
      "text/plain": [
       "BestResp | t#356/400 | k=3 | sats=STARLINK-11741 [DTC],STARLINK-32421,STARLINK-33903:   0%|          | 0/200 […"
      ]
     },
     "metadata": {},
     "output_type": "display_data"
    },
    {
     "data": {
      "application/vnd.jupyter.widget-view+json": {
       "model_id": "752da0d93f2d4182997b2fa4c0e46291",
       "version_major": 2,
       "version_minor": 0
      },
      "text/plain": [
       "BestResp | t#356/400 | k=5 | sats=STARLINK-11741 [DTC],STARLINK-32421,STARLINK-33903,STARLINK-30385,STARLINK-3…"
      ]
     },
     "metadata": {},
     "output_type": "display_data"
    },
    {
     "data": {
      "application/vnd.jupyter.widget-view+json": {
       "model_id": "5f8bf012a3214d27a41796df139624cf",
       "version_major": 2,
       "version_minor": 0
      },
      "text/plain": [
       "BestResp | t#357/400 | k=1 | sats=STARLINK-31299:   0%|          | 0/200 [00:00<?, ?it/s]"
      ]
     },
     "metadata": {},
     "output_type": "display_data"
    },
    {
     "data": {
      "application/vnd.jupyter.widget-view+json": {
       "model_id": "04691b30a308446086103358006196f7",
       "version_major": 2,
       "version_minor": 0
      },
      "text/plain": [
       "BestResp | t#357/400 | k=3 | sats=STARLINK-31299,STARLINK-34157,STARLINK-4718:   0%|          | 0/200 [00:00<?…"
      ]
     },
     "metadata": {},
     "output_type": "display_data"
    },
    {
     "data": {
      "application/vnd.jupyter.widget-view+json": {
       "model_id": "9f409b1626de44dba450b191321694f0",
       "version_major": 2,
       "version_minor": 0
      },
      "text/plain": [
       "BestResp | t#357/400 | k=5 | sats=STARLINK-31299,STARLINK-34157,STARLINK-4718,STARLINK-34028,STARLINK-30915:  …"
      ]
     },
     "metadata": {},
     "output_type": "display_data"
    },
    {
     "data": {
      "application/vnd.jupyter.widget-view+json": {
       "model_id": "0b8da0f88a2a4455bc35fdd04b7fd628",
       "version_major": 2,
       "version_minor": 0
      },
      "text/plain": [
       "BestResp | t#358/400 | k=1 | sats=STARLINK-31141:   0%|          | 0/200 [00:00<?, ?it/s]"
      ]
     },
     "metadata": {},
     "output_type": "display_data"
    },
    {
     "data": {
      "application/vnd.jupyter.widget-view+json": {
       "model_id": "939ceeabbd934f0284c9fb12f3338ad1",
       "version_major": 2,
       "version_minor": 0
      },
      "text/plain": [
       "BestResp | t#358/400 | k=3 | sats=STARLINK-31141,STARLINK-5410,STARLINK-3679:   0%|          | 0/200 [00:00<?,…"
      ]
     },
     "metadata": {},
     "output_type": "display_data"
    },
    {
     "data": {
      "application/vnd.jupyter.widget-view+json": {
       "model_id": "4f5360221a97440783ccfb369fff7f9b",
       "version_major": 2,
       "version_minor": 0
      },
      "text/plain": [
       "BestResp | t#358/400 | k=5 | sats=STARLINK-31141,STARLINK-5410,STARLINK-3679,STARLINK-32390,STARLINK-34114:   …"
      ]
     },
     "metadata": {},
     "output_type": "display_data"
    },
    {
     "data": {
      "application/vnd.jupyter.widget-view+json": {
       "model_id": "09b5aeed30fd44ffb5df620cc773d3fe",
       "version_major": 2,
       "version_minor": 0
      },
      "text/plain": [
       "BestResp | t#359/400 | k=1 | sats=STARLINK-11615 [DTC]:   0%|          | 0/200 [00:00<?, ?it/s]"
      ]
     },
     "metadata": {},
     "output_type": "display_data"
    },
    {
     "data": {
      "application/vnd.jupyter.widget-view+json": {
       "model_id": "ba2c3d5a6d754c0b974ce4f326988fdd",
       "version_major": 2,
       "version_minor": 0
      },
      "text/plain": [
       "BestResp | t#359/400 | k=3 | sats=STARLINK-11615 [DTC],STARLINK-11444 [DTC],STARLINK-33564:   0%|          | 0…"
      ]
     },
     "metadata": {},
     "output_type": "display_data"
    },
    {
     "data": {
      "application/vnd.jupyter.widget-view+json": {
       "model_id": "7b72aa1fa720447ebd773838fed29c00",
       "version_major": 2,
       "version_minor": 0
      },
      "text/plain": [
       "BestResp | t#359/400 | k=5 | sats=STARLINK-11615 [DTC],STARLINK-11444 [DTC],STARLINK-33564,STARLINK-32514,STAR…"
      ]
     },
     "metadata": {},
     "output_type": "display_data"
    },
    {
     "data": {
      "application/vnd.jupyter.widget-view+json": {
       "model_id": "00ad79be1f7842b9af28621fe539c46a",
       "version_major": 2,
       "version_minor": 0
      },
      "text/plain": [
       "BestResp | t#360/400 | k=1 | sats=STARLINK-11325 [DTC]:   0%|          | 0/200 [00:00<?, ?it/s]"
      ]
     },
     "metadata": {},
     "output_type": "display_data"
    },
    {
     "data": {
      "application/vnd.jupyter.widget-view+json": {
       "model_id": "23e52b7532704bfc9a0c7bbe8bdc242a",
       "version_major": 2,
       "version_minor": 0
      },
      "text/plain": [
       "BestResp | t#360/400 | k=3 | sats=STARLINK-11325 [DTC],STARLINK-31143,STARLINK-31814:   0%|          | 0/200 […"
      ]
     },
     "metadata": {},
     "output_type": "display_data"
    },
    {
     "data": {
      "application/vnd.jupyter.widget-view+json": {
       "model_id": "1823c9af51fa4d8999523c5adf1256c1",
       "version_major": 2,
       "version_minor": 0
      },
      "text/plain": [
       "BestResp | t#360/400 | k=5 | sats=STARLINK-11325 [DTC],STARLINK-31143,STARLINK-31814,STARLINK-33781,STARLINK-2…"
      ]
     },
     "metadata": {},
     "output_type": "display_data"
    },
    {
     "name": "stdout",
     "output_type": "stream",
     "text": [
      "[flush] wrote up to step 360\n"
     ]
    },
    {
     "data": {
      "application/vnd.jupyter.widget-view+json": {
       "model_id": "3747cbd695834333a8822b24291ae3df",
       "version_major": 2,
       "version_minor": 0
      },
      "text/plain": [
       "BestResp | t#361/400 | k=1 | sats=STARLINK-34043:   0%|          | 0/200 [00:00<?, ?it/s]"
      ]
     },
     "metadata": {},
     "output_type": "display_data"
    },
    {
     "data": {
      "application/vnd.jupyter.widget-view+json": {
       "model_id": "86515048f2124b6da4c9ac9d9128e472",
       "version_major": 2,
       "version_minor": 0
      },
      "text/plain": [
       "BestResp | t#361/400 | k=3 | sats=STARLINK-34043,STARLINK-34048,STARLINK-32497:   0%|          | 0/200 [00:00<…"
      ]
     },
     "metadata": {},
     "output_type": "display_data"
    },
    {
     "data": {
      "application/vnd.jupyter.widget-view+json": {
       "model_id": "cd7ae9ef65b24b37ac92af3540765faa",
       "version_major": 2,
       "version_minor": 0
      },
      "text/plain": [
       "BestResp | t#361/400 | k=5 | sats=STARLINK-34043,STARLINK-34048,STARLINK-32497,STARLINK-5600,STARLINK-34470:  …"
      ]
     },
     "metadata": {},
     "output_type": "display_data"
    },
    {
     "data": {
      "application/vnd.jupyter.widget-view+json": {
       "model_id": "bae3278351da4e44836b5902dc724bb5",
       "version_major": 2,
       "version_minor": 0
      },
      "text/plain": [
       "BestResp | t#362/400 | k=1 | sats=STARLINK-32497:   0%|          | 0/200 [00:00<?, ?it/s]"
      ]
     },
     "metadata": {},
     "output_type": "display_data"
    },
    {
     "data": {
      "application/vnd.jupyter.widget-view+json": {
       "model_id": "1c43b31c8a54446b9a30b9002648aa6b",
       "version_major": 2,
       "version_minor": 0
      },
      "text/plain": [
       "BestResp | t#362/400 | k=3 | sats=STARLINK-32497,STARLINK-34048,STARLINK-33770:   0%|          | 0/200 [00:00<…"
      ]
     },
     "metadata": {},
     "output_type": "display_data"
    },
    {
     "data": {
      "application/vnd.jupyter.widget-view+json": {
       "model_id": "e7759550b2c34441a0f08c97d4b7d8c1",
       "version_major": 2,
       "version_minor": 0
      },
      "text/plain": [
       "BestResp | t#362/400 | k=5 | sats=STARLINK-32497,STARLINK-34048,STARLINK-33770,STARLINK-34043,STARLINK-33559: …"
      ]
     },
     "metadata": {},
     "output_type": "display_data"
    },
    {
     "data": {
      "application/vnd.jupyter.widget-view+json": {
       "model_id": "1f3812f4eaa940448866f2f3dcf33c5f",
       "version_major": 2,
       "version_minor": 0
      },
      "text/plain": [
       "BestResp | t#363/400 | k=1 | sats=STARLINK-11493 [DTC]:   0%|          | 0/200 [00:00<?, ?it/s]"
      ]
     },
     "metadata": {},
     "output_type": "display_data"
    },
    {
     "data": {
      "application/vnd.jupyter.widget-view+json": {
       "model_id": "abcad64157bc4fcf91126cfc6f767749",
       "version_major": 2,
       "version_minor": 0
      },
      "text/plain": [
       "BestResp | t#363/400 | k=3 | sats=STARLINK-11493 [DTC],STARLINK-11614 [DTC],STARLINK-30494:   0%|          | 0…"
      ]
     },
     "metadata": {},
     "output_type": "display_data"
    },
    {
     "data": {
      "application/vnd.jupyter.widget-view+json": {
       "model_id": "bf9439d3464344368dce14142ccb4240",
       "version_major": 2,
       "version_minor": 0
      },
      "text/plain": [
       "BestResp | t#363/400 | k=5 | sats=STARLINK-11493 [DTC],STARLINK-11614 [DTC],STARLINK-30494,STARLINK-11331 [DTC…"
      ]
     },
     "metadata": {},
     "output_type": "display_data"
    },
    {
     "data": {
      "application/vnd.jupyter.widget-view+json": {
       "model_id": "119d05673b934de3afc6aef8d7c33b0a",
       "version_major": 2,
       "version_minor": 0
      },
      "text/plain": [
       "BestResp | t#364/400 | k=1 | sats=STARLINK-11653 [DTC]:   0%|          | 0/200 [00:00<?, ?it/s]"
      ]
     },
     "metadata": {},
     "output_type": "display_data"
    },
    {
     "data": {
      "application/vnd.jupyter.widget-view+json": {
       "model_id": "0bae05569ef64a9f819159e4992498cc",
       "version_major": 2,
       "version_minor": 0
      },
      "text/plain": [
       "BestResp | t#364/400 | k=3 | sats=STARLINK-11653 [DTC],STARLINK-31163,STARLINK-31140:   0%|          | 0/200 […"
      ]
     },
     "metadata": {},
     "output_type": "display_data"
    },
    {
     "data": {
      "application/vnd.jupyter.widget-view+json": {
       "model_id": "46410ea601a2458f98203556de3f6b96",
       "version_major": 2,
       "version_minor": 0
      },
      "text/plain": [
       "BestResp | t#364/400 | k=5 | sats=STARLINK-11653 [DTC],STARLINK-31163,STARLINK-31140,STARLINK-33544,STARLINK-3…"
      ]
     },
     "metadata": {},
     "output_type": "display_data"
    },
    {
     "data": {
      "application/vnd.jupyter.widget-view+json": {
       "model_id": "b2a5db9557834e308143f9b89a53beb7",
       "version_major": 2,
       "version_minor": 0
      },
      "text/plain": [
       "BestResp | t#365/400 | k=1 | sats=STARLINK-32357:   0%|          | 0/200 [00:00<?, ?it/s]"
      ]
     },
     "metadata": {},
     "output_type": "display_data"
    },
    {
     "data": {
      "application/vnd.jupyter.widget-view+json": {
       "model_id": "65f9ab95985b4412abadc0f768280777",
       "version_major": 2,
       "version_minor": 0
      },
      "text/plain": [
       "BestResp | t#365/400 | k=3 | sats=STARLINK-32357,STARLINK-11437 [DTC],STARLINK-33959:   0%|          | 0/200 […"
      ]
     },
     "metadata": {},
     "output_type": "display_data"
    },
    {
     "data": {
      "application/vnd.jupyter.widget-view+json": {
       "model_id": "d4be7b3eb4974dd18a4f1559f3495d50",
       "version_major": 2,
       "version_minor": 0
      },
      "text/plain": [
       "BestResp | t#365/400 | k=5 | sats=STARLINK-32357,STARLINK-11437 [DTC],STARLINK-33959,STARLINK-31495,STARLINK-3…"
      ]
     },
     "metadata": {},
     "output_type": "display_data"
    },
    {
     "data": {
      "application/vnd.jupyter.widget-view+json": {
       "model_id": "dbd1c91468374fa9b0780c50796d756b",
       "version_major": 2,
       "version_minor": 0
      },
      "text/plain": [
       "BestResp | t#366/400 | k=1 | sats=STARLINK-32357:   0%|          | 0/200 [00:00<?, ?it/s]"
      ]
     },
     "metadata": {},
     "output_type": "display_data"
    },
    {
     "data": {
      "application/vnd.jupyter.widget-view+json": {
       "model_id": "7ef27b8cbab14a4eaf9415f5e30c181e",
       "version_major": 2,
       "version_minor": 0
      },
      "text/plain": [
       "BestResp | t#366/400 | k=3 | sats=STARLINK-32357,STARLINK-11437 [DTC],STARLINK-33959:   0%|          | 0/200 […"
      ]
     },
     "metadata": {},
     "output_type": "display_data"
    },
    {
     "data": {
      "application/vnd.jupyter.widget-view+json": {
       "model_id": "797023c6e10444858b27f4c4e181780e",
       "version_major": 2,
       "version_minor": 0
      },
      "text/plain": [
       "BestResp | t#366/400 | k=5 | sats=STARLINK-32357,STARLINK-11437 [DTC],STARLINK-33959,STARLINK-31495,STARLINK-3…"
      ]
     },
     "metadata": {},
     "output_type": "display_data"
    },
    {
     "data": {
      "application/vnd.jupyter.widget-view+json": {
       "model_id": "41e94555eda649af91cd9b965e50e082",
       "version_major": 2,
       "version_minor": 0
      },
      "text/plain": [
       "BestResp | t#367/400 | k=1 | sats=STARLINK-11432 [DTC]:   0%|          | 0/200 [00:00<?, ?it/s]"
      ]
     },
     "metadata": {},
     "output_type": "display_data"
    },
    {
     "data": {
      "application/vnd.jupyter.widget-view+json": {
       "model_id": "5bd356bd5f6440a28afb18aa30ee4512",
       "version_major": 2,
       "version_minor": 0
      },
      "text/plain": [
       "BestResp | t#367/400 | k=3 | sats=STARLINK-11432 [DTC],STARLINK-34076,STARLINK-31446:   0%|          | 0/200 […"
      ]
     },
     "metadata": {},
     "output_type": "display_data"
    },
    {
     "data": {
      "application/vnd.jupyter.widget-view+json": {
       "model_id": "3075bb514f264d31a1b830dc7c21c94b",
       "version_major": 2,
       "version_minor": 0
      },
      "text/plain": [
       "BestResp | t#367/400 | k=5 | sats=STARLINK-11432 [DTC],STARLINK-34076,STARLINK-31446,STARLINK-3664,STARLINK-34…"
      ]
     },
     "metadata": {},
     "output_type": "display_data"
    },
    {
     "data": {
      "application/vnd.jupyter.widget-view+json": {
       "model_id": "55206c373cf84e8d927dd85cdbfef68c",
       "version_major": 2,
       "version_minor": 0
      },
      "text/plain": [
       "BestResp | t#368/400 | k=1 | sats=STARLINK-31757:   0%|          | 0/200 [00:00<?, ?it/s]"
      ]
     },
     "metadata": {},
     "output_type": "display_data"
    },
    {
     "data": {
      "application/vnd.jupyter.widget-view+json": {
       "model_id": "8df82d4b25d34150822f6c6051ef8b7d",
       "version_major": 2,
       "version_minor": 0
      },
      "text/plain": [
       "BestResp | t#368/400 | k=3 | sats=STARLINK-31757,STARLINK-34045,STARLINK-34151:   0%|          | 0/200 [00:00<…"
      ]
     },
     "metadata": {},
     "output_type": "display_data"
    },
    {
     "data": {
      "application/vnd.jupyter.widget-view+json": {
       "model_id": "562a9878801a41a78c665457373f7fae",
       "version_major": 2,
       "version_minor": 0
      },
      "text/plain": [
       "BestResp | t#368/400 | k=5 | sats=STARLINK-31757,STARLINK-34045,STARLINK-34151,STARLINK-1221,STARLINK-6178:   …"
      ]
     },
     "metadata": {},
     "output_type": "display_data"
    },
    {
     "data": {
      "application/vnd.jupyter.widget-view+json": {
       "model_id": "c5c32af78a5d4aaf8ff74a7480b4e105",
       "version_major": 2,
       "version_minor": 0
      },
      "text/plain": [
       "BestResp | t#369/400 | k=1 | sats=STARLINK-1221:   0%|          | 0/200 [00:00<?, ?it/s]"
      ]
     },
     "metadata": {},
     "output_type": "display_data"
    },
    {
     "data": {
      "application/vnd.jupyter.widget-view+json": {
       "model_id": "e9918cf3c4244c97be8525d9f2a20bd2",
       "version_major": 2,
       "version_minor": 0
      },
      "text/plain": [
       "BestResp | t#369/400 | k=3 | sats=STARLINK-1221,STARLINK-34045,STARLINK-31464:   0%|          | 0/200 [00:00<?…"
      ]
     },
     "metadata": {},
     "output_type": "display_data"
    },
    {
     "data": {
      "application/vnd.jupyter.widget-view+json": {
       "model_id": "9ecd6c748a434b6f8e244749698fcbc2",
       "version_major": 2,
       "version_minor": 0
      },
      "text/plain": [
       "BestResp | t#369/400 | k=5 | sats=STARLINK-1221,STARLINK-34045,STARLINK-31464,STARLINK-34038,STARLINK-31757:  …"
      ]
     },
     "metadata": {},
     "output_type": "display_data"
    },
    {
     "data": {
      "application/vnd.jupyter.widget-view+json": {
       "model_id": "904db02d2a134658851535b2bf6e5242",
       "version_major": 2,
       "version_minor": 0
      },
      "text/plain": [
       "BestResp | t#370/400 | k=1 | sats=STARLINK-11358 [DTC]:   0%|          | 0/200 [00:00<?, ?it/s]"
      ]
     },
     "metadata": {},
     "output_type": "display_data"
    },
    {
     "data": {
      "application/vnd.jupyter.widget-view+json": {
       "model_id": "4916aa29c6a2440c8565707d0953900a",
       "version_major": 2,
       "version_minor": 0
      },
      "text/plain": [
       "BestResp | t#370/400 | k=3 | sats=STARLINK-11358 [DTC],STARLINK-32612,STARLINK-34031:   0%|          | 0/200 […"
      ]
     },
     "metadata": {},
     "output_type": "display_data"
    },
    {
     "data": {
      "application/vnd.jupyter.widget-view+json": {
       "model_id": "71c9e5e010334e81bda01fe63598bfaf",
       "version_major": 2,
       "version_minor": 0
      },
      "text/plain": [
       "BestResp | t#370/400 | k=5 | sats=STARLINK-11358 [DTC],STARLINK-32612,STARLINK-34031,STARLINK-31480,STARLINK-2…"
      ]
     },
     "metadata": {},
     "output_type": "display_data"
    },
    {
     "data": {
      "application/vnd.jupyter.widget-view+json": {
       "model_id": "67fc7501f3af47418a6c29cceca465a6",
       "version_major": 2,
       "version_minor": 0
      },
      "text/plain": [
       "BestResp | t#371/400 | k=1 | sats=STARLINK-11431 [DTC]:   0%|          | 0/200 [00:00<?, ?it/s]"
      ]
     },
     "metadata": {},
     "output_type": "display_data"
    },
    {
     "data": {
      "application/vnd.jupyter.widget-view+json": {
       "model_id": "e46a5a2497394e3b9fb52008fb6f8b04",
       "version_major": 2,
       "version_minor": 0
      },
      "text/plain": [
       "BestResp | t#371/400 | k=3 | sats=STARLINK-11431 [DTC],STARLINK-34066,STARLINK-31349:   0%|          | 0/200 […"
      ]
     },
     "metadata": {},
     "output_type": "display_data"
    },
    {
     "data": {
      "application/vnd.jupyter.widget-view+json": {
       "model_id": "0ace7a56731a4b02831631037aa887bb",
       "version_major": 2,
       "version_minor": 0
      },
      "text/plain": [
       "BestResp | t#371/400 | k=5 | sats=STARLINK-11431 [DTC],STARLINK-34066,STARLINK-31349,STARLINK-34673,STARLINK-3…"
      ]
     },
     "metadata": {},
     "output_type": "display_data"
    },
    {
     "data": {
      "application/vnd.jupyter.widget-view+json": {
       "model_id": "128ccaa7ac674833aace268716904277",
       "version_major": 2,
       "version_minor": 0
      },
      "text/plain": [
       "BestResp | t#372/400 | k=1 | sats=STARLINK-11431 [DTC]:   0%|          | 0/200 [00:00<?, ?it/s]"
      ]
     },
     "metadata": {},
     "output_type": "display_data"
    },
    {
     "data": {
      "application/vnd.jupyter.widget-view+json": {
       "model_id": "b2088bcee7ab4921949effca594d5d9c",
       "version_major": 2,
       "version_minor": 0
      },
      "text/plain": [
       "BestResp | t#372/400 | k=3 | sats=STARLINK-11431 [DTC],STARLINK-34066,STARLINK-31349:   0%|          | 0/200 […"
      ]
     },
     "metadata": {},
     "output_type": "display_data"
    },
    {
     "data": {
      "application/vnd.jupyter.widget-view+json": {
       "model_id": "2025afe7b31e4f3191b883e68af89b93",
       "version_major": 2,
       "version_minor": 0
      },
      "text/plain": [
       "BestResp | t#372/400 | k=5 | sats=STARLINK-11431 [DTC],STARLINK-34066,STARLINK-31349,STARLINK-30291,STARLINK-3…"
      ]
     },
     "metadata": {},
     "output_type": "display_data"
    },
    {
     "data": {
      "application/vnd.jupyter.widget-view+json": {
       "model_id": "1d9fc66d01d44b178eae678de0633243",
       "version_major": 2,
       "version_minor": 0
      },
      "text/plain": [
       "BestResp | t#373/400 | k=1 | sats=STARLINK-11431 [DTC]:   0%|          | 0/200 [00:00<?, ?it/s]"
      ]
     },
     "metadata": {},
     "output_type": "display_data"
    },
    {
     "data": {
      "application/vnd.jupyter.widget-view+json": {
       "model_id": "91390518c7a643f993fe2e601889ba91",
       "version_major": 2,
       "version_minor": 0
      },
      "text/plain": [
       "BestResp | t#373/400 | k=3 | sats=STARLINK-11431 [DTC],STARLINK-3763,STARLINK-30291:   0%|          | 0/200 [0…"
      ]
     },
     "metadata": {},
     "output_type": "display_data"
    },
    {
     "data": {
      "application/vnd.jupyter.widget-view+json": {
       "model_id": "1df36833ff9a4c298dea4ccb1fdda508",
       "version_major": 2,
       "version_minor": 0
      },
      "text/plain": [
       "BestResp | t#373/400 | k=5 | sats=STARLINK-11431 [DTC],STARLINK-3763,STARLINK-30291,STARLINK-32613,STARLINK-34…"
      ]
     },
     "metadata": {},
     "output_type": "display_data"
    },
    {
     "data": {
      "application/vnd.jupyter.widget-view+json": {
       "model_id": "6386a5d2e318456da56ab01ffa604470",
       "version_major": 2,
       "version_minor": 0
      },
      "text/plain": [
       "BestResp | t#374/400 | k=1 | sats=STARLINK-11478 [DTC]:   0%|          | 0/200 [00:00<?, ?it/s]"
      ]
     },
     "metadata": {},
     "output_type": "display_data"
    },
    {
     "data": {
      "application/vnd.jupyter.widget-view+json": {
       "model_id": "bbc73fb09d6c45ce94840c12b234ec87",
       "version_major": 2,
       "version_minor": 0
      },
      "text/plain": [
       "BestResp | t#374/400 | k=3 | sats=STARLINK-11478 [DTC],STARLINK-31813,STARLINK-31252:   0%|          | 0/200 […"
      ]
     },
     "metadata": {},
     "output_type": "display_data"
    },
    {
     "data": {
      "application/vnd.jupyter.widget-view+json": {
       "model_id": "13e7858d19e64cf4aaac452736f5074b",
       "version_major": 2,
       "version_minor": 0
      },
      "text/plain": [
       "BestResp | t#374/400 | k=5 | sats=STARLINK-11478 [DTC],STARLINK-31813,STARLINK-31252,STARLINK-31783,STARLINK-3…"
      ]
     },
     "metadata": {},
     "output_type": "display_data"
    },
    {
     "data": {
      "application/vnd.jupyter.widget-view+json": {
       "model_id": "fc2bc5a286634af9a2d968baa50d37b2",
       "version_major": 2,
       "version_minor": 0
      },
      "text/plain": [
       "BestResp | t#375/400 | k=1 | sats=STARLINK-34116:   0%|          | 0/200 [00:00<?, ?it/s]"
      ]
     },
     "metadata": {},
     "output_type": "display_data"
    },
    {
     "data": {
      "application/vnd.jupyter.widget-view+json": {
       "model_id": "931283d56e41485ab4520b1722547a4e",
       "version_major": 2,
       "version_minor": 0
      },
      "text/plain": [
       "BestResp | t#375/400 | k=3 | sats=STARLINK-34116,STARLINK-34665,STARLINK-31530:   0%|          | 0/200 [00:00<…"
      ]
     },
     "metadata": {},
     "output_type": "display_data"
    },
    {
     "data": {
      "application/vnd.jupyter.widget-view+json": {
       "model_id": "8366f7aca65b422f803ef014de2ab96b",
       "version_major": 2,
       "version_minor": 0
      },
      "text/plain": [
       "BestResp | t#375/400 | k=5 | sats=STARLINK-34116,STARLINK-34665,STARLINK-31530,STARLINK-5191,STARLINK-5010:   …"
      ]
     },
     "metadata": {},
     "output_type": "display_data"
    },
    {
     "data": {
      "application/vnd.jupyter.widget-view+json": {
       "model_id": "2c5389137dcf46959aa99bd8d792d55f",
       "version_major": 2,
       "version_minor": 0
      },
      "text/plain": [
       "BestResp | t#376/400 | k=1 | sats=STARLINK-11547 [DTC]:   0%|          | 0/200 [00:00<?, ?it/s]"
      ]
     },
     "metadata": {},
     "output_type": "display_data"
    },
    {
     "data": {
      "application/vnd.jupyter.widget-view+json": {
       "model_id": "cc499cebb6464cfb86b5488f9adf82a4",
       "version_major": 2,
       "version_minor": 0
      },
      "text/plain": [
       "BestResp | t#376/400 | k=3 | sats=STARLINK-11547 [DTC],STARLINK-34594,STARLINK-31447:   0%|          | 0/200 […"
      ]
     },
     "metadata": {},
     "output_type": "display_data"
    },
    {
     "data": {
      "application/vnd.jupyter.widget-view+json": {
       "model_id": "7082fa84afa4437db2c4a17504aad877",
       "version_major": 2,
       "version_minor": 0
      },
      "text/plain": [
       "BestResp | t#376/400 | k=5 | sats=STARLINK-11547 [DTC],STARLINK-34594,STARLINK-31447,STARLINK-34071,STARLINK-3…"
      ]
     },
     "metadata": {},
     "output_type": "display_data"
    },
    {
     "data": {
      "application/vnd.jupyter.widget-view+json": {
       "model_id": "0e338ad36b764efea73342ecba2fd8a3",
       "version_major": 2,
       "version_minor": 0
      },
      "text/plain": [
       "BestResp | t#377/400 | k=1 | sats=STARLINK-34148:   0%|          | 0/200 [00:00<?, ?it/s]"
      ]
     },
     "metadata": {},
     "output_type": "display_data"
    },
    {
     "data": {
      "application/vnd.jupyter.widget-view+json": {
       "model_id": "92257b5d5d2946f1b8558de0cf6242f3",
       "version_major": 2,
       "version_minor": 0
      },
      "text/plain": [
       "BestResp | t#377/400 | k=3 | sats=STARLINK-34148,STARLINK-34292,STARLINK-34107:   0%|          | 0/200 [00:00<…"
      ]
     },
     "metadata": {},
     "output_type": "display_data"
    },
    {
     "data": {
      "application/vnd.jupyter.widget-view+json": {
       "model_id": "240b81bc7a6a403cb69a938619454685",
       "version_major": 2,
       "version_minor": 0
      },
      "text/plain": [
       "BestResp | t#377/400 | k=5 | sats=STARLINK-34148,STARLINK-34292,STARLINK-34107,STARLINK-31550,STARLINK-5788:  …"
      ]
     },
     "metadata": {},
     "output_type": "display_data"
    },
    {
     "data": {
      "application/vnd.jupyter.widget-view+json": {
       "model_id": "696dd48271ec4f10a21ae44a05fbf386",
       "version_major": 2,
       "version_minor": 0
      },
      "text/plain": [
       "BestResp | t#378/400 | k=1 | sats=STARLINK-11365 [DTC]:   0%|          | 0/200 [00:00<?, ?it/s]"
      ]
     },
     "metadata": {},
     "output_type": "display_data"
    },
    {
     "data": {
      "application/vnd.jupyter.widget-view+json": {
       "model_id": "7c70f95b0d6d4a5c87c86e7cdefad519",
       "version_major": 2,
       "version_minor": 0
      },
      "text/plain": [
       "BestResp | t#378/400 | k=3 | sats=STARLINK-11365 [DTC],STARLINK-30504,STARLINK-32499:   0%|          | 0/200 […"
      ]
     },
     "metadata": {},
     "output_type": "display_data"
    },
    {
     "data": {
      "application/vnd.jupyter.widget-view+json": {
       "model_id": "935500a31b0d4e3789c6e0064679275b",
       "version_major": 2,
       "version_minor": 0
      },
      "text/plain": [
       "BestResp | t#378/400 | k=5 | sats=STARLINK-11365 [DTC],STARLINK-30504,STARLINK-32499,STARLINK-3857,STARLINK-63…"
      ]
     },
     "metadata": {},
     "output_type": "display_data"
    },
    {
     "data": {
      "application/vnd.jupyter.widget-view+json": {
       "model_id": "65c00d7b845448edae221cea2dff8152",
       "version_major": 2,
       "version_minor": 0
      },
      "text/plain": [
       "BestResp | t#379/400 | k=1 | sats=STARLINK-11365 [DTC]:   0%|          | 0/200 [00:00<?, ?it/s]"
      ]
     },
     "metadata": {},
     "output_type": "display_data"
    },
    {
     "data": {
      "application/vnd.jupyter.widget-view+json": {
       "model_id": "3c85e5b5a4804bcc838df95e5dd4e53c",
       "version_major": 2,
       "version_minor": 0
      },
      "text/plain": [
       "BestResp | t#379/400 | k=3 | sats=STARLINK-11365 [DTC],STARLINK-30504,STARLINK-32499:   0%|          | 0/200 […"
      ]
     },
     "metadata": {},
     "output_type": "display_data"
    },
    {
     "data": {
      "application/vnd.jupyter.widget-view+json": {
       "model_id": "763c50b0246445b8b4c71a3ffd759de0",
       "version_major": 2,
       "version_minor": 0
      },
      "text/plain": [
       "BestResp | t#379/400 | k=5 | sats=STARLINK-11365 [DTC],STARLINK-30504,STARLINK-32499,STARLINK-3857,STARLINK-63…"
      ]
     },
     "metadata": {},
     "output_type": "display_data"
    },
    {
     "data": {
      "application/vnd.jupyter.widget-view+json": {
       "model_id": "72dea7b5dafa4beb92983043c34c1419",
       "version_major": 2,
       "version_minor": 0
      },
      "text/plain": [
       "BestResp | t#380/400 | k=1 | sats=STARLINK-11438 [DTC]:   0%|          | 0/200 [00:00<?, ?it/s]"
      ]
     },
     "metadata": {},
     "output_type": "display_data"
    },
    {
     "data": {
      "application/vnd.jupyter.widget-view+json": {
       "model_id": "5d925ac6dbf046edbc146502ac787ca2",
       "version_major": 2,
       "version_minor": 0
      },
      "text/plain": [
       "BestResp | t#380/400 | k=3 | sats=STARLINK-11438 [DTC],STARLINK-30504,STARLINK-32499:   0%|          | 0/200 […"
      ]
     },
     "metadata": {},
     "output_type": "display_data"
    },
    {
     "data": {
      "application/vnd.jupyter.widget-view+json": {
       "model_id": "6674a9c8f0a548ef8692b70988366f51",
       "version_major": 2,
       "version_minor": 0
      },
      "text/plain": [
       "BestResp | t#380/400 | k=5 | sats=STARLINK-11438 [DTC],STARLINK-30504,STARLINK-32499,STARLINK-3857,STARLINK-35…"
      ]
     },
     "metadata": {},
     "output_type": "display_data"
    },
    {
     "name": "stdout",
     "output_type": "stream",
     "text": [
      "[flush] wrote up to step 380\n"
     ]
    },
    {
     "data": {
      "application/vnd.jupyter.widget-view+json": {
       "model_id": "c51139e9c95f48feb9ad4b9a7146b8e1",
       "version_major": 2,
       "version_minor": 0
      },
      "text/plain": [
       "BestResp | t#381/400 | k=1 | sats=STARLINK-11438 [DTC]:   0%|          | 0/200 [00:00<?, ?it/s]"
      ]
     },
     "metadata": {},
     "output_type": "display_data"
    },
    {
     "data": {
      "application/vnd.jupyter.widget-view+json": {
       "model_id": "7ec139444cdf4568a4ea1d2341d43f9d",
       "version_major": 2,
       "version_minor": 0
      },
      "text/plain": [
       "BestResp | t#381/400 | k=3 | sats=STARLINK-11438 [DTC],STARLINK-30504,STARLINK-32499:   0%|          | 0/200 […"
      ]
     },
     "metadata": {},
     "output_type": "display_data"
    },
    {
     "data": {
      "application/vnd.jupyter.widget-view+json": {
       "model_id": "8b50b5a8478e4f0dbf92e4338c85297c",
       "version_major": 2,
       "version_minor": 0
      },
      "text/plain": [
       "BestResp | t#381/400 | k=5 | sats=STARLINK-11438 [DTC],STARLINK-30504,STARLINK-32499,STARLINK-3857,STARLINK-35…"
      ]
     },
     "metadata": {},
     "output_type": "display_data"
    },
    {
     "data": {
      "application/vnd.jupyter.widget-view+json": {
       "model_id": "78d44b74c0434ae0be97e89577a7e37a",
       "version_major": 2,
       "version_minor": 0
      },
      "text/plain": [
       "BestResp | t#382/400 | k=1 | sats=STARLINK-11438 [DTC]:   0%|          | 0/200 [00:00<?, ?it/s]"
      ]
     },
     "metadata": {},
     "output_type": "display_data"
    },
    {
     "data": {
      "application/vnd.jupyter.widget-view+json": {
       "model_id": "005ecae377c74252a4aeedfde776d18b",
       "version_major": 2,
       "version_minor": 0
      },
      "text/plain": [
       "BestResp | t#382/400 | k=3 | sats=STARLINK-11438 [DTC],STARLINK-11413 [DTC],STARLINK-33673:   0%|          | 0…"
      ]
     },
     "metadata": {},
     "output_type": "display_data"
    },
    {
     "data": {
      "application/vnd.jupyter.widget-view+json": {
       "model_id": "5f843a7388384d128f88e44b40d100a8",
       "version_major": 2,
       "version_minor": 0
      },
      "text/plain": [
       "BestResp | t#382/400 | k=5 | sats=STARLINK-11438 [DTC],STARLINK-11413 [DTC],STARLINK-33673,STARLINK-31611,STAR…"
      ]
     },
     "metadata": {},
     "output_type": "display_data"
    },
    {
     "data": {
      "application/vnd.jupyter.widget-view+json": {
       "model_id": "8bff9e6081c740a4bde29dff3cadce05",
       "version_major": 2,
       "version_minor": 0
      },
      "text/plain": [
       "BestResp | t#383/400 | k=1 | sats=STARLINK-11540 [DTC]:   0%|          | 0/200 [00:00<?, ?it/s]"
      ]
     },
     "metadata": {},
     "output_type": "display_data"
    },
    {
     "data": {
      "application/vnd.jupyter.widget-view+json": {
       "model_id": "44e44e4e1afc4b0498c33e1c3bbb5ad6",
       "version_major": 2,
       "version_minor": 0
      },
      "text/plain": [
       "BestResp | t#383/400 | k=3 | sats=STARLINK-11540 [DTC],STARLINK-31805,STARLINK-34156:   0%|          | 0/200 […"
      ]
     },
     "metadata": {},
     "output_type": "display_data"
    },
    {
     "data": {
      "application/vnd.jupyter.widget-view+json": {
       "model_id": "c8ee49442bca446387c3ac61c65abbbf",
       "version_major": 2,
       "version_minor": 0
      },
      "text/plain": [
       "BestResp | t#383/400 | k=5 | sats=STARLINK-11540 [DTC],STARLINK-31805,STARLINK-34156,STARLINK-31578,STARLINK-3…"
      ]
     },
     "metadata": {},
     "output_type": "display_data"
    },
    {
     "data": {
      "application/vnd.jupyter.widget-view+json": {
       "model_id": "994609f4c601484f98eb2c1dedcf6b6b",
       "version_major": 2,
       "version_minor": 0
      },
      "text/plain": [
       "BestResp | t#384/400 | k=1 | sats=STARLINK-31588:   0%|          | 0/200 [00:00<?, ?it/s]"
      ]
     },
     "metadata": {},
     "output_type": "display_data"
    },
    {
     "data": {
      "application/vnd.jupyter.widget-view+json": {
       "model_id": "f3ccda14036a473cb3d5c68467df66c6",
       "version_major": 2,
       "version_minor": 0
      },
      "text/plain": [
       "BestResp | t#384/400 | k=3 | sats=STARLINK-31588,STARLINK-35475,STARLINK-35471:   0%|          | 0/200 [00:00<…"
      ]
     },
     "metadata": {},
     "output_type": "display_data"
    },
    {
     "data": {
      "application/vnd.jupyter.widget-view+json": {
       "model_id": "2e2207d1f6e0411096ea774d6df7fda9",
       "version_major": 2,
       "version_minor": 0
      },
      "text/plain": [
       "BestResp | t#384/400 | k=5 | sats=STARLINK-31588,STARLINK-35475,STARLINK-35471,STARLINK-31817,STARLINK-34623: …"
      ]
     },
     "metadata": {},
     "output_type": "display_data"
    },
    {
     "data": {
      "application/vnd.jupyter.widget-view+json": {
       "model_id": "eab52a5e06864aec9648412dadf85ca9",
       "version_major": 2,
       "version_minor": 0
      },
      "text/plain": [
       "BestResp | t#385/400 | k=1 | sats=STARLINK-11515 [DTC]:   0%|          | 0/200 [00:00<?, ?it/s]"
      ]
     },
     "metadata": {},
     "output_type": "display_data"
    },
    {
     "data": {
      "application/vnd.jupyter.widget-view+json": {
       "model_id": "abc33f27409f4e66afb47040e8b64c05",
       "version_major": 2,
       "version_minor": 0
      },
      "text/plain": [
       "BestResp | t#385/400 | k=3 | sats=STARLINK-11515 [DTC],STARLINK-11448 [DTC],STARLINK-35489:   0%|          | 0…"
      ]
     },
     "metadata": {},
     "output_type": "display_data"
    },
    {
     "data": {
      "application/vnd.jupyter.widget-view+json": {
       "model_id": "0de9d76e80fa4f59adda7e45f0cd1068",
       "version_major": 2,
       "version_minor": 0
      },
      "text/plain": [
       "BestResp | t#385/400 | k=5 | sats=STARLINK-11515 [DTC],STARLINK-11448 [DTC],STARLINK-35489,STARLINK-34655,STAR…"
      ]
     },
     "metadata": {},
     "output_type": "display_data"
    },
    {
     "data": {
      "application/vnd.jupyter.widget-view+json": {
       "model_id": "52bb1d60c7454017a520b483dcede733",
       "version_major": 2,
       "version_minor": 0
      },
      "text/plain": [
       "BestResp | t#386/400 | k=1 | sats=STARLINK-34549:   0%|          | 0/200 [00:00<?, ?it/s]"
      ]
     },
     "metadata": {},
     "output_type": "display_data"
    },
    {
     "data": {
      "application/vnd.jupyter.widget-view+json": {
       "model_id": "c0e1efbd7d614e6da087558d7885b8bf",
       "version_major": 2,
       "version_minor": 0
      },
      "text/plain": [
       "BestResp | t#386/400 | k=3 | sats=STARLINK-34549,STARLINK-34108,STARLINK-32433:   0%|          | 0/200 [00:00<…"
      ]
     },
     "metadata": {},
     "output_type": "display_data"
    },
    {
     "data": {
      "application/vnd.jupyter.widget-view+json": {
       "model_id": "f43c55d341e14d86afbe9145713340fa",
       "version_major": 2,
       "version_minor": 0
      },
      "text/plain": [
       "BestResp | t#386/400 | k=5 | sats=STARLINK-34549,STARLINK-34108,STARLINK-32433,STARLINK-31239,STARLINK-34251: …"
      ]
     },
     "metadata": {},
     "output_type": "display_data"
    },
    {
     "data": {
      "application/vnd.jupyter.widget-view+json": {
       "model_id": "e6ab60c057ba4e25b0fdfc8948bc66f5",
       "version_major": 2,
       "version_minor": 0
      },
      "text/plain": [
       "BestResp | t#387/400 | k=1 | sats=STARLINK-11316 [DTC]:   0%|          | 0/200 [00:00<?, ?it/s]"
      ]
     },
     "metadata": {},
     "output_type": "display_data"
    },
    {
     "data": {
      "application/vnd.jupyter.widget-view+json": {
       "model_id": "32f1c4031a73488988860776ae74a651",
       "version_major": 2,
       "version_minor": 0
      },
      "text/plain": [
       "BestResp | t#387/400 | k=3 | sats=STARLINK-11316 [DTC],STARLINK-1848,STARLINK-32009:   0%|          | 0/200 [0…"
      ]
     },
     "metadata": {},
     "output_type": "display_data"
    },
    {
     "data": {
      "application/vnd.jupyter.widget-view+json": {
       "model_id": "0ca94996f2b849f783eec1276f653f8e",
       "version_major": 2,
       "version_minor": 0
      },
      "text/plain": [
       "BestResp | t#387/400 | k=5 | sats=STARLINK-11316 [DTC],STARLINK-1848,STARLINK-32009,STARLINK-31636,STARLINK-34…"
      ]
     },
     "metadata": {},
     "output_type": "display_data"
    },
    {
     "data": {
      "application/vnd.jupyter.widget-view+json": {
       "model_id": "b79ca0b412e4488596edb78213ace686",
       "version_major": 2,
       "version_minor": 0
      },
      "text/plain": [
       "BestResp | t#388/400 | k=1 | sats=STARLINK-11519 [DTC]:   0%|          | 0/200 [00:00<?, ?it/s]"
      ]
     },
     "metadata": {},
     "output_type": "display_data"
    },
    {
     "data": {
      "application/vnd.jupyter.widget-view+json": {
       "model_id": "44be4206e26f4fb9a4aa375b61a16b57",
       "version_major": 2,
       "version_minor": 0
      },
      "text/plain": [
       "BestResp | t#388/400 | k=3 | sats=STARLINK-11519 [DTC],STARLINK-11657 [DTC],STARLINK-31599:   0%|          | 0…"
      ]
     },
     "metadata": {},
     "output_type": "display_data"
    },
    {
     "data": {
      "application/vnd.jupyter.widget-view+json": {
       "model_id": "0c4228d51b1840ce8d5524264ea91f18",
       "version_major": 2,
       "version_minor": 0
      },
      "text/plain": [
       "BestResp | t#388/400 | k=5 | sats=STARLINK-11519 [DTC],STARLINK-11657 [DTC],STARLINK-31599,STARLINK-31296,STAR…"
      ]
     },
     "metadata": {},
     "output_type": "display_data"
    },
    {
     "data": {
      "application/vnd.jupyter.widget-view+json": {
       "model_id": "33c10a64dfe746a6b584a5ee036c75a3",
       "version_major": 2,
       "version_minor": 0
      },
      "text/plain": [
       "BestResp | t#389/400 | k=1 | sats=STARLINK-11419 [DTC]:   0%|          | 0/200 [00:00<?, ?it/s]"
      ]
     },
     "metadata": {},
     "output_type": "display_data"
    },
    {
     "data": {
      "application/vnd.jupyter.widget-view+json": {
       "model_id": "1b344b770da545e3865bc2b2bb86703d",
       "version_major": 2,
       "version_minor": 0
      },
      "text/plain": [
       "BestResp | t#389/400 | k=3 | sats=STARLINK-11419 [DTC],STARLINK-31315,STARLINK-32040:   0%|          | 0/200 […"
      ]
     },
     "metadata": {},
     "output_type": "display_data"
    },
    {
     "data": {
      "application/vnd.jupyter.widget-view+json": {
       "model_id": "97320907e4494032b9e1e27960d23806",
       "version_major": 2,
       "version_minor": 0
      },
      "text/plain": [
       "BestResp | t#389/400 | k=5 | sats=STARLINK-11419 [DTC],STARLINK-31315,STARLINK-32040,STARLINK-34332,STARLINK-3…"
      ]
     },
     "metadata": {},
     "output_type": "display_data"
    },
    {
     "data": {
      "application/vnd.jupyter.widget-view+json": {
       "model_id": "3008eaa961a543dd8170ad83d1c9f335",
       "version_major": 2,
       "version_minor": 0
      },
      "text/plain": [
       "BestResp | t#390/400 | k=1 | sats=STARLINK-31315:   0%|          | 0/200 [00:00<?, ?it/s]"
      ]
     },
     "metadata": {},
     "output_type": "display_data"
    },
    {
     "data": {
      "application/vnd.jupyter.widget-view+json": {
       "model_id": "858ee82b96224dd98e68bd94409ed583",
       "version_major": 2,
       "version_minor": 0
      },
      "text/plain": [
       "BestResp | t#390/400 | k=3 | sats=STARLINK-31315,STARLINK-11419 [DTC],STARLINK-34332:   0%|          | 0/200 […"
      ]
     },
     "metadata": {},
     "output_type": "display_data"
    },
    {
     "data": {
      "application/vnd.jupyter.widget-view+json": {
       "model_id": "863854b619e5433ea85a93943e88291b",
       "version_major": 2,
       "version_minor": 0
      },
      "text/plain": [
       "BestResp | t#390/400 | k=5 | sats=STARLINK-31315,STARLINK-11419 [DTC],STARLINK-34332,STARLINK-34727,STARLINK-3…"
      ]
     },
     "metadata": {},
     "output_type": "display_data"
    },
    {
     "data": {
      "application/vnd.jupyter.widget-view+json": {
       "model_id": "c33cc3c9d4f14b4cacbc1a3f9bad8d5c",
       "version_major": 2,
       "version_minor": 0
      },
      "text/plain": [
       "BestResp | t#391/400 | k=1 | sats=STARLINK-3663:   0%|          | 0/200 [00:00<?, ?it/s]"
      ]
     },
     "metadata": {},
     "output_type": "display_data"
    },
    {
     "data": {
      "application/vnd.jupyter.widget-view+json": {
       "model_id": "ffed361c1627458eaaa2fd3a93f7b24d",
       "version_major": 2,
       "version_minor": 0
      },
      "text/plain": [
       "BestResp | t#391/400 | k=3 | sats=STARLINK-3663,STARLINK-34258,STARLINK-31565:   0%|          | 0/200 [00:00<?…"
      ]
     },
     "metadata": {},
     "output_type": "display_data"
    },
    {
     "data": {
      "application/vnd.jupyter.widget-view+json": {
       "model_id": "c66f16034a8345f8b5dcee9ebc96b483",
       "version_major": 2,
       "version_minor": 0
      },
      "text/plain": [
       "BestResp | t#391/400 | k=5 | sats=STARLINK-3663,STARLINK-34258,STARLINK-31565,STARLINK-32391,STARLINK-31473:  …"
      ]
     },
     "metadata": {},
     "output_type": "display_data"
    },
    {
     "data": {
      "application/vnd.jupyter.widget-view+json": {
       "model_id": "5814c420a1fe443386241cbdc56fb858",
       "version_major": 2,
       "version_minor": 0
      },
      "text/plain": [
       "BestResp | t#392/400 | k=1 | sats=STARLINK-11538 [DTC]:   0%|          | 0/200 [00:00<?, ?it/s]"
      ]
     },
     "metadata": {},
     "output_type": "display_data"
    },
    {
     "data": {
      "application/vnd.jupyter.widget-view+json": {
       "model_id": "076a74314cff44c1a21eeabb9c379bc4",
       "version_major": 2,
       "version_minor": 0
      },
      "text/plain": [
       "BestResp | t#392/400 | k=3 | sats=STARLINK-11538 [DTC],STARLINK-35303,STARLINK-1769:   0%|          | 0/200 [0…"
      ]
     },
     "metadata": {},
     "output_type": "display_data"
    },
    {
     "data": {
      "application/vnd.jupyter.widget-view+json": {
       "model_id": "c008a28c691443be837c5c606c350c12",
       "version_major": 2,
       "version_minor": 0
      },
      "text/plain": [
       "BestResp | t#392/400 | k=5 | sats=STARLINK-11538 [DTC],STARLINK-35303,STARLINK-1769,STARLINK-32191,STARLINK-35…"
      ]
     },
     "metadata": {},
     "output_type": "display_data"
    },
    {
     "data": {
      "application/vnd.jupyter.widget-view+json": {
       "model_id": "69e6ec5ba1db40fa88d3c7bad2285318",
       "version_major": 2,
       "version_minor": 0
      },
      "text/plain": [
       "BestResp | t#393/400 | k=1 | sats=STARLINK-11149 [DTC]:   0%|          | 0/200 [00:00<?, ?it/s]"
      ]
     },
     "metadata": {},
     "output_type": "display_data"
    },
    {
     "data": {
      "application/vnd.jupyter.widget-view+json": {
       "model_id": "7b3b08b43dcc479482ee95914c8c6c68",
       "version_major": 2,
       "version_minor": 0
      },
      "text/plain": [
       "BestResp | t#393/400 | k=3 | sats=STARLINK-11149 [DTC],STARLINK-1347,STARLINK-30527:   0%|          | 0/200 [0…"
      ]
     },
     "metadata": {},
     "output_type": "display_data"
    },
    {
     "data": {
      "application/vnd.jupyter.widget-view+json": {
       "model_id": "e9d64c56a34e41d5adebff6a93b14229",
       "version_major": 2,
       "version_minor": 0
      },
      "text/plain": [
       "BestResp | t#393/400 | k=5 | sats=STARLINK-11149 [DTC],STARLINK-1347,STARLINK-30527,STARLINK-32001,STARLINK-62…"
      ]
     },
     "metadata": {},
     "output_type": "display_data"
    },
    {
     "data": {
      "application/vnd.jupyter.widget-view+json": {
       "model_id": "03fa10fffaf747e4a06949ddc5e4c23d",
       "version_major": 2,
       "version_minor": 0
      },
      "text/plain": [
       "BestResp | t#394/400 | k=1 | sats=STARLINK-11437 [DTC]:   0%|          | 0/200 [00:00<?, ?it/s]"
      ]
     },
     "metadata": {},
     "output_type": "display_data"
    },
    {
     "data": {
      "application/vnd.jupyter.widget-view+json": {
       "model_id": "a409d1e3ee7f45bd8ad9178ae78aa2d1",
       "version_major": 2,
       "version_minor": 0
      },
      "text/plain": [
       "BestResp | t#394/400 | k=3 | sats=STARLINK-11437 [DTC],STARLINK-32190,STARLINK-34180:   0%|          | 0/200 […"
      ]
     },
     "metadata": {},
     "output_type": "display_data"
    },
    {
     "data": {
      "application/vnd.jupyter.widget-view+json": {
       "model_id": "1d51b071ba32491a8fbf77e32be2eda3",
       "version_major": 2,
       "version_minor": 0
      },
      "text/plain": [
       "BestResp | t#394/400 | k=5 | sats=STARLINK-11437 [DTC],STARLINK-32190,STARLINK-34180,STARLINK-4297,STARLINK-20…"
      ]
     },
     "metadata": {},
     "output_type": "display_data"
    },
    {
     "data": {
      "application/vnd.jupyter.widget-view+json": {
       "model_id": "a81a33eb23ec4e888bcc3f48730ab615",
       "version_major": 2,
       "version_minor": 0
      },
      "text/plain": [
       "BestResp | t#395/400 | k=1 | sats=STARLINK-11449 [DTC]:   0%|          | 0/200 [00:00<?, ?it/s]"
      ]
     },
     "metadata": {},
     "output_type": "display_data"
    },
    {
     "data": {
      "application/vnd.jupyter.widget-view+json": {
       "model_id": "ea86270855cb416b8ebc2ae743602bd2",
       "version_major": 2,
       "version_minor": 0
      },
      "text/plain": [
       "BestResp | t#395/400 | k=3 | sats=STARLINK-11449 [DTC],STARLINK-11534 [DTC],STARLINK-35450:   0%|          | 0…"
      ]
     },
     "metadata": {},
     "output_type": "display_data"
    },
    {
     "data": {
      "application/vnd.jupyter.widget-view+json": {
       "model_id": "e7d98523355e469e8d378085a43e3322",
       "version_major": 2,
       "version_minor": 0
      },
      "text/plain": [
       "BestResp | t#395/400 | k=5 | sats=STARLINK-11449 [DTC],STARLINK-11534 [DTC],STARLINK-35450,STARLINK-31461,STAR…"
      ]
     },
     "metadata": {},
     "output_type": "display_data"
    },
    {
     "data": {
      "application/vnd.jupyter.widget-view+json": {
       "model_id": "2cafd9a403ae45d7a92d3c2d4963bd51",
       "version_major": 2,
       "version_minor": 0
      },
      "text/plain": [
       "BestResp | t#396/400 | k=1 | sats=STARLINK-34327:   0%|          | 0/200 [00:00<?, ?it/s]"
      ]
     },
     "metadata": {},
     "output_type": "display_data"
    },
    {
     "data": {
      "application/vnd.jupyter.widget-view+json": {
       "model_id": "ddbeb42c9c214d8a8298ea85241eb449",
       "version_major": 2,
       "version_minor": 0
      },
      "text/plain": [
       "BestResp | t#396/400 | k=3 | sats=STARLINK-34327,STARLINK-31632,STARLINK-30132:   0%|          | 0/200 [00:00<…"
      ]
     },
     "metadata": {},
     "output_type": "display_data"
    },
    {
     "data": {
      "application/vnd.jupyter.widget-view+json": {
       "model_id": "202eb42737204b2980292d798f34bdc6",
       "version_major": 2,
       "version_minor": 0
      },
      "text/plain": [
       "BestResp | t#396/400 | k=5 | sats=STARLINK-34327,STARLINK-31632,STARLINK-30132,STARLINK-33669,STARLINK-31353: …"
      ]
     },
     "metadata": {},
     "output_type": "display_data"
    },
    {
     "data": {
      "application/vnd.jupyter.widget-view+json": {
       "model_id": "d6f96e26a15344919ad3a03fa049dbc5",
       "version_major": 2,
       "version_minor": 0
      },
      "text/plain": [
       "BestResp | t#397/400 | k=1 | sats=STARLINK-11586 [DTC]:   0%|          | 0/200 [00:00<?, ?it/s]"
      ]
     },
     "metadata": {},
     "output_type": "display_data"
    },
    {
     "data": {
      "application/vnd.jupyter.widget-view+json": {
       "model_id": "6f382c3e40614f96bb125714027bd919",
       "version_major": 2,
       "version_minor": 0
      },
      "text/plain": [
       "BestResp | t#397/400 | k=3 | sats=STARLINK-11586 [DTC],STARLINK-31594,STARLINK-34132:   0%|          | 0/200 […"
      ]
     },
     "metadata": {},
     "output_type": "display_data"
    },
    {
     "data": {
      "application/vnd.jupyter.widget-view+json": {
       "model_id": "931c238128644492bb4365e2936dd60c",
       "version_major": 2,
       "version_minor": 0
      },
      "text/plain": [
       "BestResp | t#397/400 | k=5 | sats=STARLINK-11586 [DTC],STARLINK-31594,STARLINK-34132,STARLINK-35441,STARLINK-3…"
      ]
     },
     "metadata": {},
     "output_type": "display_data"
    },
    {
     "data": {
      "application/vnd.jupyter.widget-view+json": {
       "model_id": "7ca45f78106142caa343b57f4641170b",
       "version_major": 2,
       "version_minor": 0
      },
      "text/plain": [
       "BestResp | t#398/400 | k=1 | sats=STARLINK-11422 [DTC]:   0%|          | 0/200 [00:00<?, ?it/s]"
      ]
     },
     "metadata": {},
     "output_type": "display_data"
    },
    {
     "data": {
      "application/vnd.jupyter.widget-view+json": {
       "model_id": "103dca17847c405da1da58e82d600173",
       "version_major": 2,
       "version_minor": 0
      },
      "text/plain": [
       "BestResp | t#398/400 | k=3 | sats=STARLINK-11422 [DTC],STARLINK-1978,STARLINK-34126:   0%|          | 0/200 [0…"
      ]
     },
     "metadata": {},
     "output_type": "display_data"
    },
    {
     "data": {
      "application/vnd.jupyter.widget-view+json": {
       "model_id": "b6c12d5bd278442791221495d07c976e",
       "version_major": 2,
       "version_minor": 0
      },
      "text/plain": [
       "BestResp | t#398/400 | k=5 | sats=STARLINK-11422 [DTC],STARLINK-1978,STARLINK-34126,STARLINK-33533,STARLINK-31…"
      ]
     },
     "metadata": {},
     "output_type": "display_data"
    },
    {
     "data": {
      "application/vnd.jupyter.widget-view+json": {
       "model_id": "c4d689e7e9ae4b98938502a09cedca64",
       "version_major": 2,
       "version_minor": 0
      },
      "text/plain": [
       "BestResp | t#399/400 | k=1 | sats=STARLINK-34868:   0%|          | 0/200 [00:00<?, ?it/s]"
      ]
     },
     "metadata": {},
     "output_type": "display_data"
    },
    {
     "data": {
      "application/vnd.jupyter.widget-view+json": {
       "model_id": "4424285a6e5f4a928907850249251ebb",
       "version_major": 2,
       "version_minor": 0
      },
      "text/plain": [
       "BestResp | t#399/400 | k=3 | sats=STARLINK-34868,STARLINK-31923,STARLINK-33639:   0%|          | 0/200 [00:00<…"
      ]
     },
     "metadata": {},
     "output_type": "display_data"
    },
    {
     "data": {
      "application/vnd.jupyter.widget-view+json": {
       "model_id": "05a60be75ca04cedac590660b6f7a933",
       "version_major": 2,
       "version_minor": 0
      },
      "text/plain": [
       "BestResp | t#399/400 | k=5 | sats=STARLINK-34868,STARLINK-31923,STARLINK-33639,STARLINK-32143,STARLINK-35247: …"
      ]
     },
     "metadata": {},
     "output_type": "display_data"
    },
    {
     "data": {
      "application/vnd.jupyter.widget-view+json": {
       "model_id": "fdb33918445a4b11a95ccb61e2ec604f",
       "version_major": 2,
       "version_minor": 0
      },
      "text/plain": [
       "BestResp | t#400/400 | k=1 | sats=STARLINK-11400 [DTC]:   0%|          | 0/200 [00:00<?, ?it/s]"
      ]
     },
     "metadata": {},
     "output_type": "display_data"
    },
    {
     "data": {
      "application/vnd.jupyter.widget-view+json": {
       "model_id": "40eb012a48d2476eb2ac0f9adecb7027",
       "version_major": 2,
       "version_minor": 0
      },
      "text/plain": [
       "BestResp | t#400/400 | k=3 | sats=STARLINK-11400 [DTC],STARLINK-32021,STARLINK-30183:   0%|          | 0/200 […"
      ]
     },
     "metadata": {},
     "output_type": "display_data"
    },
    {
     "data": {
      "application/vnd.jupyter.widget-view+json": {
       "model_id": "39c7917784024c7287d1c05a4d787bd2",
       "version_major": 2,
       "version_minor": 0
      },
      "text/plain": [
       "BestResp | t#400/400 | k=5 | sats=STARLINK-11400 [DTC],STARLINK-32021,STARLINK-30183,STARLINK-2058,STARLINK-31…"
      ]
     },
     "metadata": {},
     "output_type": "display_data"
    },
    {
     "name": "stdout",
     "output_type": "stream",
     "text": [
      "[flush] wrote up to step 400\n",
      "✅ Incremental results saved to allarray7km.jsonl\n"
     ]
    }
   ],
   "source": [
    "\n",
    "# ---- JSON 序列化器：支持 numpy / complex ----\n",
    "class NumpyEncoder(json.JSONEncoder):\n",
    "    def default(self, o):\n",
    "        if isinstance(o, (np.integer,)):  return int(o)\n",
    "        if isinstance(o, (np.floating,)): return float(o)\n",
    "        if isinstance(o, (np.complexfloating, complex)):\n",
    "            return {\"__complex__\":[float(o.real), float(o.imag)]}\n",
    "        if isinstance(o, np.ndarray):     return o.tolist()\n",
    "        return super().default(o)\n",
    "    \n",
    "\n",
    "max_steps = n_steps\n",
    "\n",
    "methods = [\"BestResp\"]\n",
    "sat_counts = [1, 3, 5] \n",
    "groups = list(df.sort_values([\"Time\",\"Rank\"]).groupby(\"Time\"))\n",
    "\n",
    "# ---- 单文件（非压缩）增量写入 ----\n",
    "\n",
    "buffer = []                              # 暂存多条，降低 I/O 次数\n",
    "FLUSH_EVERY = 20                     # 每 5 个 time-step 落盘一次\n",
    "out_path = \"allarray7km.jsonl\"\n",
    "f_out = open(out_path, \"a\", encoding=\"utf-8\")\n",
    "with open(out_path, \"r\", encoding=\"utf-8\") as f:\n",
    "    lines = f.readlines()\n",
    "\n",
    "if len(lines) > 0:\n",
    "    last_entry = json.loads(lines[-1])\n",
    "    last_step = last_entry[\"step_idx\"]\n",
    "else:\n",
    "    last_step = 0\n",
    "start_step = last_step + 1\n",
    "for step_idx, (t, g) in enumerate(tqdm(groups[start_step-1:], desc=\"Processing steps\"), start=start_step):\n",
    "    # If more/less than k are present, we still proceed with available rows\n",
    "    gk = g.sort_values(\"Rank\").copy()\n",
    "\n",
    "    # Build sat_positions in ENU (meters)\n",
    "    sat_positions = gk[[\"x_East (m)\", \"y_North (m)\", \"z_Up (m)\"]].to_numpy()  # (K,3)\n",
    "    names = gk[\"Name\"].tolist()\n",
    "    K_all = sat_positions.shape[0]\n",
    "\n",
    "    a_tx,  tau_tx  = compute_cir(gnd_positions[0], sat_positions, tx_array, sat_array, \n",
    "                                 np.array(gnd_positions[0]) + np.array([0.0, 0.0, 100.0]), gnd_positions[0])\n",
    "    a_jam, tau_jam = compute_cir(gnd_positions[1], sat_positions, jam_array, sat_array, \n",
    "                                 np.array(gnd_positions[1]) + np.array([0.0, 0.0, 100.0]), gnd_positions[0])\n",
    "    \n",
    "    H0_full = collapse_channel(a_tx)\n",
    "    H1_full = collapse_channel(a_jam)\n",
    "\n",
    "    \n",
    "    for k_sel in sat_counts:\n",
    "        if K_all < k_sel:\n",
    "            continue  # 该时刻不足 k_sel 颗，跳过\n",
    "        \n",
    "        \n",
    "        # 取前 k_sel 颗卫星对应的行块（按 Rank 的顺序）\n",
    "        H0 = H0_full[:k_sel*sat_antennas, :]\n",
    "        H1 = H1_full[:k_sel*sat_antennas, :]\n",
    "\n",
    "        # 均分初始化 Q1\n",
    "        n1 = H1.shape[1]\n",
    "        Q1_init = (P1/n1) * np.eye(n1, dtype=complex)\n",
    "        \n",
    "        for m in methods:\n",
    "            desc = f\"{m} | t#{step_idx}/{len(groups)} | k={k_sel} | sats={','.join(names[:k_sel])}\"\n",
    "            if m == \"BestResp\":\n",
    "                \n",
    "                inner = make_tqdm_progress(total=200, desc=desc, position=1, leave=False)  # total 用该 solver 设定的最大步数\n",
    "                try:\n",
    "                    Q0, Q1, n_it, hist = solve_game_bestresp_Q0_then_Q1(\n",
    "                        H0, H1, N0,\n",
    "                        P0=P0, P1=P1,\n",
    "                        max_outer=200, tol=1e-6, inner_Q1_steps=2,\n",
    "                        geometry='entropy', step_rule='adp',\n",
    "                        eta=0.8, eta_init=1,\n",
    "                        eta_min=1.5e-1, eta_max=1000,\n",
    "                        beta=0.5, gamma=1.05,\n",
    "                        multi_stream=True, verbose=False, track_hist=True,\n",
    "                        Q1_init=Q1_init,\n",
    "                        progress=inner,                 # <<< 关键：传进去\n",
    "                        progress_every=1,\n",
    "                        progress_ctx={\"method\": m, \"k\": k_sel, \"time\": str(t), \"step_idx\": step_idx}\n",
    "                    )\n",
    "                finally:\n",
    "                    inner.close()\n",
    "            else:\n",
    "                raise ValueError(f\"Unknown method {m}\")\n",
    "            \n",
    "            # ---- 写入缓冲（只留一份文件；不把大结果长期放内存）----\n",
    "            entry = {\n",
    "                \"time\": (pd.Timestamp(t).isoformat() if not pd.isna(t) else None),\n",
    "                \"step_idx\": step_idx,\n",
    "                \"method\": m,\n",
    "                \"k\": k_sel,\n",
    "                \"sat_names\": names[:k_sel],\n",
    "                \"hist\": hist,                    # 如需瘦身：改成摘要，例如 {\"J_final\": hist[\"J\"][-1], ...}\n",
    "            }\n",
    "            buffer.append(entry)\n",
    "\n",
    "            # 释放当前条目的大对象\n",
    "            del Q0, Q1, hist, entry\n",
    "            gc.collect()\n",
    "            \n",
    "            \n",
    "    # ---- 每 N 步批量写入并清空缓冲 ----\n",
    "    if (step_idx % FLUSH_EVERY == 0) or (step_idx == len(groups)) or (step_idx >= max_steps):\n",
    "        for e in buffer:\n",
    "            f_out.write(json.dumps(e, cls=NumpyEncoder) + \"\\n\")\n",
    "        f_out.flush()\n",
    "        buffer.clear()\n",
    "        gc.collect()\n",
    "        print(f\"[flush] wrote up to step {step_idx}\")\n",
    "    if step_idx >= max_steps:\n",
    "        break\n",
    "\n",
    "# 结束：关闭文件\n",
    "f_out.close()\n",
    "print(f\"✅ Incremental results saved to {out_path}\")"
   ]
  },
  {
   "cell_type": "code",
   "execution_count": 7,
   "id": "7643f104",
   "metadata": {},
   "outputs": [
    {
     "data": {
      "image/png": "[encoded data removed]",
      "text/plain": [
       "<Figure size 600x400 with 1 Axes>"
      ]
     },
     "metadata": {},
     "output_type": "display_data"
    }
   ],
   "source": [
    "import json\n",
    "\n",
    "data = []\n",
    "with open(\"allarray7km.jsonl\", \"r\", encoding=\"utf-8\") as f:\n",
    "    for line in f:\n",
    "        line = line.strip()\n",
    "        if not line:\n",
    "            continue\n",
    "        data.append(json.loads(line))\n",
    "import numpy as np\n",
    "from collections import defaultdict\n",
    "\n",
    "\n",
    "J_last_by_k = defaultdict(list)\n",
    "\n",
    "for entry in data:\n",
    "    hist = entry.get(\"hist\", {})\n",
    "    J_series = hist.get(\"J\", [])\n",
    "    if len(J_series) == 0:\n",
    "        continue\n",
    "    k = entry.get(\"k\")\n",
    "    J_last = np.real(J_series[-1])  \n",
    "    J_last_by_k[k].append(J_last)\n",
    "    \n",
    "import matplotlib.pyplot as plt\n",
    "\n",
    "plt.figure(figsize=(6,4))\n",
    "\n",
    "for k_sel in sorted(J_last_by_k.keys()):\n",
    "    vals = np.sort(np.array(J_last_by_k[k_sel]))\n",
    "    cdf = np.linspace(0, 1, len(vals))\n",
    "    plt.plot(vals, cdf, label=f\"{k_sel} sats\")\n",
    "\n",
    "plt.xlabel(\"Final J value\")\n",
    "plt.ylabel(\"CDF\")\n",
    "plt.grid(True, alpha=0.3)\n",
    "plt.legend()\n",
    "plt.title(\"CDF of Final J across time steps\")\n",
    "plt.xlim(0, 0.5) \n",
    "plt.tight_layout()\n",
    "plt.show()"
   ]
  },
  {
   "cell_type": "code",
   "execution_count": 8,
   "id": "692a234c",
   "metadata": {},
   "outputs": [],
   "source": [
    "import json\n",
    "import matplotlib.pyplot as plt\n",
    "\n",
    "def inspect_J_curve(filepath, method, step_idx):\n",
    "    \"\"\"\n",
    "    检查结果文件中某个方法(method)和时间步(step_idx)对应的 J 曲线。\n",
    "    \n",
    "    Args:\n",
    "        filepath : str, JSONL 文件路径 (如 \"results_hist.jsonl\")\n",
    "        method   : str, 方法名 (例如 \"MirrorProx\" 或 \"BestResp\")\n",
    "        step_idx : int, 要查看的 step 索引 (即你的 for 循环中的 step_idx)\n",
    "    Returns:\n",
    "        int : J 的长度\n",
    "    \"\"\"\n",
    "    # 逐行读取文件\n",
    "    with open(filepath, \"r\", encoding=\"utf-8\") as f:\n",
    "        entries = [json.loads(line) for line in f if line.strip()]\n",
    "    \n",
    "    # 过滤出对应的方法和step\n",
    "    matches = [e for e in entries if e.get(\"method\") == method and e.get(\"step_idx\") == step_idx]\n",
    "    \n",
    "    if len(matches) == 0:\n",
    "        print(f\"⚠️ 没找到 method='{method}', step={step_idx} 的数据\")\n",
    "        return None\n",
    "    \n",
    "    # 通常每个 step 可能有多个 k（1,3,5）\n",
    "    for e in matches:\n",
    "        k = e.get(\"k\")\n",
    "        hist = e.get(\"hist\", {})\n",
    "        J = hist.get(\"J\", [])\n",
    "        if not J:\n",
    "            print(f\"⚠️ k={k} 没有 J 数据\")\n",
    "            continue\n",
    "        \n",
    "        print(f\"✅ method={method}, step={step_idx}, k={k}, len(J)={len(J)}\")\n",
    "        plt.plot(J, label=f\"{method} k={k} (len={len(J)})\")\n",
    "\n",
    "    plt.xlabel(\"Iteration\")\n",
    "    plt.ylabel(\"J value\")\n",
    "    plt.title(f\"J evolution: method={method}, step={step_idx}\")\n",
    "    plt.legend()\n",
    "    plt.grid(True, alpha=0.3)\n",
    "    plt.tight_layout()\n",
    "    plt.show()\n",
    "    \n",
    "    return\n"
   ]
  },
  {
   "cell_type": "code",
   "execution_count": 9,
   "id": "c3b161cd",
   "metadata": {},
   "outputs": [
    {
     "name": "stdout",
     "output_type": "stream",
     "text": [
      "✅ method=BestResp, step=11, k=1, len(J)=400\n",
      "✅ method=BestResp, step=11, k=3, len(J)=400\n",
      "✅ method=BestResp, step=11, k=5, len(J)=400\n"
     ]
    },
    {
     "data": {
      "image/png": "[encoded data removed]",
      "text/plain": [
       "<Figure size 640x480 with 1 Axes>"
      ]
     },
     "metadata": {},
     "output_type": "display_data"
    }
   ],
   "source": [
    "inspect_J_curve(\"allarray1km.jsonl\", method=\"BestResp\", step_idx=11)"
   ]
  }
 ],
 "metadata": {
  "kernelspec": {
   "display_name": "sionna_gpu",
   "language": "python",
   "name": "python3"
  },
  "language_info": {
   "codemirror_mode": {
    "name": "ipython",
    "version": 3
   },
   "file_extension": ".py",
   "mimetype": "text/x-python",
   "name": "python",
   "nbconvert_exporter": "python",
   "pygments_lexer": "ipython3",
   "version": "3.11.11"
  }
 },
 "nbformat": 4,
 "nbformat_minor": 5
}
